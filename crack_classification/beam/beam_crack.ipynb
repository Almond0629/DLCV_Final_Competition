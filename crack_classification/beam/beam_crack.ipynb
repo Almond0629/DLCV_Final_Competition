{
 "cells": [
  {
   "cell_type": "code",
   "execution_count": 1,
   "metadata": {
    "id": "gFMwtIeAJwdj"
   },
   "outputs": [],
   "source": [
    "import pandas as pd\n",
    "import numpy as np\n",
    "import random\n",
    "import torch\n",
    "import torch.nn as nn\n",
    "import torch.nn.functional as F  \n",
    "import torch.optim as optim\n",
    "from torch.utils.data import Dataset, DataLoader\n",
    "import matplotlib.pyplot as plt\n",
    "from tqdm import tqdm\n",
    "from sklearn.preprocessing import MinMaxScaler\n",
    "import cv2\n",
    "import torchvision\n",
    "import torchvision.transforms as transforms\n",
    "from torch.utils.data import random_split\n",
    "import sys\n",
    "import time\n",
    "from PIL import Image"
   ]
  },
  {
   "cell_type": "code",
   "execution_count": 2,
   "metadata": {
    "id": "BpSVExq8Jwdl"
   },
   "outputs": [],
   "source": [
    "torch.manual_seed(1220)\n",
    "random.seed(1220)\n",
    "np.random.seed(1220)"
   ]
  },
  {
   "cell_type": "code",
   "execution_count": 3,
   "metadata": {},
   "outputs": [
    {
     "name": "stdout",
     "output_type": "stream",
     "text": [
      "You are using device: cuda\n"
     ]
    }
   ],
   "source": [
    "device = torch.device('cuda' if torch.cuda.is_available() else 'cpu')\n",
    "print(\"You are using device: %s\" % device)\n",
    "\n",
    "path_dataset = \"./resized/beam_resize\""
   ]
  },
  {
   "cell_type": "code",
   "execution_count": 5,
   "metadata": {
    "id": "vWPTZrVdJwdo"
   },
   "outputs": [
    {
     "name": "stdout",
     "output_type": "stream",
     "text": [
      "['Diagonal', 'Horizontal', 'Vertical', 'Web']\n"
     ]
    }
   ],
   "source": [
    "def load_dataset(path_dataset):\n",
    "    imagenet_stats = [(0.485, 0.456, 0.406), (0.229, 0.224, 0.225)]\n",
    "\n",
    "    train_transform = transforms.Compose([\n",
    "        transforms.RandomResizedCrop((400, 400)),  \n",
    "        transforms.CenterCrop((350, 350)),\n",
    "        transforms.RandomHorizontalFlip(),\n",
    "        # transforms.RandomVerticalFlip(),\n",
    "        transforms.RandomRotation(10),\n",
    "        # transforms.ColorJitter(),\n",
    "        transforms.ToTensor(),\n",
    "        transforms.Normalize(imagenet_stats[0], imagenet_stats[1])\n",
    "    ])\n",
    "\n",
    "    val_transform = transforms.Compose([\n",
    "        transforms.CenterCrop((400, 400)),\n",
    "        transforms.RandomHorizontalFlip(),\n",
    "        # transforms.RandomRotation(10),\n",
    "        # transforms.ColorJitter(),\n",
    "        transforms.ToTensor(),\n",
    "        transforms.Normalize(imagenet_stats[0], imagenet_stats[1])\n",
    "    ])\n",
    "\n",
    "    full_dataset = torchvision.datasets.ImageFolder(root=path_dataset)\n",
    "    classes = full_dataset.classes\n",
    "    print(classes)\n",
    "    dataset_size = len(full_dataset)\n",
    "    train_size = int(0.85 * dataset_size)\n",
    "    val_size = dataset_size - train_size\n",
    "    train_dataset, val_dataset = random_split(full_dataset, [train_size, val_size])\n",
    "    train_dataset.dataset.transform = train_transform\n",
    "    val_dataset.dataset.transform = val_transform\n",
    "    \n",
    "    train_loader = DataLoader(\n",
    "        train_dataset, batch_size=32, shuffle=True, num_workers=4\n",
    "    )\n",
    "    \n",
    "    val_loader = DataLoader(\n",
    "        val_dataset, batch_size=32, shuffle=False, num_workers=4\n",
    "    )\n",
    "\n",
    "    return train_loader, val_loader, classes\n",
    "\n",
    "train_loader, val_loader, classes = load_dataset(path_dataset)\n",
    "\n",
    "# model_ = torchvision.models.resnet18(weights='IMAGENET1K_V1')\n",
    "# model_.fc = nn.Sequential(\n",
    "#     nn.Linear(model_.fc.in_features, len(classes)),\n",
    "#     nn.Sigmoid()\n",
    "# )\n",
    "\n",
    "model_ = torchvision.models.shufflenet_v2_x1_5(weights='IMAGENET1K_V1')\n",
    "model_.fc = nn.Sequential(\n",
    "    nn.Linear(model_.fc.in_features, len(classes)),\n",
    "    nn.Sigmoid()\n",
    ")"
   ]
  },
  {
   "cell_type": "code",
   "execution_count": 6,
   "metadata": {},
   "outputs": [
    {
     "name": "stdout",
     "output_type": "stream",
     "text": [
      "----------------------------------------------------------------\n",
      "        Layer (type)               Output Shape         Param #\n",
      "================================================================\n",
      "            Conv2d-1         [-1, 24, 200, 200]             648\n",
      "       BatchNorm2d-2         [-1, 24, 200, 200]              48\n",
      "              ReLU-3         [-1, 24, 200, 200]               0\n",
      "         MaxPool2d-4         [-1, 24, 100, 100]               0\n",
      "            Conv2d-5           [-1, 24, 50, 50]             216\n",
      "       BatchNorm2d-6           [-1, 24, 50, 50]              48\n",
      "            Conv2d-7           [-1, 88, 50, 50]           2,112\n",
      "       BatchNorm2d-8           [-1, 88, 50, 50]             176\n",
      "              ReLU-9           [-1, 88, 50, 50]               0\n",
      "           Conv2d-10         [-1, 88, 100, 100]           2,112\n",
      "      BatchNorm2d-11         [-1, 88, 100, 100]             176\n",
      "             ReLU-12         [-1, 88, 100, 100]               0\n",
      "           Conv2d-13           [-1, 88, 50, 50]             792\n",
      "      BatchNorm2d-14           [-1, 88, 50, 50]             176\n",
      "           Conv2d-15           [-1, 88, 50, 50]           7,744\n",
      "      BatchNorm2d-16           [-1, 88, 50, 50]             176\n",
      "             ReLU-17           [-1, 88, 50, 50]               0\n",
      " InvertedResidual-18          [-1, 176, 50, 50]               0\n",
      "           Conv2d-19           [-1, 88, 50, 50]           7,744\n",
      "      BatchNorm2d-20           [-1, 88, 50, 50]             176\n",
      "             ReLU-21           [-1, 88, 50, 50]               0\n",
      "           Conv2d-22           [-1, 88, 50, 50]             792\n",
      "      BatchNorm2d-23           [-1, 88, 50, 50]             176\n",
      "           Conv2d-24           [-1, 88, 50, 50]           7,744\n",
      "      BatchNorm2d-25           [-1, 88, 50, 50]             176\n",
      "             ReLU-26           [-1, 88, 50, 50]               0\n",
      " InvertedResidual-27          [-1, 176, 50, 50]               0\n",
      "           Conv2d-28           [-1, 88, 50, 50]           7,744\n",
      "      BatchNorm2d-29           [-1, 88, 50, 50]             176\n",
      "             ReLU-30           [-1, 88, 50, 50]               0\n",
      "           Conv2d-31           [-1, 88, 50, 50]             792\n",
      "      BatchNorm2d-32           [-1, 88, 50, 50]             176\n",
      "           Conv2d-33           [-1, 88, 50, 50]           7,744\n",
      "      BatchNorm2d-34           [-1, 88, 50, 50]             176\n",
      "             ReLU-35           [-1, 88, 50, 50]               0\n",
      " InvertedResidual-36          [-1, 176, 50, 50]               0\n",
      "           Conv2d-37           [-1, 88, 50, 50]           7,744\n",
      "      BatchNorm2d-38           [-1, 88, 50, 50]             176\n",
      "             ReLU-39           [-1, 88, 50, 50]               0\n",
      "           Conv2d-40           [-1, 88, 50, 50]             792\n",
      "      BatchNorm2d-41           [-1, 88, 50, 50]             176\n",
      "           Conv2d-42           [-1, 88, 50, 50]           7,744\n",
      "      BatchNorm2d-43           [-1, 88, 50, 50]             176\n",
      "             ReLU-44           [-1, 88, 50, 50]               0\n",
      " InvertedResidual-45          [-1, 176, 50, 50]               0\n",
      "           Conv2d-46          [-1, 176, 25, 25]           1,584\n",
      "      BatchNorm2d-47          [-1, 176, 25, 25]             352\n",
      "           Conv2d-48          [-1, 176, 25, 25]          30,976\n",
      "      BatchNorm2d-49          [-1, 176, 25, 25]             352\n",
      "             ReLU-50          [-1, 176, 25, 25]               0\n",
      "           Conv2d-51          [-1, 176, 50, 50]          30,976\n",
      "      BatchNorm2d-52          [-1, 176, 50, 50]             352\n",
      "             ReLU-53          [-1, 176, 50, 50]               0\n",
      "           Conv2d-54          [-1, 176, 25, 25]           1,584\n",
      "      BatchNorm2d-55          [-1, 176, 25, 25]             352\n",
      "           Conv2d-56          [-1, 176, 25, 25]          30,976\n",
      "      BatchNorm2d-57          [-1, 176, 25, 25]             352\n",
      "             ReLU-58          [-1, 176, 25, 25]               0\n",
      " InvertedResidual-59          [-1, 352, 25, 25]               0\n",
      "           Conv2d-60          [-1, 176, 25, 25]          30,976\n",
      "      BatchNorm2d-61          [-1, 176, 25, 25]             352\n",
      "             ReLU-62          [-1, 176, 25, 25]               0\n",
      "           Conv2d-63          [-1, 176, 25, 25]           1,584\n",
      "      BatchNorm2d-64          [-1, 176, 25, 25]             352\n",
      "           Conv2d-65          [-1, 176, 25, 25]          30,976\n",
      "      BatchNorm2d-66          [-1, 176, 25, 25]             352\n",
      "             ReLU-67          [-1, 176, 25, 25]               0\n",
      " InvertedResidual-68          [-1, 352, 25, 25]               0\n",
      "           Conv2d-69          [-1, 176, 25, 25]          30,976\n",
      "      BatchNorm2d-70          [-1, 176, 25, 25]             352\n",
      "             ReLU-71          [-1, 176, 25, 25]               0\n",
      "           Conv2d-72          [-1, 176, 25, 25]           1,584\n",
      "      BatchNorm2d-73          [-1, 176, 25, 25]             352\n",
      "           Conv2d-74          [-1, 176, 25, 25]          30,976\n",
      "      BatchNorm2d-75          [-1, 176, 25, 25]             352\n",
      "             ReLU-76          [-1, 176, 25, 25]               0\n",
      " InvertedResidual-77          [-1, 352, 25, 25]               0\n",
      "           Conv2d-78          [-1, 176, 25, 25]          30,976\n",
      "      BatchNorm2d-79          [-1, 176, 25, 25]             352\n",
      "             ReLU-80          [-1, 176, 25, 25]               0\n",
      "           Conv2d-81          [-1, 176, 25, 25]           1,584\n",
      "      BatchNorm2d-82          [-1, 176, 25, 25]             352\n",
      "           Conv2d-83          [-1, 176, 25, 25]          30,976\n",
      "      BatchNorm2d-84          [-1, 176, 25, 25]             352\n",
      "             ReLU-85          [-1, 176, 25, 25]               0\n",
      " InvertedResidual-86          [-1, 352, 25, 25]               0\n",
      "           Conv2d-87          [-1, 176, 25, 25]          30,976\n",
      "      BatchNorm2d-88          [-1, 176, 25, 25]             352\n",
      "             ReLU-89          [-1, 176, 25, 25]               0\n",
      "           Conv2d-90          [-1, 176, 25, 25]           1,584\n",
      "      BatchNorm2d-91          [-1, 176, 25, 25]             352\n",
      "           Conv2d-92          [-1, 176, 25, 25]          30,976\n",
      "      BatchNorm2d-93          [-1, 176, 25, 25]             352\n",
      "             ReLU-94          [-1, 176, 25, 25]               0\n",
      " InvertedResidual-95          [-1, 352, 25, 25]               0\n",
      "           Conv2d-96          [-1, 176, 25, 25]          30,976\n",
      "      BatchNorm2d-97          [-1, 176, 25, 25]             352\n",
      "             ReLU-98          [-1, 176, 25, 25]               0\n",
      "           Conv2d-99          [-1, 176, 25, 25]           1,584\n",
      "     BatchNorm2d-100          [-1, 176, 25, 25]             352\n",
      "          Conv2d-101          [-1, 176, 25, 25]          30,976\n",
      "     BatchNorm2d-102          [-1, 176, 25, 25]             352\n",
      "            ReLU-103          [-1, 176, 25, 25]               0\n",
      "InvertedResidual-104          [-1, 352, 25, 25]               0\n",
      "          Conv2d-105          [-1, 176, 25, 25]          30,976\n",
      "     BatchNorm2d-106          [-1, 176, 25, 25]             352\n",
      "            ReLU-107          [-1, 176, 25, 25]               0\n",
      "          Conv2d-108          [-1, 176, 25, 25]           1,584\n",
      "     BatchNorm2d-109          [-1, 176, 25, 25]             352\n",
      "          Conv2d-110          [-1, 176, 25, 25]          30,976\n",
      "     BatchNorm2d-111          [-1, 176, 25, 25]             352\n",
      "            ReLU-112          [-1, 176, 25, 25]               0\n",
      "InvertedResidual-113          [-1, 352, 25, 25]               0\n",
      "          Conv2d-114          [-1, 176, 25, 25]          30,976\n",
      "     BatchNorm2d-115          [-1, 176, 25, 25]             352\n",
      "            ReLU-116          [-1, 176, 25, 25]               0\n",
      "          Conv2d-117          [-1, 176, 25, 25]           1,584\n",
      "     BatchNorm2d-118          [-1, 176, 25, 25]             352\n",
      "          Conv2d-119          [-1, 176, 25, 25]          30,976\n",
      "     BatchNorm2d-120          [-1, 176, 25, 25]             352\n",
      "            ReLU-121          [-1, 176, 25, 25]               0\n",
      "InvertedResidual-122          [-1, 352, 25, 25]               0\n",
      "          Conv2d-123          [-1, 352, 13, 13]           3,168\n",
      "     BatchNorm2d-124          [-1, 352, 13, 13]             704\n",
      "          Conv2d-125          [-1, 352, 13, 13]         123,904\n",
      "     BatchNorm2d-126          [-1, 352, 13, 13]             704\n",
      "            ReLU-127          [-1, 352, 13, 13]               0\n",
      "          Conv2d-128          [-1, 352, 25, 25]         123,904\n",
      "     BatchNorm2d-129          [-1, 352, 25, 25]             704\n",
      "            ReLU-130          [-1, 352, 25, 25]               0\n",
      "          Conv2d-131          [-1, 352, 13, 13]           3,168\n",
      "     BatchNorm2d-132          [-1, 352, 13, 13]             704\n",
      "          Conv2d-133          [-1, 352, 13, 13]         123,904\n",
      "     BatchNorm2d-134          [-1, 352, 13, 13]             704\n",
      "            ReLU-135          [-1, 352, 13, 13]               0\n",
      "InvertedResidual-136          [-1, 704, 13, 13]               0\n",
      "          Conv2d-137          [-1, 352, 13, 13]         123,904\n",
      "     BatchNorm2d-138          [-1, 352, 13, 13]             704\n",
      "            ReLU-139          [-1, 352, 13, 13]               0\n",
      "          Conv2d-140          [-1, 352, 13, 13]           3,168\n",
      "     BatchNorm2d-141          [-1, 352, 13, 13]             704\n",
      "          Conv2d-142          [-1, 352, 13, 13]         123,904\n",
      "     BatchNorm2d-143          [-1, 352, 13, 13]             704\n",
      "            ReLU-144          [-1, 352, 13, 13]               0\n",
      "InvertedResidual-145          [-1, 704, 13, 13]               0\n",
      "          Conv2d-146          [-1, 352, 13, 13]         123,904\n",
      "     BatchNorm2d-147          [-1, 352, 13, 13]             704\n",
      "            ReLU-148          [-1, 352, 13, 13]               0\n",
      "          Conv2d-149          [-1, 352, 13, 13]           3,168\n",
      "     BatchNorm2d-150          [-1, 352, 13, 13]             704\n",
      "          Conv2d-151          [-1, 352, 13, 13]         123,904\n",
      "     BatchNorm2d-152          [-1, 352, 13, 13]             704\n",
      "            ReLU-153          [-1, 352, 13, 13]               0\n",
      "InvertedResidual-154          [-1, 704, 13, 13]               0\n",
      "          Conv2d-155          [-1, 352, 13, 13]         123,904\n",
      "     BatchNorm2d-156          [-1, 352, 13, 13]             704\n",
      "            ReLU-157          [-1, 352, 13, 13]               0\n",
      "          Conv2d-158          [-1, 352, 13, 13]           3,168\n",
      "     BatchNorm2d-159          [-1, 352, 13, 13]             704\n",
      "          Conv2d-160          [-1, 352, 13, 13]         123,904\n",
      "     BatchNorm2d-161          [-1, 352, 13, 13]             704\n",
      "            ReLU-162          [-1, 352, 13, 13]               0\n",
      "InvertedResidual-163          [-1, 704, 13, 13]               0\n",
      "          Conv2d-164         [-1, 1024, 13, 13]         720,896\n",
      "     BatchNorm2d-165         [-1, 1024, 13, 13]           2,048\n",
      "            ReLU-166         [-1, 1024, 13, 13]               0\n",
      "          Linear-167                    [-1, 4]           4,100\n",
      "         Sigmoid-168                    [-1, 4]               0\n",
      "================================================================\n",
      "Total params: 2,482,724\n",
      "Trainable params: 2,482,724\n",
      "Non-trainable params: 0\n",
      "----------------------------------------------------------------\n",
      "Input size (MB): 1.83\n",
      "Forward/backward pass size (MB): 218.95\n",
      "Params size (MB): 9.47\n",
      "Estimated Total Size (MB): 230.25\n",
      "----------------------------------------------------------------\n",
      "ShuffleNetV2(\n",
      "  (conv1): Sequential(\n",
      "    (0): Conv2d(3, 24, kernel_size=(3, 3), stride=(2, 2), padding=(1, 1), bias=False)\n",
      "    (1): BatchNorm2d(24, eps=1e-05, momentum=0.1, affine=True, track_running_stats=True)\n",
      "    (2): ReLU(inplace=True)\n",
      "  )\n",
      "  (maxpool): MaxPool2d(kernel_size=3, stride=2, padding=1, dilation=1, ceil_mode=False)\n",
      "  (stage2): Sequential(\n",
      "    (0): InvertedResidual(\n",
      "      (branch1): Sequential(\n",
      "        (0): Conv2d(24, 24, kernel_size=(3, 3), stride=(2, 2), padding=(1, 1), groups=24, bias=False)\n",
      "        (1): BatchNorm2d(24, eps=1e-05, momentum=0.1, affine=True, track_running_stats=True)\n",
      "        (2): Conv2d(24, 88, kernel_size=(1, 1), stride=(1, 1), bias=False)\n",
      "        (3): BatchNorm2d(88, eps=1e-05, momentum=0.1, affine=True, track_running_stats=True)\n",
      "        (4): ReLU(inplace=True)\n",
      "      )\n",
      "      (branch2): Sequential(\n",
      "        (0): Conv2d(24, 88, kernel_size=(1, 1), stride=(1, 1), bias=False)\n",
      "        (1): BatchNorm2d(88, eps=1e-05, momentum=0.1, affine=True, track_running_stats=True)\n",
      "        (2): ReLU(inplace=True)\n",
      "        (3): Conv2d(88, 88, kernel_size=(3, 3), stride=(2, 2), padding=(1, 1), groups=88, bias=False)\n",
      "        (4): BatchNorm2d(88, eps=1e-05, momentum=0.1, affine=True, track_running_stats=True)\n",
      "        (5): Conv2d(88, 88, kernel_size=(1, 1), stride=(1, 1), bias=False)\n",
      "        (6): BatchNorm2d(88, eps=1e-05, momentum=0.1, affine=True, track_running_stats=True)\n",
      "        (7): ReLU(inplace=True)\n",
      "      )\n",
      "    )\n",
      "    (1): InvertedResidual(\n",
      "      (branch1): Sequential()\n",
      "      (branch2): Sequential(\n",
      "        (0): Conv2d(88, 88, kernel_size=(1, 1), stride=(1, 1), bias=False)\n",
      "        (1): BatchNorm2d(88, eps=1e-05, momentum=0.1, affine=True, track_running_stats=True)\n",
      "        (2): ReLU(inplace=True)\n",
      "        (3): Conv2d(88, 88, kernel_size=(3, 3), stride=(1, 1), padding=(1, 1), groups=88, bias=False)\n",
      "        (4): BatchNorm2d(88, eps=1e-05, momentum=0.1, affine=True, track_running_stats=True)\n",
      "        (5): Conv2d(88, 88, kernel_size=(1, 1), stride=(1, 1), bias=False)\n",
      "        (6): BatchNorm2d(88, eps=1e-05, momentum=0.1, affine=True, track_running_stats=True)\n",
      "        (7): ReLU(inplace=True)\n",
      "      )\n",
      "    )\n",
      "    (2): InvertedResidual(\n",
      "      (branch1): Sequential()\n",
      "      (branch2): Sequential(\n",
      "        (0): Conv2d(88, 88, kernel_size=(1, 1), stride=(1, 1), bias=False)\n",
      "        (1): BatchNorm2d(88, eps=1e-05, momentum=0.1, affine=True, track_running_stats=True)\n",
      "        (2): ReLU(inplace=True)\n",
      "        (3): Conv2d(88, 88, kernel_size=(3, 3), stride=(1, 1), padding=(1, 1), groups=88, bias=False)\n",
      "        (4): BatchNorm2d(88, eps=1e-05, momentum=0.1, affine=True, track_running_stats=True)\n",
      "        (5): Conv2d(88, 88, kernel_size=(1, 1), stride=(1, 1), bias=False)\n",
      "        (6): BatchNorm2d(88, eps=1e-05, momentum=0.1, affine=True, track_running_stats=True)\n",
      "        (7): ReLU(inplace=True)\n",
      "      )\n",
      "    )\n",
      "    (3): InvertedResidual(\n",
      "      (branch1): Sequential()\n",
      "      (branch2): Sequential(\n",
      "        (0): Conv2d(88, 88, kernel_size=(1, 1), stride=(1, 1), bias=False)\n",
      "        (1): BatchNorm2d(88, eps=1e-05, momentum=0.1, affine=True, track_running_stats=True)\n",
      "        (2): ReLU(inplace=True)\n",
      "        (3): Conv2d(88, 88, kernel_size=(3, 3), stride=(1, 1), padding=(1, 1), groups=88, bias=False)\n",
      "        (4): BatchNorm2d(88, eps=1e-05, momentum=0.1, affine=True, track_running_stats=True)\n",
      "        (5): Conv2d(88, 88, kernel_size=(1, 1), stride=(1, 1), bias=False)\n",
      "        (6): BatchNorm2d(88, eps=1e-05, momentum=0.1, affine=True, track_running_stats=True)\n",
      "        (7): ReLU(inplace=True)\n",
      "      )\n",
      "    )\n",
      "  )\n",
      "  (stage3): Sequential(\n",
      "    (0): InvertedResidual(\n",
      "      (branch1): Sequential(\n",
      "        (0): Conv2d(176, 176, kernel_size=(3, 3), stride=(2, 2), padding=(1, 1), groups=176, bias=False)\n",
      "        (1): BatchNorm2d(176, eps=1e-05, momentum=0.1, affine=True, track_running_stats=True)\n",
      "        (2): Conv2d(176, 176, kernel_size=(1, 1), stride=(1, 1), bias=False)\n",
      "        (3): BatchNorm2d(176, eps=1e-05, momentum=0.1, affine=True, track_running_stats=True)\n",
      "        (4): ReLU(inplace=True)\n",
      "      )\n",
      "      (branch2): Sequential(\n",
      "        (0): Conv2d(176, 176, kernel_size=(1, 1), stride=(1, 1), bias=False)\n",
      "        (1): BatchNorm2d(176, eps=1e-05, momentum=0.1, affine=True, track_running_stats=True)\n",
      "        (2): ReLU(inplace=True)\n",
      "        (3): Conv2d(176, 176, kernel_size=(3, 3), stride=(2, 2), padding=(1, 1), groups=176, bias=False)\n",
      "        (4): BatchNorm2d(176, eps=1e-05, momentum=0.1, affine=True, track_running_stats=True)\n",
      "        (5): Conv2d(176, 176, kernel_size=(1, 1), stride=(1, 1), bias=False)\n",
      "        (6): BatchNorm2d(176, eps=1e-05, momentum=0.1, affine=True, track_running_stats=True)\n",
      "        (7): ReLU(inplace=True)\n",
      "      )\n",
      "    )\n",
      "    (1): InvertedResidual(\n",
      "      (branch1): Sequential()\n",
      "      (branch2): Sequential(\n",
      "        (0): Conv2d(176, 176, kernel_size=(1, 1), stride=(1, 1), bias=False)\n",
      "        (1): BatchNorm2d(176, eps=1e-05, momentum=0.1, affine=True, track_running_stats=True)\n",
      "        (2): ReLU(inplace=True)\n",
      "        (3): Conv2d(176, 176, kernel_size=(3, 3), stride=(1, 1), padding=(1, 1), groups=176, bias=False)\n",
      "        (4): BatchNorm2d(176, eps=1e-05, momentum=0.1, affine=True, track_running_stats=True)\n",
      "        (5): Conv2d(176, 176, kernel_size=(1, 1), stride=(1, 1), bias=False)\n",
      "        (6): BatchNorm2d(176, eps=1e-05, momentum=0.1, affine=True, track_running_stats=True)\n",
      "        (7): ReLU(inplace=True)\n",
      "      )\n",
      "    )\n",
      "    (2): InvertedResidual(\n",
      "      (branch1): Sequential()\n",
      "      (branch2): Sequential(\n",
      "        (0): Conv2d(176, 176, kernel_size=(1, 1), stride=(1, 1), bias=False)\n",
      "        (1): BatchNorm2d(176, eps=1e-05, momentum=0.1, affine=True, track_running_stats=True)\n",
      "        (2): ReLU(inplace=True)\n",
      "        (3): Conv2d(176, 176, kernel_size=(3, 3), stride=(1, 1), padding=(1, 1), groups=176, bias=False)\n",
      "        (4): BatchNorm2d(176, eps=1e-05, momentum=0.1, affine=True, track_running_stats=True)\n",
      "        (5): Conv2d(176, 176, kernel_size=(1, 1), stride=(1, 1), bias=False)\n",
      "        (6): BatchNorm2d(176, eps=1e-05, momentum=0.1, affine=True, track_running_stats=True)\n",
      "        (7): ReLU(inplace=True)\n",
      "      )\n",
      "    )\n",
      "    (3): InvertedResidual(\n",
      "      (branch1): Sequential()\n",
      "      (branch2): Sequential(\n",
      "        (0): Conv2d(176, 176, kernel_size=(1, 1), stride=(1, 1), bias=False)\n",
      "        (1): BatchNorm2d(176, eps=1e-05, momentum=0.1, affine=True, track_running_stats=True)\n",
      "        (2): ReLU(inplace=True)\n",
      "        (3): Conv2d(176, 176, kernel_size=(3, 3), stride=(1, 1), padding=(1, 1), groups=176, bias=False)\n",
      "        (4): BatchNorm2d(176, eps=1e-05, momentum=0.1, affine=True, track_running_stats=True)\n",
      "        (5): Conv2d(176, 176, kernel_size=(1, 1), stride=(1, 1), bias=False)\n",
      "        (6): BatchNorm2d(176, eps=1e-05, momentum=0.1, affine=True, track_running_stats=True)\n",
      "        (7): ReLU(inplace=True)\n",
      "      )\n",
      "    )\n",
      "    (4): InvertedResidual(\n",
      "      (branch1): Sequential()\n",
      "      (branch2): Sequential(\n",
      "        (0): Conv2d(176, 176, kernel_size=(1, 1), stride=(1, 1), bias=False)\n",
      "        (1): BatchNorm2d(176, eps=1e-05, momentum=0.1, affine=True, track_running_stats=True)\n",
      "        (2): ReLU(inplace=True)\n",
      "        (3): Conv2d(176, 176, kernel_size=(3, 3), stride=(1, 1), padding=(1, 1), groups=176, bias=False)\n",
      "        (4): BatchNorm2d(176, eps=1e-05, momentum=0.1, affine=True, track_running_stats=True)\n",
      "        (5): Conv2d(176, 176, kernel_size=(1, 1), stride=(1, 1), bias=False)\n",
      "        (6): BatchNorm2d(176, eps=1e-05, momentum=0.1, affine=True, track_running_stats=True)\n",
      "        (7): ReLU(inplace=True)\n",
      "      )\n",
      "    )\n",
      "    (5): InvertedResidual(\n",
      "      (branch1): Sequential()\n",
      "      (branch2): Sequential(\n",
      "        (0): Conv2d(176, 176, kernel_size=(1, 1), stride=(1, 1), bias=False)\n",
      "        (1): BatchNorm2d(176, eps=1e-05, momentum=0.1, affine=True, track_running_stats=True)\n",
      "        (2): ReLU(inplace=True)\n",
      "        (3): Conv2d(176, 176, kernel_size=(3, 3), stride=(1, 1), padding=(1, 1), groups=176, bias=False)\n",
      "        (4): BatchNorm2d(176, eps=1e-05, momentum=0.1, affine=True, track_running_stats=True)\n",
      "        (5): Conv2d(176, 176, kernel_size=(1, 1), stride=(1, 1), bias=False)\n",
      "        (6): BatchNorm2d(176, eps=1e-05, momentum=0.1, affine=True, track_running_stats=True)\n",
      "        (7): ReLU(inplace=True)\n",
      "      )\n",
      "    )\n",
      "    (6): InvertedResidual(\n",
      "      (branch1): Sequential()\n",
      "      (branch2): Sequential(\n",
      "        (0): Conv2d(176, 176, kernel_size=(1, 1), stride=(1, 1), bias=False)\n",
      "        (1): BatchNorm2d(176, eps=1e-05, momentum=0.1, affine=True, track_running_stats=True)\n",
      "        (2): ReLU(inplace=True)\n",
      "        (3): Conv2d(176, 176, kernel_size=(3, 3), stride=(1, 1), padding=(1, 1), groups=176, bias=False)\n",
      "        (4): BatchNorm2d(176, eps=1e-05, momentum=0.1, affine=True, track_running_stats=True)\n",
      "        (5): Conv2d(176, 176, kernel_size=(1, 1), stride=(1, 1), bias=False)\n",
      "        (6): BatchNorm2d(176, eps=1e-05, momentum=0.1, affine=True, track_running_stats=True)\n",
      "        (7): ReLU(inplace=True)\n",
      "      )\n",
      "    )\n",
      "    (7): InvertedResidual(\n",
      "      (branch1): Sequential()\n",
      "      (branch2): Sequential(\n",
      "        (0): Conv2d(176, 176, kernel_size=(1, 1), stride=(1, 1), bias=False)\n",
      "        (1): BatchNorm2d(176, eps=1e-05, momentum=0.1, affine=True, track_running_stats=True)\n",
      "        (2): ReLU(inplace=True)\n",
      "        (3): Conv2d(176, 176, kernel_size=(3, 3), stride=(1, 1), padding=(1, 1), groups=176, bias=False)\n",
      "        (4): BatchNorm2d(176, eps=1e-05, momentum=0.1, affine=True, track_running_stats=True)\n",
      "        (5): Conv2d(176, 176, kernel_size=(1, 1), stride=(1, 1), bias=False)\n",
      "        (6): BatchNorm2d(176, eps=1e-05, momentum=0.1, affine=True, track_running_stats=True)\n",
      "        (7): ReLU(inplace=True)\n",
      "      )\n",
      "    )\n",
      "  )\n",
      "  (stage4): Sequential(\n",
      "    (0): InvertedResidual(\n",
      "      (branch1): Sequential(\n",
      "        (0): Conv2d(352, 352, kernel_size=(3, 3), stride=(2, 2), padding=(1, 1), groups=352, bias=False)\n",
      "        (1): BatchNorm2d(352, eps=1e-05, momentum=0.1, affine=True, track_running_stats=True)\n",
      "        (2): Conv2d(352, 352, kernel_size=(1, 1), stride=(1, 1), bias=False)\n",
      "        (3): BatchNorm2d(352, eps=1e-05, momentum=0.1, affine=True, track_running_stats=True)\n",
      "        (4): ReLU(inplace=True)\n",
      "      )\n",
      "      (branch2): Sequential(\n",
      "        (0): Conv2d(352, 352, kernel_size=(1, 1), stride=(1, 1), bias=False)\n",
      "        (1): BatchNorm2d(352, eps=1e-05, momentum=0.1, affine=True, track_running_stats=True)\n",
      "        (2): ReLU(inplace=True)\n",
      "        (3): Conv2d(352, 352, kernel_size=(3, 3), stride=(2, 2), padding=(1, 1), groups=352, bias=False)\n",
      "        (4): BatchNorm2d(352, eps=1e-05, momentum=0.1, affine=True, track_running_stats=True)\n",
      "        (5): Conv2d(352, 352, kernel_size=(1, 1), stride=(1, 1), bias=False)\n",
      "        (6): BatchNorm2d(352, eps=1e-05, momentum=0.1, affine=True, track_running_stats=True)\n",
      "        (7): ReLU(inplace=True)\n",
      "      )\n",
      "    )\n",
      "    (1): InvertedResidual(\n",
      "      (branch1): Sequential()\n",
      "      (branch2): Sequential(\n",
      "        (0): Conv2d(352, 352, kernel_size=(1, 1), stride=(1, 1), bias=False)\n",
      "        (1): BatchNorm2d(352, eps=1e-05, momentum=0.1, affine=True, track_running_stats=True)\n",
      "        (2): ReLU(inplace=True)\n",
      "        (3): Conv2d(352, 352, kernel_size=(3, 3), stride=(1, 1), padding=(1, 1), groups=352, bias=False)\n",
      "        (4): BatchNorm2d(352, eps=1e-05, momentum=0.1, affine=True, track_running_stats=True)\n",
      "        (5): Conv2d(352, 352, kernel_size=(1, 1), stride=(1, 1), bias=False)\n",
      "        (6): BatchNorm2d(352, eps=1e-05, momentum=0.1, affine=True, track_running_stats=True)\n",
      "        (7): ReLU(inplace=True)\n",
      "      )\n",
      "    )\n",
      "    (2): InvertedResidual(\n",
      "      (branch1): Sequential()\n",
      "      (branch2): Sequential(\n",
      "        (0): Conv2d(352, 352, kernel_size=(1, 1), stride=(1, 1), bias=False)\n",
      "        (1): BatchNorm2d(352, eps=1e-05, momentum=0.1, affine=True, track_running_stats=True)\n",
      "        (2): ReLU(inplace=True)\n",
      "        (3): Conv2d(352, 352, kernel_size=(3, 3), stride=(1, 1), padding=(1, 1), groups=352, bias=False)\n",
      "        (4): BatchNorm2d(352, eps=1e-05, momentum=0.1, affine=True, track_running_stats=True)\n",
      "        (5): Conv2d(352, 352, kernel_size=(1, 1), stride=(1, 1), bias=False)\n",
      "        (6): BatchNorm2d(352, eps=1e-05, momentum=0.1, affine=True, track_running_stats=True)\n",
      "        (7): ReLU(inplace=True)\n",
      "      )\n",
      "    )\n",
      "    (3): InvertedResidual(\n",
      "      (branch1): Sequential()\n",
      "      (branch2): Sequential(\n",
      "        (0): Conv2d(352, 352, kernel_size=(1, 1), stride=(1, 1), bias=False)\n",
      "        (1): BatchNorm2d(352, eps=1e-05, momentum=0.1, affine=True, track_running_stats=True)\n",
      "        (2): ReLU(inplace=True)\n",
      "        (3): Conv2d(352, 352, kernel_size=(3, 3), stride=(1, 1), padding=(1, 1), groups=352, bias=False)\n",
      "        (4): BatchNorm2d(352, eps=1e-05, momentum=0.1, affine=True, track_running_stats=True)\n",
      "        (5): Conv2d(352, 352, kernel_size=(1, 1), stride=(1, 1), bias=False)\n",
      "        (6): BatchNorm2d(352, eps=1e-05, momentum=0.1, affine=True, track_running_stats=True)\n",
      "        (7): ReLU(inplace=True)\n",
      "      )\n",
      "    )\n",
      "  )\n",
      "  (conv5): Sequential(\n",
      "    (0): Conv2d(704, 1024, kernel_size=(1, 1), stride=(1, 1), bias=False)\n",
      "    (1): BatchNorm2d(1024, eps=1e-05, momentum=0.1, affine=True, track_running_stats=True)\n",
      "    (2): ReLU(inplace=True)\n",
      "  )\n",
      "  (fc): Sequential(\n",
      "    (0): Linear(in_features=1024, out_features=4, bias=True)\n",
      "    (1): Sigmoid()\n",
      "  )\n",
      ")\n"
     ]
    }
   ],
   "source": [
    "if torch.cuda.is_available():\n",
    "    model_.cuda()\n",
    "from torchsummary import summary\n",
    "summary(model_, (3, 400, 400))\n",
    "print(model_)"
   ]
  },
  {
   "cell_type": "code",
   "execution_count": 7,
   "metadata": {},
   "outputs": [],
   "source": [
    "def train(model, trainloader, valloader, epochs=10):\n",
    "    torch.cuda.empty_cache()\n",
    "    criterion = nn.CrossEntropyLoss()\n",
    "    optimizer = optim.AdamW(model.parameters(), lr=1e-4)\n",
    "    # scheduler = optim.lr_scheduler.CosineAnnealingWarmRestarts(optimizer, T_0=10, eta_min=1e-7)\n",
    "    scheduler = optim.lr_scheduler.CosineAnnealingLR(optimizer, T_max=32)\n",
    "    \n",
    "    train_losses = []\n",
    "    train_accuracies = []\n",
    "    val_losses = []\n",
    "    val_accuracies = []\n",
    "    best_val_acc = 80\n",
    "    best_val_loss = 0\n",
    "    \n",
    "    for epoch in range(epochs):\n",
    "        model.train()\n",
    "        running_loss = 0.0\n",
    "        correct = 0\n",
    "        total = 0\n",
    "        \n",
    "        # Wrap trainloader with tqdm for progress bar to make it looks nicer\n",
    "        loop = tqdm(enumerate(trainloader), total=len(trainloader), leave=True)\n",
    "        for i, data in loop:\n",
    "            # Get inputs and labels\n",
    "            inputs, labels = data\n",
    "            inputs, labels = inputs.to(device), labels.to(device)\n",
    "            \n",
    "            # Zero the parameter gradients\n",
    "            optimizer.zero_grad()\n",
    "            \n",
    "            # Forward + backward + optimize\n",
    "            outputs = model(inputs)\n",
    "            loss = criterion(outputs, labels)\n",
    "            loss.backward()\n",
    "            optimizer.step()\n",
    "            scheduler.step()\n",
    "            \n",
    "            # Calculate accuracy\n",
    "            _, predicted = torch.max(outputs.data, 1)\n",
    "            total += labels.size(0)\n",
    "            correct += (predicted == labels).sum().item()\n",
    "            \n",
    "            # Update running loss\n",
    "            running_loss += loss.item()\n",
    "            \n",
    "            # Update progress bar\n",
    "            loop.set_description(f\"Epoch [{epoch+1}/{epochs}]\")\n",
    "            loop.set_postfix(loss=running_loss/(i+1), accuracy=100.*correct/total)\n",
    "        \n",
    "        \n",
    "        # Calculate epoch statistics for training\n",
    "        epoch_train_loss = running_loss / len(trainloader)\n",
    "        epoch_train_acc = 100. * correct / total\n",
    "        train_losses.append(epoch_train_loss)\n",
    "        train_accuracies.append(epoch_train_acc)\n",
    "        \n",
    "        # Validation phase\n",
    "        model.eval()\n",
    "        val_running_loss = 0.0\n",
    "        val_correct = 0\n",
    "        val_total = 0\n",
    "        \n",
    "        with torch.no_grad():\n",
    "            for data in valloader:\n",
    "                images, labels = data\n",
    "                images, labels = images.to(device), labels.to(device)\n",
    "                \n",
    "                # Forward pass\n",
    "                outputs = model(images)\n",
    "                loss = criterion(outputs, labels)\n",
    "                \n",
    "                # Calculate validation loss\n",
    "                val_running_loss += loss.item()\n",
    "                \n",
    "                # Calculate validation accuracy\n",
    "                _, predicted = torch.max(outputs.data, 1)\n",
    "                val_total += labels.size(0)\n",
    "                val_correct += (predicted == labels).sum().item()\n",
    "        \n",
    "        # Calculate epoch statistics for validation\n",
    "        epoch_val_loss = val_running_loss / len(valloader)\n",
    "        epoch_val_acc = 100. * val_correct / val_total\n",
    "        val_losses.append(epoch_val_loss)\n",
    "        val_accuracies.append(epoch_val_acc)\n",
    "        if epoch_val_acc > best_val_acc:\n",
    "            best_val_acc = epoch_val_acc\n",
    "            best_val_loss = epoch_val_loss\n",
    "            torch.save(model_.state_dict(), 'model.pth')\n",
    "            print(best_val_acc, best_val_loss)\n",
    "        elif epoch_val_acc == best_val_acc:\n",
    "            if epoch_val_loss < best_val_loss:\n",
    "                torch.save(model_.state_dict(), 'model.pth')\n",
    "        \n",
    "        print(f\"Epoch {epoch+1}/{epochs}\")\n",
    "        print(f\"Train Loss: {epoch_train_loss:.4f}, Train Acc: {epoch_train_acc:.2f}%\")\n",
    "        print(f\"Val Loss: {epoch_val_loss:.4f}, Val Acc: {epoch_val_acc:.2f}%\")\n",
    "        print(\"-\" * 60)\n",
    "    \n",
    "    print('Finished Training')\n",
    "    \n",
    "    return model, train_losses, train_accuracies, val_losses, val_accuracies\n",
    "\n",
    "def evaluate(model, valloader):\n",
    "\n",
    "    model.eval()\n",
    "    correct = 0\n",
    "    total = 0\n",
    "    \n",
    "    # Initialize lists for per-class accuracy\n",
    "    num_classes = len(classes)\n",
    "    class_correct = list(0. for i in range(num_classes))\n",
    "    class_total = list(0. for i in range(num_classes))\n",
    "    \n",
    "    # Initialize confusion matrix\n",
    "    confusion_matrix = torch.zeros(num_classes, num_classes)\n",
    "    \n",
    "    with torch.no_grad():\n",
    "        for data in tqdm(valloader, desc=\"Evaluating\"):\n",
    "            images, labels = data\n",
    "            images, labels = images.to(device), labels.to(device)\n",
    "            outputs = model(images)\n",
    "            _, predicted = torch.max(outputs.data, 1)\n",
    "            total += labels.size(0)\n",
    "            correct += (predicted == labels).sum().item()\n",
    "            \n",
    "            # Calculate per-class accuracy\n",
    "            c = (predicted == labels).squeeze()\n",
    "            for i in range(len(labels)):\n",
    "                label = labels[i]\n",
    "                class_correct[label] += c[i].item()\n",
    "                class_total[label] += 1\n",
    "                \n",
    "                # Update confusion matrix\n",
    "                confusion_matrix[label, predicted[i]] += 1\n",
    "\n",
    "    overall_accuracy = 100 * correct / total\n",
    "    print(f'Overall Accuracy: {overall_accuracy:.2f}%')\n",
    "\n",
    "    \n",
    "    return class_correct, class_total, confusion_matrix"
   ]
  },
  {
   "cell_type": "code",
   "execution_count": 8,
   "metadata": {},
   "outputs": [
    {
     "name": "stdout",
     "output_type": "stream",
     "text": [
      "Starting training...\n"
     ]
    },
    {
     "name": "stderr",
     "output_type": "stream",
     "text": [
      "Epoch [1/150]: 100%|██████████| 18/18 [00:06<00:00,  2.72it/s, accuracy=52.9, loss=1.35]\n"
     ]
    },
    {
     "name": "stdout",
     "output_type": "stream",
     "text": [
      "Epoch 1/150\n",
      "Train Loss: 1.3542, Train Acc: 52.86%\n",
      "Val Loss: 1.3371, Val Acc: 72.73%\n",
      "------------------------------------------------------------\n"
     ]
    },
    {
     "name": "stderr",
     "output_type": "stream",
     "text": [
      "Epoch [2/150]: 100%|██████████| 18/18 [00:05<00:00,  3.16it/s, accuracy=75.2, loss=1.3]\n"
     ]
    },
    {
     "name": "stdout",
     "output_type": "stream",
     "text": [
      "Epoch 2/150\n",
      "Train Loss: 1.2988, Train Acc: 75.18%\n",
      "Val Loss: 1.2947, Val Acc: 67.68%\n",
      "------------------------------------------------------------\n"
     ]
    },
    {
     "name": "stderr",
     "output_type": "stream",
     "text": [
      "Epoch [3/150]: 100%|██████████| 18/18 [00:05<00:00,  3.25it/s, accuracy=75.4, loss=1.28]\n"
     ]
    },
    {
     "name": "stdout",
     "output_type": "stream",
     "text": [
      "Epoch 3/150\n",
      "Train Loss: 1.2830, Train Acc: 75.36%\n",
      "Val Loss: 1.2452, Val Acc: 70.71%\n",
      "------------------------------------------------------------\n"
     ]
    },
    {
     "name": "stderr",
     "output_type": "stream",
     "text": [
      "Epoch [4/150]: 100%|██████████| 18/18 [00:05<00:00,  3.18it/s, accuracy=76.6, loss=1.19]\n"
     ]
    },
    {
     "name": "stdout",
     "output_type": "stream",
     "text": [
      "Epoch 4/150\n",
      "Train Loss: 1.1863, Train Acc: 76.61%\n",
      "Val Loss: 1.1020, Val Acc: 72.73%\n",
      "------------------------------------------------------------\n"
     ]
    },
    {
     "name": "stderr",
     "output_type": "stream",
     "text": [
      "Epoch [5/150]: 100%|██████████| 18/18 [00:05<00:00,  3.20it/s, accuracy=77, loss=1.09]  \n"
     ]
    },
    {
     "name": "stdout",
     "output_type": "stream",
     "text": [
      "Epoch 5/150\n",
      "Train Loss: 1.0863, Train Acc: 76.96%\n",
      "Val Loss: 1.0633, Val Acc: 74.75%\n",
      "------------------------------------------------------------\n"
     ]
    },
    {
     "name": "stderr",
     "output_type": "stream",
     "text": [
      "Epoch [6/150]: 100%|██████████| 18/18 [00:05<00:00,  3.10it/s, accuracy=76.6, loss=1.07]\n"
     ]
    },
    {
     "name": "stdout",
     "output_type": "stream",
     "text": [
      "Epoch 6/150\n",
      "Train Loss: 1.0729, Train Acc: 76.61%\n",
      "Val Loss: 1.0590, Val Acc: 72.73%\n",
      "------------------------------------------------------------\n"
     ]
    },
    {
     "name": "stderr",
     "output_type": "stream",
     "text": [
      "Epoch [7/150]: 100%|██████████| 18/18 [00:05<00:00,  3.12it/s, accuracy=77.9, loss=1.06]\n"
     ]
    },
    {
     "name": "stdout",
     "output_type": "stream",
     "text": [
      "Epoch 7/150\n",
      "Train Loss: 1.0551, Train Acc: 77.86%\n",
      "Val Loss: 1.0151, Val Acc: 74.75%\n",
      "------------------------------------------------------------\n"
     ]
    },
    {
     "name": "stderr",
     "output_type": "stream",
     "text": [
      "Epoch [8/150]: 100%|██████████| 18/18 [00:05<00:00,  3.20it/s, accuracy=78.4, loss=1]   \n"
     ]
    },
    {
     "name": "stdout",
     "output_type": "stream",
     "text": [
      "Epoch 8/150\n",
      "Train Loss: 1.0031, Train Acc: 78.39%\n",
      "Val Loss: 0.9727, Val Acc: 75.76%\n",
      "------------------------------------------------------------\n"
     ]
    },
    {
     "name": "stderr",
     "output_type": "stream",
     "text": [
      "Epoch [9/150]: 100%|██████████| 18/18 [00:05<00:00,  3.13it/s, accuracy=81.2, loss=0.974]\n"
     ]
    },
    {
     "name": "stdout",
     "output_type": "stream",
     "text": [
      "Epoch 9/150\n",
      "Train Loss: 0.9736, Train Acc: 81.25%\n",
      "Val Loss: 0.9755, Val Acc: 74.75%\n",
      "------------------------------------------------------------\n"
     ]
    },
    {
     "name": "stderr",
     "output_type": "stream",
     "text": [
      "Epoch [10/150]: 100%|██████████| 18/18 [00:05<00:00,  3.12it/s, accuracy=81.6, loss=0.979]\n"
     ]
    },
    {
     "name": "stdout",
     "output_type": "stream",
     "text": [
      "Epoch 10/150\n",
      "Train Loss: 0.9794, Train Acc: 81.61%\n",
      "Val Loss: 0.9665, Val Acc: 76.77%\n",
      "------------------------------------------------------------\n"
     ]
    },
    {
     "name": "stderr",
     "output_type": "stream",
     "text": [
      "Epoch [11/150]: 100%|██████████| 18/18 [00:05<00:00,  3.12it/s, accuracy=82.5, loss=0.955]\n"
     ]
    },
    {
     "name": "stdout",
     "output_type": "stream",
     "text": [
      "Epoch 11/150\n",
      "Train Loss: 0.9549, Train Acc: 82.50%\n",
      "Val Loss: 0.9579, Val Acc: 75.76%\n",
      "------------------------------------------------------------\n"
     ]
    },
    {
     "name": "stderr",
     "output_type": "stream",
     "text": [
      "Epoch [12/150]: 100%|██████████| 18/18 [00:05<00:00,  3.17it/s, accuracy=83.2, loss=0.935]\n"
     ]
    },
    {
     "name": "stdout",
     "output_type": "stream",
     "text": [
      "Epoch 12/150\n",
      "Train Loss: 0.9354, Train Acc: 83.21%\n",
      "Val Loss: 0.9423, Val Acc: 76.77%\n",
      "------------------------------------------------------------\n"
     ]
    },
    {
     "name": "stderr",
     "output_type": "stream",
     "text": [
      "Epoch [13/150]: 100%|██████████| 18/18 [00:05<00:00,  3.20it/s, accuracy=83.9, loss=0.928]\n"
     ]
    },
    {
     "name": "stdout",
     "output_type": "stream",
     "text": [
      "Epoch 13/150\n",
      "Train Loss: 0.9276, Train Acc: 83.93%\n",
      "Val Loss: 0.9425, Val Acc: 74.75%\n",
      "------------------------------------------------------------\n"
     ]
    },
    {
     "name": "stderr",
     "output_type": "stream",
     "text": [
      "Epoch [14/150]: 100%|██████████| 18/18 [00:05<00:00,  3.15it/s, accuracy=85.4, loss=0.92] \n"
     ]
    },
    {
     "name": "stdout",
     "output_type": "stream",
     "text": [
      "Epoch 14/150\n",
      "Train Loss: 0.9196, Train Acc: 85.36%\n",
      "Val Loss: 0.9313, Val Acc: 75.76%\n",
      "------------------------------------------------------------\n"
     ]
    },
    {
     "name": "stderr",
     "output_type": "stream",
     "text": [
      "Epoch [15/150]: 100%|██████████| 18/18 [00:05<00:00,  3.18it/s, accuracy=86.2, loss=0.901]\n"
     ]
    },
    {
     "name": "stdout",
     "output_type": "stream",
     "text": [
      "Epoch 15/150\n",
      "Train Loss: 0.9012, Train Acc: 86.25%\n",
      "Val Loss: 0.9221, Val Acc: 74.75%\n",
      "------------------------------------------------------------\n"
     ]
    },
    {
     "name": "stderr",
     "output_type": "stream",
     "text": [
      "Epoch [16/150]: 100%|██████████| 18/18 [00:05<00:00,  3.19it/s, accuracy=88.2, loss=0.887]\n"
     ]
    },
    {
     "name": "stdout",
     "output_type": "stream",
     "text": [
      "Epoch 16/150\n",
      "Train Loss: 0.8868, Train Acc: 88.21%\n",
      "Val Loss: 0.9130, Val Acc: 77.78%\n",
      "------------------------------------------------------------\n"
     ]
    },
    {
     "name": "stderr",
     "output_type": "stream",
     "text": [
      "Epoch [17/150]: 100%|██████████| 18/18 [00:05<00:00,  3.20it/s, accuracy=87.1, loss=0.901]\n"
     ]
    },
    {
     "name": "stdout",
     "output_type": "stream",
     "text": [
      "Epoch 17/150\n",
      "Train Loss: 0.9008, Train Acc: 87.14%\n",
      "Val Loss: 0.9270, Val Acc: 76.77%\n",
      "------------------------------------------------------------\n"
     ]
    },
    {
     "name": "stderr",
     "output_type": "stream",
     "text": [
      "Epoch [18/150]: 100%|██████████| 18/18 [00:05<00:00,  3.20it/s, accuracy=88.8, loss=0.881]\n"
     ]
    },
    {
     "name": "stdout",
     "output_type": "stream",
     "text": [
      "Epoch 18/150\n",
      "Train Loss: 0.8811, Train Acc: 88.75%\n",
      "Val Loss: 0.9127, Val Acc: 75.76%\n",
      "------------------------------------------------------------\n"
     ]
    },
    {
     "name": "stderr",
     "output_type": "stream",
     "text": [
      "Epoch [19/150]: 100%|██████████| 18/18 [00:05<00:00,  3.19it/s, accuracy=89.8, loss=0.873]\n"
     ]
    },
    {
     "name": "stdout",
     "output_type": "stream",
     "text": [
      "Epoch 19/150\n",
      "Train Loss: 0.8731, Train Acc: 89.82%\n",
      "Val Loss: 0.9144, Val Acc: 76.77%\n",
      "------------------------------------------------------------\n"
     ]
    },
    {
     "name": "stderr",
     "output_type": "stream",
     "text": [
      "Epoch [20/150]: 100%|██████████| 18/18 [00:05<00:00,  3.20it/s, accuracy=90.7, loss=0.857]\n"
     ]
    },
    {
     "name": "stdout",
     "output_type": "stream",
     "text": [
      "Epoch 20/150\n",
      "Train Loss: 0.8565, Train Acc: 90.71%\n",
      "Val Loss: 0.9146, Val Acc: 77.78%\n",
      "------------------------------------------------------------\n"
     ]
    },
    {
     "name": "stderr",
     "output_type": "stream",
     "text": [
      "Epoch [21/150]: 100%|██████████| 18/18 [00:05<00:00,  3.20it/s, accuracy=91.8, loss=0.846]\n"
     ]
    },
    {
     "name": "stdout",
     "output_type": "stream",
     "text": [
      "Epoch 21/150\n",
      "Train Loss: 0.8458, Train Acc: 91.79%\n",
      "Val Loss: 0.9108, Val Acc: 77.78%\n",
      "------------------------------------------------------------\n"
     ]
    },
    {
     "name": "stderr",
     "output_type": "stream",
     "text": [
      "Epoch [22/150]: 100%|██████████| 18/18 [00:05<00:00,  3.20it/s, accuracy=92.3, loss=0.85] \n"
     ]
    },
    {
     "name": "stdout",
     "output_type": "stream",
     "text": [
      "Epoch 22/150\n",
      "Train Loss: 0.8496, Train Acc: 92.32%\n",
      "Val Loss: 0.9143, Val Acc: 74.75%\n",
      "------------------------------------------------------------\n"
     ]
    },
    {
     "name": "stderr",
     "output_type": "stream",
     "text": [
      "Epoch [23/150]: 100%|██████████| 18/18 [00:05<00:00,  3.20it/s, accuracy=92.9, loss=0.838]\n"
     ]
    },
    {
     "name": "stdout",
     "output_type": "stream",
     "text": [
      "Epoch 23/150\n",
      "Train Loss: 0.8384, Train Acc: 92.86%\n",
      "Val Loss: 0.9080, Val Acc: 77.78%\n",
      "------------------------------------------------------------\n"
     ]
    },
    {
     "name": "stderr",
     "output_type": "stream",
     "text": [
      "Epoch [24/150]: 100%|██████████| 18/18 [00:05<00:00,  3.19it/s, accuracy=92.5, loss=0.84] \n"
     ]
    },
    {
     "name": "stdout",
     "output_type": "stream",
     "text": [
      "Epoch 24/150\n",
      "Train Loss: 0.8395, Train Acc: 92.50%\n",
      "Val Loss: 0.8991, Val Acc: 75.76%\n",
      "------------------------------------------------------------\n"
     ]
    },
    {
     "name": "stderr",
     "output_type": "stream",
     "text": [
      "Epoch [25/150]: 100%|██████████| 18/18 [00:05<00:00,  3.15it/s, accuracy=92.5, loss=0.841]\n"
     ]
    },
    {
     "name": "stdout",
     "output_type": "stream",
     "text": [
      "Epoch 25/150\n",
      "Train Loss: 0.8412, Train Acc: 92.50%\n",
      "Val Loss: 0.9086, Val Acc: 76.77%\n",
      "------------------------------------------------------------\n"
     ]
    },
    {
     "name": "stderr",
     "output_type": "stream",
     "text": [
      "Epoch [26/150]: 100%|██████████| 18/18 [00:05<00:00,  3.19it/s, accuracy=93.8, loss=0.825]\n"
     ]
    },
    {
     "name": "stdout",
     "output_type": "stream",
     "text": [
      "Epoch 26/150\n",
      "Train Loss: 0.8245, Train Acc: 93.75%\n",
      "Val Loss: 0.8994, Val Acc: 78.79%\n",
      "------------------------------------------------------------\n"
     ]
    },
    {
     "name": "stderr",
     "output_type": "stream",
     "text": [
      "Epoch [27/150]: 100%|██████████| 18/18 [00:05<00:00,  3.20it/s, accuracy=94.5, loss=0.826]\n"
     ]
    },
    {
     "name": "stdout",
     "output_type": "stream",
     "text": [
      "Epoch 27/150\n",
      "Train Loss: 0.8261, Train Acc: 94.46%\n",
      "Val Loss: 0.8950, Val Acc: 78.79%\n",
      "------------------------------------------------------------\n"
     ]
    },
    {
     "name": "stderr",
     "output_type": "stream",
     "text": [
      "Epoch [28/150]: 100%|██████████| 18/18 [00:05<00:00,  3.19it/s, accuracy=95.2, loss=0.809]\n"
     ]
    },
    {
     "name": "stdout",
     "output_type": "stream",
     "text": [
      "Epoch 28/150\n",
      "Train Loss: 0.8093, Train Acc: 95.18%\n",
      "Val Loss: 0.8994, Val Acc: 79.80%\n",
      "------------------------------------------------------------\n"
     ]
    },
    {
     "name": "stderr",
     "output_type": "stream",
     "text": [
      "Epoch [29/150]: 100%|██████████| 18/18 [00:05<00:00,  3.11it/s, accuracy=94.6, loss=0.817]\n"
     ]
    },
    {
     "name": "stdout",
     "output_type": "stream",
     "text": [
      "Epoch 29/150\n",
      "Train Loss: 0.8166, Train Acc: 94.64%\n",
      "Val Loss: 0.9042, Val Acc: 77.78%\n",
      "------------------------------------------------------------\n"
     ]
    },
    {
     "name": "stderr",
     "output_type": "stream",
     "text": [
      "Epoch [30/150]: 100%|██████████| 18/18 [00:05<00:00,  3.10it/s, accuracy=96.2, loss=0.804]\n"
     ]
    },
    {
     "name": "stdout",
     "output_type": "stream",
     "text": [
      "Epoch 30/150\n",
      "Train Loss: 0.8036, Train Acc: 96.25%\n",
      "Val Loss: 0.8996, Val Acc: 77.78%\n",
      "------------------------------------------------------------\n"
     ]
    },
    {
     "name": "stderr",
     "output_type": "stream",
     "text": [
      "Epoch [31/150]: 100%|██████████| 18/18 [00:05<00:00,  3.14it/s, accuracy=95.9, loss=0.802]\n"
     ]
    },
    {
     "name": "stdout",
     "output_type": "stream",
     "text": [
      "Epoch 31/150\n",
      "Train Loss: 0.8020, Train Acc: 95.89%\n",
      "Val Loss: 0.9027, Val Acc: 74.75%\n",
      "------------------------------------------------------------\n"
     ]
    },
    {
     "name": "stderr",
     "output_type": "stream",
     "text": [
      "Epoch [32/150]: 100%|██████████| 18/18 [00:05<00:00,  3.19it/s, accuracy=96.4, loss=0.796]\n"
     ]
    },
    {
     "name": "stdout",
     "output_type": "stream",
     "text": [
      "80.8080808080808 0.8860406279563904\n",
      "Epoch 32/150\n",
      "Train Loss: 0.7959, Train Acc: 96.43%\n",
      "Val Loss: 0.8860, Val Acc: 80.81%\n",
      "------------------------------------------------------------\n"
     ]
    },
    {
     "name": "stderr",
     "output_type": "stream",
     "text": [
      "Epoch [33/150]: 100%|██████████| 18/18 [00:05<00:00,  3.14it/s, accuracy=96.6, loss=0.793]\n"
     ]
    },
    {
     "name": "stdout",
     "output_type": "stream",
     "text": [
      "82.82828282828282 0.8858595192432404\n",
      "Epoch 33/150\n",
      "Train Loss: 0.7930, Train Acc: 96.61%\n",
      "Val Loss: 0.8859, Val Acc: 82.83%\n",
      "------------------------------------------------------------\n"
     ]
    },
    {
     "name": "stderr",
     "output_type": "stream",
     "text": [
      "Epoch [34/150]: 100%|██████████| 18/18 [00:05<00:00,  3.15it/s, accuracy=97.7, loss=0.786]\n"
     ]
    },
    {
     "name": "stdout",
     "output_type": "stream",
     "text": [
      "Epoch 34/150\n",
      "Train Loss: 0.7861, Train Acc: 97.68%\n",
      "Val Loss: 0.8909, Val Acc: 81.82%\n",
      "------------------------------------------------------------\n"
     ]
    },
    {
     "name": "stderr",
     "output_type": "stream",
     "text": [
      "Epoch [35/150]: 100%|██████████| 18/18 [00:05<00:00,  3.10it/s, accuracy=97, loss=0.792]  \n"
     ]
    },
    {
     "name": "stdout",
     "output_type": "stream",
     "text": [
      "Epoch 35/150\n",
      "Train Loss: 0.7922, Train Acc: 96.96%\n",
      "Val Loss: 0.8952, Val Acc: 78.79%\n",
      "------------------------------------------------------------\n"
     ]
    },
    {
     "name": "stderr",
     "output_type": "stream",
     "text": [
      "Epoch [36/150]: 100%|██████████| 18/18 [00:05<00:00,  3.22it/s, accuracy=97.1, loss=0.79] \n"
     ]
    },
    {
     "name": "stdout",
     "output_type": "stream",
     "text": [
      "Epoch 36/150\n",
      "Train Loss: 0.7896, Train Acc: 97.14%\n",
      "Val Loss: 0.8898, Val Acc: 82.83%\n",
      "------------------------------------------------------------\n"
     ]
    },
    {
     "name": "stderr",
     "output_type": "stream",
     "text": [
      "Epoch [37/150]: 100%|██████████| 18/18 [00:05<00:00,  3.03it/s, accuracy=97, loss=0.781]  \n"
     ]
    },
    {
     "name": "stdout",
     "output_type": "stream",
     "text": [
      "83.83838383838383 0.8889566659927368\n",
      "Epoch 37/150\n",
      "Train Loss: 0.7811, Train Acc: 96.96%\n",
      "Val Loss: 0.8890, Val Acc: 83.84%\n",
      "------------------------------------------------------------\n"
     ]
    },
    {
     "name": "stderr",
     "output_type": "stream",
     "text": [
      "Epoch [38/150]: 100%|██████████| 18/18 [00:05<00:00,  3.01it/s, accuracy=97.5, loss=0.78] \n"
     ]
    },
    {
     "name": "stdout",
     "output_type": "stream",
     "text": [
      "Epoch 38/150\n",
      "Train Loss: 0.7796, Train Acc: 97.50%\n",
      "Val Loss: 0.8830, Val Acc: 81.82%\n",
      "------------------------------------------------------------\n"
     ]
    },
    {
     "name": "stderr",
     "output_type": "stream",
     "text": [
      "Epoch [39/150]: 100%|██████████| 18/18 [00:05<00:00,  3.06it/s, accuracy=97.9, loss=0.779]\n"
     ]
    },
    {
     "name": "stdout",
     "output_type": "stream",
     "text": [
      "Epoch 39/150\n",
      "Train Loss: 0.7789, Train Acc: 97.86%\n",
      "Val Loss: 0.8948, Val Acc: 78.79%\n",
      "------------------------------------------------------------\n"
     ]
    },
    {
     "name": "stderr",
     "output_type": "stream",
     "text": [
      "Epoch [40/150]: 100%|██████████| 18/18 [00:05<00:00,  3.13it/s, accuracy=97.9, loss=0.779]\n"
     ]
    },
    {
     "name": "stdout",
     "output_type": "stream",
     "text": [
      "Epoch 40/150\n",
      "Train Loss: 0.7792, Train Acc: 97.86%\n",
      "Val Loss: 0.8878, Val Acc: 81.82%\n",
      "------------------------------------------------------------\n"
     ]
    },
    {
     "name": "stderr",
     "output_type": "stream",
     "text": [
      "Epoch [41/150]: 100%|██████████| 18/18 [00:05<00:00,  3.14it/s, accuracy=97.9, loss=0.772]\n"
     ]
    },
    {
     "name": "stdout",
     "output_type": "stream",
     "text": [
      "Epoch 41/150\n",
      "Train Loss: 0.7725, Train Acc: 97.86%\n",
      "Val Loss: 0.8801, Val Acc: 82.83%\n",
      "------------------------------------------------------------\n"
     ]
    },
    {
     "name": "stderr",
     "output_type": "stream",
     "text": [
      "Epoch [42/150]: 100%|██████████| 18/18 [00:06<00:00,  2.98it/s, accuracy=98.4, loss=0.768]\n"
     ]
    },
    {
     "name": "stdout",
     "output_type": "stream",
     "text": [
      "Epoch 42/150\n",
      "Train Loss: 0.7681, Train Acc: 98.39%\n",
      "Val Loss: 0.8689, Val Acc: 83.84%\n",
      "------------------------------------------------------------\n"
     ]
    },
    {
     "name": "stderr",
     "output_type": "stream",
     "text": [
      "Epoch [43/150]: 100%|██████████| 18/18 [00:05<00:00,  3.12it/s, accuracy=98, loss=0.778]  \n"
     ]
    },
    {
     "name": "stdout",
     "output_type": "stream",
     "text": [
      "Epoch 43/150\n",
      "Train Loss: 0.7776, Train Acc: 98.04%\n",
      "Val Loss: 0.8734, Val Acc: 81.82%\n",
      "------------------------------------------------------------\n"
     ]
    },
    {
     "name": "stderr",
     "output_type": "stream",
     "text": [
      "Epoch [44/150]: 100%|██████████| 18/18 [00:05<00:00,  3.11it/s, accuracy=98.4, loss=0.774]\n"
     ]
    },
    {
     "name": "stdout",
     "output_type": "stream",
     "text": [
      "Epoch 44/150\n",
      "Train Loss: 0.7741, Train Acc: 98.39%\n",
      "Val Loss: 0.8803, Val Acc: 82.83%\n",
      "------------------------------------------------------------\n"
     ]
    },
    {
     "name": "stderr",
     "output_type": "stream",
     "text": [
      "Epoch [45/150]: 100%|██████████| 18/18 [00:05<00:00,  3.12it/s, accuracy=98.2, loss=0.769]\n"
     ]
    },
    {
     "name": "stdout",
     "output_type": "stream",
     "text": [
      "84.84848484848484 0.8707080781459808\n",
      "Epoch 45/150\n",
      "Train Loss: 0.7693, Train Acc: 98.21%\n",
      "Val Loss: 0.8707, Val Acc: 84.85%\n",
      "------------------------------------------------------------\n"
     ]
    },
    {
     "name": "stderr",
     "output_type": "stream",
     "text": [
      "Epoch [46/150]: 100%|██████████| 18/18 [00:05<00:00,  3.06it/s, accuracy=98.8, loss=0.772]\n"
     ]
    },
    {
     "name": "stdout",
     "output_type": "stream",
     "text": [
      "Epoch 46/150\n",
      "Train Loss: 0.7725, Train Acc: 98.75%\n",
      "Val Loss: 0.8821, Val Acc: 82.83%\n",
      "------------------------------------------------------------\n"
     ]
    },
    {
     "name": "stderr",
     "output_type": "stream",
     "text": [
      "Epoch [47/150]: 100%|██████████| 18/18 [00:05<00:00,  3.13it/s, accuracy=98.6, loss=0.773]\n"
     ]
    },
    {
     "name": "stdout",
     "output_type": "stream",
     "text": [
      "Epoch 47/150\n",
      "Train Loss: 0.7726, Train Acc: 98.57%\n",
      "Val Loss: 0.8716, Val Acc: 81.82%\n",
      "------------------------------------------------------------\n"
     ]
    },
    {
     "name": "stderr",
     "output_type": "stream",
     "text": [
      "Epoch [48/150]: 100%|██████████| 18/18 [00:05<00:00,  3.15it/s, accuracy=99.3, loss=0.767]\n"
     ]
    },
    {
     "name": "stdout",
     "output_type": "stream",
     "text": [
      "Epoch 48/150\n",
      "Train Loss: 0.7674, Train Acc: 99.29%\n",
      "Val Loss: 0.8762, Val Acc: 80.81%\n",
      "------------------------------------------------------------\n"
     ]
    },
    {
     "name": "stderr",
     "output_type": "stream",
     "text": [
      "Epoch [49/150]: 100%|██████████| 18/18 [00:05<00:00,  3.19it/s, accuracy=99.1, loss=0.763]\n"
     ]
    },
    {
     "name": "stdout",
     "output_type": "stream",
     "text": [
      "Epoch 49/150\n",
      "Train Loss: 0.7626, Train Acc: 99.11%\n",
      "Val Loss: 0.8684, Val Acc: 82.83%\n",
      "------------------------------------------------------------\n"
     ]
    },
    {
     "name": "stderr",
     "output_type": "stream",
     "text": [
      "Epoch [50/150]: 100%|██████████| 18/18 [00:05<00:00,  3.19it/s, accuracy=99.1, loss=0.762]\n"
     ]
    },
    {
     "name": "stdout",
     "output_type": "stream",
     "text": [
      "Epoch 50/150\n",
      "Train Loss: 0.7620, Train Acc: 99.11%\n",
      "Val Loss: 0.8742, Val Acc: 83.84%\n",
      "------------------------------------------------------------\n"
     ]
    },
    {
     "name": "stderr",
     "output_type": "stream",
     "text": [
      "Epoch [51/150]: 100%|██████████| 18/18 [00:05<00:00,  3.17it/s, accuracy=98.4, loss=0.768]\n"
     ]
    },
    {
     "name": "stdout",
     "output_type": "stream",
     "text": [
      "Epoch 51/150\n",
      "Train Loss: 0.7684, Train Acc: 98.39%\n",
      "Val Loss: 0.8818, Val Acc: 82.83%\n",
      "------------------------------------------------------------\n"
     ]
    },
    {
     "name": "stderr",
     "output_type": "stream",
     "text": [
      "Epoch [52/150]: 100%|██████████| 18/18 [00:05<00:00,  3.20it/s, accuracy=99.1, loss=0.76] \n"
     ]
    },
    {
     "name": "stdout",
     "output_type": "stream",
     "text": [
      "Epoch 52/150\n",
      "Train Loss: 0.7603, Train Acc: 99.11%\n",
      "Val Loss: 0.8637, Val Acc: 83.84%\n",
      "------------------------------------------------------------\n"
     ]
    },
    {
     "name": "stderr",
     "output_type": "stream",
     "text": [
      "Epoch [53/150]: 100%|██████████| 18/18 [00:05<00:00,  3.05it/s, accuracy=99.5, loss=0.758]\n"
     ]
    },
    {
     "name": "stdout",
     "output_type": "stream",
     "text": [
      "Epoch 53/150\n",
      "Train Loss: 0.7576, Train Acc: 99.46%\n",
      "Val Loss: 0.8610, Val Acc: 83.84%\n",
      "------------------------------------------------------------\n"
     ]
    },
    {
     "name": "stderr",
     "output_type": "stream",
     "text": [
      "Epoch [54/150]: 100%|██████████| 18/18 [00:05<00:00,  3.23it/s, accuracy=99.1, loss=0.76] \n"
     ]
    },
    {
     "name": "stdout",
     "output_type": "stream",
     "text": [
      "Epoch 54/150\n",
      "Train Loss: 0.7600, Train Acc: 99.11%\n",
      "Val Loss: 0.8709, Val Acc: 83.84%\n",
      "------------------------------------------------------------\n"
     ]
    },
    {
     "name": "stderr",
     "output_type": "stream",
     "text": [
      "Epoch [55/150]: 100%|██████████| 18/18 [00:05<00:00,  3.20it/s, accuracy=99.5, loss=0.759]\n"
     ]
    },
    {
     "name": "stdout",
     "output_type": "stream",
     "text": [
      "85.85858585858585 0.873992308974266\n",
      "Epoch 55/150\n",
      "Train Loss: 0.7594, Train Acc: 99.46%\n",
      "Val Loss: 0.8740, Val Acc: 85.86%\n",
      "------------------------------------------------------------\n"
     ]
    },
    {
     "name": "stderr",
     "output_type": "stream",
     "text": [
      "Epoch [56/150]: 100%|██████████| 18/18 [00:05<00:00,  3.14it/s, accuracy=99.1, loss=0.761]\n"
     ]
    },
    {
     "name": "stdout",
     "output_type": "stream",
     "text": [
      "Epoch 56/150\n",
      "Train Loss: 0.7613, Train Acc: 99.11%\n",
      "Val Loss: 0.8669, Val Acc: 83.84%\n",
      "------------------------------------------------------------\n"
     ]
    },
    {
     "name": "stderr",
     "output_type": "stream",
     "text": [
      "Epoch [57/150]: 100%|██████████| 18/18 [00:05<00:00,  3.20it/s, accuracy=99.6, loss=0.763]\n"
     ]
    },
    {
     "name": "stdout",
     "output_type": "stream",
     "text": [
      "Epoch 57/150\n",
      "Train Loss: 0.7631, Train Acc: 99.64%\n",
      "Val Loss: 0.8721, Val Acc: 84.85%\n",
      "------------------------------------------------------------\n"
     ]
    },
    {
     "name": "stderr",
     "output_type": "stream",
     "text": [
      "Epoch [58/150]: 100%|██████████| 18/18 [00:05<00:00,  3.19it/s, accuracy=99.1, loss=0.759]\n"
     ]
    },
    {
     "name": "stdout",
     "output_type": "stream",
     "text": [
      "Epoch 58/150\n",
      "Train Loss: 0.7592, Train Acc: 99.11%\n",
      "Val Loss: 0.8882, Val Acc: 80.81%\n",
      "------------------------------------------------------------\n"
     ]
    },
    {
     "name": "stderr",
     "output_type": "stream",
     "text": [
      "Epoch [59/150]: 100%|██████████| 18/18 [00:05<00:00,  3.21it/s, accuracy=98.9, loss=0.759]\n"
     ]
    },
    {
     "name": "stdout",
     "output_type": "stream",
     "text": [
      "Epoch 59/150\n",
      "Train Loss: 0.7592, Train Acc: 98.93%\n",
      "Val Loss: 0.8713, Val Acc: 82.83%\n",
      "------------------------------------------------------------\n"
     ]
    },
    {
     "name": "stderr",
     "output_type": "stream",
     "text": [
      "Epoch [60/150]: 100%|██████████| 18/18 [00:05<00:00,  3.20it/s, accuracy=98.8, loss=0.764]\n"
     ]
    },
    {
     "name": "stdout",
     "output_type": "stream",
     "text": [
      "Epoch 60/150\n",
      "Train Loss: 0.7642, Train Acc: 98.75%\n",
      "Val Loss: 0.8779, Val Acc: 81.82%\n",
      "------------------------------------------------------------\n"
     ]
    },
    {
     "name": "stderr",
     "output_type": "stream",
     "text": [
      "Epoch [61/150]: 100%|██████████| 18/18 [00:05<00:00,  3.17it/s, accuracy=99.1, loss=0.762]\n"
     ]
    },
    {
     "name": "stdout",
     "output_type": "stream",
     "text": [
      "Epoch 61/150\n",
      "Train Loss: 0.7616, Train Acc: 99.11%\n",
      "Val Loss: 0.8884, Val Acc: 80.81%\n",
      "------------------------------------------------------------\n"
     ]
    },
    {
     "name": "stderr",
     "output_type": "stream",
     "text": [
      "Epoch [62/150]: 100%|██████████| 18/18 [00:05<00:00,  3.20it/s, accuracy=98.6, loss=0.763]\n"
     ]
    },
    {
     "name": "stdout",
     "output_type": "stream",
     "text": [
      "Epoch 62/150\n",
      "Train Loss: 0.7631, Train Acc: 98.57%\n",
      "Val Loss: 0.8873, Val Acc: 78.79%\n",
      "------------------------------------------------------------\n"
     ]
    },
    {
     "name": "stderr",
     "output_type": "stream",
     "text": [
      "Epoch [63/150]: 100%|██████████| 18/18 [00:05<00:00,  3.13it/s, accuracy=99.3, loss=0.758]\n"
     ]
    },
    {
     "name": "stdout",
     "output_type": "stream",
     "text": [
      "Epoch 63/150\n",
      "Train Loss: 0.7577, Train Acc: 99.29%\n",
      "Val Loss: 0.8800, Val Acc: 82.83%\n",
      "------------------------------------------------------------\n"
     ]
    },
    {
     "name": "stderr",
     "output_type": "stream",
     "text": [
      "Epoch [64/150]: 100%|██████████| 18/18 [00:05<00:00,  3.20it/s, accuracy=99.6, loss=0.762]\n"
     ]
    },
    {
     "name": "stdout",
     "output_type": "stream",
     "text": [
      "Epoch 64/150\n",
      "Train Loss: 0.7615, Train Acc: 99.64%\n",
      "Val Loss: 0.8805, Val Acc: 79.80%\n",
      "------------------------------------------------------------\n"
     ]
    },
    {
     "name": "stderr",
     "output_type": "stream",
     "text": [
      "Epoch [65/150]: 100%|██████████| 18/18 [00:05<00:00,  3.17it/s, accuracy=98.9, loss=0.755]\n"
     ]
    },
    {
     "name": "stdout",
     "output_type": "stream",
     "text": [
      "Epoch 65/150\n",
      "Train Loss: 0.7554, Train Acc: 98.93%\n",
      "Val Loss: 0.8748, Val Acc: 82.83%\n",
      "------------------------------------------------------------\n"
     ]
    },
    {
     "name": "stderr",
     "output_type": "stream",
     "text": [
      "Epoch [66/150]: 100%|██████████| 18/18 [00:05<00:00,  3.12it/s, accuracy=99.5, loss=0.754]\n"
     ]
    },
    {
     "name": "stdout",
     "output_type": "stream",
     "text": [
      "Epoch 66/150\n",
      "Train Loss: 0.7542, Train Acc: 99.46%\n",
      "Val Loss: 0.8884, Val Acc: 79.80%\n",
      "------------------------------------------------------------\n"
     ]
    },
    {
     "name": "stderr",
     "output_type": "stream",
     "text": [
      "Epoch [67/150]: 100%|██████████| 18/18 [00:05<00:00,  3.12it/s, accuracy=99.1, loss=0.755]\n"
     ]
    },
    {
     "name": "stdout",
     "output_type": "stream",
     "text": [
      "86.86868686868686 0.8651831150054932\n",
      "Epoch 67/150\n",
      "Train Loss: 0.7554, Train Acc: 99.11%\n",
      "Val Loss: 0.8652, Val Acc: 86.87%\n",
      "------------------------------------------------------------\n"
     ]
    },
    {
     "name": "stderr",
     "output_type": "stream",
     "text": [
      "Epoch [68/150]: 100%|██████████| 18/18 [00:05<00:00,  3.14it/s, accuracy=99.5, loss=0.756]\n"
     ]
    },
    {
     "name": "stdout",
     "output_type": "stream",
     "text": [
      "Epoch 68/150\n",
      "Train Loss: 0.7557, Train Acc: 99.46%\n",
      "Val Loss: 0.8754, Val Acc: 82.83%\n",
      "------------------------------------------------------------\n"
     ]
    },
    {
     "name": "stderr",
     "output_type": "stream",
     "text": [
      "Epoch [69/150]: 100%|██████████| 18/18 [00:05<00:00,  3.20it/s, accuracy=99.1, loss=0.755]\n"
     ]
    },
    {
     "name": "stdout",
     "output_type": "stream",
     "text": [
      "Epoch 69/150\n",
      "Train Loss: 0.7549, Train Acc: 99.11%\n",
      "Val Loss: 0.8777, Val Acc: 81.82%\n",
      "------------------------------------------------------------\n"
     ]
    },
    {
     "name": "stderr",
     "output_type": "stream",
     "text": [
      "Epoch [70/150]: 100%|██████████| 18/18 [00:05<00:00,  3.20it/s, accuracy=99.5, loss=0.756]\n"
     ]
    },
    {
     "name": "stdout",
     "output_type": "stream",
     "text": [
      "Epoch 70/150\n",
      "Train Loss: 0.7559, Train Acc: 99.46%\n",
      "Val Loss: 0.8705, Val Acc: 83.84%\n",
      "------------------------------------------------------------\n"
     ]
    },
    {
     "name": "stderr",
     "output_type": "stream",
     "text": [
      "Epoch [71/150]: 100%|██████████| 18/18 [00:05<00:00,  3.15it/s, accuracy=99.1, loss=0.762]\n"
     ]
    },
    {
     "name": "stdout",
     "output_type": "stream",
     "text": [
      "Epoch 71/150\n",
      "Train Loss: 0.7617, Train Acc: 99.11%\n",
      "Val Loss: 0.8707, Val Acc: 82.83%\n",
      "------------------------------------------------------------\n"
     ]
    },
    {
     "name": "stderr",
     "output_type": "stream",
     "text": [
      "Epoch [72/150]: 100%|██████████| 18/18 [00:05<00:00,  3.19it/s, accuracy=99.3, loss=0.755]\n"
     ]
    },
    {
     "name": "stdout",
     "output_type": "stream",
     "text": [
      "Epoch 72/150\n",
      "Train Loss: 0.7545, Train Acc: 99.29%\n",
      "Val Loss: 0.8740, Val Acc: 83.84%\n",
      "------------------------------------------------------------\n"
     ]
    },
    {
     "name": "stderr",
     "output_type": "stream",
     "text": [
      "Epoch [73/150]: 100%|██████████| 18/18 [00:05<00:00,  3.16it/s, accuracy=99.5, loss=0.752]\n"
     ]
    },
    {
     "name": "stdout",
     "output_type": "stream",
     "text": [
      "Epoch 73/150\n",
      "Train Loss: 0.7523, Train Acc: 99.46%\n",
      "Val Loss: 0.8814, Val Acc: 79.80%\n",
      "------------------------------------------------------------\n"
     ]
    },
    {
     "name": "stderr",
     "output_type": "stream",
     "text": [
      "Epoch [74/150]: 100%|██████████| 18/18 [00:05<00:00,  3.17it/s, accuracy=99.1, loss=0.754]\n"
     ]
    },
    {
     "name": "stdout",
     "output_type": "stream",
     "text": [
      "Epoch 74/150\n",
      "Train Loss: 0.7537, Train Acc: 99.11%\n",
      "Val Loss: 0.8776, Val Acc: 81.82%\n",
      "------------------------------------------------------------\n"
     ]
    },
    {
     "name": "stderr",
     "output_type": "stream",
     "text": [
      "Epoch [75/150]: 100%|██████████| 18/18 [00:05<00:00,  3.16it/s, accuracy=99.5, loss=0.752]\n"
     ]
    },
    {
     "name": "stdout",
     "output_type": "stream",
     "text": [
      "Epoch 75/150\n",
      "Train Loss: 0.7521, Train Acc: 99.46%\n",
      "Val Loss: 0.8797, Val Acc: 81.82%\n",
      "------------------------------------------------------------\n"
     ]
    },
    {
     "name": "stderr",
     "output_type": "stream",
     "text": [
      "Epoch [76/150]: 100%|██████████| 18/18 [00:05<00:00,  3.13it/s, accuracy=99.1, loss=0.76] \n"
     ]
    },
    {
     "name": "stdout",
     "output_type": "stream",
     "text": [
      "Epoch 76/150\n",
      "Train Loss: 0.7596, Train Acc: 99.11%\n",
      "Val Loss: 0.8649, Val Acc: 84.85%\n",
      "------------------------------------------------------------\n"
     ]
    },
    {
     "name": "stderr",
     "output_type": "stream",
     "text": [
      "Epoch [77/150]: 100%|██████████| 18/18 [00:05<00:00,  3.14it/s, accuracy=99.6, loss=0.754]\n"
     ]
    },
    {
     "name": "stdout",
     "output_type": "stream",
     "text": [
      "Epoch 77/150\n",
      "Train Loss: 0.7538, Train Acc: 99.64%\n",
      "Val Loss: 0.8589, Val Acc: 84.85%\n",
      "------------------------------------------------------------\n"
     ]
    },
    {
     "name": "stderr",
     "output_type": "stream",
     "text": [
      "Epoch [78/150]: 100%|██████████| 18/18 [00:05<00:00,  3.22it/s, accuracy=99.5, loss=0.752]\n"
     ]
    },
    {
     "name": "stdout",
     "output_type": "stream",
     "text": [
      "Epoch 78/150\n",
      "Train Loss: 0.7519, Train Acc: 99.46%\n",
      "Val Loss: 0.8681, Val Acc: 83.84%\n",
      "------------------------------------------------------------\n"
     ]
    },
    {
     "name": "stderr",
     "output_type": "stream",
     "text": [
      "Epoch [79/150]: 100%|██████████| 18/18 [00:05<00:00,  3.14it/s, accuracy=99.8, loss=0.753]\n"
     ]
    },
    {
     "name": "stdout",
     "output_type": "stream",
     "text": [
      "Epoch 79/150\n",
      "Train Loss: 0.7527, Train Acc: 99.82%\n",
      "Val Loss: 0.8788, Val Acc: 82.83%\n",
      "------------------------------------------------------------\n"
     ]
    },
    {
     "name": "stderr",
     "output_type": "stream",
     "text": [
      "Epoch [80/150]: 100%|██████████| 18/18 [00:06<00:00,  2.98it/s, accuracy=99.6, loss=0.752]\n"
     ]
    },
    {
     "name": "stdout",
     "output_type": "stream",
     "text": [
      "Epoch 80/150\n",
      "Train Loss: 0.7522, Train Acc: 99.64%\n",
      "Val Loss: 0.8787, Val Acc: 81.82%\n",
      "------------------------------------------------------------\n"
     ]
    },
    {
     "name": "stderr",
     "output_type": "stream",
     "text": [
      "Epoch [81/150]: 100%|██████████| 18/18 [00:05<00:00,  3.13it/s, accuracy=99.5, loss=0.754]\n"
     ]
    },
    {
     "name": "stdout",
     "output_type": "stream",
     "text": [
      "Epoch 81/150\n",
      "Train Loss: 0.7537, Train Acc: 99.46%\n",
      "Val Loss: 0.8765, Val Acc: 81.82%\n",
      "------------------------------------------------------------\n"
     ]
    },
    {
     "name": "stderr",
     "output_type": "stream",
     "text": [
      "Epoch [82/150]: 100%|██████████| 18/18 [00:05<00:00,  3.10it/s, accuracy=99.6, loss=0.753]\n"
     ]
    },
    {
     "name": "stdout",
     "output_type": "stream",
     "text": [
      "Epoch 82/150\n",
      "Train Loss: 0.7526, Train Acc: 99.64%\n",
      "Val Loss: 0.8753, Val Acc: 84.85%\n",
      "------------------------------------------------------------\n"
     ]
    },
    {
     "name": "stderr",
     "output_type": "stream",
     "text": [
      "Epoch [83/150]: 100%|██████████| 18/18 [00:05<00:00,  3.13it/s, accuracy=99.6, loss=0.752]\n"
     ]
    },
    {
     "name": "stdout",
     "output_type": "stream",
     "text": [
      "Epoch 83/150\n",
      "Train Loss: 0.7524, Train Acc: 99.64%\n",
      "Val Loss: 0.8826, Val Acc: 81.82%\n",
      "------------------------------------------------------------\n"
     ]
    },
    {
     "name": "stderr",
     "output_type": "stream",
     "text": [
      "Epoch [84/150]: 100%|██████████| 18/18 [00:05<00:00,  3.14it/s, accuracy=99.6, loss=0.751]\n"
     ]
    },
    {
     "name": "stdout",
     "output_type": "stream",
     "text": [
      "Epoch 84/150\n",
      "Train Loss: 0.7509, Train Acc: 99.64%\n",
      "Val Loss: 0.8793, Val Acc: 81.82%\n",
      "------------------------------------------------------------\n"
     ]
    },
    {
     "name": "stderr",
     "output_type": "stream",
     "text": [
      "Epoch [85/150]: 100%|██████████| 18/18 [00:05<00:00,  3.12it/s, accuracy=99.3, loss=0.753]\n"
     ]
    },
    {
     "name": "stdout",
     "output_type": "stream",
     "text": [
      "Epoch 85/150\n",
      "Train Loss: 0.7529, Train Acc: 99.29%\n",
      "Val Loss: 0.8944, Val Acc: 78.79%\n",
      "------------------------------------------------------------\n"
     ]
    },
    {
     "name": "stderr",
     "output_type": "stream",
     "text": [
      "Epoch [86/150]: 100%|██████████| 18/18 [00:05<00:00,  3.22it/s, accuracy=99.5, loss=0.754]\n"
     ]
    },
    {
     "name": "stdout",
     "output_type": "stream",
     "text": [
      "Epoch 86/150\n",
      "Train Loss: 0.7537, Train Acc: 99.46%\n",
      "Val Loss: 0.8820, Val Acc: 80.81%\n",
      "------------------------------------------------------------\n"
     ]
    },
    {
     "name": "stderr",
     "output_type": "stream",
     "text": [
      "Epoch [87/150]: 100%|██████████| 18/18 [00:05<00:00,  3.12it/s, accuracy=99.6, loss=0.759]\n"
     ]
    },
    {
     "name": "stdout",
     "output_type": "stream",
     "text": [
      "Epoch 87/150\n",
      "Train Loss: 0.7586, Train Acc: 99.64%\n",
      "Val Loss: 0.8873, Val Acc: 78.79%\n",
      "------------------------------------------------------------\n"
     ]
    },
    {
     "name": "stderr",
     "output_type": "stream",
     "text": [
      "Epoch [88/150]: 100%|██████████| 18/18 [00:05<00:00,  3.17it/s, accuracy=99.5, loss=0.753]\n"
     ]
    },
    {
     "name": "stdout",
     "output_type": "stream",
     "text": [
      "Epoch 88/150\n",
      "Train Loss: 0.7535, Train Acc: 99.46%\n",
      "Val Loss: 0.8619, Val Acc: 84.85%\n",
      "------------------------------------------------------------\n"
     ]
    },
    {
     "name": "stderr",
     "output_type": "stream",
     "text": [
      "Epoch [89/150]: 100%|██████████| 18/18 [00:05<00:00,  3.23it/s, accuracy=99.8, loss=0.752]\n"
     ]
    },
    {
     "name": "stdout",
     "output_type": "stream",
     "text": [
      "Epoch 89/150\n",
      "Train Loss: 0.7522, Train Acc: 99.82%\n",
      "Val Loss: 0.8679, Val Acc: 81.82%\n",
      "------------------------------------------------------------\n"
     ]
    },
    {
     "name": "stderr",
     "output_type": "stream",
     "text": [
      "Epoch [90/150]: 100%|██████████| 18/18 [00:05<00:00,  3.19it/s, accuracy=99.3, loss=0.754]\n"
     ]
    },
    {
     "name": "stdout",
     "output_type": "stream",
     "text": [
      "Epoch 90/150\n",
      "Train Loss: 0.7541, Train Acc: 99.29%\n",
      "Val Loss: 0.8727, Val Acc: 83.84%\n",
      "------------------------------------------------------------\n"
     ]
    },
    {
     "name": "stderr",
     "output_type": "stream",
     "text": [
      "Epoch [91/150]: 100%|██████████| 18/18 [00:05<00:00,  3.22it/s, accuracy=99.8, loss=0.75] \n"
     ]
    },
    {
     "name": "stdout",
     "output_type": "stream",
     "text": [
      "Epoch 91/150\n",
      "Train Loss: 0.7503, Train Acc: 99.82%\n",
      "Val Loss: 0.8691, Val Acc: 83.84%\n",
      "------------------------------------------------------------\n"
     ]
    },
    {
     "name": "stderr",
     "output_type": "stream",
     "text": [
      "Epoch [92/150]: 100%|██████████| 18/18 [00:05<00:00,  3.11it/s, accuracy=99.8, loss=0.751]\n"
     ]
    },
    {
     "name": "stdout",
     "output_type": "stream",
     "text": [
      "Epoch 92/150\n",
      "Train Loss: 0.7507, Train Acc: 99.82%\n",
      "Val Loss: 0.8802, Val Acc: 80.81%\n",
      "------------------------------------------------------------\n"
     ]
    },
    {
     "name": "stderr",
     "output_type": "stream",
     "text": [
      "Epoch [93/150]: 100%|██████████| 18/18 [00:05<00:00,  3.17it/s, accuracy=99.6, loss=0.751]\n"
     ]
    },
    {
     "name": "stdout",
     "output_type": "stream",
     "text": [
      "Epoch 93/150\n",
      "Train Loss: 0.7511, Train Acc: 99.64%\n",
      "Val Loss: 0.8730, Val Acc: 82.83%\n",
      "------------------------------------------------------------\n"
     ]
    },
    {
     "name": "stderr",
     "output_type": "stream",
     "text": [
      "Epoch [94/150]: 100%|██████████| 18/18 [00:05<00:00,  3.16it/s, accuracy=99.5, loss=0.752]\n"
     ]
    },
    {
     "name": "stdout",
     "output_type": "stream",
     "text": [
      "Epoch 94/150\n",
      "Train Loss: 0.7517, Train Acc: 99.46%\n",
      "Val Loss: 0.8725, Val Acc: 83.84%\n",
      "------------------------------------------------------------\n"
     ]
    },
    {
     "name": "stderr",
     "output_type": "stream",
     "text": [
      "Epoch [95/150]: 100%|██████████| 18/18 [00:05<00:00,  3.21it/s, accuracy=99.8, loss=0.751]\n"
     ]
    },
    {
     "name": "stdout",
     "output_type": "stream",
     "text": [
      "Epoch 95/150\n",
      "Train Loss: 0.7513, Train Acc: 99.82%\n",
      "Val Loss: 0.8752, Val Acc: 81.82%\n",
      "------------------------------------------------------------\n"
     ]
    },
    {
     "name": "stderr",
     "output_type": "stream",
     "text": [
      "Epoch [96/150]: 100%|██████████| 18/18 [00:05<00:00,  3.10it/s, accuracy=99.6, loss=0.75] \n"
     ]
    },
    {
     "name": "stdout",
     "output_type": "stream",
     "text": [
      "Epoch 96/150\n",
      "Train Loss: 0.7501, Train Acc: 99.64%\n",
      "Val Loss: 0.8777, Val Acc: 81.82%\n",
      "------------------------------------------------------------\n"
     ]
    },
    {
     "name": "stderr",
     "output_type": "stream",
     "text": [
      "Epoch [97/150]: 100%|██████████| 18/18 [00:05<00:00,  3.17it/s, accuracy=99.8, loss=0.748]\n"
     ]
    },
    {
     "name": "stdout",
     "output_type": "stream",
     "text": [
      "Epoch 97/150\n",
      "Train Loss: 0.7483, Train Acc: 99.82%\n",
      "Val Loss: 0.8854, Val Acc: 80.81%\n",
      "------------------------------------------------------------\n"
     ]
    },
    {
     "name": "stderr",
     "output_type": "stream",
     "text": [
      "Epoch [98/150]: 100%|██████████| 18/18 [00:05<00:00,  3.13it/s, accuracy=99.8, loss=0.749]\n"
     ]
    },
    {
     "name": "stdout",
     "output_type": "stream",
     "text": [
      "Epoch 98/150\n",
      "Train Loss: 0.7493, Train Acc: 99.82%\n",
      "Val Loss: 0.8692, Val Acc: 83.84%\n",
      "------------------------------------------------------------\n"
     ]
    },
    {
     "name": "stderr",
     "output_type": "stream",
     "text": [
      "Epoch [99/150]: 100%|██████████| 18/18 [00:05<00:00,  3.17it/s, accuracy=99.8, loss=0.747]\n"
     ]
    },
    {
     "name": "stdout",
     "output_type": "stream",
     "text": [
      "Epoch 99/150\n",
      "Train Loss: 0.7470, Train Acc: 99.82%\n",
      "Val Loss: 0.8626, Val Acc: 84.85%\n",
      "------------------------------------------------------------\n"
     ]
    },
    {
     "name": "stderr",
     "output_type": "stream",
     "text": [
      "Epoch [100/150]: 100%|██████████| 18/18 [00:05<00:00,  3.17it/s, accuracy=99.8, loss=0.748]\n"
     ]
    },
    {
     "name": "stdout",
     "output_type": "stream",
     "text": [
      "Epoch 100/150\n",
      "Train Loss: 0.7484, Train Acc: 99.82%\n",
      "Val Loss: 0.8723, Val Acc: 81.82%\n",
      "------------------------------------------------------------\n"
     ]
    },
    {
     "name": "stderr",
     "output_type": "stream",
     "text": [
      "Epoch [101/150]: 100%|██████████| 18/18 [00:05<00:00,  3.20it/s, accuracy=99.3, loss=0.752]\n"
     ]
    },
    {
     "name": "stdout",
     "output_type": "stream",
     "text": [
      "Epoch 101/150\n",
      "Train Loss: 0.7520, Train Acc: 99.29%\n",
      "Val Loss: 0.8723, Val Acc: 83.84%\n",
      "------------------------------------------------------------\n"
     ]
    },
    {
     "name": "stderr",
     "output_type": "stream",
     "text": [
      "Epoch [102/150]: 100%|██████████| 18/18 [00:05<00:00,  3.18it/s, accuracy=99.6, loss=0.75] \n"
     ]
    },
    {
     "name": "stdout",
     "output_type": "stream",
     "text": [
      "Epoch 102/150\n",
      "Train Loss: 0.7499, Train Acc: 99.64%\n",
      "Val Loss: 0.8697, Val Acc: 81.82%\n",
      "------------------------------------------------------------\n"
     ]
    },
    {
     "name": "stderr",
     "output_type": "stream",
     "text": [
      "Epoch [103/150]: 100%|██████████| 18/18 [00:05<00:00,  3.09it/s, accuracy=99.8, loss=0.749]\n"
     ]
    },
    {
     "name": "stdout",
     "output_type": "stream",
     "text": [
      "Epoch 103/150\n",
      "Train Loss: 0.7492, Train Acc: 99.82%\n",
      "Val Loss: 0.8890, Val Acc: 78.79%\n",
      "------------------------------------------------------------\n"
     ]
    },
    {
     "name": "stderr",
     "output_type": "stream",
     "text": [
      "Epoch [104/150]: 100%|██████████| 18/18 [00:05<00:00,  3.16it/s, accuracy=99.8, loss=0.749]\n"
     ]
    },
    {
     "name": "stdout",
     "output_type": "stream",
     "text": [
      "Epoch 104/150\n",
      "Train Loss: 0.7493, Train Acc: 99.82%\n",
      "Val Loss: 0.8864, Val Acc: 79.80%\n",
      "------------------------------------------------------------\n"
     ]
    },
    {
     "name": "stderr",
     "output_type": "stream",
     "text": [
      "Epoch [105/150]: 100%|██████████| 18/18 [00:05<00:00,  3.15it/s, accuracy=99.8, loss=0.748]\n"
     ]
    },
    {
     "name": "stdout",
     "output_type": "stream",
     "text": [
      "Epoch 105/150\n",
      "Train Loss: 0.7479, Train Acc: 99.82%\n",
      "Val Loss: 0.8808, Val Acc: 81.82%\n",
      "------------------------------------------------------------\n"
     ]
    },
    {
     "name": "stderr",
     "output_type": "stream",
     "text": [
      "Epoch [106/150]: 100%|██████████| 18/18 [00:05<00:00,  3.18it/s, accuracy=99.8, loss=0.749]\n"
     ]
    },
    {
     "name": "stdout",
     "output_type": "stream",
     "text": [
      "Epoch 106/150\n",
      "Train Loss: 0.7494, Train Acc: 99.82%\n",
      "Val Loss: 0.8745, Val Acc: 82.83%\n",
      "------------------------------------------------------------\n"
     ]
    },
    {
     "name": "stderr",
     "output_type": "stream",
     "text": [
      "Epoch [107/150]: 100%|██████████| 18/18 [00:05<00:00,  3.19it/s, accuracy=99.6, loss=0.749]\n"
     ]
    },
    {
     "name": "stdout",
     "output_type": "stream",
     "text": [
      "Epoch 107/150\n",
      "Train Loss: 0.7487, Train Acc: 99.64%\n",
      "Val Loss: 0.8837, Val Acc: 80.81%\n",
      "------------------------------------------------------------\n"
     ]
    },
    {
     "name": "stderr",
     "output_type": "stream",
     "text": [
      "Epoch [108/150]: 100%|██████████| 18/18 [00:05<00:00,  3.17it/s, accuracy=99.8, loss=0.748]\n"
     ]
    },
    {
     "name": "stdout",
     "output_type": "stream",
     "text": [
      "Epoch 108/150\n",
      "Train Loss: 0.7475, Train Acc: 99.82%\n",
      "Val Loss: 0.8733, Val Acc: 81.82%\n",
      "------------------------------------------------------------\n"
     ]
    },
    {
     "name": "stderr",
     "output_type": "stream",
     "text": [
      "Epoch [109/150]: 100%|██████████| 18/18 [00:05<00:00,  3.18it/s, accuracy=99.8, loss=0.75] \n"
     ]
    },
    {
     "name": "stdout",
     "output_type": "stream",
     "text": [
      "Epoch 109/150\n",
      "Train Loss: 0.7498, Train Acc: 99.82%\n",
      "Val Loss: 0.8764, Val Acc: 81.82%\n",
      "------------------------------------------------------------\n"
     ]
    },
    {
     "name": "stderr",
     "output_type": "stream",
     "text": [
      "Epoch [110/150]: 100%|██████████| 18/18 [00:05<00:00,  3.17it/s, accuracy=99.8, loss=0.749]\n"
     ]
    },
    {
     "name": "stdout",
     "output_type": "stream",
     "text": [
      "Epoch 110/150\n",
      "Train Loss: 0.7485, Train Acc: 99.82%\n",
      "Val Loss: 0.8713, Val Acc: 83.84%\n",
      "------------------------------------------------------------\n"
     ]
    },
    {
     "name": "stderr",
     "output_type": "stream",
     "text": [
      "Epoch [111/150]: 100%|██████████| 18/18 [00:05<00:00,  3.21it/s, accuracy=99.8, loss=0.747]\n"
     ]
    },
    {
     "name": "stdout",
     "output_type": "stream",
     "text": [
      "Epoch 111/150\n",
      "Train Loss: 0.7472, Train Acc: 99.82%\n",
      "Val Loss: 0.8708, Val Acc: 83.84%\n",
      "------------------------------------------------------------\n"
     ]
    },
    {
     "name": "stderr",
     "output_type": "stream",
     "text": [
      "Epoch [112/150]: 100%|██████████| 18/18 [00:05<00:00,  3.16it/s, accuracy=99.6, loss=0.751]\n"
     ]
    },
    {
     "name": "stdout",
     "output_type": "stream",
     "text": [
      "Epoch 112/150\n",
      "Train Loss: 0.7506, Train Acc: 99.64%\n",
      "Val Loss: 0.8650, Val Acc: 85.86%\n",
      "------------------------------------------------------------\n"
     ]
    },
    {
     "name": "stderr",
     "output_type": "stream",
     "text": [
      "Epoch [113/150]: 100%|██████████| 18/18 [00:05<00:00,  3.21it/s, accuracy=99.8, loss=0.751]\n"
     ]
    },
    {
     "name": "stdout",
     "output_type": "stream",
     "text": [
      "Epoch 113/150\n",
      "Train Loss: 0.7508, Train Acc: 99.82%\n",
      "Val Loss: 0.8697, Val Acc: 82.83%\n",
      "------------------------------------------------------------\n"
     ]
    },
    {
     "name": "stderr",
     "output_type": "stream",
     "text": [
      "Epoch [114/150]: 100%|██████████| 18/18 [00:05<00:00,  3.15it/s, accuracy=99.6, loss=0.751]\n"
     ]
    },
    {
     "name": "stdout",
     "output_type": "stream",
     "text": [
      "Epoch 114/150\n",
      "Train Loss: 0.7511, Train Acc: 99.64%\n",
      "Val Loss: 0.8878, Val Acc: 78.79%\n",
      "------------------------------------------------------------\n"
     ]
    },
    {
     "name": "stderr",
     "output_type": "stream",
     "text": [
      "Epoch [115/150]: 100%|██████████| 18/18 [00:05<00:00,  3.23it/s, accuracy=99.6, loss=0.749]\n"
     ]
    },
    {
     "name": "stdout",
     "output_type": "stream",
     "text": [
      "Epoch 115/150\n",
      "Train Loss: 0.7490, Train Acc: 99.64%\n",
      "Val Loss: 0.9055, Val Acc: 76.77%\n",
      "------------------------------------------------------------\n"
     ]
    },
    {
     "name": "stderr",
     "output_type": "stream",
     "text": [
      "Epoch [116/150]: 100%|██████████| 18/18 [00:05<00:00,  3.14it/s, accuracy=99.6, loss=0.749]\n"
     ]
    },
    {
     "name": "stdout",
     "output_type": "stream",
     "text": [
      "Epoch 116/150\n",
      "Train Loss: 0.7491, Train Acc: 99.64%\n",
      "Val Loss: 0.8780, Val Acc: 80.81%\n",
      "------------------------------------------------------------\n"
     ]
    },
    {
     "name": "stderr",
     "output_type": "stream",
     "text": [
      "Epoch [117/150]: 100%|██████████| 18/18 [00:05<00:00,  3.22it/s, accuracy=99.6, loss=0.749]\n"
     ]
    },
    {
     "name": "stdout",
     "output_type": "stream",
     "text": [
      "Epoch 117/150\n",
      "Train Loss: 0.7491, Train Acc: 99.64%\n",
      "Val Loss: 0.8744, Val Acc: 83.84%\n",
      "------------------------------------------------------------\n"
     ]
    },
    {
     "name": "stderr",
     "output_type": "stream",
     "text": [
      "Epoch [118/150]: 100%|██████████| 18/18 [00:05<00:00,  3.17it/s, accuracy=99.8, loss=0.748]\n"
     ]
    },
    {
     "name": "stdout",
     "output_type": "stream",
     "text": [
      "Epoch 118/150\n",
      "Train Loss: 0.7476, Train Acc: 99.82%\n",
      "Val Loss: 0.8724, Val Acc: 84.85%\n",
      "------------------------------------------------------------\n"
     ]
    },
    {
     "name": "stderr",
     "output_type": "stream",
     "text": [
      "Epoch [119/150]: 100%|██████████| 18/18 [00:05<00:00,  3.17it/s, accuracy=99.8, loss=0.749]\n"
     ]
    },
    {
     "name": "stdout",
     "output_type": "stream",
     "text": [
      "Epoch 119/150\n",
      "Train Loss: 0.7491, Train Acc: 99.82%\n",
      "Val Loss: 0.8580, Val Acc: 84.85%\n",
      "------------------------------------------------------------\n"
     ]
    },
    {
     "name": "stderr",
     "output_type": "stream",
     "text": [
      "Epoch [120/150]: 100%|██████████| 18/18 [00:05<00:00,  3.18it/s, accuracy=99.8, loss=0.747]\n"
     ]
    },
    {
     "name": "stdout",
     "output_type": "stream",
     "text": [
      "Epoch 120/150\n",
      "Train Loss: 0.7468, Train Acc: 99.82%\n",
      "Val Loss: 0.8614, Val Acc: 83.84%\n",
      "------------------------------------------------------------\n"
     ]
    },
    {
     "name": "stderr",
     "output_type": "stream",
     "text": [
      "Epoch [121/150]: 100%|██████████| 18/18 [00:05<00:00,  3.21it/s, accuracy=99.8, loss=0.748]\n"
     ]
    },
    {
     "name": "stdout",
     "output_type": "stream",
     "text": [
      "Epoch 121/150\n",
      "Train Loss: 0.7478, Train Acc: 99.82%\n",
      "Val Loss: 0.8791, Val Acc: 79.80%\n",
      "------------------------------------------------------------\n"
     ]
    },
    {
     "name": "stderr",
     "output_type": "stream",
     "text": [
      "Epoch [122/150]: 100%|██████████| 18/18 [00:05<00:00,  3.18it/s, accuracy=99.8, loss=0.747]\n"
     ]
    },
    {
     "name": "stdout",
     "output_type": "stream",
     "text": [
      "Epoch 122/150\n",
      "Train Loss: 0.7473, Train Acc: 99.82%\n",
      "Val Loss: 0.8870, Val Acc: 78.79%\n",
      "------------------------------------------------------------\n"
     ]
    },
    {
     "name": "stderr",
     "output_type": "stream",
     "text": [
      "Epoch [123/150]: 100%|██████████| 18/18 [00:05<00:00,  3.17it/s, accuracy=99.6, loss=0.752]\n"
     ]
    },
    {
     "name": "stdout",
     "output_type": "stream",
     "text": [
      "Epoch 123/150\n",
      "Train Loss: 0.7519, Train Acc: 99.64%\n",
      "Val Loss: 0.8683, Val Acc: 82.83%\n",
      "------------------------------------------------------------\n"
     ]
    },
    {
     "name": "stderr",
     "output_type": "stream",
     "text": [
      "Epoch [124/150]: 100%|██████████| 18/18 [00:05<00:00,  3.18it/s, accuracy=99.8, loss=0.748]\n"
     ]
    },
    {
     "name": "stdout",
     "output_type": "stream",
     "text": [
      "Epoch 124/150\n",
      "Train Loss: 0.7475, Train Acc: 99.82%\n",
      "Val Loss: 0.8659, Val Acc: 81.82%\n",
      "------------------------------------------------------------\n"
     ]
    },
    {
     "name": "stderr",
     "output_type": "stream",
     "text": [
      "Epoch [125/150]: 100%|██████████| 18/18 [00:05<00:00,  3.18it/s, accuracy=99.8, loss=0.748]\n"
     ]
    },
    {
     "name": "stdout",
     "output_type": "stream",
     "text": [
      "Epoch 125/150\n",
      "Train Loss: 0.7476, Train Acc: 99.82%\n",
      "Val Loss: 0.8764, Val Acc: 79.80%\n",
      "------------------------------------------------------------\n"
     ]
    },
    {
     "name": "stderr",
     "output_type": "stream",
     "text": [
      "Epoch [126/150]: 100%|██████████| 18/18 [00:05<00:00,  3.13it/s, accuracy=99.8, loss=0.748]\n"
     ]
    },
    {
     "name": "stdout",
     "output_type": "stream",
     "text": [
      "Epoch 126/150\n",
      "Train Loss: 0.7478, Train Acc: 99.82%\n",
      "Val Loss: 0.8782, Val Acc: 81.82%\n",
      "------------------------------------------------------------\n"
     ]
    },
    {
     "name": "stderr",
     "output_type": "stream",
     "text": [
      "Epoch [127/150]: 100%|██████████| 18/18 [00:05<00:00,  3.22it/s, accuracy=99.6, loss=0.749]\n"
     ]
    },
    {
     "name": "stdout",
     "output_type": "stream",
     "text": [
      "Epoch 127/150\n",
      "Train Loss: 0.7488, Train Acc: 99.64%\n",
      "Val Loss: 0.8783, Val Acc: 80.81%\n",
      "------------------------------------------------------------\n"
     ]
    },
    {
     "name": "stderr",
     "output_type": "stream",
     "text": [
      "Epoch [128/150]: 100%|██████████| 18/18 [00:05<00:00,  3.17it/s, accuracy=99.8, loss=0.747]\n"
     ]
    },
    {
     "name": "stdout",
     "output_type": "stream",
     "text": [
      "Epoch 128/150\n",
      "Train Loss: 0.7474, Train Acc: 99.82%\n",
      "Val Loss: 0.8668, Val Acc: 84.85%\n",
      "------------------------------------------------------------\n"
     ]
    },
    {
     "name": "stderr",
     "output_type": "stream",
     "text": [
      "Epoch [129/150]: 100%|██████████| 18/18 [00:05<00:00,  3.15it/s, accuracy=99.5, loss=0.751]\n"
     ]
    },
    {
     "name": "stdout",
     "output_type": "stream",
     "text": [
      "Epoch 129/150\n",
      "Train Loss: 0.7515, Train Acc: 99.46%\n",
      "Val Loss: 0.8739, Val Acc: 82.83%\n",
      "------------------------------------------------------------\n"
     ]
    },
    {
     "name": "stderr",
     "output_type": "stream",
     "text": [
      "Epoch [130/150]: 100%|██████████| 18/18 [00:05<00:00,  3.15it/s, accuracy=99.5, loss=0.752]\n"
     ]
    },
    {
     "name": "stdout",
     "output_type": "stream",
     "text": [
      "Epoch 130/150\n",
      "Train Loss: 0.7519, Train Acc: 99.46%\n",
      "Val Loss: 0.8671, Val Acc: 85.86%\n",
      "------------------------------------------------------------\n"
     ]
    },
    {
     "name": "stderr",
     "output_type": "stream",
     "text": [
      "Epoch [131/150]: 100%|██████████| 18/18 [00:05<00:00,  3.22it/s, accuracy=99.8, loss=0.748]\n"
     ]
    },
    {
     "name": "stdout",
     "output_type": "stream",
     "text": [
      "Epoch 131/150\n",
      "Train Loss: 0.7481, Train Acc: 99.82%\n",
      "Val Loss: 0.8433, Val Acc: 86.87%\n",
      "------------------------------------------------------------\n"
     ]
    },
    {
     "name": "stderr",
     "output_type": "stream",
     "text": [
      "Epoch [132/150]: 100%|██████████| 18/18 [00:05<00:00,  3.14it/s, accuracy=99.8, loss=0.748]\n"
     ]
    },
    {
     "name": "stdout",
     "output_type": "stream",
     "text": [
      "Epoch 132/150\n",
      "Train Loss: 0.7479, Train Acc: 99.82%\n",
      "Val Loss: 0.8723, Val Acc: 81.82%\n",
      "------------------------------------------------------------\n"
     ]
    },
    {
     "name": "stderr",
     "output_type": "stream",
     "text": [
      "Epoch [133/150]: 100%|██████████| 18/18 [00:05<00:00,  3.20it/s, accuracy=99.8, loss=0.747]\n"
     ]
    },
    {
     "name": "stdout",
     "output_type": "stream",
     "text": [
      "Epoch 133/150\n",
      "Train Loss: 0.7469, Train Acc: 99.82%\n",
      "Val Loss: 0.8816, Val Acc: 80.81%\n",
      "------------------------------------------------------------\n"
     ]
    },
    {
     "name": "stderr",
     "output_type": "stream",
     "text": [
      "Epoch [134/150]: 100%|██████████| 18/18 [00:05<00:00,  3.13it/s, accuracy=99.8, loss=0.747]\n"
     ]
    },
    {
     "name": "stdout",
     "output_type": "stream",
     "text": [
      "Epoch 134/150\n",
      "Train Loss: 0.7473, Train Acc: 99.82%\n",
      "Val Loss: 0.8642, Val Acc: 82.83%\n",
      "------------------------------------------------------------\n"
     ]
    },
    {
     "name": "stderr",
     "output_type": "stream",
     "text": [
      "Epoch [135/150]: 100%|██████████| 18/18 [00:05<00:00,  3.20it/s, accuracy=99.8, loss=0.746]\n"
     ]
    },
    {
     "name": "stdout",
     "output_type": "stream",
     "text": [
      "Epoch 135/150\n",
      "Train Loss: 0.7464, Train Acc: 99.82%\n",
      "Val Loss: 0.8694, Val Acc: 83.84%\n",
      "------------------------------------------------------------\n"
     ]
    },
    {
     "name": "stderr",
     "output_type": "stream",
     "text": [
      "Epoch [136/150]: 100%|██████████| 18/18 [00:05<00:00,  3.02it/s, accuracy=99.1, loss=0.76] \n"
     ]
    },
    {
     "name": "stdout",
     "output_type": "stream",
     "text": [
      "Epoch 136/150\n",
      "Train Loss: 0.7596, Train Acc: 99.11%\n",
      "Val Loss: 0.8685, Val Acc: 83.84%\n",
      "------------------------------------------------------------\n"
     ]
    },
    {
     "name": "stderr",
     "output_type": "stream",
     "text": [
      "Epoch [137/150]: 100%|██████████| 18/18 [00:05<00:00,  3.14it/s, accuracy=99.8, loss=0.747]\n"
     ]
    },
    {
     "name": "stdout",
     "output_type": "stream",
     "text": [
      "Epoch 137/150\n",
      "Train Loss: 0.7470, Train Acc: 99.82%\n",
      "Val Loss: 0.8726, Val Acc: 84.85%\n",
      "------------------------------------------------------------\n"
     ]
    },
    {
     "name": "stderr",
     "output_type": "stream",
     "text": [
      "Epoch [138/150]: 100%|██████████| 18/18 [00:05<00:00,  3.21it/s, accuracy=99.8, loss=0.746]\n"
     ]
    },
    {
     "name": "stdout",
     "output_type": "stream",
     "text": [
      "Epoch 138/150\n",
      "Train Loss: 0.7464, Train Acc: 99.82%\n",
      "Val Loss: 0.8648, Val Acc: 82.83%\n",
      "------------------------------------------------------------\n"
     ]
    },
    {
     "name": "stderr",
     "output_type": "stream",
     "text": [
      "Epoch [139/150]: 100%|██████████| 18/18 [00:05<00:00,  3.15it/s, accuracy=99.8, loss=0.749]\n"
     ]
    },
    {
     "name": "stdout",
     "output_type": "stream",
     "text": [
      "Epoch 139/150\n",
      "Train Loss: 0.7493, Train Acc: 99.82%\n",
      "Val Loss: 0.8588, Val Acc: 85.86%\n",
      "------------------------------------------------------------\n"
     ]
    },
    {
     "name": "stderr",
     "output_type": "stream",
     "text": [
      "Epoch [140/150]: 100%|██████████| 18/18 [00:05<00:00,  3.13it/s, accuracy=99.6, loss=0.749]\n"
     ]
    },
    {
     "name": "stdout",
     "output_type": "stream",
     "text": [
      "Epoch 140/150\n",
      "Train Loss: 0.7492, Train Acc: 99.64%\n",
      "Val Loss: 0.8568, Val Acc: 85.86%\n",
      "------------------------------------------------------------\n"
     ]
    },
    {
     "name": "stderr",
     "output_type": "stream",
     "text": [
      "Epoch [141/150]: 100%|██████████| 18/18 [00:05<00:00,  3.17it/s, accuracy=99.8, loss=0.746]\n"
     ]
    },
    {
     "name": "stdout",
     "output_type": "stream",
     "text": [
      "Epoch 141/150\n",
      "Train Loss: 0.7465, Train Acc: 99.82%\n",
      "Val Loss: 0.8761, Val Acc: 81.82%\n",
      "------------------------------------------------------------\n"
     ]
    },
    {
     "name": "stderr",
     "output_type": "stream",
     "text": [
      "Epoch [142/150]: 100%|██████████| 18/18 [00:05<00:00,  3.18it/s, accuracy=99.8, loss=0.747]\n"
     ]
    },
    {
     "name": "stdout",
     "output_type": "stream",
     "text": [
      "Epoch 142/150\n",
      "Train Loss: 0.7466, Train Acc: 99.82%\n",
      "Val Loss: 0.8592, Val Acc: 85.86%\n",
      "------------------------------------------------------------\n"
     ]
    },
    {
     "name": "stderr",
     "output_type": "stream",
     "text": [
      "Epoch [143/150]: 100%|██████████| 18/18 [00:05<00:00,  3.19it/s, accuracy=99.8, loss=0.748]\n"
     ]
    },
    {
     "name": "stdout",
     "output_type": "stream",
     "text": [
      "Epoch 143/150\n",
      "Train Loss: 0.7477, Train Acc: 99.82%\n",
      "Val Loss: 0.8548, Val Acc: 85.86%\n",
      "------------------------------------------------------------\n"
     ]
    },
    {
     "name": "stderr",
     "output_type": "stream",
     "text": [
      "Epoch [144/150]: 100%|██████████| 18/18 [00:05<00:00,  3.22it/s, accuracy=99.8, loss=0.746]\n"
     ]
    },
    {
     "name": "stdout",
     "output_type": "stream",
     "text": [
      "Epoch 144/150\n",
      "Train Loss: 0.7463, Train Acc: 99.82%\n",
      "Val Loss: 0.8660, Val Acc: 84.85%\n",
      "------------------------------------------------------------\n"
     ]
    },
    {
     "name": "stderr",
     "output_type": "stream",
     "text": [
      "Epoch [145/150]: 100%|██████████| 18/18 [00:05<00:00,  3.24it/s, accuracy=99.8, loss=0.749]\n"
     ]
    },
    {
     "name": "stdout",
     "output_type": "stream",
     "text": [
      "Epoch 145/150\n",
      "Train Loss: 0.7489, Train Acc: 99.82%\n",
      "Val Loss: 0.8640, Val Acc: 84.85%\n",
      "------------------------------------------------------------\n"
     ]
    },
    {
     "name": "stderr",
     "output_type": "stream",
     "text": [
      "Epoch [146/150]: 100%|██████████| 18/18 [00:05<00:00,  3.18it/s, accuracy=99.6, loss=0.751]\n"
     ]
    },
    {
     "name": "stdout",
     "output_type": "stream",
     "text": [
      "Epoch 146/150\n",
      "Train Loss: 0.7515, Train Acc: 99.64%\n",
      "Val Loss: 0.8822, Val Acc: 81.82%\n",
      "------------------------------------------------------------\n"
     ]
    },
    {
     "name": "stderr",
     "output_type": "stream",
     "text": [
      "Epoch [147/150]: 100%|██████████| 18/18 [00:05<00:00,  3.21it/s, accuracy=98.6, loss=0.762]\n"
     ]
    },
    {
     "name": "stdout",
     "output_type": "stream",
     "text": [
      "Epoch 147/150\n",
      "Train Loss: 0.7624, Train Acc: 98.57%\n",
      "Val Loss: 0.8973, Val Acc: 78.79%\n",
      "------------------------------------------------------------\n"
     ]
    },
    {
     "name": "stderr",
     "output_type": "stream",
     "text": [
      "Epoch [148/150]: 100%|██████████| 18/18 [00:05<00:00,  3.15it/s, accuracy=98.8, loss=0.759]\n"
     ]
    },
    {
     "name": "stdout",
     "output_type": "stream",
     "text": [
      "Epoch 148/150\n",
      "Train Loss: 0.7590, Train Acc: 98.75%\n",
      "Val Loss: 0.8816, Val Acc: 83.84%\n",
      "------------------------------------------------------------\n"
     ]
    },
    {
     "name": "stderr",
     "output_type": "stream",
     "text": [
      "Epoch [149/150]: 100%|██████████| 18/18 [00:05<00:00,  3.19it/s, accuracy=99.3, loss=0.751]\n"
     ]
    },
    {
     "name": "stdout",
     "output_type": "stream",
     "text": [
      "Epoch 149/150\n",
      "Train Loss: 0.7509, Train Acc: 99.29%\n",
      "Val Loss: 0.8711, Val Acc: 82.83%\n",
      "------------------------------------------------------------\n"
     ]
    },
    {
     "name": "stderr",
     "output_type": "stream",
     "text": [
      "Epoch [150/150]: 100%|██████████| 18/18 [00:05<00:00,  3.17it/s, accuracy=99.8, loss=0.747]\n"
     ]
    },
    {
     "name": "stdout",
     "output_type": "stream",
     "text": [
      "Epoch 150/150\n",
      "Train Loss: 0.7474, Train Acc: 99.82%\n",
      "Val Loss: 0.8878, Val Acc: 78.79%\n",
      "------------------------------------------------------------\n",
      "Finished Training\n"
     ]
    }
   ],
   "source": [
    "print(\"Starting training...\")\n",
    "# model_.load_state_dict(torch.load('model.pth', map_location=device))\n",
    "# for param in model_.parameters():\n",
    "#     param.requires_grad = True\n",
    "trained_model, train_losses, train_accuracies, val_losses, val_accuracies = train(\n",
    "    model_, train_loader, val_loader, epochs=150\n",
    ")"
   ]
  },
  {
   "cell_type": "markdown",
   "metadata": {},
   "source": [
    "#### Evaluating"
   ]
  },
  {
   "cell_type": "code",
   "execution_count": 9,
   "metadata": {},
   "outputs": [
    {
     "name": "stdout",
     "output_type": "stream",
     "text": [
      "Starting evaluating...\n"
     ]
    },
    {
     "name": "stderr",
     "output_type": "stream",
     "text": [
      "Evaluating: 100%|██████████| 4/4 [00:16<00:00,  4.24s/it]"
     ]
    },
    {
     "name": "stdout",
     "output_type": "stream",
     "text": [
      "Overall Accuracy: 79.80%\n"
     ]
    },
    {
     "name": "stderr",
     "output_type": "stream",
     "text": [
      "\n"
     ]
    }
   ],
   "source": [
    "print(\"Starting evaluating...\")\n",
    "class_correct, class_total, confusion_matrix = evaluate(trained_model, val_loader)"
   ]
  },
  {
   "cell_type": "markdown",
   "metadata": {},
   "source": [
    "#### Plot function"
   ]
  },
  {
   "cell_type": "code",
   "execution_count": 10,
   "metadata": {},
   "outputs": [],
   "source": [
    "def plot_training_metrics(train_losses, train_accuracies, val_losses, val_accuracies):\n",
    "\n",
    "    epochs = range(1, len(train_losses) + 1)\n",
    "    \n",
    "    fig, (ax1, ax2) = plt.subplots(1, 2, figsize=(15, 5))\n",
    "\n",
    "    ax1.plot(epochs, train_losses, 'b-', label='Training Loss')\n",
    "    ax1.plot(epochs, val_losses, 'r-', label='Validation Loss')\n",
    "    ax1.set_title('Training and Validation Loss')\n",
    "    ax1.set_xlabel('Epochs')\n",
    "    ax1.set_ylabel('Loss')\n",
    "    ax1.legend()\n",
    "    ax1.grid(True)\n",
    "    \n",
    "    ax2.plot(epochs, train_accuracies, 'b-', label='Training Accuracy')\n",
    "    ax2.plot(epochs, val_accuracies, 'r-', label='Validation Accuracy')\n",
    "    ax2.set_title('Training and Validation Accuracy')\n",
    "    ax2.set_xlabel('Epochs')\n",
    "    ax2.set_ylabel('Accuracy (%)')\n",
    "    ax2.legend()\n",
    "    ax2.grid(True)\n",
    "    \n",
    "    plt.tight_layout()\n",
    "    plt.show()\n",
    "    \n",
    "    fig.savefig('training_metrics.png')\n",
    "    print(\"Training metrics plot saved as 'training_metrics.png'\")\n",
    "    return"
   ]
  },
  {
   "cell_type": "code",
   "execution_count": 11,
   "metadata": {},
   "outputs": [],
   "source": [
    "def plot_evaluation_metrics(class_correct, class_total, confusion_matrix):\n",
    "\n",
    "    num_classes = len(classes)\n",
    "    \n",
    "    # Calculate accuracies and identify valid classes\n",
    "    accuracies = []\n",
    "    valid_classes = []\n",
    "    \n",
    "    print(\"\\nPer-class Accuracy:\")\n",
    "    print(\"-\" * 50)\n",
    "    for i in range(num_classes):\n",
    "        if class_total[i] > 0:  # Avoid division by zero\n",
    "            accuracy = 100 * class_correct[i] / class_total[i]\n",
    "            print(f'{classes[i]}: {accuracy:.2f}% ({int(class_correct[i])}/{int(class_total[i])})')\n",
    "            accuracies.append(accuracy)\n",
    "            valid_classes.append(classes[i])\n",
    "        else:\n",
    "            print(f'{classes[i]}: No samples')\n",
    "    \n",
    "    # Plot per-class accuracy as a bar chart\n",
    "    plt.figure(figsize=(12, 6))\n",
    "    plt.bar(valid_classes, accuracies, color='skyblue')\n",
    "    plt.xlabel('Classes')\n",
    "    plt.ylabel('Accuracy (%)')\n",
    "    plt.title('Per-class Accuracy')\n",
    "    plt.xticks(rotation=45, ha='right')\n",
    "    plt.tight_layout()\n",
    "    plt.savefig('per_class_accuracy.png')\n",
    "    plt.show()\n",
    "    \n",
    "    # Normalize confusion matrix by row (true labels) and plot\n",
    "    normalized_confusion_matrix = confusion_matrix.clone()  # Create a copy to avoid modifying the original\n",
    "    for i in range(num_classes):\n",
    "        if normalized_confusion_matrix[i].sum() > 0:\n",
    "            normalized_confusion_matrix[i] = normalized_confusion_matrix[i] / normalized_confusion_matrix[i].sum()\n",
    "    \n",
    "    # Plot confusion matrix\n",
    "    plt.figure(figsize=(10, 8))\n",
    "    plt.imshow(normalized_confusion_matrix.cpu().numpy(), interpolation='nearest', cmap=plt.cm.Blues)\n",
    "    plt.title('Normalized Confusion Matrix')\n",
    "    plt.colorbar()\n",
    "    tick_marks = np.arange(num_classes)\n",
    "    plt.xticks(tick_marks, classes, rotation=45, ha='right')\n",
    "    plt.yticks(tick_marks, classes)\n",
    "   \n",
    "    thresh = normalized_confusion_matrix.cpu().numpy().max() / 2.0\n",
    "    for i in range(num_classes):\n",
    "        for j in range(num_classes):\n",
    "            plt.text(j, i, f'{normalized_confusion_matrix[i, j]:.2f}',\n",
    "                     horizontalalignment=\"center\",\n",
    "                     color=\"white\" if normalized_confusion_matrix[i, j] > thresh else \"black\")\n",
    "    \n",
    "    plt.tight_layout()\n",
    "    plt.ylabel('True label')\n",
    "    plt.xlabel('Predicted label')\n",
    "    plt.savefig('confusion_matrix.png')\n",
    "    plt.show()\n",
    "    \n",
    "    return"
   ]
  },
  {
   "cell_type": "code",
   "execution_count": 12,
   "metadata": {},
   "outputs": [
    {
     "data": {
      "image/png": "[encoded data removed]",
      "text/plain": [
       "<Figure size 1500x500 with 2 Axes>"
      ]
     },
     "metadata": {},
     "output_type": "display_data"
    },
    {
     "name": "stdout",
     "output_type": "stream",
     "text": [
      "Training metrics plot saved as 'training_metrics.png'\n"
     ]
    }
   ],
   "source": [
    "plot_training_metrics(train_losses, train_accuracies, val_losses, val_accuracies)"
   ]
  },
  {
   "cell_type": "code",
   "execution_count": 13,
   "metadata": {},
   "outputs": [
    {
     "name": "stdout",
     "output_type": "stream",
     "text": [
      "\n",
      "Per-class Accuracy:\n",
      "--------------------------------------------------\n",
      "Diagonal: 79.17% (19/24)\n",
      "Horizontal: 91.67% (22/24)\n",
      "Vertical: 76.47% (26/34)\n",
      "Web: 70.59% (12/17)\n"
     ]
    },
    {
     "data": {
      "image/png": "[encoded data removed]",
      "text/plain": [
       "<Figure size 1200x600 with 1 Axes>"
      ]
     },
     "metadata": {},
     "output_type": "display_data"
    },
    {
     "data": {
      "image/png": "[encoded data removed]",
      "text/plain": [
       "<Figure size 1000x800 with 2 Axes>"
      ]
     },
     "metadata": {},
     "output_type": "display_data"
    }
   ],
   "source": [
    "plot_evaluation_metrics(class_correct, class_total, confusion_matrix)"
   ]
  },
  {
   "cell_type": "markdown",
   "metadata": {},
   "source": [
    "#### Generate prediction"
   ]
  },
  {
   "cell_type": "code",
   "execution_count": 6,
   "metadata": {},
   "outputs": [
    {
     "name": "stdout",
     "output_type": "stream",
     "text": [
      "Loaded CSV with 100 entries\n"
     ]
    },
    {
     "name": "stderr",
     "output_type": "stream",
     "text": [
      "100%|██████████| 100/100 [00:00<00:00, 102.53it/s]"
     ]
    },
    {
     "name": "stdout",
     "output_type": "stream",
     "text": [
      "Updated CSV saved to ./submission_example.csv\n"
     ]
    },
    {
     "name": "stderr",
     "output_type": "stream",
     "text": [
      "\n"
     ]
    }
   ],
   "source": [
    "import os\n",
    "# Change this part to your path\n",
    "test_folder_path=\"./test\"        \n",
    "csv_file_path=\"./submission_example.csv\"\n",
    "model_path=\"best_model.pth\"\n",
    "file_extension=\".jpg\"           \n",
    "\n",
    "\n",
    "# Load CSV file\n",
    "df = pd.read_csv(csv_file_path)\n",
    "print(f\"Loaded CSV with {len(df)} entries\")\n",
    "\n",
    "# Get column names\n",
    "columns = df.columns.tolist()\n",
    "first_col = columns[0]  # Image name column\n",
    "second_col = columns[1]  # Empty column for predictions\n",
    "\n",
    "# Load model\n",
    "model_.load_state_dict(torch.load(model_path, map_location=device))\n",
    "# model_ = trained_model\n",
    "model_.to(device)\n",
    "model_.eval()\n",
    "\n",
    "imagenet_stats = [(0.485, 0.456, 0.406), (0.229, 0.224, 0.225)]\n",
    "\n",
    "# Set up transformation (same as we set up earlier in the dataloading part, put I put here again for clarity)\n",
    "transform = transforms.Compose([\n",
    "    transforms.CenterCrop((450, 270)),\n",
    "    # transforms.RandomHorizontalFlip(),\n",
    "    # transforms.RandomRotation(10),\n",
    "    # transforms.ColorJitter(),\n",
    "    transforms.ToTensor(),\n",
    "    transforms.Normalize(imagenet_stats[0], imagenet_stats[1])\n",
    "])\n",
    "\n",
    "\n",
    "for idx, row in tqdm(df.iterrows(), total=len(df)):\n",
    "    try:\n",
    "        img_name = str(row[first_col]).strip()\n",
    "        \n",
    "        img_path = os.path.join(test_folder_path, img_name + file_extension)\n",
    "               \n",
    "        # Process the image\n",
    "        img = Image.open(img_path).convert('RGB')\n",
    "        img_tensor = transform(img).unsqueeze(0).to(device)\n",
    "        \n",
    "        # Predict\n",
    "        with torch.no_grad():\n",
    "            output = model_(img_tensor)\n",
    "            _, predicted = torch.max(output.data, 1)\n",
    "            predicted_idx = predicted.item()\n",
    "        \n",
    "        # Update CSV\n",
    "        df.at[idx, second_col] = classes[predicted_idx]\n",
    "        \n",
    "    except Exception as e:\n",
    "        print(f\"Error with image {img_name}: {e}\")\n",
    "\n",
    "# Save updated CSV\n",
    "df.to_csv(csv_file_path, index=False)\n",
    "print(f\"Updated CSV saved to {csv_file_path}\")"
   ]
  },
  {
   "cell_type": "code",
   "execution_count": 13,
   "metadata": {},
   "outputs": [
    {
     "name": "stderr",
     "output_type": "stream",
     "text": [
      "c:\\Users\\almon\\AppData\\Local\\Programs\\Python\\Python312\\Lib\\site-packages\\torch\\nn\\modules\\module.py:1830: FutureWarning: Using a non-full backward hook when the forward contains multiple autograd Nodes is deprecated and will be removed in future versions. This hook will be missing some grad_input. Please use register_full_backward_hook to get the documented behavior.\n",
      "  self._maybe_warn_non_full_backward_hook(args, result, grad_fn)\n"
     ]
    },
    {
     "data": {
      "image/png": "[encoded data removed]",
      "text/plain": [
       "<Figure size 640x480 with 1 Axes>"
      ]
     },
     "metadata": {},
     "output_type": "display_data"
    },
    {
     "data": {
      "image/png": "[encoded data removed]",
      "text/plain": [
       "<Figure size 640x480 with 1 Axes>"
      ]
     },
     "metadata": {},
     "output_type": "display_data"
    }
   ],
   "source": [
    "from torchvision.models.feature_extraction import create_feature_extractor\n",
    "import torch.nn.functional as F\n",
    "\n",
    "# Register hook containers\n",
    "activations = None\n",
    "gradients = None\n",
    "\n",
    "# Hook functions\n",
    "def forward_hook(module, input, output):\n",
    "    global activations\n",
    "    activations = output\n",
    "\n",
    "def backward_hook(module, grad_in, grad_out):\n",
    "    global gradients\n",
    "    gradients = grad_out[0]\n",
    "\n",
    "# Hook into the last conv layer of ResNet\n",
    "target_layer = model_.layer4[-1].conv2\n",
    "forward_handle = target_layer.register_forward_hook(forward_hook)\n",
    "backward_handle = target_layer.register_backward_hook(backward_hook)\n",
    "\n",
    "def generate_gradcam(img_tensor, label):\n",
    "    global activations, gradients\n",
    "\n",
    "    input_tensor = img_tensor.unsqueeze(0).to(device).requires_grad_()\n",
    "    \n",
    "    # Forward pass\n",
    "    model_.eval()\n",
    "    output = model_(input_tensor)\n",
    "    class_idx = output.argmax(dim=1).item()\n",
    "\n",
    "    # Backward pass\n",
    "    model_.zero_grad()\n",
    "    output[0, class_idx].backward()\n",
    "\n",
    "    if gradients is None or activations is None:\n",
    "        raise RuntimeError(\"Hooks did not capture gradients or activations.\")\n",
    "\n",
    "    # Compute weights and apply Grad-CAM\n",
    "    pooled_gradients = torch.mean(gradients, dim=[0, 2, 3])\n",
    "    for i in range(activations.shape[1]):\n",
    "        activations[:, i, :, :] *= pooled_gradients[i]\n",
    "\n",
    "    heatmap = torch.mean(activations, dim=1).squeeze().cpu().detach().numpy()\n",
    "    heatmap = np.maximum(heatmap, 0)\n",
    "    heatmap /= np.max(heatmap) + 1e-6\n",
    "    return heatmap\n",
    "\n",
    "# Visualize Grad-CAM on random val image\n",
    "inv_norm = transforms.Normalize(\n",
    "    mean=[-m/s for m, s in zip([0.485, 0.456, 0.406], [0.229, 0.224, 0.225])],\n",
    "    std=[1/s for s in [0.229, 0.224, 0.225]]\n",
    ")\n",
    "\n",
    "def show_gradcam(img_tensor, heatmap):\n",
    "    img_tensor = inv_norm(img_tensor.cpu())\n",
    "    img_np = np.transpose(img_tensor.numpy(), (1, 2, 0))\n",
    "    plt.imshow(img_np)\n",
    "    plt.imshow(heatmap, cmap='jet', alpha=0.5)\n",
    "    plt.title(\"Grad-CAM Overlay\")\n",
    "    plt.axis('off')\n",
    "    plt.show()\n",
    "\n",
    "def show_original(img_tensor):\n",
    "    img_tensor = inv_norm(img_tensor.cpu())\n",
    "    img_np = np.transpose(img_tensor.numpy(), (1, 2, 0))\n",
    "    plt.imshow(img_np)\n",
    "    plt.title(\"Original Image\")\n",
    "    plt.axis('off')\n",
    "    plt.show()\n",
    "\n",
    "# Run on one image\n",
    "val_transform = transforms.Compose([\n",
    "        transforms.RandomResizedCrop((450, 270)),\n",
    "        transforms.RandomHorizontalFlip(),\n",
    "        transforms.RandomRotation(10),\n",
    "        transforms.ToTensor(),\n",
    "        transforms.Normalize(imagenet_stats[0], imagenet_stats[1])\n",
    "    ])\n",
    "full_dataset = torchvision.datasets.ImageFolder(root=path_dataset, transform=val_transform)\n",
    "sample_img, label = random.choice(full_dataset)\n",
    "heatmap = generate_gradcam(sample_img, label)\n",
    "show_original(sample_img)\n",
    "show_gradcam(sample_img, heatmap)"
   ]
  }
 ],
 "metadata": {
  "colab": {
   "collapsed_sections": [],
   "name": "HW2-2_regression.ipynb",
   "provenance": []
  },
  "kernelspec": {
   "display_name": "Python 3",
   "language": "python",
   "name": "python3"
  },
  "language_info": {
   "codemirror_mode": {
    "name": "ipython",
    "version": 3
   },
   "file_extension": ".py",
   "mimetype": "text/x-python",
   "name": "python",
   "nbconvert_exporter": "python",
   "pygments_lexer": "ipython3",
   "version": "3.12.7"
  }
 },
 "nbformat": 4,
 "nbformat_minor": 4
}
