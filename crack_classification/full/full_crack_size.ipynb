{
 "cells": [
  {
   "cell_type": "code",
   "execution_count": 1,
   "metadata": {
    "id": "gFMwtIeAJwdj"
   },
   "outputs": [],
   "source": [
    "import pandas as pd\n",
    "import numpy as np\n",
    "import random\n",
    "import torch\n",
    "import torch.nn as nn\n",
    "import torch.nn.functional as F  \n",
    "import torch.optim as optim\n",
    "from torch.utils.data import Dataset, DataLoader\n",
    "import matplotlib.pyplot as plt\n",
    "from tqdm import tqdm\n",
    "from sklearn.preprocessing import MinMaxScaler\n",
    "import cv2\n",
    "import torchvision\n",
    "import torchvision.transforms as transforms\n",
    "from torch.utils.data import random_split\n",
    "import sys\n",
    "import time\n",
    "from PIL import Image"
   ]
  },
  {
   "cell_type": "code",
   "execution_count": 2,
   "metadata": {
    "id": "BpSVExq8Jwdl"
   },
   "outputs": [],
   "source": [
    "torch.manual_seed(1220)\n",
    "random.seed(1220)\n",
    "np.random.seed(1220)"
   ]
  },
  {
   "cell_type": "code",
   "execution_count": 3,
   "metadata": {},
   "outputs": [
    {
     "name": "stdout",
     "output_type": "stream",
     "text": [
      "You are using device: cuda\n"
     ]
    }
   ],
   "source": [
    "device = torch.device('cuda' if torch.cuda.is_available() else 'cpu')\n",
    "print(\"You are using device: %s\" % device)\n",
    "\n",
    "path_dataset = \"./full_crack_size\""
   ]
  },
  {
   "cell_type": "code",
   "execution_count": 4,
   "metadata": {
    "id": "vWPTZrVdJwdo"
   },
   "outputs": [
    {
     "name": "stdout",
     "output_type": "stream",
     "text": [
      "['Big', 'Small']\n"
     ]
    }
   ],
   "source": [
    "def load_dataset(path_dataset):\n",
    "    imagenet_stats = [(0.485, 0.456, 0.406), (0.229, 0.224, 0.225)]\n",
    "\n",
    "    train_transform = transforms.Compose([\n",
    "        transforms.RandomResizedCrop((400, 400)),  \n",
    "        transforms.CenterCrop((350, 350)),\n",
    "        transforms.RandomHorizontalFlip(),\n",
    "        # transforms.RandomVerticalFlip(),\n",
    "        transforms.RandomRotation(10),\n",
    "        # transforms.ColorJitter(),\n",
    "        transforms.ToTensor(),\n",
    "        transforms.Normalize(imagenet_stats[0], imagenet_stats[1])\n",
    "    ])\n",
    "\n",
    "    val_transform = transforms.Compose([\n",
    "        transforms.CenterCrop((400, 400)),\n",
    "        transforms.RandomHorizontalFlip(),\n",
    "        # transforms.RandomRotation(10),\n",
    "        # transforms.ColorJitter(),\n",
    "        transforms.ToTensor(),\n",
    "        transforms.Normalize(imagenet_stats[0], imagenet_stats[1])\n",
    "    ])\n",
    "\n",
    "    full_dataset = torchvision.datasets.ImageFolder(root=path_dataset)\n",
    "    classes = full_dataset.classes\n",
    "    print(classes)\n",
    "    dataset_size = len(full_dataset)\n",
    "    train_size = int(0.85 * dataset_size)\n",
    "    val_size = dataset_size - train_size\n",
    "    train_dataset, val_dataset = random_split(full_dataset, [train_size, val_size])\n",
    "    train_dataset.dataset.transform = train_transform\n",
    "    val_dataset.dataset.transform = val_transform\n",
    "    \n",
    "    train_loader = DataLoader(\n",
    "        train_dataset, batch_size=32, shuffle=True, num_workers=4\n",
    "    )\n",
    "    \n",
    "    val_loader = DataLoader(\n",
    "        val_dataset, batch_size=32, shuffle=False, num_workers=4\n",
    "    )\n",
    "\n",
    "    return train_loader, val_loader, classes\n",
    "\n",
    "train_loader, val_loader, classes = load_dataset(path_dataset)\n",
    "\n",
    "# model_ = torchvision.models.resnet50(weights='IMAGENET1K_V2')\n",
    "# model_.fc = nn.Sequential(\n",
    "#     nn.Linear(model_.fc.in_features, len(classes)),\n",
    "#     nn.Sigmoid()\n",
    "# )\n",
    "\n",
    "model_ = torchvision.models.shufflenet_v2_x1_5(weights='IMAGENET1K_V1')\n",
    "model_.fc = nn.Sequential(\n",
    "    nn.Linear(model_.fc.in_features, len(classes)),\n",
    "    nn.Sigmoid()\n",
    ")"
   ]
  },
  {
   "cell_type": "code",
   "execution_count": 5,
   "metadata": {},
   "outputs": [
    {
     "name": "stdout",
     "output_type": "stream",
     "text": [
      "----------------------------------------------------------------\n",
      "        Layer (type)               Output Shape         Param #\n",
      "================================================================\n",
      "            Conv2d-1         [-1, 24, 200, 200]             648\n",
      "       BatchNorm2d-2         [-1, 24, 200, 200]              48\n",
      "              ReLU-3         [-1, 24, 200, 200]               0\n",
      "         MaxPool2d-4         [-1, 24, 100, 100]               0\n",
      "            Conv2d-5           [-1, 24, 50, 50]             216\n",
      "       BatchNorm2d-6           [-1, 24, 50, 50]              48\n",
      "            Conv2d-7           [-1, 88, 50, 50]           2,112\n",
      "       BatchNorm2d-8           [-1, 88, 50, 50]             176\n",
      "              ReLU-9           [-1, 88, 50, 50]               0\n",
      "           Conv2d-10         [-1, 88, 100, 100]           2,112\n",
      "      BatchNorm2d-11         [-1, 88, 100, 100]             176\n",
      "             ReLU-12         [-1, 88, 100, 100]               0\n",
      "           Conv2d-13           [-1, 88, 50, 50]             792\n",
      "      BatchNorm2d-14           [-1, 88, 50, 50]             176\n",
      "           Conv2d-15           [-1, 88, 50, 50]           7,744\n",
      "      BatchNorm2d-16           [-1, 88, 50, 50]             176\n",
      "             ReLU-17           [-1, 88, 50, 50]               0\n",
      " InvertedResidual-18          [-1, 176, 50, 50]               0\n",
      "           Conv2d-19           [-1, 88, 50, 50]           7,744\n",
      "      BatchNorm2d-20           [-1, 88, 50, 50]             176\n",
      "             ReLU-21           [-1, 88, 50, 50]               0\n",
      "           Conv2d-22           [-1, 88, 50, 50]             792\n",
      "      BatchNorm2d-23           [-1, 88, 50, 50]             176\n",
      "           Conv2d-24           [-1, 88, 50, 50]           7,744\n",
      "      BatchNorm2d-25           [-1, 88, 50, 50]             176\n",
      "             ReLU-26           [-1, 88, 50, 50]               0\n",
      " InvertedResidual-27          [-1, 176, 50, 50]               0\n",
      "           Conv2d-28           [-1, 88, 50, 50]           7,744\n",
      "      BatchNorm2d-29           [-1, 88, 50, 50]             176\n",
      "             ReLU-30           [-1, 88, 50, 50]               0\n",
      "           Conv2d-31           [-1, 88, 50, 50]             792\n",
      "      BatchNorm2d-32           [-1, 88, 50, 50]             176\n",
      "           Conv2d-33           [-1, 88, 50, 50]           7,744\n",
      "      BatchNorm2d-34           [-1, 88, 50, 50]             176\n",
      "             ReLU-35           [-1, 88, 50, 50]               0\n",
      " InvertedResidual-36          [-1, 176, 50, 50]               0\n",
      "           Conv2d-37           [-1, 88, 50, 50]           7,744\n",
      "      BatchNorm2d-38           [-1, 88, 50, 50]             176\n",
      "             ReLU-39           [-1, 88, 50, 50]               0\n",
      "           Conv2d-40           [-1, 88, 50, 50]             792\n",
      "      BatchNorm2d-41           [-1, 88, 50, 50]             176\n",
      "           Conv2d-42           [-1, 88, 50, 50]           7,744\n",
      "      BatchNorm2d-43           [-1, 88, 50, 50]             176\n",
      "             ReLU-44           [-1, 88, 50, 50]               0\n",
      " InvertedResidual-45          [-1, 176, 50, 50]               0\n",
      "           Conv2d-46          [-1, 176, 25, 25]           1,584\n",
      "      BatchNorm2d-47          [-1, 176, 25, 25]             352\n",
      "           Conv2d-48          [-1, 176, 25, 25]          30,976\n",
      "      BatchNorm2d-49          [-1, 176, 25, 25]             352\n",
      "             ReLU-50          [-1, 176, 25, 25]               0\n",
      "           Conv2d-51          [-1, 176, 50, 50]          30,976\n",
      "      BatchNorm2d-52          [-1, 176, 50, 50]             352\n",
      "             ReLU-53          [-1, 176, 50, 50]               0\n",
      "           Conv2d-54          [-1, 176, 25, 25]           1,584\n",
      "      BatchNorm2d-55          [-1, 176, 25, 25]             352\n",
      "           Conv2d-56          [-1, 176, 25, 25]          30,976\n",
      "      BatchNorm2d-57          [-1, 176, 25, 25]             352\n",
      "             ReLU-58          [-1, 176, 25, 25]               0\n",
      " InvertedResidual-59          [-1, 352, 25, 25]               0\n",
      "           Conv2d-60          [-1, 176, 25, 25]          30,976\n",
      "      BatchNorm2d-61          [-1, 176, 25, 25]             352\n",
      "             ReLU-62          [-1, 176, 25, 25]               0\n",
      "           Conv2d-63          [-1, 176, 25, 25]           1,584\n",
      "      BatchNorm2d-64          [-1, 176, 25, 25]             352\n",
      "           Conv2d-65          [-1, 176, 25, 25]          30,976\n",
      "      BatchNorm2d-66          [-1, 176, 25, 25]             352\n",
      "             ReLU-67          [-1, 176, 25, 25]               0\n",
      " InvertedResidual-68          [-1, 352, 25, 25]               0\n",
      "           Conv2d-69          [-1, 176, 25, 25]          30,976\n",
      "      BatchNorm2d-70          [-1, 176, 25, 25]             352\n",
      "             ReLU-71          [-1, 176, 25, 25]               0\n",
      "           Conv2d-72          [-1, 176, 25, 25]           1,584\n",
      "      BatchNorm2d-73          [-1, 176, 25, 25]             352\n",
      "           Conv2d-74          [-1, 176, 25, 25]          30,976\n",
      "      BatchNorm2d-75          [-1, 176, 25, 25]             352\n",
      "             ReLU-76          [-1, 176, 25, 25]               0\n",
      " InvertedResidual-77          [-1, 352, 25, 25]               0\n",
      "           Conv2d-78          [-1, 176, 25, 25]          30,976\n",
      "      BatchNorm2d-79          [-1, 176, 25, 25]             352\n",
      "             ReLU-80          [-1, 176, 25, 25]               0\n",
      "           Conv2d-81          [-1, 176, 25, 25]           1,584\n",
      "      BatchNorm2d-82          [-1, 176, 25, 25]             352\n",
      "           Conv2d-83          [-1, 176, 25, 25]          30,976\n",
      "      BatchNorm2d-84          [-1, 176, 25, 25]             352\n",
      "             ReLU-85          [-1, 176, 25, 25]               0\n",
      " InvertedResidual-86          [-1, 352, 25, 25]               0\n",
      "           Conv2d-87          [-1, 176, 25, 25]          30,976\n",
      "      BatchNorm2d-88          [-1, 176, 25, 25]             352\n",
      "             ReLU-89          [-1, 176, 25, 25]               0\n",
      "           Conv2d-90          [-1, 176, 25, 25]           1,584\n",
      "      BatchNorm2d-91          [-1, 176, 25, 25]             352\n",
      "           Conv2d-92          [-1, 176, 25, 25]          30,976\n",
      "      BatchNorm2d-93          [-1, 176, 25, 25]             352\n",
      "             ReLU-94          [-1, 176, 25, 25]               0\n",
      " InvertedResidual-95          [-1, 352, 25, 25]               0\n",
      "           Conv2d-96          [-1, 176, 25, 25]          30,976\n",
      "      BatchNorm2d-97          [-1, 176, 25, 25]             352\n",
      "             ReLU-98          [-1, 176, 25, 25]               0\n",
      "           Conv2d-99          [-1, 176, 25, 25]           1,584\n",
      "     BatchNorm2d-100          [-1, 176, 25, 25]             352\n",
      "          Conv2d-101          [-1, 176, 25, 25]          30,976\n",
      "     BatchNorm2d-102          [-1, 176, 25, 25]             352\n",
      "            ReLU-103          [-1, 176, 25, 25]               0\n",
      "InvertedResidual-104          [-1, 352, 25, 25]               0\n",
      "          Conv2d-105          [-1, 176, 25, 25]          30,976\n",
      "     BatchNorm2d-106          [-1, 176, 25, 25]             352\n",
      "            ReLU-107          [-1, 176, 25, 25]               0\n",
      "          Conv2d-108          [-1, 176, 25, 25]           1,584\n",
      "     BatchNorm2d-109          [-1, 176, 25, 25]             352\n",
      "          Conv2d-110          [-1, 176, 25, 25]          30,976\n",
      "     BatchNorm2d-111          [-1, 176, 25, 25]             352\n",
      "            ReLU-112          [-1, 176, 25, 25]               0\n",
      "InvertedResidual-113          [-1, 352, 25, 25]               0\n",
      "          Conv2d-114          [-1, 176, 25, 25]          30,976\n",
      "     BatchNorm2d-115          [-1, 176, 25, 25]             352\n",
      "            ReLU-116          [-1, 176, 25, 25]               0\n",
      "          Conv2d-117          [-1, 176, 25, 25]           1,584\n",
      "     BatchNorm2d-118          [-1, 176, 25, 25]             352\n",
      "          Conv2d-119          [-1, 176, 25, 25]          30,976\n",
      "     BatchNorm2d-120          [-1, 176, 25, 25]             352\n",
      "            ReLU-121          [-1, 176, 25, 25]               0\n",
      "InvertedResidual-122          [-1, 352, 25, 25]               0\n",
      "          Conv2d-123          [-1, 352, 13, 13]           3,168\n",
      "     BatchNorm2d-124          [-1, 352, 13, 13]             704\n",
      "          Conv2d-125          [-1, 352, 13, 13]         123,904\n",
      "     BatchNorm2d-126          [-1, 352, 13, 13]             704\n",
      "            ReLU-127          [-1, 352, 13, 13]               0\n",
      "          Conv2d-128          [-1, 352, 25, 25]         123,904\n",
      "     BatchNorm2d-129          [-1, 352, 25, 25]             704\n",
      "            ReLU-130          [-1, 352, 25, 25]               0\n",
      "          Conv2d-131          [-1, 352, 13, 13]           3,168\n",
      "     BatchNorm2d-132          [-1, 352, 13, 13]             704\n",
      "          Conv2d-133          [-1, 352, 13, 13]         123,904\n",
      "     BatchNorm2d-134          [-1, 352, 13, 13]             704\n",
      "            ReLU-135          [-1, 352, 13, 13]               0\n",
      "InvertedResidual-136          [-1, 704, 13, 13]               0\n",
      "          Conv2d-137          [-1, 352, 13, 13]         123,904\n",
      "     BatchNorm2d-138          [-1, 352, 13, 13]             704\n",
      "            ReLU-139          [-1, 352, 13, 13]               0\n",
      "          Conv2d-140          [-1, 352, 13, 13]           3,168\n",
      "     BatchNorm2d-141          [-1, 352, 13, 13]             704\n",
      "          Conv2d-142          [-1, 352, 13, 13]         123,904\n",
      "     BatchNorm2d-143          [-1, 352, 13, 13]             704\n",
      "            ReLU-144          [-1, 352, 13, 13]               0\n",
      "InvertedResidual-145          [-1, 704, 13, 13]               0\n",
      "          Conv2d-146          [-1, 352, 13, 13]         123,904\n",
      "     BatchNorm2d-147          [-1, 352, 13, 13]             704\n",
      "            ReLU-148          [-1, 352, 13, 13]               0\n",
      "          Conv2d-149          [-1, 352, 13, 13]           3,168\n",
      "     BatchNorm2d-150          [-1, 352, 13, 13]             704\n",
      "          Conv2d-151          [-1, 352, 13, 13]         123,904\n",
      "     BatchNorm2d-152          [-1, 352, 13, 13]             704\n",
      "            ReLU-153          [-1, 352, 13, 13]               0\n",
      "InvertedResidual-154          [-1, 704, 13, 13]               0\n",
      "          Conv2d-155          [-1, 352, 13, 13]         123,904\n",
      "     BatchNorm2d-156          [-1, 352, 13, 13]             704\n",
      "            ReLU-157          [-1, 352, 13, 13]               0\n",
      "          Conv2d-158          [-1, 352, 13, 13]           3,168\n",
      "     BatchNorm2d-159          [-1, 352, 13, 13]             704\n",
      "          Conv2d-160          [-1, 352, 13, 13]         123,904\n",
      "     BatchNorm2d-161          [-1, 352, 13, 13]             704\n",
      "            ReLU-162          [-1, 352, 13, 13]               0\n",
      "InvertedResidual-163          [-1, 704, 13, 13]               0\n",
      "          Conv2d-164         [-1, 1024, 13, 13]         720,896\n",
      "     BatchNorm2d-165         [-1, 1024, 13, 13]           2,048\n",
      "            ReLU-166         [-1, 1024, 13, 13]               0\n",
      "          Linear-167                    [-1, 2]           2,050\n",
      "         Sigmoid-168                    [-1, 2]               0\n",
      "================================================================\n",
      "Total params: 2,480,674\n",
      "Trainable params: 2,480,674\n",
      "Non-trainable params: 0\n",
      "----------------------------------------------------------------\n",
      "Input size (MB): 1.83\n",
      "Forward/backward pass size (MB): 218.95\n",
      "Params size (MB): 9.46\n",
      "Estimated Total Size (MB): 230.24\n",
      "----------------------------------------------------------------\n",
      "ShuffleNetV2(\n",
      "  (conv1): Sequential(\n",
      "    (0): Conv2d(3, 24, kernel_size=(3, 3), stride=(2, 2), padding=(1, 1), bias=False)\n",
      "    (1): BatchNorm2d(24, eps=1e-05, momentum=0.1, affine=True, track_running_stats=True)\n",
      "    (2): ReLU(inplace=True)\n",
      "  )\n",
      "  (maxpool): MaxPool2d(kernel_size=3, stride=2, padding=1, dilation=1, ceil_mode=False)\n",
      "  (stage2): Sequential(\n",
      "    (0): InvertedResidual(\n",
      "      (branch1): Sequential(\n",
      "        (0): Conv2d(24, 24, kernel_size=(3, 3), stride=(2, 2), padding=(1, 1), groups=24, bias=False)\n",
      "        (1): BatchNorm2d(24, eps=1e-05, momentum=0.1, affine=True, track_running_stats=True)\n",
      "        (2): Conv2d(24, 88, kernel_size=(1, 1), stride=(1, 1), bias=False)\n",
      "        (3): BatchNorm2d(88, eps=1e-05, momentum=0.1, affine=True, track_running_stats=True)\n",
      "        (4): ReLU(inplace=True)\n",
      "      )\n",
      "      (branch2): Sequential(\n",
      "        (0): Conv2d(24, 88, kernel_size=(1, 1), stride=(1, 1), bias=False)\n",
      "        (1): BatchNorm2d(88, eps=1e-05, momentum=0.1, affine=True, track_running_stats=True)\n",
      "        (2): ReLU(inplace=True)\n",
      "        (3): Conv2d(88, 88, kernel_size=(3, 3), stride=(2, 2), padding=(1, 1), groups=88, bias=False)\n",
      "        (4): BatchNorm2d(88, eps=1e-05, momentum=0.1, affine=True, track_running_stats=True)\n",
      "        (5): Conv2d(88, 88, kernel_size=(1, 1), stride=(1, 1), bias=False)\n",
      "        (6): BatchNorm2d(88, eps=1e-05, momentum=0.1, affine=True, track_running_stats=True)\n",
      "        (7): ReLU(inplace=True)\n",
      "      )\n",
      "    )\n",
      "    (1): InvertedResidual(\n",
      "      (branch1): Sequential()\n",
      "      (branch2): Sequential(\n",
      "        (0): Conv2d(88, 88, kernel_size=(1, 1), stride=(1, 1), bias=False)\n",
      "        (1): BatchNorm2d(88, eps=1e-05, momentum=0.1, affine=True, track_running_stats=True)\n",
      "        (2): ReLU(inplace=True)\n",
      "        (3): Conv2d(88, 88, kernel_size=(3, 3), stride=(1, 1), padding=(1, 1), groups=88, bias=False)\n",
      "        (4): BatchNorm2d(88, eps=1e-05, momentum=0.1, affine=True, track_running_stats=True)\n",
      "        (5): Conv2d(88, 88, kernel_size=(1, 1), stride=(1, 1), bias=False)\n",
      "        (6): BatchNorm2d(88, eps=1e-05, momentum=0.1, affine=True, track_running_stats=True)\n",
      "        (7): ReLU(inplace=True)\n",
      "      )\n",
      "    )\n",
      "    (2): InvertedResidual(\n",
      "      (branch1): Sequential()\n",
      "      (branch2): Sequential(\n",
      "        (0): Conv2d(88, 88, kernel_size=(1, 1), stride=(1, 1), bias=False)\n",
      "        (1): BatchNorm2d(88, eps=1e-05, momentum=0.1, affine=True, track_running_stats=True)\n",
      "        (2): ReLU(inplace=True)\n",
      "        (3): Conv2d(88, 88, kernel_size=(3, 3), stride=(1, 1), padding=(1, 1), groups=88, bias=False)\n",
      "        (4): BatchNorm2d(88, eps=1e-05, momentum=0.1, affine=True, track_running_stats=True)\n",
      "        (5): Conv2d(88, 88, kernel_size=(1, 1), stride=(1, 1), bias=False)\n",
      "        (6): BatchNorm2d(88, eps=1e-05, momentum=0.1, affine=True, track_running_stats=True)\n",
      "        (7): ReLU(inplace=True)\n",
      "      )\n",
      "    )\n",
      "    (3): InvertedResidual(\n",
      "      (branch1): Sequential()\n",
      "      (branch2): Sequential(\n",
      "        (0): Conv2d(88, 88, kernel_size=(1, 1), stride=(1, 1), bias=False)\n",
      "        (1): BatchNorm2d(88, eps=1e-05, momentum=0.1, affine=True, track_running_stats=True)\n",
      "        (2): ReLU(inplace=True)\n",
      "        (3): Conv2d(88, 88, kernel_size=(3, 3), stride=(1, 1), padding=(1, 1), groups=88, bias=False)\n",
      "        (4): BatchNorm2d(88, eps=1e-05, momentum=0.1, affine=True, track_running_stats=True)\n",
      "        (5): Conv2d(88, 88, kernel_size=(1, 1), stride=(1, 1), bias=False)\n",
      "        (6): BatchNorm2d(88, eps=1e-05, momentum=0.1, affine=True, track_running_stats=True)\n",
      "        (7): ReLU(inplace=True)\n",
      "      )\n",
      "    )\n",
      "  )\n",
      "  (stage3): Sequential(\n",
      "    (0): InvertedResidual(\n",
      "      (branch1): Sequential(\n",
      "        (0): Conv2d(176, 176, kernel_size=(3, 3), stride=(2, 2), padding=(1, 1), groups=176, bias=False)\n",
      "        (1): BatchNorm2d(176, eps=1e-05, momentum=0.1, affine=True, track_running_stats=True)\n",
      "        (2): Conv2d(176, 176, kernel_size=(1, 1), stride=(1, 1), bias=False)\n",
      "        (3): BatchNorm2d(176, eps=1e-05, momentum=0.1, affine=True, track_running_stats=True)\n",
      "        (4): ReLU(inplace=True)\n",
      "      )\n",
      "      (branch2): Sequential(\n",
      "        (0): Conv2d(176, 176, kernel_size=(1, 1), stride=(1, 1), bias=False)\n",
      "        (1): BatchNorm2d(176, eps=1e-05, momentum=0.1, affine=True, track_running_stats=True)\n",
      "        (2): ReLU(inplace=True)\n",
      "        (3): Conv2d(176, 176, kernel_size=(3, 3), stride=(2, 2), padding=(1, 1), groups=176, bias=False)\n",
      "        (4): BatchNorm2d(176, eps=1e-05, momentum=0.1, affine=True, track_running_stats=True)\n",
      "        (5): Conv2d(176, 176, kernel_size=(1, 1), stride=(1, 1), bias=False)\n",
      "        (6): BatchNorm2d(176, eps=1e-05, momentum=0.1, affine=True, track_running_stats=True)\n",
      "        (7): ReLU(inplace=True)\n",
      "      )\n",
      "    )\n",
      "    (1): InvertedResidual(\n",
      "      (branch1): Sequential()\n",
      "      (branch2): Sequential(\n",
      "        (0): Conv2d(176, 176, kernel_size=(1, 1), stride=(1, 1), bias=False)\n",
      "        (1): BatchNorm2d(176, eps=1e-05, momentum=0.1, affine=True, track_running_stats=True)\n",
      "        (2): ReLU(inplace=True)\n",
      "        (3): Conv2d(176, 176, kernel_size=(3, 3), stride=(1, 1), padding=(1, 1), groups=176, bias=False)\n",
      "        (4): BatchNorm2d(176, eps=1e-05, momentum=0.1, affine=True, track_running_stats=True)\n",
      "        (5): Conv2d(176, 176, kernel_size=(1, 1), stride=(1, 1), bias=False)\n",
      "        (6): BatchNorm2d(176, eps=1e-05, momentum=0.1, affine=True, track_running_stats=True)\n",
      "        (7): ReLU(inplace=True)\n",
      "      )\n",
      "    )\n",
      "    (2): InvertedResidual(\n",
      "      (branch1): Sequential()\n",
      "      (branch2): Sequential(\n",
      "        (0): Conv2d(176, 176, kernel_size=(1, 1), stride=(1, 1), bias=False)\n",
      "        (1): BatchNorm2d(176, eps=1e-05, momentum=0.1, affine=True, track_running_stats=True)\n",
      "        (2): ReLU(inplace=True)\n",
      "        (3): Conv2d(176, 176, kernel_size=(3, 3), stride=(1, 1), padding=(1, 1), groups=176, bias=False)\n",
      "        (4): BatchNorm2d(176, eps=1e-05, momentum=0.1, affine=True, track_running_stats=True)\n",
      "        (5): Conv2d(176, 176, kernel_size=(1, 1), stride=(1, 1), bias=False)\n",
      "        (6): BatchNorm2d(176, eps=1e-05, momentum=0.1, affine=True, track_running_stats=True)\n",
      "        (7): ReLU(inplace=True)\n",
      "      )\n",
      "    )\n",
      "    (3): InvertedResidual(\n",
      "      (branch1): Sequential()\n",
      "      (branch2): Sequential(\n",
      "        (0): Conv2d(176, 176, kernel_size=(1, 1), stride=(1, 1), bias=False)\n",
      "        (1): BatchNorm2d(176, eps=1e-05, momentum=0.1, affine=True, track_running_stats=True)\n",
      "        (2): ReLU(inplace=True)\n",
      "        (3): Conv2d(176, 176, kernel_size=(3, 3), stride=(1, 1), padding=(1, 1), groups=176, bias=False)\n",
      "        (4): BatchNorm2d(176, eps=1e-05, momentum=0.1, affine=True, track_running_stats=True)\n",
      "        (5): Conv2d(176, 176, kernel_size=(1, 1), stride=(1, 1), bias=False)\n",
      "        (6): BatchNorm2d(176, eps=1e-05, momentum=0.1, affine=True, track_running_stats=True)\n",
      "        (7): ReLU(inplace=True)\n",
      "      )\n",
      "    )\n",
      "    (4): InvertedResidual(\n",
      "      (branch1): Sequential()\n",
      "      (branch2): Sequential(\n",
      "        (0): Conv2d(176, 176, kernel_size=(1, 1), stride=(1, 1), bias=False)\n",
      "        (1): BatchNorm2d(176, eps=1e-05, momentum=0.1, affine=True, track_running_stats=True)\n",
      "        (2): ReLU(inplace=True)\n",
      "        (3): Conv2d(176, 176, kernel_size=(3, 3), stride=(1, 1), padding=(1, 1), groups=176, bias=False)\n",
      "        (4): BatchNorm2d(176, eps=1e-05, momentum=0.1, affine=True, track_running_stats=True)\n",
      "        (5): Conv2d(176, 176, kernel_size=(1, 1), stride=(1, 1), bias=False)\n",
      "        (6): BatchNorm2d(176, eps=1e-05, momentum=0.1, affine=True, track_running_stats=True)\n",
      "        (7): ReLU(inplace=True)\n",
      "      )\n",
      "    )\n",
      "    (5): InvertedResidual(\n",
      "      (branch1): Sequential()\n",
      "      (branch2): Sequential(\n",
      "        (0): Conv2d(176, 176, kernel_size=(1, 1), stride=(1, 1), bias=False)\n",
      "        (1): BatchNorm2d(176, eps=1e-05, momentum=0.1, affine=True, track_running_stats=True)\n",
      "        (2): ReLU(inplace=True)\n",
      "        (3): Conv2d(176, 176, kernel_size=(3, 3), stride=(1, 1), padding=(1, 1), groups=176, bias=False)\n",
      "        (4): BatchNorm2d(176, eps=1e-05, momentum=0.1, affine=True, track_running_stats=True)\n",
      "        (5): Conv2d(176, 176, kernel_size=(1, 1), stride=(1, 1), bias=False)\n",
      "        (6): BatchNorm2d(176, eps=1e-05, momentum=0.1, affine=True, track_running_stats=True)\n",
      "        (7): ReLU(inplace=True)\n",
      "      )\n",
      "    )\n",
      "    (6): InvertedResidual(\n",
      "      (branch1): Sequential()\n",
      "      (branch2): Sequential(\n",
      "        (0): Conv2d(176, 176, kernel_size=(1, 1), stride=(1, 1), bias=False)\n",
      "        (1): BatchNorm2d(176, eps=1e-05, momentum=0.1, affine=True, track_running_stats=True)\n",
      "        (2): ReLU(inplace=True)\n",
      "        (3): Conv2d(176, 176, kernel_size=(3, 3), stride=(1, 1), padding=(1, 1), groups=176, bias=False)\n",
      "        (4): BatchNorm2d(176, eps=1e-05, momentum=0.1, affine=True, track_running_stats=True)\n",
      "        (5): Conv2d(176, 176, kernel_size=(1, 1), stride=(1, 1), bias=False)\n",
      "        (6): BatchNorm2d(176, eps=1e-05, momentum=0.1, affine=True, track_running_stats=True)\n",
      "        (7): ReLU(inplace=True)\n",
      "      )\n",
      "    )\n",
      "    (7): InvertedResidual(\n",
      "      (branch1): Sequential()\n",
      "      (branch2): Sequential(\n",
      "        (0): Conv2d(176, 176, kernel_size=(1, 1), stride=(1, 1), bias=False)\n",
      "        (1): BatchNorm2d(176, eps=1e-05, momentum=0.1, affine=True, track_running_stats=True)\n",
      "        (2): ReLU(inplace=True)\n",
      "        (3): Conv2d(176, 176, kernel_size=(3, 3), stride=(1, 1), padding=(1, 1), groups=176, bias=False)\n",
      "        (4): BatchNorm2d(176, eps=1e-05, momentum=0.1, affine=True, track_running_stats=True)\n",
      "        (5): Conv2d(176, 176, kernel_size=(1, 1), stride=(1, 1), bias=False)\n",
      "        (6): BatchNorm2d(176, eps=1e-05, momentum=0.1, affine=True, track_running_stats=True)\n",
      "        (7): ReLU(inplace=True)\n",
      "      )\n",
      "    )\n",
      "  )\n",
      "  (stage4): Sequential(\n",
      "    (0): InvertedResidual(\n",
      "      (branch1): Sequential(\n",
      "        (0): Conv2d(352, 352, kernel_size=(3, 3), stride=(2, 2), padding=(1, 1), groups=352, bias=False)\n",
      "        (1): BatchNorm2d(352, eps=1e-05, momentum=0.1, affine=True, track_running_stats=True)\n",
      "        (2): Conv2d(352, 352, kernel_size=(1, 1), stride=(1, 1), bias=False)\n",
      "        (3): BatchNorm2d(352, eps=1e-05, momentum=0.1, affine=True, track_running_stats=True)\n",
      "        (4): ReLU(inplace=True)\n",
      "      )\n",
      "      (branch2): Sequential(\n",
      "        (0): Conv2d(352, 352, kernel_size=(1, 1), stride=(1, 1), bias=False)\n",
      "        (1): BatchNorm2d(352, eps=1e-05, momentum=0.1, affine=True, track_running_stats=True)\n",
      "        (2): ReLU(inplace=True)\n",
      "        (3): Conv2d(352, 352, kernel_size=(3, 3), stride=(2, 2), padding=(1, 1), groups=352, bias=False)\n",
      "        (4): BatchNorm2d(352, eps=1e-05, momentum=0.1, affine=True, track_running_stats=True)\n",
      "        (5): Conv2d(352, 352, kernel_size=(1, 1), stride=(1, 1), bias=False)\n",
      "        (6): BatchNorm2d(352, eps=1e-05, momentum=0.1, affine=True, track_running_stats=True)\n",
      "        (7): ReLU(inplace=True)\n",
      "      )\n",
      "    )\n",
      "    (1): InvertedResidual(\n",
      "      (branch1): Sequential()\n",
      "      (branch2): Sequential(\n",
      "        (0): Conv2d(352, 352, kernel_size=(1, 1), stride=(1, 1), bias=False)\n",
      "        (1): BatchNorm2d(352, eps=1e-05, momentum=0.1, affine=True, track_running_stats=True)\n",
      "        (2): ReLU(inplace=True)\n",
      "        (3): Conv2d(352, 352, kernel_size=(3, 3), stride=(1, 1), padding=(1, 1), groups=352, bias=False)\n",
      "        (4): BatchNorm2d(352, eps=1e-05, momentum=0.1, affine=True, track_running_stats=True)\n",
      "        (5): Conv2d(352, 352, kernel_size=(1, 1), stride=(1, 1), bias=False)\n",
      "        (6): BatchNorm2d(352, eps=1e-05, momentum=0.1, affine=True, track_running_stats=True)\n",
      "        (7): ReLU(inplace=True)\n",
      "      )\n",
      "    )\n",
      "    (2): InvertedResidual(\n",
      "      (branch1): Sequential()\n",
      "      (branch2): Sequential(\n",
      "        (0): Conv2d(352, 352, kernel_size=(1, 1), stride=(1, 1), bias=False)\n",
      "        (1): BatchNorm2d(352, eps=1e-05, momentum=0.1, affine=True, track_running_stats=True)\n",
      "        (2): ReLU(inplace=True)\n",
      "        (3): Conv2d(352, 352, kernel_size=(3, 3), stride=(1, 1), padding=(1, 1), groups=352, bias=False)\n",
      "        (4): BatchNorm2d(352, eps=1e-05, momentum=0.1, affine=True, track_running_stats=True)\n",
      "        (5): Conv2d(352, 352, kernel_size=(1, 1), stride=(1, 1), bias=False)\n",
      "        (6): BatchNorm2d(352, eps=1e-05, momentum=0.1, affine=True, track_running_stats=True)\n",
      "        (7): ReLU(inplace=True)\n",
      "      )\n",
      "    )\n",
      "    (3): InvertedResidual(\n",
      "      (branch1): Sequential()\n",
      "      (branch2): Sequential(\n",
      "        (0): Conv2d(352, 352, kernel_size=(1, 1), stride=(1, 1), bias=False)\n",
      "        (1): BatchNorm2d(352, eps=1e-05, momentum=0.1, affine=True, track_running_stats=True)\n",
      "        (2): ReLU(inplace=True)\n",
      "        (3): Conv2d(352, 352, kernel_size=(3, 3), stride=(1, 1), padding=(1, 1), groups=352, bias=False)\n",
      "        (4): BatchNorm2d(352, eps=1e-05, momentum=0.1, affine=True, track_running_stats=True)\n",
      "        (5): Conv2d(352, 352, kernel_size=(1, 1), stride=(1, 1), bias=False)\n",
      "        (6): BatchNorm2d(352, eps=1e-05, momentum=0.1, affine=True, track_running_stats=True)\n",
      "        (7): ReLU(inplace=True)\n",
      "      )\n",
      "    )\n",
      "  )\n",
      "  (conv5): Sequential(\n",
      "    (0): Conv2d(704, 1024, kernel_size=(1, 1), stride=(1, 1), bias=False)\n",
      "    (1): BatchNorm2d(1024, eps=1e-05, momentum=0.1, affine=True, track_running_stats=True)\n",
      "    (2): ReLU(inplace=True)\n",
      "  )\n",
      "  (fc): Sequential(\n",
      "    (0): Linear(in_features=1024, out_features=2, bias=True)\n",
      "    (1): Sigmoid()\n",
      "  )\n",
      ")\n"
     ]
    }
   ],
   "source": [
    "if torch.cuda.is_available():\n",
    "    model_.cuda()\n",
    "from torchsummary import summary\n",
    "summary(model_, (3, 400, 400))\n",
    "print(model_)"
   ]
  },
  {
   "cell_type": "code",
   "execution_count": 6,
   "metadata": {},
   "outputs": [],
   "source": [
    "def train(model, trainloader, valloader, epochs=10):\n",
    "    torch.cuda.empty_cache()\n",
    "    criterion = nn.CrossEntropyLoss()\n",
    "    optimizer = optim.AdamW(model.parameters(), lr=1e-4)\n",
    "    # scheduler = optim.lr_scheduler.CosineAnnealingWarmRestarts(optimizer, T_0=10, eta_min=1e-7)\n",
    "    scheduler = optim.lr_scheduler.CosineAnnealingLR(optimizer, T_max=32)\n",
    "    \n",
    "    train_losses = []\n",
    "    train_accuracies = []\n",
    "    val_losses = []\n",
    "    val_accuracies = []\n",
    "    best_val_acc = 80\n",
    "    best_val_loss = 0\n",
    "    \n",
    "    for epoch in range(epochs):\n",
    "        model.train()\n",
    "        running_loss = 0.0\n",
    "        correct = 0\n",
    "        total = 0\n",
    "        \n",
    "        # Wrap trainloader with tqdm for progress bar to make it looks nicer\n",
    "        loop = tqdm(enumerate(trainloader), total=len(trainloader), leave=True)\n",
    "        for i, data in loop:\n",
    "            # Get inputs and labels\n",
    "            inputs, labels = data\n",
    "            inputs, labels = inputs.to(device), labels.to(device)\n",
    "            \n",
    "            # Zero the parameter gradients\n",
    "            optimizer.zero_grad()\n",
    "            \n",
    "            # Forward + backward + optimize\n",
    "            outputs = model(inputs)\n",
    "            loss = criterion(outputs, labels)\n",
    "            loss.backward()\n",
    "            optimizer.step()\n",
    "            scheduler.step()\n",
    "            \n",
    "            # Calculate accuracy\n",
    "            _, predicted = torch.max(outputs.data, 1)\n",
    "            total += labels.size(0)\n",
    "            correct += (predicted == labels).sum().item()\n",
    "            \n",
    "            # Update running loss\n",
    "            running_loss += loss.item()\n",
    "            \n",
    "            # Update progress bar\n",
    "            loop.set_description(f\"Epoch [{epoch+1}/{epochs}]\")\n",
    "            loop.set_postfix(loss=running_loss/(i+1), accuracy=100.*correct/total)\n",
    "        \n",
    "        \n",
    "        # Calculate epoch statistics for training\n",
    "        epoch_train_loss = running_loss / len(trainloader)\n",
    "        epoch_train_acc = 100. * correct / total\n",
    "        train_losses.append(epoch_train_loss)\n",
    "        train_accuracies.append(epoch_train_acc)\n",
    "        \n",
    "        # Validation phase\n",
    "        model.eval()\n",
    "        val_running_loss = 0.0\n",
    "        val_correct = 0\n",
    "        val_total = 0\n",
    "        \n",
    "        with torch.no_grad():\n",
    "            for data in valloader:\n",
    "                images, labels = data\n",
    "                images, labels = images.to(device), labels.to(device)\n",
    "                \n",
    "                # Forward pass\n",
    "                outputs = model(images)\n",
    "                loss = criterion(outputs, labels)\n",
    "                \n",
    "                # Calculate validation loss\n",
    "                val_running_loss += loss.item()\n",
    "                \n",
    "                # Calculate validation accuracy\n",
    "                _, predicted = torch.max(outputs.data, 1)\n",
    "                val_total += labels.size(0)\n",
    "                val_correct += (predicted == labels).sum().item()\n",
    "        \n",
    "        # Calculate epoch statistics for validation\n",
    "        epoch_val_loss = val_running_loss / len(valloader)\n",
    "        epoch_val_acc = 100. * val_correct / val_total\n",
    "        val_losses.append(epoch_val_loss)\n",
    "        val_accuracies.append(epoch_val_acc)\n",
    "        if epoch_val_acc > best_val_acc:\n",
    "            best_val_acc = epoch_val_acc\n",
    "            best_val_loss = epoch_val_loss\n",
    "            torch.save(model_.state_dict(), 'model.pth')\n",
    "            print(best_val_acc, best_val_loss)\n",
    "        elif epoch_val_acc == best_val_acc:\n",
    "            if epoch_val_loss < best_val_loss:\n",
    "                torch.save(model_.state_dict(), 'model.pth')\n",
    "        \n",
    "        print(f\"Epoch {epoch+1}/{epochs}\")\n",
    "        print(f\"Train Loss: {epoch_train_loss:.4f}, Train Acc: {epoch_train_acc:.2f}%\")\n",
    "        print(f\"Val Loss: {epoch_val_loss:.4f}, Val Acc: {epoch_val_acc:.2f}%\")\n",
    "        print(\"-\" * 60)\n",
    "    \n",
    "    print('Finished Training')\n",
    "    \n",
    "    return model, train_losses, train_accuracies, val_losses, val_accuracies\n",
    "\n",
    "def evaluate(model, valloader):\n",
    "\n",
    "    model.eval()\n",
    "    correct = 0\n",
    "    total = 0\n",
    "    \n",
    "    # Initialize lists for per-class accuracy\n",
    "    num_classes = len(classes)\n",
    "    class_correct = list(0. for i in range(num_classes))\n",
    "    class_total = list(0. for i in range(num_classes))\n",
    "    \n",
    "    # Initialize confusion matrix\n",
    "    confusion_matrix = torch.zeros(num_classes, num_classes)\n",
    "    \n",
    "    with torch.no_grad():\n",
    "        for data in tqdm(valloader, desc=\"Evaluating\"):\n",
    "            images, labels = data\n",
    "            images, labels = images.to(device), labels.to(device)\n",
    "            outputs = model(images)\n",
    "            _, predicted = torch.max(outputs.data, 1)\n",
    "            total += labels.size(0)\n",
    "            correct += (predicted == labels).sum().item()\n",
    "            \n",
    "            # Calculate per-class accuracy\n",
    "            c = (predicted == labels).squeeze()\n",
    "            for i in range(len(labels)):\n",
    "                label = labels[i]\n",
    "                class_correct[label] += c[i].item()\n",
    "                class_total[label] += 1\n",
    "                \n",
    "                # Update confusion matrix\n",
    "                confusion_matrix[label, predicted[i]] += 1\n",
    "\n",
    "    overall_accuracy = 100 * correct / total\n",
    "    print(f'Overall Accuracy: {overall_accuracy:.2f}%')\n",
    "\n",
    "    \n",
    "    return class_correct, class_total, confusion_matrix"
   ]
  },
  {
   "cell_type": "code",
   "execution_count": 7,
   "metadata": {},
   "outputs": [
    {
     "name": "stdout",
     "output_type": "stream",
     "text": [
      "Starting training...\n"
     ]
    },
    {
     "name": "stderr",
     "output_type": "stream",
     "text": [
      "Epoch [1/100]: 100%|██████████| 27/27 [00:06<00:00,  4.08it/s, accuracy=81.1, loss=0.621]\n"
     ]
    },
    {
     "name": "stdout",
     "output_type": "stream",
     "text": [
      "90.13157894736842 0.6051717042922974\n",
      "Epoch 1/100\n",
      "Train Loss: 0.6215, Train Acc: 81.12%\n",
      "Val Loss: 0.6052, Val Acc: 90.13%\n",
      "------------------------------------------------------------\n"
     ]
    },
    {
     "name": "stderr",
     "output_type": "stream",
     "text": [
      "Epoch [2/100]: 100%|██████████| 27/27 [00:04<00:00,  5.57it/s, accuracy=86.8, loss=0.567]\n"
     ]
    },
    {
     "name": "stdout",
     "output_type": "stream",
     "text": [
      "Epoch 2/100\n",
      "Train Loss: 0.5668, Train Acc: 86.83%\n",
      "Val Loss: 0.5343, Val Acc: 88.82%\n",
      "------------------------------------------------------------\n"
     ]
    },
    {
     "name": "stderr",
     "output_type": "stream",
     "text": [
      "Epoch [3/100]: 100%|██████████| 27/27 [00:05<00:00,  5.38it/s, accuracy=88.3, loss=0.494]\n"
     ]
    },
    {
     "name": "stdout",
     "output_type": "stream",
     "text": [
      "Epoch 3/100\n",
      "Train Loss: 0.4944, Train Acc: 88.34%\n",
      "Val Loss: 0.4538, Val Acc: 89.47%\n",
      "------------------------------------------------------------\n"
     ]
    },
    {
     "name": "stderr",
     "output_type": "stream",
     "text": [
      "Epoch [4/100]: 100%|██████████| 27/27 [00:04<00:00,  5.47it/s, accuracy=89.3, loss=0.446]\n"
     ]
    },
    {
     "name": "stdout",
     "output_type": "stream",
     "text": [
      "Epoch 4/100\n",
      "Train Loss: 0.4461, Train Acc: 89.28%\n",
      "Val Loss: 0.4510, Val Acc: 89.47%\n",
      "------------------------------------------------------------\n"
     ]
    },
    {
     "name": "stderr",
     "output_type": "stream",
     "text": [
      "Epoch [5/100]: 100%|██████████| 27/27 [00:04<00:00,  5.69it/s, accuracy=89.6, loss=0.433]\n"
     ]
    },
    {
     "name": "stdout",
     "output_type": "stream",
     "text": [
      "Epoch 5/100\n",
      "Train Loss: 0.4329, Train Acc: 89.63%\n",
      "Val Loss: 0.4237, Val Acc: 89.47%\n",
      "------------------------------------------------------------\n"
     ]
    },
    {
     "name": "stderr",
     "output_type": "stream",
     "text": [
      "Epoch [6/100]: 100%|██████████| 27/27 [00:04<00:00,  5.69it/s, accuracy=90.1, loss=0.412]\n"
     ]
    },
    {
     "name": "stdout",
     "output_type": "stream",
     "text": [
      "Epoch 6/100\n",
      "Train Loss: 0.4118, Train Acc: 90.09%\n",
      "Val Loss: 0.4110, Val Acc: 90.13%\n",
      "------------------------------------------------------------\n"
     ]
    },
    {
     "name": "stderr",
     "output_type": "stream",
     "text": [
      "Epoch [7/100]: 100%|██████████| 27/27 [00:04<00:00,  5.65it/s, accuracy=90.6, loss=0.405]\n"
     ]
    },
    {
     "name": "stdout",
     "output_type": "stream",
     "text": [
      "90.78947368421052 0.40310621857643125\n",
      "Epoch 7/100\n",
      "Train Loss: 0.4053, Train Acc: 90.56%\n",
      "Val Loss: 0.4031, Val Acc: 90.79%\n",
      "------------------------------------------------------------\n"
     ]
    },
    {
     "name": "stderr",
     "output_type": "stream",
     "text": [
      "Epoch [8/100]: 100%|██████████| 27/27 [00:04<00:00,  5.41it/s, accuracy=91.8, loss=0.392]\n"
     ]
    },
    {
     "name": "stdout",
     "output_type": "stream",
     "text": [
      "93.42105263157895 0.3880128860473633\n",
      "Epoch 8/100\n",
      "Train Loss: 0.3921, Train Acc: 91.84%\n",
      "Val Loss: 0.3880, Val Acc: 93.42%\n",
      "------------------------------------------------------------\n"
     ]
    },
    {
     "name": "stderr",
     "output_type": "stream",
     "text": [
      "Epoch [9/100]: 100%|██████████| 27/27 [00:04<00:00,  5.51it/s, accuracy=93.1, loss=0.387]\n"
     ]
    },
    {
     "name": "stdout",
     "output_type": "stream",
     "text": [
      "Epoch 9/100\n",
      "Train Loss: 0.3871, Train Acc: 93.12%\n",
      "Val Loss: 0.3918, Val Acc: 93.42%\n",
      "------------------------------------------------------------\n"
     ]
    },
    {
     "name": "stderr",
     "output_type": "stream",
     "text": [
      "Epoch [10/100]: 100%|██████████| 27/27 [00:04<00:00,  5.53it/s, accuracy=93.5, loss=0.38] \n"
     ]
    },
    {
     "name": "stdout",
     "output_type": "stream",
     "text": [
      "Epoch 10/100\n",
      "Train Loss: 0.3802, Train Acc: 93.47%\n",
      "Val Loss: 0.3898, Val Acc: 93.42%\n",
      "------------------------------------------------------------\n"
     ]
    },
    {
     "name": "stderr",
     "output_type": "stream",
     "text": [
      "Epoch [11/100]: 100%|██████████| 27/27 [00:04<00:00,  5.44it/s, accuracy=94.5, loss=0.373]\n"
     ]
    },
    {
     "name": "stdout",
     "output_type": "stream",
     "text": [
      "94.07894736842105 0.3955900430679321\n",
      "Epoch 11/100\n",
      "Train Loss: 0.3731, Train Acc: 94.52%\n",
      "Val Loss: 0.3956, Val Acc: 94.08%\n",
      "------------------------------------------------------------\n"
     ]
    },
    {
     "name": "stderr",
     "output_type": "stream",
     "text": [
      "Epoch [12/100]: 100%|██████████| 27/27 [00:04<00:00,  5.79it/s, accuracy=94.4, loss=0.375]\n"
     ]
    },
    {
     "name": "stdout",
     "output_type": "stream",
     "text": [
      "96.05263157894737 0.3757903277873993\n",
      "Epoch 12/100\n",
      "Train Loss: 0.3748, Train Acc: 94.41%\n",
      "Val Loss: 0.3758, Val Acc: 96.05%\n",
      "------------------------------------------------------------\n"
     ]
    },
    {
     "name": "stderr",
     "output_type": "stream",
     "text": [
      "Epoch [13/100]: 100%|██████████| 27/27 [00:04<00:00,  5.67it/s, accuracy=95.3, loss=0.369]\n"
     ]
    },
    {
     "name": "stdout",
     "output_type": "stream",
     "text": [
      "Epoch 13/100\n",
      "Train Loss: 0.3690, Train Acc: 95.34%\n",
      "Val Loss: 0.3798, Val Acc: 94.08%\n",
      "------------------------------------------------------------\n"
     ]
    },
    {
     "name": "stderr",
     "output_type": "stream",
     "text": [
      "Epoch [14/100]: 100%|██████████| 27/27 [00:04<00:00,  5.70it/s, accuracy=96.6, loss=0.359]\n"
     ]
    },
    {
     "name": "stdout",
     "output_type": "stream",
     "text": [
      "Epoch 14/100\n",
      "Train Loss: 0.3594, Train Acc: 96.62%\n",
      "Val Loss: 0.3751, Val Acc: 92.76%\n",
      "------------------------------------------------------------\n"
     ]
    },
    {
     "name": "stderr",
     "output_type": "stream",
     "text": [
      "Epoch [15/100]: 100%|██████████| 27/27 [00:04<00:00,  5.67it/s, accuracy=96.5, loss=0.361]\n"
     ]
    },
    {
     "name": "stdout",
     "output_type": "stream",
     "text": [
      "Epoch 15/100\n",
      "Train Loss: 0.3612, Train Acc: 96.50%\n",
      "Val Loss: 0.3747, Val Acc: 93.42%\n",
      "------------------------------------------------------------\n"
     ]
    },
    {
     "name": "stderr",
     "output_type": "stream",
     "text": [
      "Epoch [16/100]: 100%|██████████| 27/27 [00:04<00:00,  5.59it/s, accuracy=97.3, loss=0.349]\n"
     ]
    },
    {
     "name": "stdout",
     "output_type": "stream",
     "text": [
      "Epoch 16/100\n",
      "Train Loss: 0.3494, Train Acc: 97.32%\n",
      "Val Loss: 0.3663, Val Acc: 96.05%\n",
      "------------------------------------------------------------\n"
     ]
    },
    {
     "name": "stderr",
     "output_type": "stream",
     "text": [
      "Epoch [17/100]: 100%|██████████| 27/27 [00:04<00:00,  5.63it/s, accuracy=96.5, loss=0.354]\n"
     ]
    },
    {
     "name": "stdout",
     "output_type": "stream",
     "text": [
      "Epoch 17/100\n",
      "Train Loss: 0.3544, Train Acc: 96.50%\n",
      "Val Loss: 0.3831, Val Acc: 94.08%\n",
      "------------------------------------------------------------\n"
     ]
    },
    {
     "name": "stderr",
     "output_type": "stream",
     "text": [
      "Epoch [18/100]: 100%|██████████| 27/27 [00:04<00:00,  5.83it/s, accuracy=98.8, loss=0.341]\n"
     ]
    },
    {
     "name": "stdout",
     "output_type": "stream",
     "text": [
      "Epoch 18/100\n",
      "Train Loss: 0.3413, Train Acc: 98.83%\n",
      "Val Loss: 0.3744, Val Acc: 94.08%\n",
      "------------------------------------------------------------\n"
     ]
    },
    {
     "name": "stderr",
     "output_type": "stream",
     "text": [
      "Epoch [19/100]: 100%|██████████| 27/27 [00:04<00:00,  5.46it/s, accuracy=98.3, loss=0.343]\n"
     ]
    },
    {
     "name": "stdout",
     "output_type": "stream",
     "text": [
      "Epoch 19/100\n",
      "Train Loss: 0.3430, Train Acc: 98.25%\n",
      "Val Loss: 0.3722, Val Acc: 94.08%\n",
      "------------------------------------------------------------\n"
     ]
    },
    {
     "name": "stderr",
     "output_type": "stream",
     "text": [
      "Epoch [20/100]: 100%|██████████| 27/27 [00:04<00:00,  5.43it/s, accuracy=98.8, loss=0.336]\n"
     ]
    },
    {
     "name": "stdout",
     "output_type": "stream",
     "text": [
      "Epoch 20/100\n",
      "Train Loss: 0.3361, Train Acc: 98.83%\n",
      "Val Loss: 0.3592, Val Acc: 96.05%\n",
      "------------------------------------------------------------\n"
     ]
    },
    {
     "name": "stderr",
     "output_type": "stream",
     "text": [
      "Epoch [21/100]: 100%|██████████| 27/27 [00:04<00:00,  5.87it/s, accuracy=98.7, loss=0.337]\n"
     ]
    },
    {
     "name": "stdout",
     "output_type": "stream",
     "text": [
      "Epoch 21/100\n",
      "Train Loss: 0.3370, Train Acc: 98.72%\n",
      "Val Loss: 0.3711, Val Acc: 95.39%\n",
      "------------------------------------------------------------\n"
     ]
    },
    {
     "name": "stderr",
     "output_type": "stream",
     "text": [
      "Epoch [22/100]: 100%|██████████| 27/27 [00:04<00:00,  5.63it/s, accuracy=98.7, loss=0.337]\n"
     ]
    },
    {
     "name": "stdout",
     "output_type": "stream",
     "text": [
      "Epoch 22/100\n",
      "Train Loss: 0.3368, Train Acc: 98.72%\n",
      "Val Loss: 0.3669, Val Acc: 94.74%\n",
      "------------------------------------------------------------\n"
     ]
    },
    {
     "name": "stderr",
     "output_type": "stream",
     "text": [
      "Epoch [23/100]: 100%|██████████| 27/27 [00:04<00:00,  5.83it/s, accuracy=98.8, loss=0.334]\n"
     ]
    },
    {
     "name": "stdout",
     "output_type": "stream",
     "text": [
      "Epoch 23/100\n",
      "Train Loss: 0.3340, Train Acc: 98.83%\n",
      "Val Loss: 0.3637, Val Acc: 95.39%\n",
      "------------------------------------------------------------\n"
     ]
    },
    {
     "name": "stderr",
     "output_type": "stream",
     "text": [
      "Epoch [24/100]: 100%|██████████| 27/27 [00:04<00:00,  5.59it/s, accuracy=99.1, loss=0.334]\n"
     ]
    },
    {
     "name": "stdout",
     "output_type": "stream",
     "text": [
      "98.6842105263158 0.3455255150794983\n",
      "Epoch 24/100\n",
      "Train Loss: 0.3339, Train Acc: 99.07%\n",
      "Val Loss: 0.3455, Val Acc: 98.68%\n",
      "------------------------------------------------------------\n"
     ]
    },
    {
     "name": "stderr",
     "output_type": "stream",
     "text": [
      "Epoch [25/100]: 100%|██████████| 27/27 [00:04<00:00,  5.59it/s, accuracy=99.2, loss=0.328]\n"
     ]
    },
    {
     "name": "stdout",
     "output_type": "stream",
     "text": [
      "Epoch 25/100\n",
      "Train Loss: 0.3280, Train Acc: 99.18%\n",
      "Val Loss: 0.3562, Val Acc: 96.05%\n",
      "------------------------------------------------------------\n"
     ]
    },
    {
     "name": "stderr",
     "output_type": "stream",
     "text": [
      "Epoch [26/100]: 100%|██████████| 27/27 [00:04<00:00,  5.64it/s, accuracy=99.3, loss=0.328]\n"
     ]
    },
    {
     "name": "stdout",
     "output_type": "stream",
     "text": [
      "Epoch 26/100\n",
      "Train Loss: 0.3281, Train Acc: 99.30%\n",
      "Val Loss: 0.3568, Val Acc: 96.71%\n",
      "------------------------------------------------------------\n"
     ]
    },
    {
     "name": "stderr",
     "output_type": "stream",
     "text": [
      "Epoch [27/100]: 100%|██████████| 27/27 [00:04<00:00,  5.63it/s, accuracy=99, loss=0.331]  \n"
     ]
    },
    {
     "name": "stdout",
     "output_type": "stream",
     "text": [
      "Epoch 27/100\n",
      "Train Loss: 0.3307, Train Acc: 98.95%\n",
      "Val Loss: 0.3446, Val Acc: 97.37%\n",
      "------------------------------------------------------------\n"
     ]
    },
    {
     "name": "stderr",
     "output_type": "stream",
     "text": [
      "Epoch [28/100]: 100%|██████████| 27/27 [00:04<00:00,  5.63it/s, accuracy=99, loss=0.329]  \n"
     ]
    },
    {
     "name": "stdout",
     "output_type": "stream",
     "text": [
      "Epoch 28/100\n",
      "Train Loss: 0.3293, Train Acc: 98.95%\n",
      "Val Loss: 0.3481, Val Acc: 97.37%\n",
      "------------------------------------------------------------\n"
     ]
    },
    {
     "name": "stderr",
     "output_type": "stream",
     "text": [
      "Epoch [29/100]: 100%|██████████| 27/27 [00:04<00:00,  5.49it/s, accuracy=99.5, loss=0.324]\n"
     ]
    },
    {
     "name": "stdout",
     "output_type": "stream",
     "text": [
      "Epoch 29/100\n",
      "Train Loss: 0.3240, Train Acc: 99.53%\n",
      "Val Loss: 0.3546, Val Acc: 94.74%\n",
      "------------------------------------------------------------\n"
     ]
    },
    {
     "name": "stderr",
     "output_type": "stream",
     "text": [
      "Epoch [30/100]: 100%|██████████| 27/27 [00:04<00:00,  5.47it/s, accuracy=99.5, loss=0.323]\n"
     ]
    },
    {
     "name": "stdout",
     "output_type": "stream",
     "text": [
      "Epoch 30/100\n",
      "Train Loss: 0.3227, Train Acc: 99.53%\n",
      "Val Loss: 0.3478, Val Acc: 97.37%\n",
      "------------------------------------------------------------\n"
     ]
    },
    {
     "name": "stderr",
     "output_type": "stream",
     "text": [
      "Epoch [31/100]: 100%|██████████| 27/27 [00:04<00:00,  5.58it/s, accuracy=99.5, loss=0.325]\n"
     ]
    },
    {
     "name": "stdout",
     "output_type": "stream",
     "text": [
      "Epoch 31/100\n",
      "Train Loss: 0.3245, Train Acc: 99.53%\n",
      "Val Loss: 0.3496, Val Acc: 96.71%\n",
      "------------------------------------------------------------\n"
     ]
    },
    {
     "name": "stderr",
     "output_type": "stream",
     "text": [
      "Epoch [32/100]: 100%|██████████| 27/27 [00:04<00:00,  5.69it/s, accuracy=99.4, loss=0.325]\n"
     ]
    },
    {
     "name": "stdout",
     "output_type": "stream",
     "text": [
      "Epoch 32/100\n",
      "Train Loss: 0.3245, Train Acc: 99.42%\n",
      "Val Loss: 0.3622, Val Acc: 94.08%\n",
      "------------------------------------------------------------\n"
     ]
    },
    {
     "name": "stderr",
     "output_type": "stream",
     "text": [
      "Epoch [33/100]: 100%|██████████| 27/27 [00:04<00:00,  5.71it/s, accuracy=99.8, loss=0.32] \n"
     ]
    },
    {
     "name": "stdout",
     "output_type": "stream",
     "text": [
      "Epoch 33/100\n",
      "Train Loss: 0.3201, Train Acc: 99.77%\n",
      "Val Loss: 0.3526, Val Acc: 96.71%\n",
      "------------------------------------------------------------\n"
     ]
    },
    {
     "name": "stderr",
     "output_type": "stream",
     "text": [
      "Epoch [34/100]: 100%|██████████| 27/27 [00:04<00:00,  5.63it/s, accuracy=99.7, loss=0.322]\n"
     ]
    },
    {
     "name": "stdout",
     "output_type": "stream",
     "text": [
      "Epoch 34/100\n",
      "Train Loss: 0.3222, Train Acc: 99.65%\n",
      "Val Loss: 0.3491, Val Acc: 96.71%\n",
      "------------------------------------------------------------\n"
     ]
    },
    {
     "name": "stderr",
     "output_type": "stream",
     "text": [
      "Epoch [35/100]: 100%|██████████| 27/27 [00:04<00:00,  5.47it/s, accuracy=99.8, loss=0.32] \n"
     ]
    },
    {
     "name": "stdout",
     "output_type": "stream",
     "text": [
      "Epoch 35/100\n",
      "Train Loss: 0.3203, Train Acc: 99.77%\n",
      "Val Loss: 0.3437, Val Acc: 97.37%\n",
      "------------------------------------------------------------\n"
     ]
    },
    {
     "name": "stderr",
     "output_type": "stream",
     "text": [
      "Epoch [36/100]: 100%|██████████| 27/27 [00:04<00:00,  5.45it/s, accuracy=99.9, loss=0.319]\n"
     ]
    },
    {
     "name": "stdout",
     "output_type": "stream",
     "text": [
      "Epoch 36/100\n",
      "Train Loss: 0.3191, Train Acc: 99.88%\n",
      "Val Loss: 0.3556, Val Acc: 96.05%\n",
      "------------------------------------------------------------\n"
     ]
    },
    {
     "name": "stderr",
     "output_type": "stream",
     "text": [
      "Epoch [37/100]: 100%|██████████| 27/27 [00:04<00:00,  5.52it/s, accuracy=99.4, loss=0.322]\n"
     ]
    },
    {
     "name": "stdout",
     "output_type": "stream",
     "text": [
      "Epoch 37/100\n",
      "Train Loss: 0.3215, Train Acc: 99.42%\n",
      "Val Loss: 0.3516, Val Acc: 95.39%\n",
      "------------------------------------------------------------\n"
     ]
    },
    {
     "name": "stderr",
     "output_type": "stream",
     "text": [
      "Epoch [38/100]: 100%|██████████| 27/27 [00:04<00:00,  5.53it/s, accuracy=100, loss=0.32] \n"
     ]
    },
    {
     "name": "stdout",
     "output_type": "stream",
     "text": [
      "Epoch 38/100\n",
      "Train Loss: 0.3199, Train Acc: 100.00%\n",
      "Val Loss: 0.3483, Val Acc: 97.37%\n",
      "------------------------------------------------------------\n"
     ]
    },
    {
     "name": "stderr",
     "output_type": "stream",
     "text": [
      "Epoch [39/100]: 100%|██████████| 27/27 [00:04<00:00,  5.57it/s, accuracy=99.3, loss=0.322]\n"
     ]
    },
    {
     "name": "stdout",
     "output_type": "stream",
     "text": [
      "Epoch 39/100\n",
      "Train Loss: 0.3222, Train Acc: 99.30%\n",
      "Val Loss: 0.3519, Val Acc: 96.05%\n",
      "------------------------------------------------------------\n"
     ]
    },
    {
     "name": "stderr",
     "output_type": "stream",
     "text": [
      "Epoch [40/100]: 100%|██████████| 27/27 [00:04<00:00,  5.85it/s, accuracy=99.8, loss=0.319]\n"
     ]
    },
    {
     "name": "stdout",
     "output_type": "stream",
     "text": [
      "Epoch 40/100\n",
      "Train Loss: 0.3186, Train Acc: 99.77%\n",
      "Val Loss: 0.3440, Val Acc: 98.03%\n",
      "------------------------------------------------------------\n"
     ]
    },
    {
     "name": "stderr",
     "output_type": "stream",
     "text": [
      "Epoch [41/100]: 100%|██████████| 27/27 [00:04<00:00,  5.59it/s, accuracy=100, loss=0.318]\n"
     ]
    },
    {
     "name": "stdout",
     "output_type": "stream",
     "text": [
      "Epoch 41/100\n",
      "Train Loss: 0.3176, Train Acc: 100.00%\n",
      "Val Loss: 0.3342, Val Acc: 98.68%\n",
      "------------------------------------------------------------\n"
     ]
    },
    {
     "name": "stderr",
     "output_type": "stream",
     "text": [
      "Epoch [42/100]: 100%|██████████| 27/27 [00:04<00:00,  5.65it/s, accuracy=99.7, loss=0.32] \n"
     ]
    },
    {
     "name": "stdout",
     "output_type": "stream",
     "text": [
      "Epoch 42/100\n",
      "Train Loss: 0.3203, Train Acc: 99.65%\n",
      "Val Loss: 0.3369, Val Acc: 98.68%\n",
      "------------------------------------------------------------\n"
     ]
    },
    {
     "name": "stderr",
     "output_type": "stream",
     "text": [
      "Epoch [43/100]: 100%|██████████| 27/27 [00:04<00:00,  5.47it/s, accuracy=99.7, loss=0.318]\n"
     ]
    },
    {
     "name": "stdout",
     "output_type": "stream",
     "text": [
      "Epoch 43/100\n",
      "Train Loss: 0.3184, Train Acc: 99.65%\n",
      "Val Loss: 0.3472, Val Acc: 97.37%\n",
      "------------------------------------------------------------\n"
     ]
    },
    {
     "name": "stderr",
     "output_type": "stream",
     "text": [
      "Epoch [44/100]: 100%|██████████| 27/27 [00:04<00:00,  5.65it/s, accuracy=99.5, loss=0.319]\n"
     ]
    },
    {
     "name": "stdout",
     "output_type": "stream",
     "text": [
      "Epoch 44/100\n",
      "Train Loss: 0.3187, Train Acc: 99.53%\n",
      "Val Loss: 0.3415, Val Acc: 97.37%\n",
      "------------------------------------------------------------\n"
     ]
    },
    {
     "name": "stderr",
     "output_type": "stream",
     "text": [
      "Epoch [45/100]: 100%|██████████| 27/27 [00:04<00:00,  5.67it/s, accuracy=100, loss=0.316]\n"
     ]
    },
    {
     "name": "stdout",
     "output_type": "stream",
     "text": [
      "Epoch 45/100\n",
      "Train Loss: 0.3156, Train Acc: 100.00%\n",
      "Val Loss: 0.3512, Val Acc: 95.39%\n",
      "------------------------------------------------------------\n"
     ]
    },
    {
     "name": "stderr",
     "output_type": "stream",
     "text": [
      "Epoch [46/100]: 100%|██████████| 27/27 [00:04<00:00,  5.57it/s, accuracy=99.9, loss=0.317]\n"
     ]
    },
    {
     "name": "stdout",
     "output_type": "stream",
     "text": [
      "Epoch 46/100\n",
      "Train Loss: 0.3168, Train Acc: 99.88%\n",
      "Val Loss: 0.3495, Val Acc: 96.71%\n",
      "------------------------------------------------------------\n"
     ]
    },
    {
     "name": "stderr",
     "output_type": "stream",
     "text": [
      "Epoch [47/100]: 100%|██████████| 27/27 [00:04<00:00,  5.49it/s, accuracy=99.9, loss=0.316]\n"
     ]
    },
    {
     "name": "stdout",
     "output_type": "stream",
     "text": [
      "Epoch 47/100\n",
      "Train Loss: 0.3162, Train Acc: 99.88%\n",
      "Val Loss: 0.3586, Val Acc: 95.39%\n",
      "------------------------------------------------------------\n"
     ]
    },
    {
     "name": "stderr",
     "output_type": "stream",
     "text": [
      "Epoch [48/100]: 100%|██████████| 27/27 [00:04<00:00,  5.67it/s, accuracy=99.8, loss=0.317]\n"
     ]
    },
    {
     "name": "stdout",
     "output_type": "stream",
     "text": [
      "Epoch 48/100\n",
      "Train Loss: 0.3173, Train Acc: 99.77%\n",
      "Val Loss: 0.3527, Val Acc: 96.05%\n",
      "------------------------------------------------------------\n"
     ]
    },
    {
     "name": "stderr",
     "output_type": "stream",
     "text": [
      "Epoch [49/100]: 100%|██████████| 27/27 [00:04<00:00,  5.53it/s, accuracy=99.9, loss=0.317]\n"
     ]
    },
    {
     "name": "stdout",
     "output_type": "stream",
     "text": [
      "Epoch 49/100\n",
      "Train Loss: 0.3174, Train Acc: 99.88%\n",
      "Val Loss: 0.3417, Val Acc: 98.03%\n",
      "------------------------------------------------------------\n"
     ]
    },
    {
     "name": "stderr",
     "output_type": "stream",
     "text": [
      "Epoch [50/100]: 100%|██████████| 27/27 [00:04<00:00,  5.59it/s, accuracy=99.5, loss=0.32] \n"
     ]
    },
    {
     "name": "stdout",
     "output_type": "stream",
     "text": [
      "Epoch 50/100\n",
      "Train Loss: 0.3201, Train Acc: 99.53%\n",
      "Val Loss: 0.3401, Val Acc: 97.37%\n",
      "------------------------------------------------------------\n"
     ]
    },
    {
     "name": "stderr",
     "output_type": "stream",
     "text": [
      "Epoch [51/100]: 100%|██████████| 27/27 [00:04<00:00,  5.57it/s, accuracy=99.9, loss=0.316]\n"
     ]
    },
    {
     "name": "stdout",
     "output_type": "stream",
     "text": [
      "Epoch 51/100\n",
      "Train Loss: 0.3159, Train Acc: 99.88%\n",
      "Val Loss: 0.3473, Val Acc: 96.05%\n",
      "------------------------------------------------------------\n"
     ]
    },
    {
     "name": "stderr",
     "output_type": "stream",
     "text": [
      "Epoch [52/100]: 100%|██████████| 27/27 [00:04<00:00,  5.48it/s, accuracy=100, loss=0.316]\n"
     ]
    },
    {
     "name": "stdout",
     "output_type": "stream",
     "text": [
      "Epoch 52/100\n",
      "Train Loss: 0.3162, Train Acc: 100.00%\n",
      "Val Loss: 0.3472, Val Acc: 97.37%\n",
      "------------------------------------------------------------\n"
     ]
    },
    {
     "name": "stderr",
     "output_type": "stream",
     "text": [
      "Epoch [53/100]: 100%|██████████| 27/27 [00:04<00:00,  5.62it/s, accuracy=100, loss=0.315]\n"
     ]
    },
    {
     "name": "stdout",
     "output_type": "stream",
     "text": [
      "Epoch 53/100\n",
      "Train Loss: 0.3148, Train Acc: 100.00%\n",
      "Val Loss: 0.3491, Val Acc: 96.05%\n",
      "------------------------------------------------------------\n"
     ]
    },
    {
     "name": "stderr",
     "output_type": "stream",
     "text": [
      "Epoch [54/100]: 100%|██████████| 27/27 [00:04<00:00,  5.67it/s, accuracy=99.7, loss=0.317]\n"
     ]
    },
    {
     "name": "stdout",
     "output_type": "stream",
     "text": [
      "Epoch 54/100\n",
      "Train Loss: 0.3170, Train Acc: 99.65%\n",
      "Val Loss: 0.3384, Val Acc: 97.37%\n",
      "------------------------------------------------------------\n"
     ]
    },
    {
     "name": "stderr",
     "output_type": "stream",
     "text": [
      "Epoch [55/100]: 100%|██████████| 27/27 [00:04<00:00,  5.70it/s, accuracy=99.8, loss=0.316]\n"
     ]
    },
    {
     "name": "stdout",
     "output_type": "stream",
     "text": [
      "Epoch 55/100\n",
      "Train Loss: 0.3164, Train Acc: 99.77%\n",
      "Val Loss: 0.3384, Val Acc: 98.03%\n",
      "------------------------------------------------------------\n"
     ]
    },
    {
     "name": "stderr",
     "output_type": "stream",
     "text": [
      "Epoch [56/100]: 100%|██████████| 27/27 [00:04<00:00,  5.51it/s, accuracy=99.5, loss=0.318]\n"
     ]
    },
    {
     "name": "stdout",
     "output_type": "stream",
     "text": [
      "Epoch 56/100\n",
      "Train Loss: 0.3178, Train Acc: 99.53%\n",
      "Val Loss: 0.3449, Val Acc: 96.71%\n",
      "------------------------------------------------------------\n"
     ]
    },
    {
     "name": "stderr",
     "output_type": "stream",
     "text": [
      "Epoch [57/100]: 100%|██████████| 27/27 [00:04<00:00,  5.63it/s, accuracy=100, loss=0.315]\n"
     ]
    },
    {
     "name": "stdout",
     "output_type": "stream",
     "text": [
      "Epoch 57/100\n",
      "Train Loss: 0.3153, Train Acc: 100.00%\n",
      "Val Loss: 0.3449, Val Acc: 96.71%\n",
      "------------------------------------------------------------\n"
     ]
    },
    {
     "name": "stderr",
     "output_type": "stream",
     "text": [
      "Epoch [58/100]: 100%|██████████| 27/27 [00:05<00:00,  4.88it/s, accuracy=100, loss=0.315]\n"
     ]
    },
    {
     "name": "stdout",
     "output_type": "stream",
     "text": [
      "Epoch 58/100\n",
      "Train Loss: 0.3147, Train Acc: 100.00%\n",
      "Val Loss: 0.3476, Val Acc: 96.71%\n",
      "------------------------------------------------------------\n"
     ]
    },
    {
     "name": "stderr",
     "output_type": "stream",
     "text": [
      "Epoch [59/100]: 100%|██████████| 27/27 [00:04<00:00,  5.42it/s, accuracy=99.8, loss=0.317]\n"
     ]
    },
    {
     "name": "stdout",
     "output_type": "stream",
     "text": [
      "Epoch 59/100\n",
      "Train Loss: 0.3165, Train Acc: 99.77%\n",
      "Val Loss: 0.3386, Val Acc: 98.03%\n",
      "------------------------------------------------------------\n"
     ]
    },
    {
     "name": "stderr",
     "output_type": "stream",
     "text": [
      "Epoch [60/100]: 100%|██████████| 27/27 [00:04<00:00,  5.55it/s, accuracy=100, loss=0.314]\n"
     ]
    },
    {
     "name": "stdout",
     "output_type": "stream",
     "text": [
      "Epoch 60/100\n",
      "Train Loss: 0.3144, Train Acc: 100.00%\n",
      "Val Loss: 0.3360, Val Acc: 98.03%\n",
      "------------------------------------------------------------\n"
     ]
    },
    {
     "name": "stderr",
     "output_type": "stream",
     "text": [
      "Epoch [61/100]: 100%|██████████| 27/27 [00:04<00:00,  5.57it/s, accuracy=100, loss=0.315]\n"
     ]
    },
    {
     "name": "stdout",
     "output_type": "stream",
     "text": [
      "Epoch 61/100\n",
      "Train Loss: 0.3146, Train Acc: 100.00%\n",
      "Val Loss: 0.3350, Val Acc: 98.03%\n",
      "------------------------------------------------------------\n"
     ]
    },
    {
     "name": "stderr",
     "output_type": "stream",
     "text": [
      "Epoch [62/100]: 100%|██████████| 27/27 [00:04<00:00,  5.52it/s, accuracy=100, loss=0.314]\n"
     ]
    },
    {
     "name": "stdout",
     "output_type": "stream",
     "text": [
      "Epoch 62/100\n",
      "Train Loss: 0.3143, Train Acc: 100.00%\n",
      "Val Loss: 0.3428, Val Acc: 97.37%\n",
      "------------------------------------------------------------\n"
     ]
    },
    {
     "name": "stderr",
     "output_type": "stream",
     "text": [
      "Epoch [63/100]: 100%|██████████| 27/27 [00:04<00:00,  5.49it/s, accuracy=100, loss=0.315]\n"
     ]
    },
    {
     "name": "stdout",
     "output_type": "stream",
     "text": [
      "Epoch 63/100\n",
      "Train Loss: 0.3145, Train Acc: 100.00%\n",
      "Val Loss: 0.3471, Val Acc: 96.05%\n",
      "------------------------------------------------------------\n"
     ]
    },
    {
     "name": "stderr",
     "output_type": "stream",
     "text": [
      "Epoch [64/100]: 100%|██████████| 27/27 [00:04<00:00,  5.47it/s, accuracy=100, loss=0.315]\n"
     ]
    },
    {
     "name": "stdout",
     "output_type": "stream",
     "text": [
      "Epoch 64/100\n",
      "Train Loss: 0.3146, Train Acc: 100.00%\n",
      "Val Loss: 0.3457, Val Acc: 96.05%\n",
      "------------------------------------------------------------\n"
     ]
    },
    {
     "name": "stderr",
     "output_type": "stream",
     "text": [
      "Epoch [65/100]: 100%|██████████| 27/27 [00:04<00:00,  5.69it/s, accuracy=100, loss=0.315]\n"
     ]
    },
    {
     "name": "stdout",
     "output_type": "stream",
     "text": [
      "Epoch 65/100\n",
      "Train Loss: 0.3149, Train Acc: 100.00%\n",
      "Val Loss: 0.3581, Val Acc: 95.39%\n",
      "------------------------------------------------------------\n"
     ]
    },
    {
     "name": "stderr",
     "output_type": "stream",
     "text": [
      "Epoch [66/100]: 100%|██████████| 27/27 [00:04<00:00,  5.49it/s, accuracy=100, loss=0.314]\n"
     ]
    },
    {
     "name": "stdout",
     "output_type": "stream",
     "text": [
      "Epoch 66/100\n",
      "Train Loss: 0.3144, Train Acc: 100.00%\n",
      "Val Loss: 0.3494, Val Acc: 97.37%\n",
      "------------------------------------------------------------\n"
     ]
    },
    {
     "name": "stderr",
     "output_type": "stream",
     "text": [
      "Epoch [67/100]: 100%|██████████| 27/27 [00:04<00:00,  5.89it/s, accuracy=99.9, loss=0.315]\n"
     ]
    },
    {
     "name": "stdout",
     "output_type": "stream",
     "text": [
      "Epoch 67/100\n",
      "Train Loss: 0.3155, Train Acc: 99.88%\n",
      "Val Loss: 0.3362, Val Acc: 97.37%\n",
      "------------------------------------------------------------\n"
     ]
    },
    {
     "name": "stderr",
     "output_type": "stream",
     "text": [
      "Epoch [68/100]: 100%|██████████| 27/27 [00:04<00:00,  5.62it/s, accuracy=100, loss=0.314]\n"
     ]
    },
    {
     "name": "stdout",
     "output_type": "stream",
     "text": [
      "Epoch 68/100\n",
      "Train Loss: 0.3142, Train Acc: 100.00%\n",
      "Val Loss: 0.3449, Val Acc: 97.37%\n",
      "------------------------------------------------------------\n"
     ]
    },
    {
     "name": "stderr",
     "output_type": "stream",
     "text": [
      "Epoch [69/100]: 100%|██████████| 27/27 [00:04<00:00,  5.53it/s, accuracy=100, loss=0.315]\n"
     ]
    },
    {
     "name": "stdout",
     "output_type": "stream",
     "text": [
      "Epoch 69/100\n",
      "Train Loss: 0.3146, Train Acc: 100.00%\n",
      "Val Loss: 0.3529, Val Acc: 96.05%\n",
      "------------------------------------------------------------\n"
     ]
    },
    {
     "name": "stderr",
     "output_type": "stream",
     "text": [
      "Epoch [70/100]: 100%|██████████| 27/27 [00:04<00:00,  5.51it/s, accuracy=99.9, loss=0.315]\n"
     ]
    },
    {
     "name": "stdout",
     "output_type": "stream",
     "text": [
      "Epoch 70/100\n",
      "Train Loss: 0.3154, Train Acc: 99.88%\n",
      "Val Loss: 0.3600, Val Acc: 94.74%\n",
      "------------------------------------------------------------\n"
     ]
    },
    {
     "name": "stderr",
     "output_type": "stream",
     "text": [
      "Epoch [71/100]: 100%|██████████| 27/27 [00:04<00:00,  5.61it/s, accuracy=99.9, loss=0.315]\n"
     ]
    },
    {
     "name": "stdout",
     "output_type": "stream",
     "text": [
      "Epoch 71/100\n",
      "Train Loss: 0.3149, Train Acc: 99.88%\n",
      "Val Loss: 0.3552, Val Acc: 94.74%\n",
      "------------------------------------------------------------\n"
     ]
    },
    {
     "name": "stderr",
     "output_type": "stream",
     "text": [
      "Epoch [72/100]: 100%|██████████| 27/27 [00:04<00:00,  5.57it/s, accuracy=99.7, loss=0.318]\n"
     ]
    },
    {
     "name": "stdout",
     "output_type": "stream",
     "text": [
      "Epoch 72/100\n",
      "Train Loss: 0.3178, Train Acc: 99.65%\n",
      "Val Loss: 0.3604, Val Acc: 95.39%\n",
      "------------------------------------------------------------\n"
     ]
    },
    {
     "name": "stderr",
     "output_type": "stream",
     "text": [
      "Epoch [73/100]: 100%|██████████| 27/27 [00:04<00:00,  5.89it/s, accuracy=99.9, loss=0.316]\n"
     ]
    },
    {
     "name": "stdout",
     "output_type": "stream",
     "text": [
      "Epoch 73/100\n",
      "Train Loss: 0.3156, Train Acc: 99.88%\n",
      "Val Loss: 0.3525, Val Acc: 95.39%\n",
      "------------------------------------------------------------\n"
     ]
    },
    {
     "name": "stderr",
     "output_type": "stream",
     "text": [
      "Epoch [74/100]: 100%|██████████| 27/27 [00:04<00:00,  5.71it/s, accuracy=100, loss=0.315]\n"
     ]
    },
    {
     "name": "stdout",
     "output_type": "stream",
     "text": [
      "Epoch 74/100\n",
      "Train Loss: 0.3146, Train Acc: 100.00%\n",
      "Val Loss: 0.3414, Val Acc: 97.37%\n",
      "------------------------------------------------------------\n"
     ]
    },
    {
     "name": "stderr",
     "output_type": "stream",
     "text": [
      "Epoch [75/100]: 100%|██████████| 27/27 [00:04<00:00,  5.49it/s, accuracy=100, loss=0.315]\n"
     ]
    },
    {
     "name": "stdout",
     "output_type": "stream",
     "text": [
      "Epoch 75/100\n",
      "Train Loss: 0.3145, Train Acc: 100.00%\n",
      "Val Loss: 0.3524, Val Acc: 95.39%\n",
      "------------------------------------------------------------\n"
     ]
    },
    {
     "name": "stderr",
     "output_type": "stream",
     "text": [
      "Epoch [76/100]: 100%|██████████| 27/27 [00:04<00:00,  5.55it/s, accuracy=100, loss=0.314]\n"
     ]
    },
    {
     "name": "stdout",
     "output_type": "stream",
     "text": [
      "Epoch 76/100\n",
      "Train Loss: 0.3138, Train Acc: 100.00%\n",
      "Val Loss: 0.3490, Val Acc: 96.71%\n",
      "------------------------------------------------------------\n"
     ]
    },
    {
     "name": "stderr",
     "output_type": "stream",
     "text": [
      "Epoch [77/100]: 100%|██████████| 27/27 [00:04<00:00,  5.89it/s, accuracy=100, loss=0.314]\n"
     ]
    },
    {
     "name": "stdout",
     "output_type": "stream",
     "text": [
      "Epoch 77/100\n",
      "Train Loss: 0.3139, Train Acc: 100.00%\n",
      "Val Loss: 0.3487, Val Acc: 96.71%\n",
      "------------------------------------------------------------\n"
     ]
    },
    {
     "name": "stderr",
     "output_type": "stream",
     "text": [
      "Epoch [78/100]: 100%|██████████| 27/27 [00:04<00:00,  5.51it/s, accuracy=100, loss=0.314]\n"
     ]
    },
    {
     "name": "stdout",
     "output_type": "stream",
     "text": [
      "Epoch 78/100\n",
      "Train Loss: 0.3141, Train Acc: 100.00%\n",
      "Val Loss: 0.3457, Val Acc: 96.71%\n",
      "------------------------------------------------------------\n"
     ]
    },
    {
     "name": "stderr",
     "output_type": "stream",
     "text": [
      "Epoch [79/100]: 100%|██████████| 27/27 [00:04<00:00,  5.55it/s, accuracy=100, loss=0.314]\n"
     ]
    },
    {
     "name": "stdout",
     "output_type": "stream",
     "text": [
      "Epoch 79/100\n",
      "Train Loss: 0.3138, Train Acc: 100.00%\n",
      "Val Loss: 0.3574, Val Acc: 95.39%\n",
      "------------------------------------------------------------\n"
     ]
    },
    {
     "name": "stderr",
     "output_type": "stream",
     "text": [
      "Epoch [80/100]: 100%|██████████| 27/27 [00:04<00:00,  5.67it/s, accuracy=100, loss=0.314]\n"
     ]
    },
    {
     "name": "stdout",
     "output_type": "stream",
     "text": [
      "Epoch 80/100\n",
      "Train Loss: 0.3139, Train Acc: 100.00%\n",
      "Val Loss: 0.3572, Val Acc: 95.39%\n",
      "------------------------------------------------------------\n"
     ]
    },
    {
     "name": "stderr",
     "output_type": "stream",
     "text": [
      "Epoch [81/100]: 100%|██████████| 27/27 [00:04<00:00,  5.46it/s, accuracy=100, loss=0.314]\n"
     ]
    },
    {
     "name": "stdout",
     "output_type": "stream",
     "text": [
      "Epoch 81/100\n",
      "Train Loss: 0.3140, Train Acc: 100.00%\n",
      "Val Loss: 0.3484, Val Acc: 96.05%\n",
      "------------------------------------------------------------\n"
     ]
    },
    {
     "name": "stderr",
     "output_type": "stream",
     "text": [
      "Epoch [82/100]: 100%|██████████| 27/27 [00:04<00:00,  5.42it/s, accuracy=100, loss=0.314]\n"
     ]
    },
    {
     "name": "stdout",
     "output_type": "stream",
     "text": [
      "Epoch 82/100\n",
      "Train Loss: 0.3142, Train Acc: 100.00%\n",
      "Val Loss: 0.3476, Val Acc: 96.71%\n",
      "------------------------------------------------------------\n"
     ]
    },
    {
     "name": "stderr",
     "output_type": "stream",
     "text": [
      "Epoch [83/100]: 100%|██████████| 27/27 [00:05<00:00,  5.32it/s, accuracy=99.9, loss=0.315]\n"
     ]
    },
    {
     "name": "stdout",
     "output_type": "stream",
     "text": [
      "Epoch 83/100\n",
      "Train Loss: 0.3148, Train Acc: 99.88%\n",
      "Val Loss: 0.3518, Val Acc: 96.05%\n",
      "------------------------------------------------------------\n"
     ]
    },
    {
     "name": "stderr",
     "output_type": "stream",
     "text": [
      "Epoch [84/100]: 100%|██████████| 27/27 [00:05<00:00,  5.38it/s, accuracy=99.9, loss=0.315]\n"
     ]
    },
    {
     "name": "stdout",
     "output_type": "stream",
     "text": [
      "Epoch 84/100\n",
      "Train Loss: 0.3152, Train Acc: 99.88%\n",
      "Val Loss: 0.3516, Val Acc: 96.05%\n",
      "------------------------------------------------------------\n"
     ]
    },
    {
     "name": "stderr",
     "output_type": "stream",
     "text": [
      "Epoch [85/100]: 100%|██████████| 27/27 [00:04<00:00,  5.46it/s, accuracy=100, loss=0.314]\n"
     ]
    },
    {
     "name": "stdout",
     "output_type": "stream",
     "text": [
      "Epoch 85/100\n",
      "Train Loss: 0.3140, Train Acc: 100.00%\n",
      "Val Loss: 0.3565, Val Acc: 96.05%\n",
      "------------------------------------------------------------\n"
     ]
    },
    {
     "name": "stderr",
     "output_type": "stream",
     "text": [
      "Epoch [86/100]: 100%|██████████| 27/27 [00:05<00:00,  5.28it/s, accuracy=100, loss=0.315]\n"
     ]
    },
    {
     "name": "stdout",
     "output_type": "stream",
     "text": [
      "Epoch 86/100\n",
      "Train Loss: 0.3153, Train Acc: 100.00%\n",
      "Val Loss: 0.3642, Val Acc: 94.08%\n",
      "------------------------------------------------------------\n"
     ]
    },
    {
     "name": "stderr",
     "output_type": "stream",
     "text": [
      "Epoch [87/100]: 100%|██████████| 27/27 [00:05<00:00,  5.18it/s, accuracy=99.9, loss=0.315]\n"
     ]
    },
    {
     "name": "stdout",
     "output_type": "stream",
     "text": [
      "Epoch 87/100\n",
      "Train Loss: 0.3153, Train Acc: 99.88%\n",
      "Val Loss: 0.3672, Val Acc: 94.08%\n",
      "------------------------------------------------------------\n"
     ]
    },
    {
     "name": "stderr",
     "output_type": "stream",
     "text": [
      "Epoch [88/100]: 100%|██████████| 27/27 [00:04<00:00,  5.50it/s, accuracy=100, loss=0.314]\n"
     ]
    },
    {
     "name": "stdout",
     "output_type": "stream",
     "text": [
      "Epoch 88/100\n",
      "Train Loss: 0.3141, Train Acc: 100.00%\n",
      "Val Loss: 0.3524, Val Acc: 96.05%\n",
      "------------------------------------------------------------\n"
     ]
    },
    {
     "name": "stderr",
     "output_type": "stream",
     "text": [
      "Epoch [89/100]: 100%|██████████| 27/27 [00:04<00:00,  5.48it/s, accuracy=99.9, loss=0.315]\n"
     ]
    },
    {
     "name": "stdout",
     "output_type": "stream",
     "text": [
      "Epoch 89/100\n",
      "Train Loss: 0.3154, Train Acc: 99.88%\n",
      "Val Loss: 0.3529, Val Acc: 96.71%\n",
      "------------------------------------------------------------\n"
     ]
    },
    {
     "name": "stderr",
     "output_type": "stream",
     "text": [
      "Epoch [90/100]: 100%|██████████| 27/27 [00:04<00:00,  5.46it/s, accuracy=99.9, loss=0.315]\n"
     ]
    },
    {
     "name": "stdout",
     "output_type": "stream",
     "text": [
      "Epoch 90/100\n",
      "Train Loss: 0.3149, Train Acc: 99.88%\n",
      "Val Loss: 0.3517, Val Acc: 96.05%\n",
      "------------------------------------------------------------\n"
     ]
    },
    {
     "name": "stderr",
     "output_type": "stream",
     "text": [
      "Epoch [91/100]: 100%|██████████| 27/27 [00:04<00:00,  5.48it/s, accuracy=100, loss=0.314]\n"
     ]
    },
    {
     "name": "stdout",
     "output_type": "stream",
     "text": [
      "Epoch 91/100\n",
      "Train Loss: 0.3140, Train Acc: 100.00%\n",
      "Val Loss: 0.3515, Val Acc: 96.05%\n",
      "------------------------------------------------------------\n"
     ]
    },
    {
     "name": "stderr",
     "output_type": "stream",
     "text": [
      "Epoch [92/100]: 100%|██████████| 27/27 [00:04<00:00,  5.87it/s, accuracy=100, loss=0.314]\n"
     ]
    },
    {
     "name": "stdout",
     "output_type": "stream",
     "text": [
      "Epoch 92/100\n",
      "Train Loss: 0.3142, Train Acc: 100.00%\n",
      "Val Loss: 0.3529, Val Acc: 96.05%\n",
      "------------------------------------------------------------\n"
     ]
    },
    {
     "name": "stderr",
     "output_type": "stream",
     "text": [
      "Epoch [93/100]: 100%|██████████| 27/27 [00:04<00:00,  5.59it/s, accuracy=100, loss=0.314]\n"
     ]
    },
    {
     "name": "stdout",
     "output_type": "stream",
     "text": [
      "Epoch 93/100\n",
      "Train Loss: 0.3143, Train Acc: 100.00%\n",
      "Val Loss: 0.3398, Val Acc: 97.37%\n",
      "------------------------------------------------------------\n"
     ]
    },
    {
     "name": "stderr",
     "output_type": "stream",
     "text": [
      "Epoch [94/100]: 100%|██████████| 27/27 [00:04<00:00,  5.61it/s, accuracy=100, loss=0.314]\n"
     ]
    },
    {
     "name": "stdout",
     "output_type": "stream",
     "text": [
      "Epoch 94/100\n",
      "Train Loss: 0.3137, Train Acc: 100.00%\n",
      "Val Loss: 0.3475, Val Acc: 96.71%\n",
      "------------------------------------------------------------\n"
     ]
    },
    {
     "name": "stderr",
     "output_type": "stream",
     "text": [
      "Epoch [95/100]: 100%|██████████| 27/27 [00:04<00:00,  5.49it/s, accuracy=100, loss=0.314]\n"
     ]
    },
    {
     "name": "stdout",
     "output_type": "stream",
     "text": [
      "Epoch 95/100\n",
      "Train Loss: 0.3139, Train Acc: 100.00%\n",
      "Val Loss: 0.3555, Val Acc: 95.39%\n",
      "------------------------------------------------------------\n"
     ]
    },
    {
     "name": "stderr",
     "output_type": "stream",
     "text": [
      "Epoch [96/100]: 100%|██████████| 27/27 [00:05<00:00,  5.37it/s, accuracy=100, loss=0.314]\n"
     ]
    },
    {
     "name": "stdout",
     "output_type": "stream",
     "text": [
      "Epoch 96/100\n",
      "Train Loss: 0.3135, Train Acc: 100.00%\n",
      "Val Loss: 0.3486, Val Acc: 96.71%\n",
      "------------------------------------------------------------\n"
     ]
    },
    {
     "name": "stderr",
     "output_type": "stream",
     "text": [
      "Epoch [97/100]: 100%|██████████| 27/27 [00:04<00:00,  5.72it/s, accuracy=100, loss=0.314]\n"
     ]
    },
    {
     "name": "stdout",
     "output_type": "stream",
     "text": [
      "Epoch 97/100\n",
      "Train Loss: 0.3139, Train Acc: 100.00%\n",
      "Val Loss: 0.3490, Val Acc: 96.71%\n",
      "------------------------------------------------------------\n"
     ]
    },
    {
     "name": "stderr",
     "output_type": "stream",
     "text": [
      "Epoch [98/100]: 100%|██████████| 27/27 [00:04<00:00,  5.42it/s, accuracy=100, loss=0.314]\n"
     ]
    },
    {
     "name": "stdout",
     "output_type": "stream",
     "text": [
      "Epoch 98/100\n",
      "Train Loss: 0.3141, Train Acc: 100.00%\n",
      "Val Loss: 0.3511, Val Acc: 95.39%\n",
      "------------------------------------------------------------\n"
     ]
    },
    {
     "name": "stderr",
     "output_type": "stream",
     "text": [
      "Epoch [99/100]: 100%|██████████| 27/27 [00:04<00:00,  5.91it/s, accuracy=100, loss=0.314]\n"
     ]
    },
    {
     "name": "stdout",
     "output_type": "stream",
     "text": [
      "Epoch 99/100\n",
      "Train Loss: 0.3139, Train Acc: 100.00%\n",
      "Val Loss: 0.3432, Val Acc: 96.71%\n",
      "------------------------------------------------------------\n"
     ]
    },
    {
     "name": "stderr",
     "output_type": "stream",
     "text": [
      "Epoch [100/100]: 100%|██████████| 27/27 [00:05<00:00,  5.40it/s, accuracy=100, loss=0.314]\n"
     ]
    },
    {
     "name": "stdout",
     "output_type": "stream",
     "text": [
      "Epoch 100/100\n",
      "Train Loss: 0.3135, Train Acc: 100.00%\n",
      "Val Loss: 0.3523, Val Acc: 96.05%\n",
      "------------------------------------------------------------\n",
      "Finished Training\n"
     ]
    }
   ],
   "source": [
    "print(\"Starting training...\")\n",
    "# model_.load_state_dict(torch.load('model.pth', map_location=device))\n",
    "# for param in model_.parameters():\n",
    "#     param.requires_grad = True\n",
    "trained_model, train_losses, train_accuracies, val_losses, val_accuracies = train(\n",
    "    model_, train_loader, val_loader, epochs=100\n",
    ")"
   ]
  },
  {
   "cell_type": "markdown",
   "metadata": {},
   "source": [
    "#### Evaluating"
   ]
  },
  {
   "cell_type": "code",
   "execution_count": 8,
   "metadata": {},
   "outputs": [
    {
     "name": "stdout",
     "output_type": "stream",
     "text": [
      "Starting evaluating...\n"
     ]
    },
    {
     "name": "stderr",
     "output_type": "stream",
     "text": [
      "Evaluating: 100%|██████████| 5/5 [00:10<00:00,  2.04s/it]"
     ]
    },
    {
     "name": "stdout",
     "output_type": "stream",
     "text": [
      "Overall Accuracy: 96.05%\n"
     ]
    },
    {
     "name": "stderr",
     "output_type": "stream",
     "text": [
      "\n"
     ]
    }
   ],
   "source": [
    "print(\"Starting evaluating...\")\n",
    "class_correct, class_total, confusion_matrix = evaluate(trained_model, val_loader)"
   ]
  },
  {
   "cell_type": "markdown",
   "metadata": {},
   "source": [
    "#### Plot function"
   ]
  },
  {
   "cell_type": "code",
   "execution_count": 9,
   "metadata": {},
   "outputs": [],
   "source": [
    "def plot_training_metrics(train_losses, train_accuracies, val_losses, val_accuracies):\n",
    "\n",
    "    epochs = range(1, len(train_losses) + 1)\n",
    "    \n",
    "    fig, (ax1, ax2) = plt.subplots(1, 2, figsize=(15, 5))\n",
    "\n",
    "    ax1.plot(epochs, train_losses, 'b-', label='Training Loss')\n",
    "    ax1.plot(epochs, val_losses, 'r-', label='Validation Loss')\n",
    "    ax1.set_title('Training and Validation Loss')\n",
    "    ax1.set_xlabel('Epochs')\n",
    "    ax1.set_ylabel('Loss')\n",
    "    ax1.legend()\n",
    "    ax1.grid(True)\n",
    "    \n",
    "    ax2.plot(epochs, train_accuracies, 'b-', label='Training Accuracy')\n",
    "    ax2.plot(epochs, val_accuracies, 'r-', label='Validation Accuracy')\n",
    "    ax2.set_title('Training and Validation Accuracy')\n",
    "    ax2.set_xlabel('Epochs')\n",
    "    ax2.set_ylabel('Accuracy (%)')\n",
    "    ax2.legend()\n",
    "    ax2.grid(True)\n",
    "    \n",
    "    plt.tight_layout()\n",
    "    plt.show()\n",
    "    \n",
    "    fig.savefig('training_metrics.png')\n",
    "    print(\"Training metrics plot saved as 'training_metrics.png'\")\n",
    "    return"
   ]
  },
  {
   "cell_type": "code",
   "execution_count": 10,
   "metadata": {},
   "outputs": [],
   "source": [
    "def plot_evaluation_metrics(class_correct, class_total, confusion_matrix):\n",
    "\n",
    "    num_classes = len(classes)\n",
    "    \n",
    "    # Calculate accuracies and identify valid classes\n",
    "    accuracies = []\n",
    "    valid_classes = []\n",
    "    \n",
    "    print(\"\\nPer-class Accuracy:\")\n",
    "    print(\"-\" * 50)\n",
    "    for i in range(num_classes):\n",
    "        if class_total[i] > 0:  # Avoid division by zero\n",
    "            accuracy = 100 * class_correct[i] / class_total[i]\n",
    "            print(f'{classes[i]}: {accuracy:.2f}% ({int(class_correct[i])}/{int(class_total[i])})')\n",
    "            accuracies.append(accuracy)\n",
    "            valid_classes.append(classes[i])\n",
    "        else:\n",
    "            print(f'{classes[i]}: No samples')\n",
    "    \n",
    "    # Plot per-class accuracy as a bar chart\n",
    "    plt.figure(figsize=(12, 6))\n",
    "    plt.bar(valid_classes, accuracies, color='skyblue')\n",
    "    plt.xlabel('Classes')\n",
    "    plt.ylabel('Accuracy (%)')\n",
    "    plt.title('Per-class Accuracy')\n",
    "    plt.xticks(rotation=45, ha='right')\n",
    "    plt.tight_layout()\n",
    "    plt.savefig('per_class_accuracy.png')\n",
    "    plt.show()\n",
    "    \n",
    "    # Normalize confusion matrix by row (true labels) and plot\n",
    "    normalized_confusion_matrix = confusion_matrix.clone()  # Create a copy to avoid modifying the original\n",
    "    for i in range(num_classes):\n",
    "        if normalized_confusion_matrix[i].sum() > 0:\n",
    "            normalized_confusion_matrix[i] = normalized_confusion_matrix[i] / normalized_confusion_matrix[i].sum()\n",
    "    \n",
    "    # Plot confusion matrix\n",
    "    plt.figure(figsize=(10, 8))\n",
    "    plt.imshow(normalized_confusion_matrix.cpu().numpy(), interpolation='nearest', cmap=plt.cm.Blues)\n",
    "    plt.title('Normalized Confusion Matrix')\n",
    "    plt.colorbar()\n",
    "    tick_marks = np.arange(num_classes)\n",
    "    plt.xticks(tick_marks, classes, rotation=45, ha='right')\n",
    "    plt.yticks(tick_marks, classes)\n",
    "   \n",
    "    thresh = normalized_confusion_matrix.cpu().numpy().max() / 2.0\n",
    "    for i in range(num_classes):\n",
    "        for j in range(num_classes):\n",
    "            plt.text(j, i, f'{normalized_confusion_matrix[i, j]:.2f}',\n",
    "                     horizontalalignment=\"center\",\n",
    "                     color=\"white\" if normalized_confusion_matrix[i, j] > thresh else \"black\")\n",
    "    \n",
    "    plt.tight_layout()\n",
    "    plt.ylabel('True label')\n",
    "    plt.xlabel('Predicted label')\n",
    "    plt.savefig('confusion_matrix.png')\n",
    "    plt.show()\n",
    "    \n",
    "    return"
   ]
  },
  {
   "cell_type": "code",
   "execution_count": 11,
   "metadata": {},
   "outputs": [
    {
     "data": {
      "image/png": "[encoded data removed]",
      "text/plain": [
       "<Figure size 1500x500 with 2 Axes>"
      ]
     },
     "metadata": {},
     "output_type": "display_data"
    },
    {
     "name": "stdout",
     "output_type": "stream",
     "text": [
      "Training metrics plot saved as 'training_metrics.png'\n"
     ]
    }
   ],
   "source": [
    "plot_training_metrics(train_losses, train_accuracies, val_losses, val_accuracies)"
   ]
  },
  {
   "cell_type": "code",
   "execution_count": 12,
   "metadata": {},
   "outputs": [
    {
     "name": "stdout",
     "output_type": "stream",
     "text": [
      "\n",
      "Per-class Accuracy:\n",
      "--------------------------------------------------\n",
      "Big: 98.36% (120/122)\n",
      "Small: 86.67% (26/30)\n"
     ]
    },
    {
     "data": {
      "image/png": "[encoded data removed]",
      "text/plain": [
       "<Figure size 1200x600 with 1 Axes>"
      ]
     },
     "metadata": {},
     "output_type": "display_data"
    },
    {
     "data": {
      "image/png": "[encoded data removed]",
      "text/plain": [
       "<Figure size 1000x800 with 2 Axes>"
      ]
     },
     "metadata": {},
     "output_type": "display_data"
    }
   ],
   "source": [
    "plot_evaluation_metrics(class_correct, class_total, confusion_matrix)"
   ]
  },
  {
   "cell_type": "markdown",
   "metadata": {},
   "source": [
    "#### Generate prediction"
   ]
  },
  {
   "cell_type": "code",
   "execution_count": 6,
   "metadata": {},
   "outputs": [
    {
     "name": "stdout",
     "output_type": "stream",
     "text": [
      "Loaded CSV with 100 entries\n"
     ]
    },
    {
     "name": "stderr",
     "output_type": "stream",
     "text": [
      "100%|██████████| 100/100 [00:00<00:00, 102.53it/s]"
     ]
    },
    {
     "name": "stdout",
     "output_type": "stream",
     "text": [
      "Updated CSV saved to ./submission_example.csv\n"
     ]
    },
    {
     "name": "stderr",
     "output_type": "stream",
     "text": [
      "\n"
     ]
    }
   ],
   "source": [
    "import os\n",
    "# Change this part to your path\n",
    "test_folder_path=\"./test\"        \n",
    "csv_file_path=\"./submission_example.csv\"\n",
    "model_path=\"best_model.pth\"\n",
    "file_extension=\".jpg\"           \n",
    "\n",
    "\n",
    "# Load CSV file\n",
    "df = pd.read_csv(csv_file_path)\n",
    "print(f\"Loaded CSV with {len(df)} entries\")\n",
    "\n",
    "# Get column names\n",
    "columns = df.columns.tolist()\n",
    "first_col = columns[0]  # Image name column\n",
    "second_col = columns[1]  # Empty column for predictions\n",
    "\n",
    "# Load model\n",
    "model_.load_state_dict(torch.load(model_path, map_location=device))\n",
    "# model_ = trained_model\n",
    "model_.to(device)\n",
    "model_.eval()\n",
    "\n",
    "imagenet_stats = [(0.485, 0.456, 0.406), (0.229, 0.224, 0.225)]\n",
    "\n",
    "# Set up transformation (same as we set up earlier in the dataloading part, put I put here again for clarity)\n",
    "transform = transforms.Compose([\n",
    "    transforms.CenterCrop((450, 270)),\n",
    "    # transforms.RandomHorizontalFlip(),\n",
    "    # transforms.RandomRotation(10),\n",
    "    # transforms.ColorJitter(),\n",
    "    transforms.ToTensor(),\n",
    "    transforms.Normalize(imagenet_stats[0], imagenet_stats[1])\n",
    "])\n",
    "\n",
    "\n",
    "for idx, row in tqdm(df.iterrows(), total=len(df)):\n",
    "    try:\n",
    "        img_name = str(row[first_col]).strip()\n",
    "        \n",
    "        img_path = os.path.join(test_folder_path, img_name + file_extension)\n",
    "               \n",
    "        # Process the image\n",
    "        img = Image.open(img_path).convert('RGB')\n",
    "        img_tensor = transform(img).unsqueeze(0).to(device)\n",
    "        \n",
    "        # Predict\n",
    "        with torch.no_grad():\n",
    "            output = model_(img_tensor)\n",
    "            _, predicted = torch.max(output.data, 1)\n",
    "            predicted_idx = predicted.item()\n",
    "        \n",
    "        # Update CSV\n",
    "        df.at[idx, second_col] = classes[predicted_idx]\n",
    "        \n",
    "    except Exception as e:\n",
    "        print(f\"Error with image {img_name}: {e}\")\n",
    "\n",
    "# Save updated CSV\n",
    "df.to_csv(csv_file_path, index=False)\n",
    "print(f\"Updated CSV saved to {csv_file_path}\")"
   ]
  },
  {
   "cell_type": "code",
   "execution_count": 13,
   "metadata": {},
   "outputs": [
    {
     "name": "stderr",
     "output_type": "stream",
     "text": [
      "c:\\Users\\almon\\AppData\\Local\\Programs\\Python\\Python312\\Lib\\site-packages\\torch\\nn\\modules\\module.py:1830: FutureWarning: Using a non-full backward hook when the forward contains multiple autograd Nodes is deprecated and will be removed in future versions. This hook will be missing some grad_input. Please use register_full_backward_hook to get the documented behavior.\n",
      "  self._maybe_warn_non_full_backward_hook(args, result, grad_fn)\n"
     ]
    },
    {
     "data": {
      "image/png": "[encoded data removed]",
      "text/plain": [
       "<Figure size 640x480 with 1 Axes>"
      ]
     },
     "metadata": {},
     "output_type": "display_data"
    },
    {
     "data": {
      "image/png": "[encoded data removed]",
      "text/plain": [
       "<Figure size 640x480 with 1 Axes>"
      ]
     },
     "metadata": {},
     "output_type": "display_data"
    }
   ],
   "source": [
    "from torchvision.models.feature_extraction import create_feature_extractor\n",
    "import torch.nn.functional as F\n",
    "\n",
    "# Register hook containers\n",
    "activations = None\n",
    "gradients = None\n",
    "\n",
    "# Hook functions\n",
    "def forward_hook(module, input, output):\n",
    "    global activations\n",
    "    activations = output\n",
    "\n",
    "def backward_hook(module, grad_in, grad_out):\n",
    "    global gradients\n",
    "    gradients = grad_out[0]\n",
    "\n",
    "# Hook into the last conv layer of ResNet\n",
    "target_layer = model_.layer4[-1].conv2\n",
    "forward_handle = target_layer.register_forward_hook(forward_hook)\n",
    "backward_handle = target_layer.register_backward_hook(backward_hook)\n",
    "\n",
    "def generate_gradcam(img_tensor, label):\n",
    "    global activations, gradients\n",
    "\n",
    "    input_tensor = img_tensor.unsqueeze(0).to(device).requires_grad_()\n",
    "    \n",
    "    # Forward pass\n",
    "    model_.eval()\n",
    "    output = model_(input_tensor)\n",
    "    class_idx = output.argmax(dim=1).item()\n",
    "\n",
    "    # Backward pass\n",
    "    model_.zero_grad()\n",
    "    output[0, class_idx].backward()\n",
    "\n",
    "    if gradients is None or activations is None:\n",
    "        raise RuntimeError(\"Hooks did not capture gradients or activations.\")\n",
    "\n",
    "    # Compute weights and apply Grad-CAM\n",
    "    pooled_gradients = torch.mean(gradients, dim=[0, 2, 3])\n",
    "    for i in range(activations.shape[1]):\n",
    "        activations[:, i, :, :] *= pooled_gradients[i]\n",
    "\n",
    "    heatmap = torch.mean(activations, dim=1).squeeze().cpu().detach().numpy()\n",
    "    heatmap = np.maximum(heatmap, 0)\n",
    "    heatmap /= np.max(heatmap) + 1e-6\n",
    "    return heatmap\n",
    "\n",
    "# Visualize Grad-CAM on random val image\n",
    "inv_norm = transforms.Normalize(\n",
    "    mean=[-m/s for m, s in zip([0.485, 0.456, 0.406], [0.229, 0.224, 0.225])],\n",
    "    std=[1/s for s in [0.229, 0.224, 0.225]]\n",
    ")\n",
    "\n",
    "def show_gradcam(img_tensor, heatmap):\n",
    "    img_tensor = inv_norm(img_tensor.cpu())\n",
    "    img_np = np.transpose(img_tensor.numpy(), (1, 2, 0))\n",
    "    plt.imshow(img_np)\n",
    "    plt.imshow(heatmap, cmap='jet', alpha=0.5)\n",
    "    plt.title(\"Grad-CAM Overlay\")\n",
    "    plt.axis('off')\n",
    "    plt.show()\n",
    "\n",
    "def show_original(img_tensor):\n",
    "    img_tensor = inv_norm(img_tensor.cpu())\n",
    "    img_np = np.transpose(img_tensor.numpy(), (1, 2, 0))\n",
    "    plt.imshow(img_np)\n",
    "    plt.title(\"Original Image\")\n",
    "    plt.axis('off')\n",
    "    plt.show()\n",
    "\n",
    "# Run on one image\n",
    "val_transform = transforms.Compose([\n",
    "        transforms.RandomResizedCrop((450, 270)),\n",
    "        transforms.RandomHorizontalFlip(),\n",
    "        transforms.RandomRotation(10),\n",
    "        transforms.ToTensor(),\n",
    "        transforms.Normalize(imagenet_stats[0], imagenet_stats[1])\n",
    "    ])\n",
    "full_dataset = torchvision.datasets.ImageFolder(root=path_dataset, transform=val_transform)\n",
    "sample_img, label = random.choice(full_dataset)\n",
    "heatmap = generate_gradcam(sample_img, label)\n",
    "show_original(sample_img)\n",
    "show_gradcam(sample_img, heatmap)"
   ]
  }
 ],
 "metadata": {
  "colab": {
   "collapsed_sections": [],
   "name": "HW2-2_regression.ipynb",
   "provenance": []
  },
  "kernelspec": {
   "display_name": "Python 3",
   "language": "python",
   "name": "python3"
  },
  "language_info": {
   "codemirror_mode": {
    "name": "ipython",
    "version": 3
   },
   "file_extension": ".py",
   "mimetype": "text/x-python",
   "name": "python",
   "nbconvert_exporter": "python",
   "pygments_lexer": "ipython3",
   "version": "3.12.7"
  }
 },
 "nbformat": 4,
 "nbformat_minor": 4
}
