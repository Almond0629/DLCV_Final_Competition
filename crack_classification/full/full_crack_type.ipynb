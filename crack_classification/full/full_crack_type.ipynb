{
 "cells": [
  {
   "cell_type": "code",
   "execution_count": 1,
   "metadata": {
    "id": "gFMwtIeAJwdj"
   },
   "outputs": [],
   "source": [
    "import pandas as pd\n",
    "import numpy as np\n",
    "import random\n",
    "import torch\n",
    "import torch.nn as nn\n",
    "import torch.nn.functional as F  \n",
    "import torch.optim as optim\n",
    "from torch.utils.data import Dataset, DataLoader\n",
    "import matplotlib.pyplot as plt\n",
    "from tqdm import tqdm\n",
    "from sklearn.preprocessing import MinMaxScaler\n",
    "import cv2\n",
    "import torchvision\n",
    "import torchvision.transforms as transforms\n",
    "from torch.utils.data import random_split\n",
    "import sys\n",
    "import time\n",
    "from PIL import Image"
   ]
  },
  {
   "cell_type": "code",
   "execution_count": 2,
   "metadata": {
    "id": "BpSVExq8Jwdl"
   },
   "outputs": [],
   "source": [
    "torch.manual_seed(1220)\n",
    "random.seed(1220)\n",
    "np.random.seed(1220)"
   ]
  },
  {
   "cell_type": "code",
   "execution_count": 3,
   "metadata": {},
   "outputs": [
    {
     "name": "stdout",
     "output_type": "stream",
     "text": [
      "You are using device: cuda\n"
     ]
    }
   ],
   "source": [
    "device = torch.device('cuda' if torch.cuda.is_available() else 'cpu')\n",
    "print(\"You are using device: %s\" % device)\n",
    "\n",
    "path_dataset = \"./full_crack_type\""
   ]
  },
  {
   "cell_type": "code",
   "execution_count": 4,
   "metadata": {
    "id": "vWPTZrVdJwdo"
   },
   "outputs": [
    {
     "name": "stdout",
     "output_type": "stream",
     "text": [
      "['Diagonal', 'Horizontal', 'Vertical', 'Web_and_X']\n"
     ]
    }
   ],
   "source": [
    "def load_dataset(path_dataset):\n",
    "    imagenet_stats = [(0.485, 0.456, 0.406), (0.229, 0.224, 0.225)]\n",
    "\n",
    "    def add_noise(img):\n",
    "        if isinstance(img, torch.Tensor):\n",
    "            noise = torch.randn_like(img) * 0.1\n",
    "            return torch.clamp(img + noise, 0, 1)\n",
    "        return img\n",
    "\n",
    "    train_transform = transforms.Compose([\n",
    "        transforms.Resize((400, 400)),  \n",
    "        transforms.CenterCrop((350, 350)),\n",
    "        transforms.RandomHorizontalFlip(),\n",
    "        transforms.RandomVerticalFlip(),\n",
    "        transforms.RandomRotation(degrees=10),\n",
    "        transforms.Lambda(lambda x: add_noise(x) if np.random.random() < 0.3 else x),\n",
    "        # transforms.ColorJitter(),\n",
    "        transforms.ToTensor(),\n",
    "        transforms.Normalize(imagenet_stats[0], imagenet_stats[1])\n",
    "    ])\n",
    "\n",
    "    val_transform = transforms.Compose([\n",
    "        transforms.Resize((400, 400)),\n",
    "        transforms.CenterCrop((350, 350)),\n",
    "        # transforms.RandomHorizontalFlip(),\n",
    "        # transforms.RandomRotation(10),\n",
    "        # transforms.ColorJitter(),\n",
    "        transforms.ToTensor(),\n",
    "        transforms.Normalize(imagenet_stats[0], imagenet_stats[1])\n",
    "    ])\n",
    "\n",
    "    full_dataset = torchvision.datasets.ImageFolder(root=path_dataset)\n",
    "    classes = full_dataset.classes\n",
    "    print(classes)\n",
    "    dataset_size = len(full_dataset)\n",
    "    train_size = int(0.85 * dataset_size)\n",
    "    val_size = dataset_size - train_size\n",
    "    train_dataset, val_dataset = random_split(full_dataset, [train_size, val_size])\n",
    "    train_dataset.dataset.transform = train_transform\n",
    "    val_dataset.dataset.transform = val_transform\n",
    "    \n",
    "    train_loader = DataLoader(\n",
    "        train_dataset, batch_size=32, shuffle=True, num_workers=4\n",
    "    )\n",
    "    \n",
    "    val_loader = DataLoader(\n",
    "        val_dataset, batch_size=32, shuffle=False, num_workers=4\n",
    "    )\n",
    "\n",
    "    return train_loader, val_loader, classes\n",
    "\n",
    "train_loader, val_loader, classes = load_dataset(path_dataset)\n",
    "\n",
    "model_ = torchvision.models.resnet34(weights='IMAGENET1K_V1')\n",
    "model_.fc = nn.Sequential(\n",
    "    nn.Dropout(0.5),\n",
    "    nn.Linear(model_.fc.in_features, 256),\n",
    "    nn.ReLU(),\n",
    "    nn.Dropout(0.3),\n",
    "    nn.Linear(256, len(classes)),\n",
    "    nn.Sigmoid()\n",
    ")\n",
    "\n",
    "# model_ = torchvision.models.shufflenet_v2_x1_5(weights='IMAGENET1K_V1')\n",
    "# model_.fc = nn.Sequential(\n",
    "#     nn.Linear(model_.fc.in_features, len(classes)),\n",
    "#     nn.Sigmoid()\n",
    "# )"
   ]
  },
  {
   "cell_type": "code",
   "execution_count": 5,
   "metadata": {},
   "outputs": [
    {
     "name": "stdout",
     "output_type": "stream",
     "text": [
      "----------------------------------------------------------------\n",
      "        Layer (type)               Output Shape         Param #\n",
      "================================================================\n",
      "            Conv2d-1         [-1, 64, 200, 200]           9,408\n",
      "       BatchNorm2d-2         [-1, 64, 200, 200]             128\n",
      "              ReLU-3         [-1, 64, 200, 200]               0\n",
      "         MaxPool2d-4         [-1, 64, 100, 100]               0\n",
      "            Conv2d-5         [-1, 64, 100, 100]          36,864\n",
      "       BatchNorm2d-6         [-1, 64, 100, 100]             128\n",
      "              ReLU-7         [-1, 64, 100, 100]               0\n",
      "            Conv2d-8         [-1, 64, 100, 100]          36,864\n",
      "       BatchNorm2d-9         [-1, 64, 100, 100]             128\n",
      "             ReLU-10         [-1, 64, 100, 100]               0\n",
      "       BasicBlock-11         [-1, 64, 100, 100]               0\n",
      "           Conv2d-12         [-1, 64, 100, 100]          36,864\n",
      "      BatchNorm2d-13         [-1, 64, 100, 100]             128\n",
      "             ReLU-14         [-1, 64, 100, 100]               0\n",
      "           Conv2d-15         [-1, 64, 100, 100]          36,864\n",
      "      BatchNorm2d-16         [-1, 64, 100, 100]             128\n",
      "             ReLU-17         [-1, 64, 100, 100]               0\n",
      "       BasicBlock-18         [-1, 64, 100, 100]               0\n",
      "           Conv2d-19         [-1, 64, 100, 100]          36,864\n",
      "      BatchNorm2d-20         [-1, 64, 100, 100]             128\n",
      "             ReLU-21         [-1, 64, 100, 100]               0\n",
      "           Conv2d-22         [-1, 64, 100, 100]          36,864\n",
      "      BatchNorm2d-23         [-1, 64, 100, 100]             128\n",
      "             ReLU-24         [-1, 64, 100, 100]               0\n",
      "       BasicBlock-25         [-1, 64, 100, 100]               0\n",
      "           Conv2d-26          [-1, 128, 50, 50]          73,728\n",
      "      BatchNorm2d-27          [-1, 128, 50, 50]             256\n",
      "             ReLU-28          [-1, 128, 50, 50]               0\n",
      "           Conv2d-29          [-1, 128, 50, 50]         147,456\n",
      "      BatchNorm2d-30          [-1, 128, 50, 50]             256\n",
      "           Conv2d-31          [-1, 128, 50, 50]           8,192\n",
      "      BatchNorm2d-32          [-1, 128, 50, 50]             256\n",
      "             ReLU-33          [-1, 128, 50, 50]               0\n",
      "       BasicBlock-34          [-1, 128, 50, 50]               0\n",
      "           Conv2d-35          [-1, 128, 50, 50]         147,456\n",
      "      BatchNorm2d-36          [-1, 128, 50, 50]             256\n",
      "             ReLU-37          [-1, 128, 50, 50]               0\n",
      "           Conv2d-38          [-1, 128, 50, 50]         147,456\n",
      "      BatchNorm2d-39          [-1, 128, 50, 50]             256\n",
      "             ReLU-40          [-1, 128, 50, 50]               0\n",
      "       BasicBlock-41          [-1, 128, 50, 50]               0\n",
      "           Conv2d-42          [-1, 128, 50, 50]         147,456\n",
      "      BatchNorm2d-43          [-1, 128, 50, 50]             256\n",
      "             ReLU-44          [-1, 128, 50, 50]               0\n",
      "           Conv2d-45          [-1, 128, 50, 50]         147,456\n",
      "      BatchNorm2d-46          [-1, 128, 50, 50]             256\n",
      "             ReLU-47          [-1, 128, 50, 50]               0\n",
      "       BasicBlock-48          [-1, 128, 50, 50]               0\n",
      "           Conv2d-49          [-1, 128, 50, 50]         147,456\n",
      "      BatchNorm2d-50          [-1, 128, 50, 50]             256\n",
      "             ReLU-51          [-1, 128, 50, 50]               0\n",
      "           Conv2d-52          [-1, 128, 50, 50]         147,456\n",
      "      BatchNorm2d-53          [-1, 128, 50, 50]             256\n",
      "             ReLU-54          [-1, 128, 50, 50]               0\n",
      "       BasicBlock-55          [-1, 128, 50, 50]               0\n",
      "           Conv2d-56          [-1, 256, 25, 25]         294,912\n",
      "      BatchNorm2d-57          [-1, 256, 25, 25]             512\n",
      "             ReLU-58          [-1, 256, 25, 25]               0\n",
      "           Conv2d-59          [-1, 256, 25, 25]         589,824\n",
      "      BatchNorm2d-60          [-1, 256, 25, 25]             512\n",
      "           Conv2d-61          [-1, 256, 25, 25]          32,768\n",
      "      BatchNorm2d-62          [-1, 256, 25, 25]             512\n",
      "             ReLU-63          [-1, 256, 25, 25]               0\n",
      "       BasicBlock-64          [-1, 256, 25, 25]               0\n",
      "           Conv2d-65          [-1, 256, 25, 25]         589,824\n",
      "      BatchNorm2d-66          [-1, 256, 25, 25]             512\n",
      "             ReLU-67          [-1, 256, 25, 25]               0\n",
      "           Conv2d-68          [-1, 256, 25, 25]         589,824\n",
      "      BatchNorm2d-69          [-1, 256, 25, 25]             512\n",
      "             ReLU-70          [-1, 256, 25, 25]               0\n",
      "       BasicBlock-71          [-1, 256, 25, 25]               0\n",
      "           Conv2d-72          [-1, 256, 25, 25]         589,824\n",
      "      BatchNorm2d-73          [-1, 256, 25, 25]             512\n",
      "             ReLU-74          [-1, 256, 25, 25]               0\n",
      "           Conv2d-75          [-1, 256, 25, 25]         589,824\n",
      "      BatchNorm2d-76          [-1, 256, 25, 25]             512\n",
      "             ReLU-77          [-1, 256, 25, 25]               0\n",
      "       BasicBlock-78          [-1, 256, 25, 25]               0\n",
      "           Conv2d-79          [-1, 256, 25, 25]         589,824\n",
      "      BatchNorm2d-80          [-1, 256, 25, 25]             512\n",
      "             ReLU-81          [-1, 256, 25, 25]               0\n",
      "           Conv2d-82          [-1, 256, 25, 25]         589,824\n",
      "      BatchNorm2d-83          [-1, 256, 25, 25]             512\n",
      "             ReLU-84          [-1, 256, 25, 25]               0\n",
      "       BasicBlock-85          [-1, 256, 25, 25]               0\n",
      "           Conv2d-86          [-1, 256, 25, 25]         589,824\n",
      "      BatchNorm2d-87          [-1, 256, 25, 25]             512\n",
      "             ReLU-88          [-1, 256, 25, 25]               0\n",
      "           Conv2d-89          [-1, 256, 25, 25]         589,824\n",
      "      BatchNorm2d-90          [-1, 256, 25, 25]             512\n",
      "             ReLU-91          [-1, 256, 25, 25]               0\n",
      "       BasicBlock-92          [-1, 256, 25, 25]               0\n",
      "           Conv2d-93          [-1, 256, 25, 25]         589,824\n",
      "      BatchNorm2d-94          [-1, 256, 25, 25]             512\n",
      "             ReLU-95          [-1, 256, 25, 25]               0\n",
      "           Conv2d-96          [-1, 256, 25, 25]         589,824\n",
      "      BatchNorm2d-97          [-1, 256, 25, 25]             512\n",
      "             ReLU-98          [-1, 256, 25, 25]               0\n",
      "       BasicBlock-99          [-1, 256, 25, 25]               0\n",
      "          Conv2d-100          [-1, 512, 13, 13]       1,179,648\n",
      "     BatchNorm2d-101          [-1, 512, 13, 13]           1,024\n",
      "            ReLU-102          [-1, 512, 13, 13]               0\n",
      "          Conv2d-103          [-1, 512, 13, 13]       2,359,296\n",
      "     BatchNorm2d-104          [-1, 512, 13, 13]           1,024\n",
      "          Conv2d-105          [-1, 512, 13, 13]         131,072\n",
      "     BatchNorm2d-106          [-1, 512, 13, 13]           1,024\n",
      "            ReLU-107          [-1, 512, 13, 13]               0\n",
      "      BasicBlock-108          [-1, 512, 13, 13]               0\n",
      "          Conv2d-109          [-1, 512, 13, 13]       2,359,296\n",
      "     BatchNorm2d-110          [-1, 512, 13, 13]           1,024\n",
      "            ReLU-111          [-1, 512, 13, 13]               0\n",
      "          Conv2d-112          [-1, 512, 13, 13]       2,359,296\n",
      "     BatchNorm2d-113          [-1, 512, 13, 13]           1,024\n",
      "            ReLU-114          [-1, 512, 13, 13]               0\n",
      "      BasicBlock-115          [-1, 512, 13, 13]               0\n",
      "          Conv2d-116          [-1, 512, 13, 13]       2,359,296\n",
      "     BatchNorm2d-117          [-1, 512, 13, 13]           1,024\n",
      "            ReLU-118          [-1, 512, 13, 13]               0\n",
      "          Conv2d-119          [-1, 512, 13, 13]       2,359,296\n",
      "     BatchNorm2d-120          [-1, 512, 13, 13]           1,024\n",
      "            ReLU-121          [-1, 512, 13, 13]               0\n",
      "      BasicBlock-122          [-1, 512, 13, 13]               0\n",
      "AdaptiveAvgPool2d-123            [-1, 512, 1, 1]               0\n",
      "         Dropout-124                  [-1, 512]               0\n",
      "          Linear-125                  [-1, 256]         131,328\n",
      "            ReLU-126                  [-1, 256]               0\n",
      "         Dropout-127                  [-1, 256]               0\n",
      "          Linear-128                    [-1, 4]           1,028\n",
      "         Sigmoid-129                    [-1, 4]               0\n",
      "================================================================\n",
      "Total params: 21,417,028\n",
      "Trainable params: 21,417,028\n",
      "Non-trainable params: 0\n",
      "----------------------------------------------------------------\n",
      "Input size (MB): 1.83\n",
      "Forward/backward pass size (MB): 308.17\n",
      "Params size (MB): 81.70\n",
      "Estimated Total Size (MB): 391.70\n",
      "----------------------------------------------------------------\n",
      "ResNet(\n",
      "  (conv1): Conv2d(3, 64, kernel_size=(7, 7), stride=(2, 2), padding=(3, 3), bias=False)\n",
      "  (bn1): BatchNorm2d(64, eps=1e-05, momentum=0.1, affine=True, track_running_stats=True)\n",
      "  (relu): ReLU(inplace=True)\n",
      "  (maxpool): MaxPool2d(kernel_size=3, stride=2, padding=1, dilation=1, ceil_mode=False)\n",
      "  (layer1): Sequential(\n",
      "    (0): BasicBlock(\n",
      "      (conv1): Conv2d(64, 64, kernel_size=(3, 3), stride=(1, 1), padding=(1, 1), bias=False)\n",
      "      (bn1): BatchNorm2d(64, eps=1e-05, momentum=0.1, affine=True, track_running_stats=True)\n",
      "      (relu): ReLU(inplace=True)\n",
      "      (conv2): Conv2d(64, 64, kernel_size=(3, 3), stride=(1, 1), padding=(1, 1), bias=False)\n",
      "      (bn2): BatchNorm2d(64, eps=1e-05, momentum=0.1, affine=True, track_running_stats=True)\n",
      "    )\n",
      "    (1): BasicBlock(\n",
      "      (conv1): Conv2d(64, 64, kernel_size=(3, 3), stride=(1, 1), padding=(1, 1), bias=False)\n",
      "      (bn1): BatchNorm2d(64, eps=1e-05, momentum=0.1, affine=True, track_running_stats=True)\n",
      "      (relu): ReLU(inplace=True)\n",
      "      (conv2): Conv2d(64, 64, kernel_size=(3, 3), stride=(1, 1), padding=(1, 1), bias=False)\n",
      "      (bn2): BatchNorm2d(64, eps=1e-05, momentum=0.1, affine=True, track_running_stats=True)\n",
      "    )\n",
      "    (2): BasicBlock(\n",
      "      (conv1): Conv2d(64, 64, kernel_size=(3, 3), stride=(1, 1), padding=(1, 1), bias=False)\n",
      "      (bn1): BatchNorm2d(64, eps=1e-05, momentum=0.1, affine=True, track_running_stats=True)\n",
      "      (relu): ReLU(inplace=True)\n",
      "      (conv2): Conv2d(64, 64, kernel_size=(3, 3), stride=(1, 1), padding=(1, 1), bias=False)\n",
      "      (bn2): BatchNorm2d(64, eps=1e-05, momentum=0.1, affine=True, track_running_stats=True)\n",
      "    )\n",
      "  )\n",
      "  (layer2): Sequential(\n",
      "    (0): BasicBlock(\n",
      "      (conv1): Conv2d(64, 128, kernel_size=(3, 3), stride=(2, 2), padding=(1, 1), bias=False)\n",
      "      (bn1): BatchNorm2d(128, eps=1e-05, momentum=0.1, affine=True, track_running_stats=True)\n",
      "      (relu): ReLU(inplace=True)\n",
      "      (conv2): Conv2d(128, 128, kernel_size=(3, 3), stride=(1, 1), padding=(1, 1), bias=False)\n",
      "      (bn2): BatchNorm2d(128, eps=1e-05, momentum=0.1, affine=True, track_running_stats=True)\n",
      "      (downsample): Sequential(\n",
      "        (0): Conv2d(64, 128, kernel_size=(1, 1), stride=(2, 2), bias=False)\n",
      "        (1): BatchNorm2d(128, eps=1e-05, momentum=0.1, affine=True, track_running_stats=True)\n",
      "      )\n",
      "    )\n",
      "    (1): BasicBlock(\n",
      "      (conv1): Conv2d(128, 128, kernel_size=(3, 3), stride=(1, 1), padding=(1, 1), bias=False)\n",
      "      (bn1): BatchNorm2d(128, eps=1e-05, momentum=0.1, affine=True, track_running_stats=True)\n",
      "      (relu): ReLU(inplace=True)\n",
      "      (conv2): Conv2d(128, 128, kernel_size=(3, 3), stride=(1, 1), padding=(1, 1), bias=False)\n",
      "      (bn2): BatchNorm2d(128, eps=1e-05, momentum=0.1, affine=True, track_running_stats=True)\n",
      "    )\n",
      "    (2): BasicBlock(\n",
      "      (conv1): Conv2d(128, 128, kernel_size=(3, 3), stride=(1, 1), padding=(1, 1), bias=False)\n",
      "      (bn1): BatchNorm2d(128, eps=1e-05, momentum=0.1, affine=True, track_running_stats=True)\n",
      "      (relu): ReLU(inplace=True)\n",
      "      (conv2): Conv2d(128, 128, kernel_size=(3, 3), stride=(1, 1), padding=(1, 1), bias=False)\n",
      "      (bn2): BatchNorm2d(128, eps=1e-05, momentum=0.1, affine=True, track_running_stats=True)\n",
      "    )\n",
      "    (3): BasicBlock(\n",
      "      (conv1): Conv2d(128, 128, kernel_size=(3, 3), stride=(1, 1), padding=(1, 1), bias=False)\n",
      "      (bn1): BatchNorm2d(128, eps=1e-05, momentum=0.1, affine=True, track_running_stats=True)\n",
      "      (relu): ReLU(inplace=True)\n",
      "      (conv2): Conv2d(128, 128, kernel_size=(3, 3), stride=(1, 1), padding=(1, 1), bias=False)\n",
      "      (bn2): BatchNorm2d(128, eps=1e-05, momentum=0.1, affine=True, track_running_stats=True)\n",
      "    )\n",
      "  )\n",
      "  (layer3): Sequential(\n",
      "    (0): BasicBlock(\n",
      "      (conv1): Conv2d(128, 256, kernel_size=(3, 3), stride=(2, 2), padding=(1, 1), bias=False)\n",
      "      (bn1): BatchNorm2d(256, eps=1e-05, momentum=0.1, affine=True, track_running_stats=True)\n",
      "      (relu): ReLU(inplace=True)\n",
      "      (conv2): Conv2d(256, 256, kernel_size=(3, 3), stride=(1, 1), padding=(1, 1), bias=False)\n",
      "      (bn2): BatchNorm2d(256, eps=1e-05, momentum=0.1, affine=True, track_running_stats=True)\n",
      "      (downsample): Sequential(\n",
      "        (0): Conv2d(128, 256, kernel_size=(1, 1), stride=(2, 2), bias=False)\n",
      "        (1): BatchNorm2d(256, eps=1e-05, momentum=0.1, affine=True, track_running_stats=True)\n",
      "      )\n",
      "    )\n",
      "    (1): BasicBlock(\n",
      "      (conv1): Conv2d(256, 256, kernel_size=(3, 3), stride=(1, 1), padding=(1, 1), bias=False)\n",
      "      (bn1): BatchNorm2d(256, eps=1e-05, momentum=0.1, affine=True, track_running_stats=True)\n",
      "      (relu): ReLU(inplace=True)\n",
      "      (conv2): Conv2d(256, 256, kernel_size=(3, 3), stride=(1, 1), padding=(1, 1), bias=False)\n",
      "      (bn2): BatchNorm2d(256, eps=1e-05, momentum=0.1, affine=True, track_running_stats=True)\n",
      "    )\n",
      "    (2): BasicBlock(\n",
      "      (conv1): Conv2d(256, 256, kernel_size=(3, 3), stride=(1, 1), padding=(1, 1), bias=False)\n",
      "      (bn1): BatchNorm2d(256, eps=1e-05, momentum=0.1, affine=True, track_running_stats=True)\n",
      "      (relu): ReLU(inplace=True)\n",
      "      (conv2): Conv2d(256, 256, kernel_size=(3, 3), stride=(1, 1), padding=(1, 1), bias=False)\n",
      "      (bn2): BatchNorm2d(256, eps=1e-05, momentum=0.1, affine=True, track_running_stats=True)\n",
      "    )\n",
      "    (3): BasicBlock(\n",
      "      (conv1): Conv2d(256, 256, kernel_size=(3, 3), stride=(1, 1), padding=(1, 1), bias=False)\n",
      "      (bn1): BatchNorm2d(256, eps=1e-05, momentum=0.1, affine=True, track_running_stats=True)\n",
      "      (relu): ReLU(inplace=True)\n",
      "      (conv2): Conv2d(256, 256, kernel_size=(3, 3), stride=(1, 1), padding=(1, 1), bias=False)\n",
      "      (bn2): BatchNorm2d(256, eps=1e-05, momentum=0.1, affine=True, track_running_stats=True)\n",
      "    )\n",
      "    (4): BasicBlock(\n",
      "      (conv1): Conv2d(256, 256, kernel_size=(3, 3), stride=(1, 1), padding=(1, 1), bias=False)\n",
      "      (bn1): BatchNorm2d(256, eps=1e-05, momentum=0.1, affine=True, track_running_stats=True)\n",
      "      (relu): ReLU(inplace=True)\n",
      "      (conv2): Conv2d(256, 256, kernel_size=(3, 3), stride=(1, 1), padding=(1, 1), bias=False)\n",
      "      (bn2): BatchNorm2d(256, eps=1e-05, momentum=0.1, affine=True, track_running_stats=True)\n",
      "    )\n",
      "    (5): BasicBlock(\n",
      "      (conv1): Conv2d(256, 256, kernel_size=(3, 3), stride=(1, 1), padding=(1, 1), bias=False)\n",
      "      (bn1): BatchNorm2d(256, eps=1e-05, momentum=0.1, affine=True, track_running_stats=True)\n",
      "      (relu): ReLU(inplace=True)\n",
      "      (conv2): Conv2d(256, 256, kernel_size=(3, 3), stride=(1, 1), padding=(1, 1), bias=False)\n",
      "      (bn2): BatchNorm2d(256, eps=1e-05, momentum=0.1, affine=True, track_running_stats=True)\n",
      "    )\n",
      "  )\n",
      "  (layer4): Sequential(\n",
      "    (0): BasicBlock(\n",
      "      (conv1): Conv2d(256, 512, kernel_size=(3, 3), stride=(2, 2), padding=(1, 1), bias=False)\n",
      "      (bn1): BatchNorm2d(512, eps=1e-05, momentum=0.1, affine=True, track_running_stats=True)\n",
      "      (relu): ReLU(inplace=True)\n",
      "      (conv2): Conv2d(512, 512, kernel_size=(3, 3), stride=(1, 1), padding=(1, 1), bias=False)\n",
      "      (bn2): BatchNorm2d(512, eps=1e-05, momentum=0.1, affine=True, track_running_stats=True)\n",
      "      (downsample): Sequential(\n",
      "        (0): Conv2d(256, 512, kernel_size=(1, 1), stride=(2, 2), bias=False)\n",
      "        (1): BatchNorm2d(512, eps=1e-05, momentum=0.1, affine=True, track_running_stats=True)\n",
      "      )\n",
      "    )\n",
      "    (1): BasicBlock(\n",
      "      (conv1): Conv2d(512, 512, kernel_size=(3, 3), stride=(1, 1), padding=(1, 1), bias=False)\n",
      "      (bn1): BatchNorm2d(512, eps=1e-05, momentum=0.1, affine=True, track_running_stats=True)\n",
      "      (relu): ReLU(inplace=True)\n",
      "      (conv2): Conv2d(512, 512, kernel_size=(3, 3), stride=(1, 1), padding=(1, 1), bias=False)\n",
      "      (bn2): BatchNorm2d(512, eps=1e-05, momentum=0.1, affine=True, track_running_stats=True)\n",
      "    )\n",
      "    (2): BasicBlock(\n",
      "      (conv1): Conv2d(512, 512, kernel_size=(3, 3), stride=(1, 1), padding=(1, 1), bias=False)\n",
      "      (bn1): BatchNorm2d(512, eps=1e-05, momentum=0.1, affine=True, track_running_stats=True)\n",
      "      (relu): ReLU(inplace=True)\n",
      "      (conv2): Conv2d(512, 512, kernel_size=(3, 3), stride=(1, 1), padding=(1, 1), bias=False)\n",
      "      (bn2): BatchNorm2d(512, eps=1e-05, momentum=0.1, affine=True, track_running_stats=True)\n",
      "    )\n",
      "  )\n",
      "  (avgpool): AdaptiveAvgPool2d(output_size=(1, 1))\n",
      "  (fc): Sequential(\n",
      "    (0): Dropout(p=0.5, inplace=False)\n",
      "    (1): Linear(in_features=512, out_features=256, bias=True)\n",
      "    (2): ReLU()\n",
      "    (3): Dropout(p=0.3, inplace=False)\n",
      "    (4): Linear(in_features=256, out_features=4, bias=True)\n",
      "    (5): Sigmoid()\n",
      "  )\n",
      ")\n"
     ]
    }
   ],
   "source": [
    "if torch.cuda.is_available():\n",
    "    model_.cuda()\n",
    "from torchsummary import summary\n",
    "summary(model_, (3, 400, 400))\n",
    "print(model_)"
   ]
  },
  {
   "cell_type": "code",
   "execution_count": 6,
   "metadata": {},
   "outputs": [],
   "source": [
    "def train(model, trainloader, valloader, epochs=10):\n",
    "    torch.cuda.empty_cache()\n",
    "    criterion = nn.CrossEntropyLoss()\n",
    "    optimizer = optim.AdamW(model.parameters(), lr=1e-4)\n",
    "    scheduler = optim.lr_scheduler.CosineAnnealingWarmRestarts(optimizer, T_0=10, eta_min=1e-7)\n",
    "    # scheduler = optim.lr_scheduler.CosineAnnealingLR(optimizer, T_max=32)\n",
    "    \n",
    "    train_losses = []\n",
    "    train_accuracies = []\n",
    "    val_losses = []\n",
    "    val_accuracies = []\n",
    "    best_val_acc = 80\n",
    "    best_val_loss = 0\n",
    "    \n",
    "    for epoch in range(epochs):\n",
    "        model.train()\n",
    "        running_loss = 0.0\n",
    "        correct = 0\n",
    "        total = 0\n",
    "        \n",
    "        # Wrap trainloader with tqdm for progress bar to make it looks nicer\n",
    "        loop = tqdm(enumerate(trainloader), total=len(trainloader), leave=True)\n",
    "        for i, data in loop:\n",
    "            # Get inputs and labels\n",
    "            inputs, labels = data\n",
    "            inputs, labels = inputs.to(device), labels.to(device)\n",
    "            \n",
    "            # Zero the parameter gradients\n",
    "            optimizer.zero_grad()\n",
    "            \n",
    "            # Forward + backward + optimize\n",
    "            outputs = model(inputs)\n",
    "            loss = criterion(outputs, labels)\n",
    "            loss.backward()\n",
    "            optimizer.step()\n",
    "            scheduler.step()\n",
    "            \n",
    "            # Calculate accuracy\n",
    "            _, predicted = torch.max(outputs.data, 1)\n",
    "            total += labels.size(0)\n",
    "            correct += (predicted == labels).sum().item()\n",
    "            \n",
    "            # Update running loss\n",
    "            running_loss += loss.item()\n",
    "            \n",
    "            # Update progress bar\n",
    "            loop.set_description(f\"Epoch [{epoch+1}/{epochs}]\")\n",
    "            loop.set_postfix(loss=running_loss/(i+1), accuracy=100.*correct/total)\n",
    "        \n",
    "        \n",
    "        # Calculate epoch statistics for training\n",
    "        epoch_train_loss = running_loss / len(trainloader)\n",
    "        epoch_train_acc = 100. * correct / total\n",
    "        train_losses.append(epoch_train_loss)\n",
    "        train_accuracies.append(epoch_train_acc)\n",
    "        \n",
    "        # Validation phase\n",
    "        model.eval()\n",
    "        val_running_loss = 0.0\n",
    "        val_correct = 0\n",
    "        val_total = 0\n",
    "        \n",
    "        with torch.no_grad():\n",
    "            for data in valloader:\n",
    "                images, labels = data\n",
    "                images, labels = images.to(device), labels.to(device)\n",
    "                \n",
    "                # Forward pass\n",
    "                outputs = model(images)\n",
    "                loss = criterion(outputs, labels)\n",
    "                \n",
    "                # Calculate validation loss\n",
    "                val_running_loss += loss.item()\n",
    "                \n",
    "                # Calculate validation accuracy\n",
    "                _, predicted = torch.max(outputs.data, 1)\n",
    "                val_total += labels.size(0)\n",
    "                val_correct += (predicted == labels).sum().item()\n",
    "        \n",
    "        # Calculate epoch statistics for validation\n",
    "        epoch_val_loss = val_running_loss / len(valloader)\n",
    "        epoch_val_acc = 100. * val_correct / val_total\n",
    "        val_losses.append(epoch_val_loss)\n",
    "        val_accuracies.append(epoch_val_acc)\n",
    "        if epoch_val_acc > best_val_acc:\n",
    "            best_val_acc = epoch_val_acc\n",
    "            best_val_loss = epoch_val_loss\n",
    "            torch.save(model_.state_dict(), 'model.pth')\n",
    "            print(best_val_acc, best_val_loss)\n",
    "        elif epoch_val_acc == best_val_acc:\n",
    "            if epoch_val_loss < best_val_loss:\n",
    "                torch.save(model_.state_dict(), 'model.pth')\n",
    "        \n",
    "        print(f\"Epoch {epoch+1}/{epochs}\")\n",
    "        print(f\"Train Loss: {epoch_train_loss:.4f}, Train Acc: {epoch_train_acc:.2f}%\")\n",
    "        print(f\"Val Loss: {epoch_val_loss:.4f}, Val Acc: {epoch_val_acc:.2f}%\")\n",
    "        print(\"-\" * 60)\n",
    "    \n",
    "    print('Finished Training')\n",
    "    \n",
    "    return model, train_losses, train_accuracies, val_losses, val_accuracies\n",
    "\n",
    "def evaluate(model, valloader):\n",
    "\n",
    "    model.eval()\n",
    "    correct = 0\n",
    "    total = 0\n",
    "    \n",
    "    # Initialize lists for per-class accuracy\n",
    "    num_classes = len(classes)\n",
    "    class_correct = list(0. for i in range(num_classes))\n",
    "    class_total = list(0. for i in range(num_classes))\n",
    "    \n",
    "    # Initialize confusion matrix\n",
    "    confusion_matrix = torch.zeros(num_classes, num_classes)\n",
    "    \n",
    "    with torch.no_grad():\n",
    "        for data in tqdm(valloader, desc=\"Evaluating\"):\n",
    "            images, labels = data\n",
    "            images, labels = images.to(device), labels.to(device)\n",
    "            outputs = model(images)\n",
    "            _, predicted = torch.max(outputs.data, 1)\n",
    "            total += labels.size(0)\n",
    "            correct += (predicted == labels).sum().item()\n",
    "            \n",
    "            # Calculate per-class accuracy\n",
    "            c = (predicted == labels).squeeze()\n",
    "            for i in range(len(labels)):\n",
    "                label = labels[i]\n",
    "                class_correct[label] += c[i].item()\n",
    "                class_total[label] += 1\n",
    "                \n",
    "                # Update confusion matrix\n",
    "                confusion_matrix[label, predicted[i]] += 1\n",
    "\n",
    "    overall_accuracy = 100 * correct / total\n",
    "    print(f'Overall Accuracy: {overall_accuracy:.2f}%')\n",
    "\n",
    "    \n",
    "    return class_correct, class_total, confusion_matrix"
   ]
  },
  {
   "cell_type": "code",
   "execution_count": 7,
   "metadata": {},
   "outputs": [
    {
     "name": "stdout",
     "output_type": "stream",
     "text": [
      "Starting training...\n"
     ]
    },
    {
     "name": "stderr",
     "output_type": "stream",
     "text": [
      "Epoch [1/100]: 100%|██████████| 27/27 [00:09<00:00,  2.84it/s, accuracy=49.5, loss=1.29]\n"
     ]
    },
    {
     "name": "stdout",
     "output_type": "stream",
     "text": [
      "Epoch 1/100\n",
      "Train Loss: 1.2939, Train Acc: 49.54%\n",
      "Val Loss: 1.1820, Val Acc: 55.56%\n",
      "------------------------------------------------------------\n"
     ]
    },
    {
     "name": "stderr",
     "output_type": "stream",
     "text": [
      "Epoch [2/100]: 100%|██████████| 27/27 [00:08<00:00,  3.02it/s, accuracy=62.2, loss=1.16]\n"
     ]
    },
    {
     "name": "stdout",
     "output_type": "stream",
     "text": [
      "Epoch 2/100\n",
      "Train Loss: 1.1647, Train Acc: 62.18%\n",
      "Val Loss: 1.1008, Val Acc: 75.16%\n",
      "------------------------------------------------------------\n"
     ]
    },
    {
     "name": "stderr",
     "output_type": "stream",
     "text": [
      "Epoch [3/100]: 100%|██████████| 27/27 [00:08<00:00,  3.01it/s, accuracy=68.9, loss=1.09]\n"
     ]
    },
    {
     "name": "stdout",
     "output_type": "stream",
     "text": [
      "Epoch 3/100\n",
      "Train Loss: 1.0882, Train Acc: 68.91%\n",
      "Val Loss: 1.0323, Val Acc: 77.78%\n",
      "------------------------------------------------------------\n"
     ]
    },
    {
     "name": "stderr",
     "output_type": "stream",
     "text": [
      "Epoch [4/100]: 100%|██████████| 27/27 [00:08<00:00,  3.14it/s, accuracy=78.4, loss=1.02]\n"
     ]
    },
    {
     "name": "stdout",
     "output_type": "stream",
     "text": [
      "Epoch 4/100\n",
      "Train Loss: 1.0156, Train Acc: 78.42%\n",
      "Val Loss: 0.9767, Val Acc: 76.47%\n",
      "------------------------------------------------------------\n"
     ]
    },
    {
     "name": "stderr",
     "output_type": "stream",
     "text": [
      "Epoch [5/100]: 100%|██████████| 27/27 [00:08<00:00,  3.24it/s, accuracy=89.1, loss=0.929]\n"
     ]
    },
    {
     "name": "stdout",
     "output_type": "stream",
     "text": [
      "Epoch 5/100\n",
      "Train Loss: 0.9293, Train Acc: 89.10%\n",
      "Val Loss: 0.9695, Val Acc: 75.16%\n",
      "------------------------------------------------------------\n"
     ]
    },
    {
     "name": "stderr",
     "output_type": "stream",
     "text": [
      "Epoch [6/100]: 100%|██████████| 27/27 [00:08<00:00,  3.19it/s, accuracy=93.9, loss=0.863]\n"
     ]
    },
    {
     "name": "stdout",
     "output_type": "stream",
     "text": [
      "Epoch 6/100\n",
      "Train Loss: 0.8633, Train Acc: 93.85%\n",
      "Val Loss: 0.9484, Val Acc: 79.08%\n",
      "------------------------------------------------------------\n"
     ]
    },
    {
     "name": "stderr",
     "output_type": "stream",
     "text": [
      "Epoch [7/100]: 100%|██████████| 27/27 [00:08<00:00,  3.22it/s, accuracy=96.9, loss=0.818]\n"
     ]
    },
    {
     "name": "stdout",
     "output_type": "stream",
     "text": [
      "Epoch 7/100\n",
      "Train Loss: 0.8177, Train Acc: 96.87%\n",
      "Val Loss: 0.9397, Val Acc: 79.74%\n",
      "------------------------------------------------------------\n"
     ]
    },
    {
     "name": "stderr",
     "output_type": "stream",
     "text": [
      "Epoch [8/100]: 100%|██████████| 27/27 [00:08<00:00,  3.20it/s, accuracy=97.8, loss=0.791]\n"
     ]
    },
    {
     "name": "stdout",
     "output_type": "stream",
     "text": [
      "81.04575163398692 0.9168163895606994\n",
      "Epoch 8/100\n",
      "Train Loss: 0.7907, Train Acc: 97.80%\n",
      "Val Loss: 0.9168, Val Acc: 81.05%\n",
      "------------------------------------------------------------\n"
     ]
    },
    {
     "name": "stderr",
     "output_type": "stream",
     "text": [
      "Epoch [9/100]: 100%|██████████| 27/27 [00:08<00:00,  3.21it/s, accuracy=98.1, loss=0.789]\n"
     ]
    },
    {
     "name": "stdout",
     "output_type": "stream",
     "text": [
      "83.66013071895425 0.9072341680526733\n",
      "Epoch 9/100\n",
      "Train Loss: 0.7891, Train Acc: 98.14%\n",
      "Val Loss: 0.9072, Val Acc: 83.66%\n",
      "------------------------------------------------------------\n"
     ]
    },
    {
     "name": "stderr",
     "output_type": "stream",
     "text": [
      "Epoch [10/100]: 100%|██████████| 27/27 [00:08<00:00,  3.21it/s, accuracy=99.1, loss=0.778]\n"
     ]
    },
    {
     "name": "stdout",
     "output_type": "stream",
     "text": [
      "Epoch 10/100\n",
      "Train Loss: 0.7781, Train Acc: 99.07%\n",
      "Val Loss: 0.9214, Val Acc: 80.39%\n",
      "------------------------------------------------------------\n"
     ]
    },
    {
     "name": "stderr",
     "output_type": "stream",
     "text": [
      "Epoch [11/100]: 100%|██████████| 27/27 [00:08<00:00,  3.25it/s, accuracy=99.1, loss=0.771]\n"
     ]
    },
    {
     "name": "stdout",
     "output_type": "stream",
     "text": [
      "Epoch 11/100\n",
      "Train Loss: 0.7707, Train Acc: 99.07%\n",
      "Val Loss: 0.9102, Val Acc: 83.66%\n",
      "------------------------------------------------------------\n"
     ]
    },
    {
     "name": "stderr",
     "output_type": "stream",
     "text": [
      "Epoch [12/100]: 100%|██████████| 27/27 [00:08<00:00,  3.20it/s, accuracy=99.2, loss=0.77] \n"
     ]
    },
    {
     "name": "stdout",
     "output_type": "stream",
     "text": [
      "84.9673202614379 0.8920954585075378\n",
      "Epoch 12/100\n",
      "Train Loss: 0.7704, Train Acc: 99.19%\n",
      "Val Loss: 0.8921, Val Acc: 84.97%\n",
      "------------------------------------------------------------\n"
     ]
    },
    {
     "name": "stderr",
     "output_type": "stream",
     "text": [
      "Epoch [13/100]: 100%|██████████| 27/27 [00:08<00:00,  3.22it/s, accuracy=99.3, loss=0.764]\n"
     ]
    },
    {
     "name": "stdout",
     "output_type": "stream",
     "text": [
      "Epoch 13/100\n",
      "Train Loss: 0.7635, Train Acc: 99.30%\n",
      "Val Loss: 0.9202, Val Acc: 81.70%\n",
      "------------------------------------------------------------\n"
     ]
    },
    {
     "name": "stderr",
     "output_type": "stream",
     "text": [
      "Epoch [14/100]: 100%|██████████| 27/27 [00:08<00:00,  3.31it/s, accuracy=99.2, loss=0.765]\n"
     ]
    },
    {
     "name": "stdout",
     "output_type": "stream",
     "text": [
      "Epoch 14/100\n",
      "Train Loss: 0.7649, Train Acc: 99.19%\n",
      "Val Loss: 0.9382, Val Acc: 79.08%\n",
      "------------------------------------------------------------\n"
     ]
    },
    {
     "name": "stderr",
     "output_type": "stream",
     "text": [
      "Epoch [15/100]: 100%|██████████| 27/27 [00:08<00:00,  3.24it/s, accuracy=97.4, loss=0.778]\n"
     ]
    },
    {
     "name": "stdout",
     "output_type": "stream",
     "text": [
      "Epoch 15/100\n",
      "Train Loss: 0.7781, Train Acc: 97.45%\n",
      "Val Loss: 0.9764, Val Acc: 74.51%\n",
      "------------------------------------------------------------\n"
     ]
    },
    {
     "name": "stderr",
     "output_type": "stream",
     "text": [
      "Epoch [16/100]: 100%|██████████| 27/27 [00:08<00:00,  3.24it/s, accuracy=96.6, loss=0.785]\n"
     ]
    },
    {
     "name": "stdout",
     "output_type": "stream",
     "text": [
      "Epoch 16/100\n",
      "Train Loss: 0.7845, Train Acc: 96.64%\n",
      "Val Loss: 0.9070, Val Acc: 83.66%\n",
      "------------------------------------------------------------\n"
     ]
    },
    {
     "name": "stderr",
     "output_type": "stream",
     "text": [
      "Epoch [17/100]: 100%|██████████| 27/27 [00:08<00:00,  3.20it/s, accuracy=97.8, loss=0.774]\n"
     ]
    },
    {
     "name": "stdout",
     "output_type": "stream",
     "text": [
      "Epoch 17/100\n",
      "Train Loss: 0.7739, Train Acc: 97.80%\n",
      "Val Loss: 0.9070, Val Acc: 83.01%\n",
      "------------------------------------------------------------\n"
     ]
    },
    {
     "name": "stderr",
     "output_type": "stream",
     "text": [
      "Epoch [18/100]: 100%|██████████| 27/27 [00:08<00:00,  3.21it/s, accuracy=99.1, loss=0.762]\n"
     ]
    },
    {
     "name": "stdout",
     "output_type": "stream",
     "text": [
      "Epoch 18/100\n",
      "Train Loss: 0.7620, Train Acc: 99.07%\n",
      "Val Loss: 0.9074, Val Acc: 81.70%\n",
      "------------------------------------------------------------\n"
     ]
    },
    {
     "name": "stderr",
     "output_type": "stream",
     "text": [
      "Epoch [19/100]: 100%|██████████| 27/27 [00:08<00:00,  3.23it/s, accuracy=99.3, loss=0.759]\n"
     ]
    },
    {
     "name": "stdout",
     "output_type": "stream",
     "text": [
      "Epoch 19/100\n",
      "Train Loss: 0.7587, Train Acc: 99.30%\n",
      "Val Loss: 0.8956, Val Acc: 84.97%\n",
      "------------------------------------------------------------\n"
     ]
    },
    {
     "name": "stderr",
     "output_type": "stream",
     "text": [
      "Epoch [20/100]: 100%|██████████| 27/27 [00:08<00:00,  3.21it/s, accuracy=99.1, loss=0.759]\n"
     ]
    },
    {
     "name": "stdout",
     "output_type": "stream",
     "text": [
      "Epoch 20/100\n",
      "Train Loss: 0.7586, Train Acc: 99.07%\n",
      "Val Loss: 0.9119, Val Acc: 81.05%\n",
      "------------------------------------------------------------\n"
     ]
    },
    {
     "name": "stderr",
     "output_type": "stream",
     "text": [
      "Epoch [21/100]: 100%|██████████| 27/27 [00:08<00:00,  3.24it/s, accuracy=99.2, loss=0.757]\n"
     ]
    },
    {
     "name": "stdout",
     "output_type": "stream",
     "text": [
      "Epoch 21/100\n",
      "Train Loss: 0.7571, Train Acc: 99.19%\n",
      "Val Loss: 0.9232, Val Acc: 79.74%\n",
      "------------------------------------------------------------\n"
     ]
    },
    {
     "name": "stderr",
     "output_type": "stream",
     "text": [
      "Epoch [22/100]: 100%|██████████| 27/27 [00:08<00:00,  3.23it/s, accuracy=99, loss=0.759]  \n"
     ]
    },
    {
     "name": "stdout",
     "output_type": "stream",
     "text": [
      "Epoch 22/100\n",
      "Train Loss: 0.7590, Train Acc: 98.96%\n",
      "Val Loss: 0.8933, Val Acc: 84.97%\n",
      "------------------------------------------------------------\n"
     ]
    },
    {
     "name": "stderr",
     "output_type": "stream",
     "text": [
      "Epoch [23/100]: 100%|██████████| 27/27 [00:08<00:00,  3.24it/s, accuracy=98.6, loss=0.761]\n"
     ]
    },
    {
     "name": "stdout",
     "output_type": "stream",
     "text": [
      "Epoch 23/100\n",
      "Train Loss: 0.7605, Train Acc: 98.61%\n",
      "Val Loss: 0.9149, Val Acc: 81.70%\n",
      "------------------------------------------------------------\n"
     ]
    },
    {
     "name": "stderr",
     "output_type": "stream",
     "text": [
      "Epoch [24/100]: 100%|██████████| 27/27 [00:08<00:00,  3.22it/s, accuracy=99.1, loss=0.758]\n"
     ]
    },
    {
     "name": "stdout",
     "output_type": "stream",
     "text": [
      "Epoch 24/100\n",
      "Train Loss: 0.7582, Train Acc: 99.07%\n",
      "Val Loss: 0.9107, Val Acc: 80.39%\n",
      "------------------------------------------------------------\n"
     ]
    },
    {
     "name": "stderr",
     "output_type": "stream",
     "text": [
      "Epoch [25/100]: 100%|██████████| 27/27 [00:08<00:00,  3.24it/s, accuracy=99.3, loss=0.754]\n"
     ]
    },
    {
     "name": "stdout",
     "output_type": "stream",
     "text": [
      "Epoch 25/100\n",
      "Train Loss: 0.7540, Train Acc: 99.30%\n",
      "Val Loss: 0.9033, Val Acc: 83.66%\n",
      "------------------------------------------------------------\n"
     ]
    },
    {
     "name": "stderr",
     "output_type": "stream",
     "text": [
      "Epoch [26/100]: 100%|██████████| 27/27 [00:08<00:00,  3.17it/s, accuracy=99.2, loss=0.759]\n"
     ]
    },
    {
     "name": "stdout",
     "output_type": "stream",
     "text": [
      "Epoch 26/100\n",
      "Train Loss: 0.7586, Train Acc: 99.19%\n",
      "Val Loss: 0.9026, Val Acc: 84.97%\n",
      "------------------------------------------------------------\n"
     ]
    },
    {
     "name": "stderr",
     "output_type": "stream",
     "text": [
      "Epoch [27/100]: 100%|██████████| 27/27 [00:08<00:00,  3.23it/s, accuracy=98.8, loss=0.76] \n"
     ]
    },
    {
     "name": "stdout",
     "output_type": "stream",
     "text": [
      "Epoch 27/100\n",
      "Train Loss: 0.7599, Train Acc: 98.84%\n",
      "Val Loss: 0.9490, Val Acc: 77.12%\n",
      "------------------------------------------------------------\n"
     ]
    },
    {
     "name": "stderr",
     "output_type": "stream",
     "text": [
      "Epoch [28/100]: 100%|██████████| 27/27 [00:08<00:00,  3.17it/s, accuracy=99.2, loss=0.756]\n"
     ]
    },
    {
     "name": "stdout",
     "output_type": "stream",
     "text": [
      "Epoch 28/100\n",
      "Train Loss: 0.7555, Train Acc: 99.19%\n",
      "Val Loss: 0.9337, Val Acc: 80.39%\n",
      "------------------------------------------------------------\n"
     ]
    },
    {
     "name": "stderr",
     "output_type": "stream",
     "text": [
      "Epoch [29/100]: 100%|██████████| 27/27 [00:08<00:00,  3.23it/s, accuracy=99.4, loss=0.752]\n"
     ]
    },
    {
     "name": "stdout",
     "output_type": "stream",
     "text": [
      "Epoch 29/100\n",
      "Train Loss: 0.7521, Train Acc: 99.42%\n",
      "Val Loss: 0.9211, Val Acc: 81.70%\n",
      "------------------------------------------------------------\n"
     ]
    },
    {
     "name": "stderr",
     "output_type": "stream",
     "text": [
      "Epoch [30/100]: 100%|██████████| 27/27 [00:08<00:00,  3.21it/s, accuracy=99.4, loss=0.752]\n"
     ]
    },
    {
     "name": "stdout",
     "output_type": "stream",
     "text": [
      "Epoch 30/100\n",
      "Train Loss: 0.7523, Train Acc: 99.42%\n",
      "Val Loss: 0.9125, Val Acc: 83.01%\n",
      "------------------------------------------------------------\n"
     ]
    },
    {
     "name": "stderr",
     "output_type": "stream",
     "text": [
      "Epoch [31/100]: 100%|██████████| 27/27 [00:08<00:00,  3.24it/s, accuracy=99.7, loss=0.75] \n"
     ]
    },
    {
     "name": "stdout",
     "output_type": "stream",
     "text": [
      "Epoch 31/100\n",
      "Train Loss: 0.7503, Train Acc: 99.65%\n",
      "Val Loss: 0.9129, Val Acc: 81.70%\n",
      "------------------------------------------------------------\n"
     ]
    },
    {
     "name": "stderr",
     "output_type": "stream",
     "text": [
      "Epoch [32/100]: 100%|██████████| 27/27 [00:08<00:00,  3.15it/s, accuracy=99.7, loss=0.749]\n"
     ]
    },
    {
     "name": "stdout",
     "output_type": "stream",
     "text": [
      "Epoch 32/100\n",
      "Train Loss: 0.7494, Train Acc: 99.65%\n",
      "Val Loss: 0.8935, Val Acc: 84.31%\n",
      "------------------------------------------------------------\n"
     ]
    },
    {
     "name": "stderr",
     "output_type": "stream",
     "text": [
      "Epoch [33/100]: 100%|██████████| 27/27 [00:09<00:00,  2.92it/s, accuracy=99.4, loss=0.751]\n"
     ]
    },
    {
     "name": "stdout",
     "output_type": "stream",
     "text": [
      "Epoch 33/100\n",
      "Train Loss: 0.7507, Train Acc: 99.42%\n",
      "Val Loss: 0.9063, Val Acc: 83.66%\n",
      "------------------------------------------------------------\n"
     ]
    },
    {
     "name": "stderr",
     "output_type": "stream",
     "text": [
      "Epoch [34/100]: 100%|██████████| 27/27 [00:09<00:00,  2.95it/s, accuracy=99.5, loss=0.75] \n"
     ]
    },
    {
     "name": "stdout",
     "output_type": "stream",
     "text": [
      "Epoch 34/100\n",
      "Train Loss: 0.7499, Train Acc: 99.54%\n",
      "Val Loss: 0.9093, Val Acc: 83.66%\n",
      "------------------------------------------------------------\n"
     ]
    },
    {
     "name": "stderr",
     "output_type": "stream",
     "text": [
      "Epoch [35/100]: 100%|██████████| 27/27 [00:08<00:00,  3.07it/s, accuracy=99.5, loss=0.75] \n"
     ]
    },
    {
     "name": "stdout",
     "output_type": "stream",
     "text": [
      "Epoch 35/100\n",
      "Train Loss: 0.7504, Train Acc: 99.54%\n",
      "Val Loss: 0.9236, Val Acc: 79.74%\n",
      "------------------------------------------------------------\n"
     ]
    },
    {
     "name": "stderr",
     "output_type": "stream",
     "text": [
      "Epoch [36/100]: 100%|██████████| 27/27 [00:08<00:00,  3.03it/s, accuracy=99.3, loss=0.754]\n"
     ]
    },
    {
     "name": "stdout",
     "output_type": "stream",
     "text": [
      "Epoch 36/100\n",
      "Train Loss: 0.7541, Train Acc: 99.30%\n",
      "Val Loss: 0.9097, Val Acc: 83.01%\n",
      "------------------------------------------------------------\n"
     ]
    },
    {
     "name": "stderr",
     "output_type": "stream",
     "text": [
      "Epoch [37/100]: 100%|██████████| 27/27 [00:08<00:00,  3.02it/s, accuracy=99.3, loss=0.752]\n"
     ]
    },
    {
     "name": "stdout",
     "output_type": "stream",
     "text": [
      "Epoch 37/100\n",
      "Train Loss: 0.7524, Train Acc: 99.30%\n",
      "Val Loss: 0.8947, Val Acc: 84.97%\n",
      "------------------------------------------------------------\n"
     ]
    },
    {
     "name": "stderr",
     "output_type": "stream",
     "text": [
      "Epoch [38/100]: 100%|██████████| 27/27 [00:08<00:00,  3.01it/s, accuracy=99.2, loss=0.754]\n"
     ]
    },
    {
     "name": "stdout",
     "output_type": "stream",
     "text": [
      "Epoch 38/100\n",
      "Train Loss: 0.7539, Train Acc: 99.19%\n",
      "Val Loss: 0.8986, Val Acc: 84.31%\n",
      "------------------------------------------------------------\n"
     ]
    },
    {
     "name": "stderr",
     "output_type": "stream",
     "text": [
      "Epoch [39/100]: 100%|██████████| 27/27 [00:08<00:00,  3.20it/s, accuracy=98.8, loss=0.758]\n"
     ]
    },
    {
     "name": "stdout",
     "output_type": "stream",
     "text": [
      "Epoch 39/100\n",
      "Train Loss: 0.7581, Train Acc: 98.84%\n",
      "Val Loss: 0.9234, Val Acc: 81.70%\n",
      "------------------------------------------------------------\n"
     ]
    },
    {
     "name": "stderr",
     "output_type": "stream",
     "text": [
      "Epoch [40/100]: 100%|██████████| 27/27 [00:08<00:00,  3.18it/s, accuracy=99.2, loss=0.753]\n"
     ]
    },
    {
     "name": "stdout",
     "output_type": "stream",
     "text": [
      "Epoch 40/100\n",
      "Train Loss: 0.7529, Train Acc: 99.19%\n",
      "Val Loss: 0.9107, Val Acc: 82.35%\n",
      "------------------------------------------------------------\n"
     ]
    },
    {
     "name": "stderr",
     "output_type": "stream",
     "text": [
      "Epoch [41/100]: 100%|██████████| 27/27 [00:08<00:00,  3.18it/s, accuracy=99.2, loss=0.754]\n"
     ]
    },
    {
     "name": "stdout",
     "output_type": "stream",
     "text": [
      "Epoch 41/100\n",
      "Train Loss: 0.7541, Train Acc: 99.19%\n",
      "Val Loss: 0.9138, Val Acc: 82.35%\n",
      "------------------------------------------------------------\n"
     ]
    },
    {
     "name": "stderr",
     "output_type": "stream",
     "text": [
      "Epoch [42/100]: 100%|██████████| 27/27 [00:08<00:00,  3.16it/s, accuracy=99.1, loss=0.755]\n"
     ]
    },
    {
     "name": "stdout",
     "output_type": "stream",
     "text": [
      "Epoch 42/100\n",
      "Train Loss: 0.7554, Train Acc: 99.07%\n",
      "Val Loss: 0.9172, Val Acc: 81.70%\n",
      "------------------------------------------------------------\n"
     ]
    },
    {
     "name": "stderr",
     "output_type": "stream",
     "text": [
      "Epoch [43/100]: 100%|██████████| 27/27 [00:08<00:00,  3.17it/s, accuracy=99.2, loss=0.755]\n"
     ]
    },
    {
     "name": "stdout",
     "output_type": "stream",
     "text": [
      "Epoch 43/100\n",
      "Train Loss: 0.7549, Train Acc: 99.19%\n",
      "Val Loss: 0.9078, Val Acc: 81.70%\n",
      "------------------------------------------------------------\n"
     ]
    },
    {
     "name": "stderr",
     "output_type": "stream",
     "text": [
      "Epoch [44/100]: 100%|██████████| 27/27 [00:08<00:00,  3.10it/s, accuracy=99, loss=0.755]  \n"
     ]
    },
    {
     "name": "stdout",
     "output_type": "stream",
     "text": [
      "Epoch 44/100\n",
      "Train Loss: 0.7548, Train Acc: 98.96%\n",
      "Val Loss: 0.8888, Val Acc: 84.97%\n",
      "------------------------------------------------------------\n"
     ]
    },
    {
     "name": "stderr",
     "output_type": "stream",
     "text": [
      "Epoch [45/100]: 100%|██████████| 27/27 [00:08<00:00,  3.01it/s, accuracy=99.1, loss=0.753]\n"
     ]
    },
    {
     "name": "stdout",
     "output_type": "stream",
     "text": [
      "Epoch 45/100\n",
      "Train Loss: 0.7528, Train Acc: 99.07%\n",
      "Val Loss: 0.8941, Val Acc: 83.66%\n",
      "------------------------------------------------------------\n"
     ]
    },
    {
     "name": "stderr",
     "output_type": "stream",
     "text": [
      "Epoch [46/100]: 100%|██████████| 27/27 [00:08<00:00,  3.07it/s, accuracy=99.1, loss=0.754]\n"
     ]
    },
    {
     "name": "stdout",
     "output_type": "stream",
     "text": [
      "Epoch 46/100\n",
      "Train Loss: 0.7539, Train Acc: 99.07%\n",
      "Val Loss: 0.8921, Val Acc: 84.97%\n",
      "------------------------------------------------------------\n"
     ]
    },
    {
     "name": "stderr",
     "output_type": "stream",
     "text": [
      "Epoch [47/100]: 100%|██████████| 27/27 [00:08<00:00,  3.20it/s, accuracy=99.2, loss=0.754]\n"
     ]
    },
    {
     "name": "stdout",
     "output_type": "stream",
     "text": [
      "Epoch 47/100\n",
      "Train Loss: 0.7540, Train Acc: 99.19%\n",
      "Val Loss: 0.9011, Val Acc: 83.01%\n",
      "------------------------------------------------------------\n"
     ]
    },
    {
     "name": "stderr",
     "output_type": "stream",
     "text": [
      "Epoch [48/100]: 100%|██████████| 27/27 [00:08<00:00,  3.00it/s, accuracy=99.2, loss=0.755]\n"
     ]
    },
    {
     "name": "stdout",
     "output_type": "stream",
     "text": [
      "Epoch 48/100\n",
      "Train Loss: 0.7546, Train Acc: 99.19%\n",
      "Val Loss: 0.9152, Val Acc: 82.35%\n",
      "------------------------------------------------------------\n"
     ]
    },
    {
     "name": "stderr",
     "output_type": "stream",
     "text": [
      "Epoch [49/100]: 100%|██████████| 27/27 [00:08<00:00,  3.21it/s, accuracy=99, loss=0.755]  \n"
     ]
    },
    {
     "name": "stdout",
     "output_type": "stream",
     "text": [
      "Epoch 49/100\n",
      "Train Loss: 0.7552, Train Acc: 98.96%\n",
      "Val Loss: 0.9100, Val Acc: 82.35%\n",
      "------------------------------------------------------------\n"
     ]
    },
    {
     "name": "stderr",
     "output_type": "stream",
     "text": [
      "Epoch [50/100]: 100%|██████████| 27/27 [00:09<00:00,  2.97it/s, accuracy=99.3, loss=0.753]\n"
     ]
    },
    {
     "name": "stdout",
     "output_type": "stream",
     "text": [
      "Epoch 50/100\n",
      "Train Loss: 0.7531, Train Acc: 99.30%\n",
      "Val Loss: 0.9383, Val Acc: 80.39%\n",
      "------------------------------------------------------------\n"
     ]
    },
    {
     "name": "stderr",
     "output_type": "stream",
     "text": [
      "Epoch [51/100]: 100%|██████████| 27/27 [00:08<00:00,  3.21it/s, accuracy=99.4, loss=0.752]\n"
     ]
    },
    {
     "name": "stdout",
     "output_type": "stream",
     "text": [
      "Epoch 51/100\n",
      "Train Loss: 0.7522, Train Acc: 99.42%\n",
      "Val Loss: 0.9110, Val Acc: 82.35%\n",
      "------------------------------------------------------------\n"
     ]
    },
    {
     "name": "stderr",
     "output_type": "stream",
     "text": [
      "Epoch [52/100]: 100%|██████████| 27/27 [00:08<00:00,  3.16it/s, accuracy=99.1, loss=0.754]\n"
     ]
    },
    {
     "name": "stdout",
     "output_type": "stream",
     "text": [
      "Epoch 52/100\n",
      "Train Loss: 0.7542, Train Acc: 99.07%\n",
      "Val Loss: 0.9470, Val Acc: 78.43%\n",
      "------------------------------------------------------------\n"
     ]
    },
    {
     "name": "stderr",
     "output_type": "stream",
     "text": [
      "Epoch [53/100]: 100%|██████████| 27/27 [00:08<00:00,  3.29it/s, accuracy=99, loss=0.755]  \n"
     ]
    },
    {
     "name": "stdout",
     "output_type": "stream",
     "text": [
      "Epoch 53/100\n",
      "Train Loss: 0.7551, Train Acc: 98.96%\n",
      "Val Loss: 0.9362, Val Acc: 79.08%\n",
      "------------------------------------------------------------\n"
     ]
    },
    {
     "name": "stderr",
     "output_type": "stream",
     "text": [
      "Epoch [54/100]: 100%|██████████| 27/27 [00:09<00:00,  2.98it/s, accuracy=99, loss=0.756]  \n"
     ]
    },
    {
     "name": "stdout",
     "output_type": "stream",
     "text": [
      "Epoch 54/100\n",
      "Train Loss: 0.7561, Train Acc: 98.96%\n",
      "Val Loss: 0.9203, Val Acc: 81.05%\n",
      "------------------------------------------------------------\n"
     ]
    },
    {
     "name": "stderr",
     "output_type": "stream",
     "text": [
      "Epoch [55/100]: 100%|██████████| 27/27 [00:09<00:00,  2.91it/s, accuracy=99.4, loss=0.751]\n"
     ]
    },
    {
     "name": "stdout",
     "output_type": "stream",
     "text": [
      "Epoch 55/100\n",
      "Train Loss: 0.7512, Train Acc: 99.42%\n",
      "Val Loss: 0.9131, Val Acc: 81.05%\n",
      "------------------------------------------------------------\n"
     ]
    },
    {
     "name": "stderr",
     "output_type": "stream",
     "text": [
      "Epoch [56/100]: 100%|██████████| 27/27 [00:08<00:00,  3.02it/s, accuracy=99.4, loss=0.752]\n"
     ]
    },
    {
     "name": "stdout",
     "output_type": "stream",
     "text": [
      "Epoch 56/100\n",
      "Train Loss: 0.7518, Train Acc: 99.42%\n",
      "Val Loss: 0.9032, Val Acc: 83.01%\n",
      "------------------------------------------------------------\n"
     ]
    },
    {
     "name": "stderr",
     "output_type": "stream",
     "text": [
      "Epoch [57/100]: 100%|██████████| 27/27 [00:08<00:00,  3.01it/s, accuracy=99, loss=0.757]  \n"
     ]
    },
    {
     "name": "stdout",
     "output_type": "stream",
     "text": [
      "Epoch 57/100\n",
      "Train Loss: 0.7568, Train Acc: 98.96%\n",
      "Val Loss: 0.8994, Val Acc: 84.31%\n",
      "------------------------------------------------------------\n"
     ]
    },
    {
     "name": "stderr",
     "output_type": "stream",
     "text": [
      "Epoch [58/100]: 100%|██████████| 27/27 [00:08<00:00,  3.01it/s, accuracy=99.4, loss=0.752]\n"
     ]
    },
    {
     "name": "stdout",
     "output_type": "stream",
     "text": [
      "Epoch 58/100\n",
      "Train Loss: 0.7521, Train Acc: 99.42%\n",
      "Val Loss: 0.8917, Val Acc: 83.01%\n",
      "------------------------------------------------------------\n"
     ]
    },
    {
     "name": "stderr",
     "output_type": "stream",
     "text": [
      "Epoch [59/100]: 100%|██████████| 27/27 [00:08<00:00,  3.13it/s, accuracy=99.5, loss=0.752]\n"
     ]
    },
    {
     "name": "stdout",
     "output_type": "stream",
     "text": [
      "Epoch 59/100\n",
      "Train Loss: 0.7516, Train Acc: 99.54%\n",
      "Val Loss: 0.9138, Val Acc: 81.05%\n",
      "------------------------------------------------------------\n"
     ]
    },
    {
     "name": "stderr",
     "output_type": "stream",
     "text": [
      "Epoch [60/100]: 100%|██████████| 27/27 [00:08<00:00,  3.19it/s, accuracy=98.5, loss=0.759]\n"
     ]
    },
    {
     "name": "stdout",
     "output_type": "stream",
     "text": [
      "Epoch 60/100\n",
      "Train Loss: 0.7589, Train Acc: 98.49%\n",
      "Val Loss: 0.9213, Val Acc: 80.39%\n",
      "------------------------------------------------------------\n"
     ]
    },
    {
     "name": "stderr",
     "output_type": "stream",
     "text": [
      "Epoch [61/100]: 100%|██████████| 27/27 [00:08<00:00,  3.08it/s, accuracy=99.7, loss=0.751]\n"
     ]
    },
    {
     "name": "stdout",
     "output_type": "stream",
     "text": [
      "Epoch 61/100\n",
      "Train Loss: 0.7506, Train Acc: 99.65%\n",
      "Val Loss: 0.9070, Val Acc: 81.05%\n",
      "------------------------------------------------------------\n"
     ]
    },
    {
     "name": "stderr",
     "output_type": "stream",
     "text": [
      "Epoch [62/100]: 100%|██████████| 27/27 [00:08<00:00,  3.04it/s, accuracy=99.4, loss=0.751]\n"
     ]
    },
    {
     "name": "stdout",
     "output_type": "stream",
     "text": [
      "Epoch 62/100\n",
      "Train Loss: 0.7506, Train Acc: 99.42%\n",
      "Val Loss: 0.8962, Val Acc: 83.66%\n",
      "------------------------------------------------------------\n"
     ]
    },
    {
     "name": "stderr",
     "output_type": "stream",
     "text": [
      "Epoch [63/100]: 100%|██████████| 27/27 [00:09<00:00,  2.96it/s, accuracy=99.1, loss=0.753]\n"
     ]
    },
    {
     "name": "stdout",
     "output_type": "stream",
     "text": [
      "Epoch 63/100\n",
      "Train Loss: 0.7533, Train Acc: 99.07%\n",
      "Val Loss: 0.8908, Val Acc: 83.66%\n",
      "------------------------------------------------------------\n"
     ]
    },
    {
     "name": "stderr",
     "output_type": "stream",
     "text": [
      "Epoch [64/100]: 100%|██████████| 27/27 [00:08<00:00,  3.04it/s, accuracy=99, loss=0.754]  \n"
     ]
    },
    {
     "name": "stdout",
     "output_type": "stream",
     "text": [
      "Epoch 64/100\n",
      "Train Loss: 0.7541, Train Acc: 98.96%\n",
      "Val Loss: 0.9144, Val Acc: 81.70%\n",
      "------------------------------------------------------------\n"
     ]
    },
    {
     "name": "stderr",
     "output_type": "stream",
     "text": [
      "Epoch [65/100]: 100%|██████████| 27/27 [00:08<00:00,  3.06it/s, accuracy=99.2, loss=0.753]\n"
     ]
    },
    {
     "name": "stdout",
     "output_type": "stream",
     "text": [
      "Epoch 65/100\n",
      "Train Loss: 0.7532, Train Acc: 99.19%\n",
      "Val Loss: 0.9026, Val Acc: 83.01%\n",
      "------------------------------------------------------------\n"
     ]
    },
    {
     "name": "stderr",
     "output_type": "stream",
     "text": [
      "Epoch [66/100]: 100%|██████████| 27/27 [00:08<00:00,  3.16it/s, accuracy=99, loss=0.756]  \n"
     ]
    },
    {
     "name": "stdout",
     "output_type": "stream",
     "text": [
      "Epoch 66/100\n",
      "Train Loss: 0.7560, Train Acc: 98.96%\n",
      "Val Loss: 0.8903, Val Acc: 84.31%\n",
      "------------------------------------------------------------\n"
     ]
    },
    {
     "name": "stderr",
     "output_type": "stream",
     "text": [
      "Epoch [67/100]: 100%|██████████| 27/27 [00:08<00:00,  3.18it/s, accuracy=99.5, loss=0.75] \n"
     ]
    },
    {
     "name": "stdout",
     "output_type": "stream",
     "text": [
      "Epoch 67/100\n",
      "Train Loss: 0.7498, Train Acc: 99.54%\n",
      "Val Loss: 0.8944, Val Acc: 84.31%\n",
      "------------------------------------------------------------\n"
     ]
    },
    {
     "name": "stderr",
     "output_type": "stream",
     "text": [
      "Epoch [68/100]: 100%|██████████| 27/27 [00:08<00:00,  3.23it/s, accuracy=99.7, loss=0.748]\n"
     ]
    },
    {
     "name": "stdout",
     "output_type": "stream",
     "text": [
      "Epoch 68/100\n",
      "Train Loss: 0.7482, Train Acc: 99.65%\n",
      "Val Loss: 0.8925, Val Acc: 84.97%\n",
      "------------------------------------------------------------\n"
     ]
    },
    {
     "name": "stderr",
     "output_type": "stream",
     "text": [
      "Epoch [69/100]: 100%|██████████| 27/27 [00:08<00:00,  3.21it/s, accuracy=99.5, loss=0.748]\n"
     ]
    },
    {
     "name": "stdout",
     "output_type": "stream",
     "text": [
      "Epoch 69/100\n",
      "Train Loss: 0.7484, Train Acc: 99.54%\n",
      "Val Loss: 0.8873, Val Acc: 84.31%\n",
      "------------------------------------------------------------\n"
     ]
    },
    {
     "name": "stderr",
     "output_type": "stream",
     "text": [
      "Epoch [70/100]: 100%|██████████| 27/27 [00:08<00:00,  3.31it/s, accuracy=99.5, loss=0.749]\n"
     ]
    },
    {
     "name": "stdout",
     "output_type": "stream",
     "text": [
      "85.62091503267973 0.88595529794693\n",
      "Epoch 70/100\n",
      "Train Loss: 0.7489, Train Acc: 99.54%\n",
      "Val Loss: 0.8860, Val Acc: 85.62%\n",
      "------------------------------------------------------------\n"
     ]
    },
    {
     "name": "stderr",
     "output_type": "stream",
     "text": [
      "Epoch [71/100]: 100%|██████████| 27/27 [00:08<00:00,  3.05it/s, accuracy=99.7, loss=0.748]\n"
     ]
    },
    {
     "name": "stdout",
     "output_type": "stream",
     "text": [
      "Epoch 71/100\n",
      "Train Loss: 0.7476, Train Acc: 99.65%\n",
      "Val Loss: 0.8847, Val Acc: 85.62%\n",
      "------------------------------------------------------------\n"
     ]
    },
    {
     "name": "stderr",
     "output_type": "stream",
     "text": [
      "Epoch [72/100]: 100%|██████████| 27/27 [00:08<00:00,  3.07it/s, accuracy=99.5, loss=0.749]\n"
     ]
    },
    {
     "name": "stdout",
     "output_type": "stream",
     "text": [
      "Epoch 72/100\n",
      "Train Loss: 0.7492, Train Acc: 99.54%\n",
      "Val Loss: 0.8820, Val Acc: 85.62%\n",
      "------------------------------------------------------------\n"
     ]
    },
    {
     "name": "stderr",
     "output_type": "stream",
     "text": [
      "Epoch [73/100]: 100%|██████████| 27/27 [00:08<00:00,  3.03it/s, accuracy=99.5, loss=0.748]\n"
     ]
    },
    {
     "name": "stdout",
     "output_type": "stream",
     "text": [
      "Epoch 73/100\n",
      "Train Loss: 0.7485, Train Acc: 99.54%\n",
      "Val Loss: 0.9108, Val Acc: 81.70%\n",
      "------------------------------------------------------------\n"
     ]
    },
    {
     "name": "stderr",
     "output_type": "stream",
     "text": [
      "Epoch [74/100]: 100%|██████████| 27/27 [00:08<00:00,  3.05it/s, accuracy=99.4, loss=0.752]\n"
     ]
    },
    {
     "name": "stdout",
     "output_type": "stream",
     "text": [
      "Epoch 74/100\n",
      "Train Loss: 0.7516, Train Acc: 99.42%\n",
      "Val Loss: 0.8968, Val Acc: 83.66%\n",
      "------------------------------------------------------------\n"
     ]
    },
    {
     "name": "stderr",
     "output_type": "stream",
     "text": [
      "Epoch [75/100]: 100%|██████████| 27/27 [00:08<00:00,  3.16it/s, accuracy=99.1, loss=0.754]\n"
     ]
    },
    {
     "name": "stdout",
     "output_type": "stream",
     "text": [
      "Epoch 75/100\n",
      "Train Loss: 0.7541, Train Acc: 99.07%\n",
      "Val Loss: 0.8957, Val Acc: 84.31%\n",
      "------------------------------------------------------------\n"
     ]
    },
    {
     "name": "stderr",
     "output_type": "stream",
     "text": [
      "Epoch [76/100]: 100%|██████████| 27/27 [00:08<00:00,  3.10it/s, accuracy=99.7, loss=0.749]\n"
     ]
    },
    {
     "name": "stdout",
     "output_type": "stream",
     "text": [
      "Epoch 76/100\n",
      "Train Loss: 0.7488, Train Acc: 99.65%\n",
      "Val Loss: 0.8994, Val Acc: 83.01%\n",
      "------------------------------------------------------------\n"
     ]
    },
    {
     "name": "stderr",
     "output_type": "stream",
     "text": [
      "Epoch [77/100]: 100%|██████████| 27/27 [00:08<00:00,  3.10it/s, accuracy=99.5, loss=0.749]\n"
     ]
    },
    {
     "name": "stdout",
     "output_type": "stream",
     "text": [
      "Epoch 77/100\n",
      "Train Loss: 0.7489, Train Acc: 99.54%\n",
      "Val Loss: 0.9025, Val Acc: 83.66%\n",
      "------------------------------------------------------------\n"
     ]
    },
    {
     "name": "stderr",
     "output_type": "stream",
     "text": [
      "Epoch [78/100]: 100%|██████████| 27/27 [00:08<00:00,  3.03it/s, accuracy=99.7, loss=0.748]\n"
     ]
    },
    {
     "name": "stdout",
     "output_type": "stream",
     "text": [
      "Epoch 78/100\n",
      "Train Loss: 0.7479, Train Acc: 99.65%\n",
      "Val Loss: 0.8994, Val Acc: 84.31%\n",
      "------------------------------------------------------------\n"
     ]
    },
    {
     "name": "stderr",
     "output_type": "stream",
     "text": [
      "Epoch [79/100]: 100%|██████████| 27/27 [00:08<00:00,  3.12it/s, accuracy=99.7, loss=0.748]\n"
     ]
    },
    {
     "name": "stdout",
     "output_type": "stream",
     "text": [
      "Epoch 79/100\n",
      "Train Loss: 0.7476, Train Acc: 99.65%\n",
      "Val Loss: 0.8966, Val Acc: 84.97%\n",
      "------------------------------------------------------------\n"
     ]
    },
    {
     "name": "stderr",
     "output_type": "stream",
     "text": [
      "Epoch [80/100]: 100%|██████████| 27/27 [00:09<00:00,  2.98it/s, accuracy=99.5, loss=0.748]\n"
     ]
    },
    {
     "name": "stdout",
     "output_type": "stream",
     "text": [
      "Epoch 80/100\n",
      "Train Loss: 0.7483, Train Acc: 99.54%\n",
      "Val Loss: 0.8993, Val Acc: 83.66%\n",
      "------------------------------------------------------------\n"
     ]
    },
    {
     "name": "stderr",
     "output_type": "stream",
     "text": [
      "Epoch [81/100]: 100%|██████████| 27/27 [00:08<00:00,  3.07it/s, accuracy=99.7, loss=0.748]\n"
     ]
    },
    {
     "name": "stdout",
     "output_type": "stream",
     "text": [
      "Epoch 81/100\n",
      "Train Loss: 0.7481, Train Acc: 99.65%\n",
      "Val Loss: 0.9075, Val Acc: 82.35%\n",
      "------------------------------------------------------------\n"
     ]
    },
    {
     "name": "stderr",
     "output_type": "stream",
     "text": [
      "Epoch [82/100]: 100%|██████████| 27/27 [00:08<00:00,  3.09it/s, accuracy=99.7, loss=0.748]\n"
     ]
    },
    {
     "name": "stdout",
     "output_type": "stream",
     "text": [
      "Epoch 82/100\n",
      "Train Loss: 0.7477, Train Acc: 99.65%\n",
      "Val Loss: 0.9066, Val Acc: 83.66%\n",
      "------------------------------------------------------------\n"
     ]
    },
    {
     "name": "stderr",
     "output_type": "stream",
     "text": [
      "Epoch [83/100]: 100%|██████████| 27/27 [00:08<00:00,  3.08it/s, accuracy=99.7, loss=0.748]\n"
     ]
    },
    {
     "name": "stdout",
     "output_type": "stream",
     "text": [
      "Epoch 83/100\n",
      "Train Loss: 0.7480, Train Acc: 99.65%\n",
      "Val Loss: 0.9032, Val Acc: 84.31%\n",
      "------------------------------------------------------------\n"
     ]
    },
    {
     "name": "stderr",
     "output_type": "stream",
     "text": [
      "Epoch [84/100]: 100%|██████████| 27/27 [00:09<00:00,  2.97it/s, accuracy=99.7, loss=0.748]\n"
     ]
    },
    {
     "name": "stdout",
     "output_type": "stream",
     "text": [
      "Epoch 84/100\n",
      "Train Loss: 0.7476, Train Acc: 99.65%\n",
      "Val Loss: 0.9043, Val Acc: 83.01%\n",
      "------------------------------------------------------------\n"
     ]
    },
    {
     "name": "stderr",
     "output_type": "stream",
     "text": [
      "Epoch [85/100]: 100%|██████████| 27/27 [00:08<00:00,  3.09it/s, accuracy=99.7, loss=0.748]\n"
     ]
    },
    {
     "name": "stdout",
     "output_type": "stream",
     "text": [
      "Epoch 85/100\n",
      "Train Loss: 0.7478, Train Acc: 99.65%\n",
      "Val Loss: 0.9145, Val Acc: 80.39%\n",
      "------------------------------------------------------------\n"
     ]
    },
    {
     "name": "stderr",
     "output_type": "stream",
     "text": [
      "Epoch [86/100]: 100%|██████████| 27/27 [00:09<00:00,  2.99it/s, accuracy=99.3, loss=0.75] \n"
     ]
    },
    {
     "name": "stdout",
     "output_type": "stream",
     "text": [
      "Epoch 86/100\n",
      "Train Loss: 0.7498, Train Acc: 99.30%\n",
      "Val Loss: 0.8969, Val Acc: 81.70%\n",
      "------------------------------------------------------------\n"
     ]
    },
    {
     "name": "stderr",
     "output_type": "stream",
     "text": [
      "Epoch [87/100]: 100%|██████████| 27/27 [00:08<00:00,  3.05it/s, accuracy=99.7, loss=0.748]\n"
     ]
    },
    {
     "name": "stdout",
     "output_type": "stream",
     "text": [
      "Epoch 87/100\n",
      "Train Loss: 0.7478, Train Acc: 99.65%\n",
      "Val Loss: 0.8881, Val Acc: 85.62%\n",
      "------------------------------------------------------------\n"
     ]
    },
    {
     "name": "stderr",
     "output_type": "stream",
     "text": [
      "Epoch [88/100]: 100%|██████████| 27/27 [00:08<00:00,  3.05it/s, accuracy=99.7, loss=0.748]\n"
     ]
    },
    {
     "name": "stdout",
     "output_type": "stream",
     "text": [
      "Epoch 88/100\n",
      "Train Loss: 0.7477, Train Acc: 99.65%\n",
      "Val Loss: 0.8803, Val Acc: 85.62%\n",
      "------------------------------------------------------------\n"
     ]
    },
    {
     "name": "stderr",
     "output_type": "stream",
     "text": [
      "Epoch [89/100]: 100%|██████████| 27/27 [00:09<00:00,  2.97it/s, accuracy=99.5, loss=0.749]\n"
     ]
    },
    {
     "name": "stdout",
     "output_type": "stream",
     "text": [
      "Epoch 89/100\n",
      "Train Loss: 0.7488, Train Acc: 99.54%\n",
      "Val Loss: 0.8838, Val Acc: 85.62%\n",
      "------------------------------------------------------------\n"
     ]
    },
    {
     "name": "stderr",
     "output_type": "stream",
     "text": [
      "Epoch [90/100]: 100%|██████████| 27/27 [00:08<00:00,  3.07it/s, accuracy=99.7, loss=0.747]\n"
     ]
    },
    {
     "name": "stdout",
     "output_type": "stream",
     "text": [
      "86.27450980392157 0.8799922823905945\n",
      "Epoch 90/100\n",
      "Train Loss: 0.7473, Train Acc: 99.65%\n",
      "Val Loss: 0.8800, Val Acc: 86.27%\n",
      "------------------------------------------------------------\n"
     ]
    },
    {
     "name": "stderr",
     "output_type": "stream",
     "text": [
      "Epoch [91/100]: 100%|██████████| 27/27 [00:08<00:00,  3.14it/s, accuracy=99.7, loss=0.748]\n"
     ]
    },
    {
     "name": "stdout",
     "output_type": "stream",
     "text": [
      "Epoch 91/100\n",
      "Train Loss: 0.7480, Train Acc: 99.65%\n",
      "Val Loss: 0.8903, Val Acc: 84.97%\n",
      "------------------------------------------------------------\n"
     ]
    },
    {
     "name": "stderr",
     "output_type": "stream",
     "text": [
      "Epoch [92/100]: 100%|██████████| 27/27 [00:08<00:00,  3.01it/s, accuracy=99.7, loss=0.748]\n"
     ]
    },
    {
     "name": "stdout",
     "output_type": "stream",
     "text": [
      "86.9281045751634 0.8822081804275512\n",
      "Epoch 92/100\n",
      "Train Loss: 0.7481, Train Acc: 99.65%\n",
      "Val Loss: 0.8822, Val Acc: 86.93%\n",
      "------------------------------------------------------------\n"
     ]
    },
    {
     "name": "stderr",
     "output_type": "stream",
     "text": [
      "Epoch [93/100]: 100%|██████████| 27/27 [00:08<00:00,  3.02it/s, accuracy=99.7, loss=0.748]\n"
     ]
    },
    {
     "name": "stdout",
     "output_type": "stream",
     "text": [
      "Epoch 93/100\n",
      "Train Loss: 0.7475, Train Acc: 99.65%\n",
      "Val Loss: 0.9048, Val Acc: 82.35%\n",
      "------------------------------------------------------------\n"
     ]
    },
    {
     "name": "stderr",
     "output_type": "stream",
     "text": [
      "Epoch [94/100]: 100%|██████████| 27/27 [00:08<00:00,  3.10it/s, accuracy=99.7, loss=0.748]\n"
     ]
    },
    {
     "name": "stdout",
     "output_type": "stream",
     "text": [
      "Epoch 94/100\n",
      "Train Loss: 0.7480, Train Acc: 99.65%\n",
      "Val Loss: 0.8880, Val Acc: 85.62%\n",
      "------------------------------------------------------------\n"
     ]
    },
    {
     "name": "stderr",
     "output_type": "stream",
     "text": [
      "Epoch [95/100]: 100%|██████████| 27/27 [00:08<00:00,  3.06it/s, accuracy=99.5, loss=0.749]\n"
     ]
    },
    {
     "name": "stdout",
     "output_type": "stream",
     "text": [
      "Epoch 95/100\n",
      "Train Loss: 0.7485, Train Acc: 99.54%\n",
      "Val Loss: 0.8999, Val Acc: 84.31%\n",
      "------------------------------------------------------------\n"
     ]
    },
    {
     "name": "stderr",
     "output_type": "stream",
     "text": [
      "Epoch [96/100]: 100%|██████████| 27/27 [00:08<00:00,  3.06it/s, accuracy=99.2, loss=0.751]\n"
     ]
    },
    {
     "name": "stdout",
     "output_type": "stream",
     "text": [
      "Epoch 96/100\n",
      "Train Loss: 0.7510, Train Acc: 99.19%\n",
      "Val Loss: 0.9263, Val Acc: 79.74%\n",
      "------------------------------------------------------------\n"
     ]
    },
    {
     "name": "stderr",
     "output_type": "stream",
     "text": [
      "Epoch [97/100]: 100%|██████████| 27/27 [00:08<00:00,  3.20it/s, accuracy=99.1, loss=0.756]\n"
     ]
    },
    {
     "name": "stdout",
     "output_type": "stream",
     "text": [
      "Epoch 97/100\n",
      "Train Loss: 0.7557, Train Acc: 99.07%\n",
      "Val Loss: 0.9108, Val Acc: 82.35%\n",
      "------------------------------------------------------------\n"
     ]
    },
    {
     "name": "stderr",
     "output_type": "stream",
     "text": [
      "Epoch [98/100]: 100%|██████████| 27/27 [00:08<00:00,  3.17it/s, accuracy=99.3, loss=0.75] \n"
     ]
    },
    {
     "name": "stdout",
     "output_type": "stream",
     "text": [
      "Epoch 98/100\n",
      "Train Loss: 0.7504, Train Acc: 99.30%\n",
      "Val Loss: 0.8887, Val Acc: 84.97%\n",
      "------------------------------------------------------------\n"
     ]
    },
    {
     "name": "stderr",
     "output_type": "stream",
     "text": [
      "Epoch [99/100]: 100%|██████████| 27/27 [00:08<00:00,  3.18it/s, accuracy=99.5, loss=0.749]\n"
     ]
    },
    {
     "name": "stdout",
     "output_type": "stream",
     "text": [
      "Epoch 99/100\n",
      "Train Loss: 0.7493, Train Acc: 99.54%\n",
      "Val Loss: 0.8850, Val Acc: 85.62%\n",
      "------------------------------------------------------------\n"
     ]
    },
    {
     "name": "stderr",
     "output_type": "stream",
     "text": [
      "Epoch [100/100]: 100%|██████████| 27/27 [00:08<00:00,  3.15it/s, accuracy=99, loss=0.753]  \n"
     ]
    },
    {
     "name": "stdout",
     "output_type": "stream",
     "text": [
      "Epoch 100/100\n",
      "Train Loss: 0.7528, Train Acc: 98.96%\n",
      "Val Loss: 0.9180, Val Acc: 79.74%\n",
      "------------------------------------------------------------\n",
      "Finished Training\n"
     ]
    }
   ],
   "source": [
    "print(\"Starting training...\")\n",
    "# model_.load_state_dict(torch.load('model.pth', map_location=device))\n",
    "# for param in model_.parameters():\n",
    "#     param.requires_grad = True\n",
    "trained_model, train_losses, train_accuracies, val_losses, val_accuracies = train(\n",
    "    model_, train_loader, val_loader, epochs=100\n",
    ")"
   ]
  },
  {
   "cell_type": "markdown",
   "metadata": {},
   "source": [
    "#### Evaluating"
   ]
  },
  {
   "cell_type": "code",
   "execution_count": 8,
   "metadata": {},
   "outputs": [
    {
     "name": "stdout",
     "output_type": "stream",
     "text": [
      "Starting evaluating...\n"
     ]
    },
    {
     "name": "stderr",
     "output_type": "stream",
     "text": [
      "Evaluating: 100%|██████████| 5/5 [00:10<00:00,  2.10s/it]"
     ]
    },
    {
     "name": "stdout",
     "output_type": "stream",
     "text": [
      "Overall Accuracy: 79.74%\n"
     ]
    },
    {
     "name": "stderr",
     "output_type": "stream",
     "text": [
      "\n"
     ]
    }
   ],
   "source": [
    "print(\"Starting evaluating...\")\n",
    "class_correct, class_total, confusion_matrix = evaluate(trained_model, val_loader)"
   ]
  },
  {
   "cell_type": "markdown",
   "metadata": {},
   "source": [
    "#### Plot function"
   ]
  },
  {
   "cell_type": "code",
   "execution_count": 9,
   "metadata": {},
   "outputs": [],
   "source": [
    "def plot_training_metrics(train_losses, train_accuracies, val_losses, val_accuracies):\n",
    "\n",
    "    epochs = range(1, len(train_losses) + 1)\n",
    "    \n",
    "    fig, (ax1, ax2) = plt.subplots(1, 2, figsize=(15, 5))\n",
    "\n",
    "    ax1.plot(epochs, train_losses, 'b-', label='Training Loss')\n",
    "    ax1.plot(epochs, val_losses, 'r-', label='Validation Loss')\n",
    "    ax1.set_title('Training and Validation Loss')\n",
    "    ax1.set_xlabel('Epochs')\n",
    "    ax1.set_ylabel('Loss')\n",
    "    ax1.legend()\n",
    "    ax1.grid(True)\n",
    "    \n",
    "    ax2.plot(epochs, train_accuracies, 'b-', label='Training Accuracy')\n",
    "    ax2.plot(epochs, val_accuracies, 'r-', label='Validation Accuracy')\n",
    "    ax2.set_title('Training and Validation Accuracy')\n",
    "    ax2.set_xlabel('Epochs')\n",
    "    ax2.set_ylabel('Accuracy (%)')\n",
    "    ax2.legend()\n",
    "    ax2.grid(True)\n",
    "    \n",
    "    plt.tight_layout()\n",
    "    plt.show()\n",
    "    \n",
    "    fig.savefig('training_metrics.png')\n",
    "    print(\"Training metrics plot saved as 'training_metrics.png'\")\n",
    "    return"
   ]
  },
  {
   "cell_type": "code",
   "execution_count": 10,
   "metadata": {},
   "outputs": [],
   "source": [
    "def plot_evaluation_metrics(class_correct, class_total, confusion_matrix):\n",
    "\n",
    "    num_classes = len(classes)\n",
    "    \n",
    "    # Calculate accuracies and identify valid classes\n",
    "    accuracies = []\n",
    "    valid_classes = []\n",
    "    \n",
    "    print(\"\\nPer-class Accuracy:\")\n",
    "    print(\"-\" * 50)\n",
    "    for i in range(num_classes):\n",
    "        if class_total[i] > 0:  # Avoid division by zero\n",
    "            accuracy = 100 * class_correct[i] / class_total[i]\n",
    "            print(f'{classes[i]}: {accuracy:.2f}% ({int(class_correct[i])}/{int(class_total[i])})')\n",
    "            accuracies.append(accuracy)\n",
    "            valid_classes.append(classes[i])\n",
    "        else:\n",
    "            print(f'{classes[i]}: No samples')\n",
    "    \n",
    "    # Plot per-class accuracy as a bar chart\n",
    "    plt.figure(figsize=(12, 6))\n",
    "    plt.bar(valid_classes, accuracies, color='skyblue')\n",
    "    plt.xlabel('Classes')\n",
    "    plt.ylabel('Accuracy (%)')\n",
    "    plt.title('Per-class Accuracy')\n",
    "    plt.xticks(rotation=45, ha='right')\n",
    "    plt.tight_layout()\n",
    "    plt.savefig('per_class_accuracy.png')\n",
    "    plt.show()\n",
    "    \n",
    "    # Normalize confusion matrix by row (true labels) and plot\n",
    "    normalized_confusion_matrix = confusion_matrix.clone()  # Create a copy to avoid modifying the original\n",
    "    for i in range(num_classes):\n",
    "        if normalized_confusion_matrix[i].sum() > 0:\n",
    "            normalized_confusion_matrix[i] = normalized_confusion_matrix[i] / normalized_confusion_matrix[i].sum()\n",
    "    \n",
    "    # Plot confusion matrix\n",
    "    plt.figure(figsize=(10, 8))\n",
    "    plt.imshow(normalized_confusion_matrix.cpu().numpy(), interpolation='nearest', cmap=plt.cm.Blues)\n",
    "    plt.title('Normalized Confusion Matrix')\n",
    "    plt.colorbar()\n",
    "    tick_marks = np.arange(num_classes)\n",
    "    plt.xticks(tick_marks, classes, rotation=45, ha='right')\n",
    "    plt.yticks(tick_marks, classes)\n",
    "   \n",
    "    thresh = normalized_confusion_matrix.cpu().numpy().max() / 2.0\n",
    "    for i in range(num_classes):\n",
    "        for j in range(num_classes):\n",
    "            plt.text(j, i, f'{normalized_confusion_matrix[i, j]:.2f}',\n",
    "                     horizontalalignment=\"center\",\n",
    "                     color=\"white\" if normalized_confusion_matrix[i, j] > thresh else \"black\")\n",
    "    \n",
    "    plt.tight_layout()\n",
    "    plt.ylabel('True label')\n",
    "    plt.xlabel('Predicted label')\n",
    "    plt.savefig('confusion_matrix.png')\n",
    "    plt.show()\n",
    "    \n",
    "    return"
   ]
  },
  {
   "cell_type": "code",
   "execution_count": 11,
   "metadata": {},
   "outputs": [
    {
     "data": {
      "image/png": "[encoded data removed]",
      "text/plain": [
       "<Figure size 1500x500 with 2 Axes>"
      ]
     },
     "metadata": {},
     "output_type": "display_data"
    },
    {
     "name": "stdout",
     "output_type": "stream",
     "text": [
      "Training metrics plot saved as 'training_metrics.png'\n"
     ]
    }
   ],
   "source": [
    "plot_training_metrics(train_losses, train_accuracies, val_losses, val_accuracies)"
   ]
  },
  {
   "cell_type": "code",
   "execution_count": 12,
   "metadata": {},
   "outputs": [
    {
     "name": "stdout",
     "output_type": "stream",
     "text": [
      "\n",
      "Per-class Accuracy:\n",
      "--------------------------------------------------\n",
      "Diagonal: 59.09% (26/44)\n",
      "Horizontal: 90.91% (40/44)\n",
      "Vertical: 84.38% (27/32)\n",
      "Web_and_X: 87.88% (29/33)\n"
     ]
    },
    {
     "data": {
      "image/png": "[encoded data removed]",
      "text/plain": [
       "<Figure size 1200x600 with 1 Axes>"
      ]
     },
     "metadata": {},
     "output_type": "display_data"
    },
    {
     "data": {
      "image/png": "[encoded data removed]",
      "text/plain": [
       "<Figure size 1000x800 with 2 Axes>"
      ]
     },
     "metadata": {},
     "output_type": "display_data"
    }
   ],
   "source": [
    "plot_evaluation_metrics(class_correct, class_total, confusion_matrix)"
   ]
  },
  {
   "cell_type": "markdown",
   "metadata": {},
   "source": [
    "#### Generate prediction"
   ]
  },
  {
   "cell_type": "code",
   "execution_count": 6,
   "metadata": {},
   "outputs": [
    {
     "name": "stdout",
     "output_type": "stream",
     "text": [
      "Loaded CSV with 100 entries\n"
     ]
    },
    {
     "name": "stderr",
     "output_type": "stream",
     "text": [
      "100%|██████████| 100/100 [00:00<00:00, 102.53it/s]"
     ]
    },
    {
     "name": "stdout",
     "output_type": "stream",
     "text": [
      "Updated CSV saved to ./submission_example.csv\n"
     ]
    },
    {
     "name": "stderr",
     "output_type": "stream",
     "text": [
      "\n"
     ]
    }
   ],
   "source": [
    "import os\n",
    "# Change this part to your path\n",
    "test_folder_path=\"./test\"        \n",
    "csv_file_path=\"./submission_example.csv\"\n",
    "model_path=\"best_model.pth\"\n",
    "file_extension=\".jpg\"           \n",
    "\n",
    "\n",
    "# Load CSV file\n",
    "df = pd.read_csv(csv_file_path)\n",
    "print(f\"Loaded CSV with {len(df)} entries\")\n",
    "\n",
    "# Get column names\n",
    "columns = df.columns.tolist()\n",
    "first_col = columns[0]  # Image name column\n",
    "second_col = columns[1]  # Empty column for predictions\n",
    "\n",
    "# Load model\n",
    "model_.load_state_dict(torch.load(model_path, map_location=device))\n",
    "# model_ = trained_model\n",
    "model_.to(device)\n",
    "model_.eval()\n",
    "\n",
    "imagenet_stats = [(0.485, 0.456, 0.406), (0.229, 0.224, 0.225)]\n",
    "\n",
    "# Set up transformation (same as we set up earlier in the dataloading part, put I put here again for clarity)\n",
    "transform = transforms.Compose([\n",
    "    transforms.CenterCrop((450, 270)),\n",
    "    # transforms.RandomHorizontalFlip(),\n",
    "    # transforms.RandomRotation(10),\n",
    "    # transforms.ColorJitter(),\n",
    "    transforms.ToTensor(),\n",
    "    transforms.Normalize(imagenet_stats[0], imagenet_stats[1])\n",
    "])\n",
    "\n",
    "\n",
    "for idx, row in tqdm(df.iterrows(), total=len(df)):\n",
    "    try:\n",
    "        img_name = str(row[first_col]).strip()\n",
    "        \n",
    "        img_path = os.path.join(test_folder_path, img_name + file_extension)\n",
    "               \n",
    "        # Process the image\n",
    "        img = Image.open(img_path).convert('RGB')\n",
    "        img_tensor = transform(img).unsqueeze(0).to(device)\n",
    "        \n",
    "        # Predict\n",
    "        with torch.no_grad():\n",
    "            output = model_(img_tensor)\n",
    "            _, predicted = torch.max(output.data, 1)\n",
    "            predicted_idx = predicted.item()\n",
    "        \n",
    "        # Update CSV\n",
    "        df.at[idx, second_col] = classes[predicted_idx]\n",
    "        \n",
    "    except Exception as e:\n",
    "        print(f\"Error with image {img_name}: {e}\")\n",
    "\n",
    "# Save updated CSV\n",
    "df.to_csv(csv_file_path, index=False)\n",
    "print(f\"Updated CSV saved to {csv_file_path}\")"
   ]
  },
  {
   "cell_type": "code",
   "execution_count": 13,
   "metadata": {},
   "outputs": [
    {
     "name": "stderr",
     "output_type": "stream",
     "text": [
      "c:\\Users\\almon\\AppData\\Local\\Programs\\Python\\Python312\\Lib\\site-packages\\torch\\nn\\modules\\module.py:1830: FutureWarning: Using a non-full backward hook when the forward contains multiple autograd Nodes is deprecated and will be removed in future versions. This hook will be missing some grad_input. Please use register_full_backward_hook to get the documented behavior.\n",
      "  self._maybe_warn_non_full_backward_hook(args, result, grad_fn)\n"
     ]
    },
    {
     "data": {
      "image/png": "[encoded data removed]",
      "text/plain": [
       "<Figure size 640x480 with 1 Axes>"
      ]
     },
     "metadata": {},
     "output_type": "display_data"
    },
    {
     "data": {
      "image/png": "[encoded data removed]",
      "text/plain": [
       "<Figure size 640x480 with 1 Axes>"
      ]
     },
     "metadata": {},
     "output_type": "display_data"
    }
   ],
   "source": [
    "from torchvision.models.feature_extraction import create_feature_extractor\n",
    "import torch.nn.functional as F\n",
    "\n",
    "# Register hook containers\n",
    "activations = None\n",
    "gradients = None\n",
    "\n",
    "# Hook functions\n",
    "def forward_hook(module, input, output):\n",
    "    global activations\n",
    "    activations = output\n",
    "\n",
    "def backward_hook(module, grad_in, grad_out):\n",
    "    global gradients\n",
    "    gradients = grad_out[0]\n",
    "\n",
    "# Hook into the last conv layer of ResNet\n",
    "target_layer = model_.layer4[-1].conv2\n",
    "forward_handle = target_layer.register_forward_hook(forward_hook)\n",
    "backward_handle = target_layer.register_backward_hook(backward_hook)\n",
    "\n",
    "def generate_gradcam(img_tensor, label):\n",
    "    global activations, gradients\n",
    "\n",
    "    input_tensor = img_tensor.unsqueeze(0).to(device).requires_grad_()\n",
    "    \n",
    "    # Forward pass\n",
    "    model_.eval()\n",
    "    output = model_(input_tensor)\n",
    "    class_idx = output.argmax(dim=1).item()\n",
    "\n",
    "    # Backward pass\n",
    "    model_.zero_grad()\n",
    "    output[0, class_idx].backward()\n",
    "\n",
    "    if gradients is None or activations is None:\n",
    "        raise RuntimeError(\"Hooks did not capture gradients or activations.\")\n",
    "\n",
    "    # Compute weights and apply Grad-CAM\n",
    "    pooled_gradients = torch.mean(gradients, dim=[0, 2, 3])\n",
    "    for i in range(activations.shape[1]):\n",
    "        activations[:, i, :, :] *= pooled_gradients[i]\n",
    "\n",
    "    heatmap = torch.mean(activations, dim=1).squeeze().cpu().detach().numpy()\n",
    "    heatmap = np.maximum(heatmap, 0)\n",
    "    heatmap /= np.max(heatmap) + 1e-6\n",
    "    return heatmap\n",
    "\n",
    "# Visualize Grad-CAM on random val image\n",
    "inv_norm = transforms.Normalize(\n",
    "    mean=[-m/s for m, s in zip([0.485, 0.456, 0.406], [0.229, 0.224, 0.225])],\n",
    "    std=[1/s for s in [0.229, 0.224, 0.225]]\n",
    ")\n",
    "\n",
    "def show_gradcam(img_tensor, heatmap):\n",
    "    img_tensor = inv_norm(img_tensor.cpu())\n",
    "    img_np = np.transpose(img_tensor.numpy(), (1, 2, 0))\n",
    "    plt.imshow(img_np)\n",
    "    plt.imshow(heatmap, cmap='jet', alpha=0.5)\n",
    "    plt.title(\"Grad-CAM Overlay\")\n",
    "    plt.axis('off')\n",
    "    plt.show()\n",
    "\n",
    "def show_original(img_tensor):\n",
    "    img_tensor = inv_norm(img_tensor.cpu())\n",
    "    img_np = np.transpose(img_tensor.numpy(), (1, 2, 0))\n",
    "    plt.imshow(img_np)\n",
    "    plt.title(\"Original Image\")\n",
    "    plt.axis('off')\n",
    "    plt.show()\n",
    "\n",
    "# Run on one image\n",
    "val_transform = transforms.Compose([\n",
    "        transforms.RandomResizedCrop((450, 270)),\n",
    "        transforms.RandomHorizontalFlip(),\n",
    "        transforms.RandomRotation(10),\n",
    "        transforms.ToTensor(),\n",
    "        transforms.Normalize(imagenet_stats[0], imagenet_stats[1])\n",
    "    ])\n",
    "full_dataset = torchvision.datasets.ImageFolder(root=path_dataset, transform=val_transform)\n",
    "sample_img, label = random.choice(full_dataset)\n",
    "heatmap = generate_gradcam(sample_img, label)\n",
    "show_original(sample_img)\n",
    "show_gradcam(sample_img, heatmap)"
   ]
  }
 ],
 "metadata": {
  "colab": {
   "collapsed_sections": [],
   "name": "HW2-2_regression.ipynb",
   "provenance": []
  },
  "kernelspec": {
   "display_name": "Python 3",
   "language": "python",
   "name": "python3"
  },
  "language_info": {
   "codemirror_mode": {
    "name": "ipython",
    "version": 3
   },
   "file_extension": ".py",
   "mimetype": "text/x-python",
   "name": "python",
   "nbconvert_exporter": "python",
   "pygments_lexer": "ipython3",
   "version": "3.12.7"
  }
 },
 "nbformat": 4,
 "nbformat_minor": 4
}
