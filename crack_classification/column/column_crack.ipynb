{
 "cells": [
  {
   "cell_type": "code",
   "execution_count": 1,
   "metadata": {
    "id": "gFMwtIeAJwdj"
   },
   "outputs": [],
   "source": [
    "import pandas as pd\n",
    "import numpy as np\n",
    "import random\n",
    "import torch\n",
    "import torch.nn as nn\n",
    "import torch.nn.functional as F  \n",
    "import torch.optim as optim\n",
    "from torch.utils.data import Dataset, DataLoader\n",
    "import matplotlib.pyplot as plt\n",
    "from tqdm import tqdm\n",
    "from sklearn.preprocessing import MinMaxScaler\n",
    "import cv2\n",
    "import torchvision\n",
    "import torchvision.transforms as transforms\n",
    "from torch.utils.data import random_split\n",
    "import sys\n",
    "import time\n",
    "from PIL import Image"
   ]
  },
  {
   "cell_type": "code",
   "execution_count": 2,
   "metadata": {
    "id": "BpSVExq8Jwdl"
   },
   "outputs": [],
   "source": [
    "torch.manual_seed(1220)\n",
    "random.seed(1220)\n",
    "np.random.seed(1220)"
   ]
  },
  {
   "cell_type": "code",
   "execution_count": 3,
   "metadata": {},
   "outputs": [
    {
     "name": "stdout",
     "output_type": "stream",
     "text": [
      "You are using device: cuda\n"
     ]
    }
   ],
   "source": [
    "device = torch.device('cuda' if torch.cuda.is_available() else 'cpu')\n",
    "print(\"You are using device: %s\" % device)\n",
    "\n",
    "path_dataset = \"./column_resize\""
   ]
  },
  {
   "cell_type": "code",
   "execution_count": 7,
   "metadata": {
    "id": "vWPTZrVdJwdo"
   },
   "outputs": [
    {
     "name": "stdout",
     "output_type": "stream",
     "text": [
      "['Diagonal', 'Horizontal', 'Horizontal_large', 'Vertical', 'Vertical_large', 'Web', 'X-shape']\n"
     ]
    }
   ],
   "source": [
    "def load_dataset(path_dataset):\n",
    "    imagenet_stats = [(0.485, 0.456, 0.406), (0.229, 0.224, 0.225)]\n",
    "\n",
    "    train_transform = transforms.Compose([\n",
    "        transforms.RandomResizedCrop((400, 400)),  \n",
    "        transforms.CenterCrop((350, 350)),\n",
    "        transforms.RandomHorizontalFlip(),\n",
    "        # transforms.RandomVerticalFlip(),\n",
    "        transforms.RandomRotation(10),\n",
    "        # transforms.ColorJitter(),\n",
    "        transforms.ToTensor(),\n",
    "        transforms.Normalize(imagenet_stats[0], imagenet_stats[1])\n",
    "    ])\n",
    "\n",
    "    val_transform = transforms.Compose([\n",
    "        transforms.CenterCrop((400, 400)),\n",
    "        transforms.RandomHorizontalFlip(),\n",
    "        # transforms.RandomRotation(10),\n",
    "        # transforms.ColorJitter(),\n",
    "        transforms.ToTensor(),\n",
    "        transforms.Normalize(imagenet_stats[0], imagenet_stats[1])\n",
    "    ])\n",
    "\n",
    "    full_dataset = torchvision.datasets.ImageFolder(root=path_dataset)\n",
    "    classes = full_dataset.classes\n",
    "    print(classes)\n",
    "    dataset_size = len(full_dataset)\n",
    "    train_size = int(0.85 * dataset_size)\n",
    "    val_size = dataset_size - train_size\n",
    "    train_dataset, val_dataset = random_split(full_dataset, [train_size, val_size])\n",
    "    train_dataset.dataset.transform = train_transform\n",
    "    val_dataset.dataset.transform = val_transform\n",
    "    \n",
    "    train_loader = DataLoader(\n",
    "        train_dataset, batch_size=32, shuffle=True, num_workers=4\n",
    "    )\n",
    "    \n",
    "    val_loader = DataLoader(\n",
    "        val_dataset, batch_size=32, shuffle=False, num_workers=4\n",
    "    )\n",
    "\n",
    "    return train_loader, val_loader, classes\n",
    "\n",
    "train_loader, val_loader, classes = load_dataset(path_dataset)\n",
    "\n",
    "model_ = torchvision.models.resnet18(weights='IMAGENET1K_V1')\n",
    "model_.fc = nn.Sequential(\n",
    "    nn.Linear(model_.fc.in_features, len(classes)),\n",
    "    nn.Sigmoid()\n",
    ")\n",
    "\n",
    "# model_ = torchvision.models.shufflenet_v2_x1_5(weights='IMAGENET1K_V1')\n",
    "# model_.fc = nn.Sequential(\n",
    "#     nn.Linear(model_.fc.in_features, len(classes)),\n",
    "#     nn.Sigmoid()\n",
    "# )"
   ]
  },
  {
   "cell_type": "code",
   "execution_count": 8,
   "metadata": {},
   "outputs": [
    {
     "name": "stdout",
     "output_type": "stream",
     "text": [
      "----------------------------------------------------------------\n",
      "        Layer (type)               Output Shape         Param #\n",
      "================================================================\n",
      "            Conv2d-1         [-1, 64, 200, 200]           9,408\n",
      "       BatchNorm2d-2         [-1, 64, 200, 200]             128\n",
      "              ReLU-3         [-1, 64, 200, 200]               0\n",
      "         MaxPool2d-4         [-1, 64, 100, 100]               0\n",
      "            Conv2d-5         [-1, 64, 100, 100]          36,864\n",
      "       BatchNorm2d-6         [-1, 64, 100, 100]             128\n",
      "              ReLU-7         [-1, 64, 100, 100]               0\n",
      "            Conv2d-8         [-1, 64, 100, 100]          36,864\n",
      "       BatchNorm2d-9         [-1, 64, 100, 100]             128\n",
      "             ReLU-10         [-1, 64, 100, 100]               0\n",
      "       BasicBlock-11         [-1, 64, 100, 100]               0\n",
      "           Conv2d-12         [-1, 64, 100, 100]          36,864\n",
      "      BatchNorm2d-13         [-1, 64, 100, 100]             128\n",
      "             ReLU-14         [-1, 64, 100, 100]               0\n",
      "           Conv2d-15         [-1, 64, 100, 100]          36,864\n",
      "      BatchNorm2d-16         [-1, 64, 100, 100]             128\n",
      "             ReLU-17         [-1, 64, 100, 100]               0\n",
      "       BasicBlock-18         [-1, 64, 100, 100]               0\n",
      "           Conv2d-19          [-1, 128, 50, 50]          73,728\n",
      "      BatchNorm2d-20          [-1, 128, 50, 50]             256\n",
      "             ReLU-21          [-1, 128, 50, 50]               0\n",
      "           Conv2d-22          [-1, 128, 50, 50]         147,456\n",
      "      BatchNorm2d-23          [-1, 128, 50, 50]             256\n",
      "           Conv2d-24          [-1, 128, 50, 50]           8,192\n",
      "      BatchNorm2d-25          [-1, 128, 50, 50]             256\n",
      "             ReLU-26          [-1, 128, 50, 50]               0\n",
      "       BasicBlock-27          [-1, 128, 50, 50]               0\n",
      "           Conv2d-28          [-1, 128, 50, 50]         147,456\n",
      "      BatchNorm2d-29          [-1, 128, 50, 50]             256\n",
      "             ReLU-30          [-1, 128, 50, 50]               0\n",
      "           Conv2d-31          [-1, 128, 50, 50]         147,456\n",
      "      BatchNorm2d-32          [-1, 128, 50, 50]             256\n",
      "             ReLU-33          [-1, 128, 50, 50]               0\n",
      "       BasicBlock-34          [-1, 128, 50, 50]               0\n",
      "           Conv2d-35          [-1, 256, 25, 25]         294,912\n",
      "      BatchNorm2d-36          [-1, 256, 25, 25]             512\n",
      "             ReLU-37          [-1, 256, 25, 25]               0\n",
      "           Conv2d-38          [-1, 256, 25, 25]         589,824\n",
      "      BatchNorm2d-39          [-1, 256, 25, 25]             512\n",
      "           Conv2d-40          [-1, 256, 25, 25]          32,768\n",
      "      BatchNorm2d-41          [-1, 256, 25, 25]             512\n",
      "             ReLU-42          [-1, 256, 25, 25]               0\n",
      "       BasicBlock-43          [-1, 256, 25, 25]               0\n",
      "           Conv2d-44          [-1, 256, 25, 25]         589,824\n",
      "      BatchNorm2d-45          [-1, 256, 25, 25]             512\n",
      "             ReLU-46          [-1, 256, 25, 25]               0\n",
      "           Conv2d-47          [-1, 256, 25, 25]         589,824\n",
      "      BatchNorm2d-48          [-1, 256, 25, 25]             512\n",
      "             ReLU-49          [-1, 256, 25, 25]               0\n",
      "       BasicBlock-50          [-1, 256, 25, 25]               0\n",
      "           Conv2d-51          [-1, 512, 13, 13]       1,179,648\n",
      "      BatchNorm2d-52          [-1, 512, 13, 13]           1,024\n",
      "             ReLU-53          [-1, 512, 13, 13]               0\n",
      "           Conv2d-54          [-1, 512, 13, 13]       2,359,296\n",
      "      BatchNorm2d-55          [-1, 512, 13, 13]           1,024\n",
      "           Conv2d-56          [-1, 512, 13, 13]         131,072\n",
      "      BatchNorm2d-57          [-1, 512, 13, 13]           1,024\n",
      "             ReLU-58          [-1, 512, 13, 13]               0\n",
      "       BasicBlock-59          [-1, 512, 13, 13]               0\n",
      "           Conv2d-60          [-1, 512, 13, 13]       2,359,296\n",
      "      BatchNorm2d-61          [-1, 512, 13, 13]           1,024\n",
      "             ReLU-62          [-1, 512, 13, 13]               0\n",
      "           Conv2d-63          [-1, 512, 13, 13]       2,359,296\n",
      "      BatchNorm2d-64          [-1, 512, 13, 13]           1,024\n",
      "             ReLU-65          [-1, 512, 13, 13]               0\n",
      "       BasicBlock-66          [-1, 512, 13, 13]               0\n",
      "AdaptiveAvgPool2d-67            [-1, 512, 1, 1]               0\n",
      "           Linear-68                    [-1, 7]           3,591\n",
      "          Sigmoid-69                    [-1, 7]               0\n",
      "================================================================\n",
      "Total params: 11,180,103\n",
      "Trainable params: 11,180,103\n",
      "Non-trainable params: 0\n",
      "----------------------------------------------------------------\n",
      "Input size (MB): 1.83\n",
      "Forward/backward pass size (MB): 201.00\n",
      "Params size (MB): 42.65\n",
      "Estimated Total Size (MB): 245.48\n",
      "----------------------------------------------------------------\n",
      "ResNet(\n",
      "  (conv1): Conv2d(3, 64, kernel_size=(7, 7), stride=(2, 2), padding=(3, 3), bias=False)\n",
      "  (bn1): BatchNorm2d(64, eps=1e-05, momentum=0.1, affine=True, track_running_stats=True)\n",
      "  (relu): ReLU(inplace=True)\n",
      "  (maxpool): MaxPool2d(kernel_size=3, stride=2, padding=1, dilation=1, ceil_mode=False)\n",
      "  (layer1): Sequential(\n",
      "    (0): BasicBlock(\n",
      "      (conv1): Conv2d(64, 64, kernel_size=(3, 3), stride=(1, 1), padding=(1, 1), bias=False)\n",
      "      (bn1): BatchNorm2d(64, eps=1e-05, momentum=0.1, affine=True, track_running_stats=True)\n",
      "      (relu): ReLU(inplace=True)\n",
      "      (conv2): Conv2d(64, 64, kernel_size=(3, 3), stride=(1, 1), padding=(1, 1), bias=False)\n",
      "      (bn2): BatchNorm2d(64, eps=1e-05, momentum=0.1, affine=True, track_running_stats=True)\n",
      "    )\n",
      "    (1): BasicBlock(\n",
      "      (conv1): Conv2d(64, 64, kernel_size=(3, 3), stride=(1, 1), padding=(1, 1), bias=False)\n",
      "      (bn1): BatchNorm2d(64, eps=1e-05, momentum=0.1, affine=True, track_running_stats=True)\n",
      "      (relu): ReLU(inplace=True)\n",
      "      (conv2): Conv2d(64, 64, kernel_size=(3, 3), stride=(1, 1), padding=(1, 1), bias=False)\n",
      "      (bn2): BatchNorm2d(64, eps=1e-05, momentum=0.1, affine=True, track_running_stats=True)\n",
      "    )\n",
      "  )\n",
      "  (layer2): Sequential(\n",
      "    (0): BasicBlock(\n",
      "      (conv1): Conv2d(64, 128, kernel_size=(3, 3), stride=(2, 2), padding=(1, 1), bias=False)\n",
      "      (bn1): BatchNorm2d(128, eps=1e-05, momentum=0.1, affine=True, track_running_stats=True)\n",
      "      (relu): ReLU(inplace=True)\n",
      "      (conv2): Conv2d(128, 128, kernel_size=(3, 3), stride=(1, 1), padding=(1, 1), bias=False)\n",
      "      (bn2): BatchNorm2d(128, eps=1e-05, momentum=0.1, affine=True, track_running_stats=True)\n",
      "      (downsample): Sequential(\n",
      "        (0): Conv2d(64, 128, kernel_size=(1, 1), stride=(2, 2), bias=False)\n",
      "        (1): BatchNorm2d(128, eps=1e-05, momentum=0.1, affine=True, track_running_stats=True)\n",
      "      )\n",
      "    )\n",
      "    (1): BasicBlock(\n",
      "      (conv1): Conv2d(128, 128, kernel_size=(3, 3), stride=(1, 1), padding=(1, 1), bias=False)\n",
      "      (bn1): BatchNorm2d(128, eps=1e-05, momentum=0.1, affine=True, track_running_stats=True)\n",
      "      (relu): ReLU(inplace=True)\n",
      "      (conv2): Conv2d(128, 128, kernel_size=(3, 3), stride=(1, 1), padding=(1, 1), bias=False)\n",
      "      (bn2): BatchNorm2d(128, eps=1e-05, momentum=0.1, affine=True, track_running_stats=True)\n",
      "    )\n",
      "  )\n",
      "  (layer3): Sequential(\n",
      "    (0): BasicBlock(\n",
      "      (conv1): Conv2d(128, 256, kernel_size=(3, 3), stride=(2, 2), padding=(1, 1), bias=False)\n",
      "      (bn1): BatchNorm2d(256, eps=1e-05, momentum=0.1, affine=True, track_running_stats=True)\n",
      "      (relu): ReLU(inplace=True)\n",
      "      (conv2): Conv2d(256, 256, kernel_size=(3, 3), stride=(1, 1), padding=(1, 1), bias=False)\n",
      "      (bn2): BatchNorm2d(256, eps=1e-05, momentum=0.1, affine=True, track_running_stats=True)\n",
      "      (downsample): Sequential(\n",
      "        (0): Conv2d(128, 256, kernel_size=(1, 1), stride=(2, 2), bias=False)\n",
      "        (1): BatchNorm2d(256, eps=1e-05, momentum=0.1, affine=True, track_running_stats=True)\n",
      "      )\n",
      "    )\n",
      "    (1): BasicBlock(\n",
      "      (conv1): Conv2d(256, 256, kernel_size=(3, 3), stride=(1, 1), padding=(1, 1), bias=False)\n",
      "      (bn1): BatchNorm2d(256, eps=1e-05, momentum=0.1, affine=True, track_running_stats=True)\n",
      "      (relu): ReLU(inplace=True)\n",
      "      (conv2): Conv2d(256, 256, kernel_size=(3, 3), stride=(1, 1), padding=(1, 1), bias=False)\n",
      "      (bn2): BatchNorm2d(256, eps=1e-05, momentum=0.1, affine=True, track_running_stats=True)\n",
      "    )\n",
      "  )\n",
      "  (layer4): Sequential(\n",
      "    (0): BasicBlock(\n",
      "      (conv1): Conv2d(256, 512, kernel_size=(3, 3), stride=(2, 2), padding=(1, 1), bias=False)\n",
      "      (bn1): BatchNorm2d(512, eps=1e-05, momentum=0.1, affine=True, track_running_stats=True)\n",
      "      (relu): ReLU(inplace=True)\n",
      "      (conv2): Conv2d(512, 512, kernel_size=(3, 3), stride=(1, 1), padding=(1, 1), bias=False)\n",
      "      (bn2): BatchNorm2d(512, eps=1e-05, momentum=0.1, affine=True, track_running_stats=True)\n",
      "      (downsample): Sequential(\n",
      "        (0): Conv2d(256, 512, kernel_size=(1, 1), stride=(2, 2), bias=False)\n",
      "        (1): BatchNorm2d(512, eps=1e-05, momentum=0.1, affine=True, track_running_stats=True)\n",
      "      )\n",
      "    )\n",
      "    (1): BasicBlock(\n",
      "      (conv1): Conv2d(512, 512, kernel_size=(3, 3), stride=(1, 1), padding=(1, 1), bias=False)\n",
      "      (bn1): BatchNorm2d(512, eps=1e-05, momentum=0.1, affine=True, track_running_stats=True)\n",
      "      (relu): ReLU(inplace=True)\n",
      "      (conv2): Conv2d(512, 512, kernel_size=(3, 3), stride=(1, 1), padding=(1, 1), bias=False)\n",
      "      (bn2): BatchNorm2d(512, eps=1e-05, momentum=0.1, affine=True, track_running_stats=True)\n",
      "    )\n",
      "  )\n",
      "  (avgpool): AdaptiveAvgPool2d(output_size=(1, 1))\n",
      "  (fc): Sequential(\n",
      "    (0): Linear(in_features=512, out_features=7, bias=True)\n",
      "    (1): Sigmoid()\n",
      "  )\n",
      ")\n"
     ]
    }
   ],
   "source": [
    "if torch.cuda.is_available():\n",
    "    model_.cuda()\n",
    "from torchsummary import summary\n",
    "summary(model_, (3, 400, 400))\n",
    "print(model_)"
   ]
  },
  {
   "cell_type": "code",
   "execution_count": 9,
   "metadata": {},
   "outputs": [],
   "source": [
    "def train(model, trainloader, valloader, epochs=10):\n",
    "    torch.cuda.empty_cache()\n",
    "    criterion = nn.CrossEntropyLoss()\n",
    "    optimizer = optim.AdamW(model.parameters(), lr=1e-4)\n",
    "    # scheduler = optim.lr_scheduler.CosineAnnealingWarmRestarts(optimizer, T_0=10, eta_min=1e-7)\n",
    "    scheduler = optim.lr_scheduler.CosineAnnealingLR(optimizer, T_max=32)\n",
    "    \n",
    "    train_losses = []\n",
    "    train_accuracies = []\n",
    "    val_losses = []\n",
    "    val_accuracies = []\n",
    "    best_val_acc = 80\n",
    "    best_val_loss = 0\n",
    "    \n",
    "    for epoch in range(epochs):\n",
    "        model.train()\n",
    "        running_loss = 0.0\n",
    "        correct = 0\n",
    "        total = 0\n",
    "        \n",
    "        # Wrap trainloader with tqdm for progress bar to make it looks nicer\n",
    "        loop = tqdm(enumerate(trainloader), total=len(trainloader), leave=True)\n",
    "        for i, data in loop:\n",
    "            # Get inputs and labels\n",
    "            inputs, labels = data\n",
    "            inputs, labels = inputs.to(device), labels.to(device)\n",
    "            \n",
    "            # Zero the parameter gradients\n",
    "            optimizer.zero_grad()\n",
    "            \n",
    "            # Forward + backward + optimize\n",
    "            outputs = model(inputs)\n",
    "            loss = criterion(outputs, labels)\n",
    "            loss.backward()\n",
    "            optimizer.step()\n",
    "            scheduler.step()\n",
    "            \n",
    "            # Calculate accuracy\n",
    "            _, predicted = torch.max(outputs.data, 1)\n",
    "            total += labels.size(0)\n",
    "            correct += (predicted == labels).sum().item()\n",
    "            \n",
    "            # Update running loss\n",
    "            running_loss += loss.item()\n",
    "            \n",
    "            # Update progress bar\n",
    "            loop.set_description(f\"Epoch [{epoch+1}/{epochs}]\")\n",
    "            loop.set_postfix(loss=running_loss/(i+1), accuracy=100.*correct/total)\n",
    "        \n",
    "        \n",
    "        # Calculate epoch statistics for training\n",
    "        epoch_train_loss = running_loss / len(trainloader)\n",
    "        epoch_train_acc = 100. * correct / total\n",
    "        train_losses.append(epoch_train_loss)\n",
    "        train_accuracies.append(epoch_train_acc)\n",
    "        \n",
    "        # Validation phase\n",
    "        model.eval()\n",
    "        val_running_loss = 0.0\n",
    "        val_correct = 0\n",
    "        val_total = 0\n",
    "        \n",
    "        with torch.no_grad():\n",
    "            for data in valloader:\n",
    "                images, labels = data\n",
    "                images, labels = images.to(device), labels.to(device)\n",
    "                \n",
    "                # Forward pass\n",
    "                outputs = model(images)\n",
    "                loss = criterion(outputs, labels)\n",
    "                \n",
    "                # Calculate validation loss\n",
    "                val_running_loss += loss.item()\n",
    "                \n",
    "                # Calculate validation accuracy\n",
    "                _, predicted = torch.max(outputs.data, 1)\n",
    "                val_total += labels.size(0)\n",
    "                val_correct += (predicted == labels).sum().item()\n",
    "        \n",
    "        # Calculate epoch statistics for validation\n",
    "        epoch_val_loss = val_running_loss / len(valloader)\n",
    "        epoch_val_acc = 100. * val_correct / val_total\n",
    "        val_losses.append(epoch_val_loss)\n",
    "        val_accuracies.append(epoch_val_acc)\n",
    "        if epoch_val_acc > best_val_acc:\n",
    "            best_val_acc = epoch_val_acc\n",
    "            best_val_loss = epoch_val_loss\n",
    "            torch.save(model_.state_dict(), 'model.pth')\n",
    "            print(best_val_acc, best_val_loss)\n",
    "        elif epoch_val_acc == best_val_acc:\n",
    "            if epoch_val_loss < best_val_loss:\n",
    "                torch.save(model_.state_dict(), 'model.pth')\n",
    "        \n",
    "        print(f\"Epoch {epoch+1}/{epochs}\")\n",
    "        print(f\"Train Loss: {epoch_train_loss:.4f}, Train Acc: {epoch_train_acc:.2f}%\")\n",
    "        print(f\"Val Loss: {epoch_val_loss:.4f}, Val Acc: {epoch_val_acc:.2f}%\")\n",
    "        print(\"-\" * 60)\n",
    "    \n",
    "    print('Finished Training')\n",
    "    \n",
    "    return model, train_losses, train_accuracies, val_losses, val_accuracies\n",
    "\n",
    "def evaluate(model, valloader):\n",
    "\n",
    "    model.eval()\n",
    "    correct = 0\n",
    "    total = 0\n",
    "    \n",
    "    # Initialize lists for per-class accuracy\n",
    "    num_classes = len(classes)\n",
    "    class_correct = list(0. for i in range(num_classes))\n",
    "    class_total = list(0. for i in range(num_classes))\n",
    "    \n",
    "    # Initialize confusion matrix\n",
    "    confusion_matrix = torch.zeros(num_classes, num_classes)\n",
    "    \n",
    "    with torch.no_grad():\n",
    "        for data in tqdm(valloader, desc=\"Evaluating\"):\n",
    "            images, labels = data\n",
    "            images, labels = images.to(device), labels.to(device)\n",
    "            outputs = model(images)\n",
    "            _, predicted = torch.max(outputs.data, 1)\n",
    "            total += labels.size(0)\n",
    "            correct += (predicted == labels).sum().item()\n",
    "            \n",
    "            # Calculate per-class accuracy\n",
    "            c = (predicted == labels).squeeze()\n",
    "            for i in range(len(labels)):\n",
    "                label = labels[i]\n",
    "                class_correct[label] += c[i].item()\n",
    "                class_total[label] += 1\n",
    "                \n",
    "                # Update confusion matrix\n",
    "                confusion_matrix[label, predicted[i]] += 1\n",
    "\n",
    "    overall_accuracy = 100 * correct / total\n",
    "    print(f'Overall Accuracy: {overall_accuracy:.2f}%')\n",
    "\n",
    "    \n",
    "    return class_correct, class_total, confusion_matrix"
   ]
  },
  {
   "cell_type": "code",
   "execution_count": 11,
   "metadata": {},
   "outputs": [
    {
     "name": "stdout",
     "output_type": "stream",
     "text": [
      "Starting training...\n"
     ]
    },
    {
     "name": "stderr",
     "output_type": "stream",
     "text": [
      "Epoch [1/80]: 100%|██████████| 19/19 [00:07<00:00,  2.51it/s, accuracy=61.5, loss=1.64]\n"
     ]
    },
    {
     "name": "stdout",
     "output_type": "stream",
     "text": [
      "Epoch 1/80\n",
      "Train Loss: 1.6399, Train Acc: 61.47%\n",
      "Val Loss: 1.5851, Val Acc: 58.49%\n",
      "------------------------------------------------------------\n"
     ]
    },
    {
     "name": "stderr",
     "output_type": "stream",
     "text": [
      "Epoch [2/80]: 100%|██████████| 19/19 [00:06<00:00,  2.82it/s, accuracy=66.7, loss=1.53]\n"
     ]
    },
    {
     "name": "stdout",
     "output_type": "stream",
     "text": [
      "Epoch 2/80\n",
      "Train Loss: 1.5334, Train Acc: 66.67%\n",
      "Val Loss: 1.5578, Val Acc: 63.21%\n",
      "------------------------------------------------------------\n"
     ]
    },
    {
     "name": "stderr",
     "output_type": "stream",
     "text": [
      "Epoch [3/80]: 100%|██████████| 19/19 [00:06<00:00,  2.80it/s, accuracy=67.8, loss=1.52]\n"
     ]
    },
    {
     "name": "stdout",
     "output_type": "stream",
     "text": [
      "Epoch 3/80\n",
      "Train Loss: 1.5180, Train Acc: 67.84%\n",
      "Val Loss: 1.5061, Val Acc: 66.04%\n",
      "------------------------------------------------------------\n"
     ]
    },
    {
     "name": "stderr",
     "output_type": "stream",
     "text": [
      "Epoch [4/80]: 100%|██████████| 19/19 [00:07<00:00,  2.67it/s, accuracy=71.4, loss=1.45]\n"
     ]
    },
    {
     "name": "stdout",
     "output_type": "stream",
     "text": [
      "Epoch 4/80\n",
      "Train Loss: 1.4515, Train Acc: 71.36%\n",
      "Val Loss: 1.4564, Val Acc: 67.92%\n",
      "------------------------------------------------------------\n"
     ]
    },
    {
     "name": "stderr",
     "output_type": "stream",
     "text": [
      "Epoch [5/80]: 100%|██████████| 19/19 [00:07<00:00,  2.70it/s, accuracy=74.2, loss=1.4] \n"
     ]
    },
    {
     "name": "stdout",
     "output_type": "stream",
     "text": [
      "Epoch 5/80\n",
      "Train Loss: 1.4019, Train Acc: 74.20%\n",
      "Val Loss: 1.4379, Val Acc: 68.87%\n",
      "------------------------------------------------------------\n"
     ]
    },
    {
     "name": "stderr",
     "output_type": "stream",
     "text": [
      "Epoch [6/80]: 100%|██████████| 19/19 [00:07<00:00,  2.65it/s, accuracy=75.2, loss=1.39]\n"
     ]
    },
    {
     "name": "stdout",
     "output_type": "stream",
     "text": [
      "Epoch 6/80\n",
      "Train Loss: 1.3868, Train Acc: 75.21%\n",
      "Val Loss: 1.4324, Val Acc: 68.87%\n",
      "------------------------------------------------------------\n"
     ]
    },
    {
     "name": "stderr",
     "output_type": "stream",
     "text": [
      "Epoch [7/80]: 100%|██████████| 19/19 [00:07<00:00,  2.68it/s, accuracy=76.7, loss=1.37]\n"
     ]
    },
    {
     "name": "stdout",
     "output_type": "stream",
     "text": [
      "Epoch 7/80\n",
      "Train Loss: 1.3658, Train Acc: 76.72%\n",
      "Val Loss: 1.4131, Val Acc: 70.75%\n",
      "------------------------------------------------------------\n"
     ]
    },
    {
     "name": "stderr",
     "output_type": "stream",
     "text": [
      "Epoch [8/80]: 100%|██████████| 19/19 [00:06<00:00,  2.72it/s, accuracy=81.6, loss=1.33]\n"
     ]
    },
    {
     "name": "stdout",
     "output_type": "stream",
     "text": [
      "Epoch 8/80\n",
      "Train Loss: 1.3294, Train Acc: 81.57%\n",
      "Val Loss: 1.4049, Val Acc: 73.58%\n",
      "------------------------------------------------------------\n"
     ]
    },
    {
     "name": "stderr",
     "output_type": "stream",
     "text": [
      "Epoch [9/80]: 100%|██████████| 19/19 [00:07<00:00,  2.66it/s, accuracy=84.9, loss=1.31]\n"
     ]
    },
    {
     "name": "stdout",
     "output_type": "stream",
     "text": [
      "Epoch 9/80\n",
      "Train Loss: 1.3059, Train Acc: 84.92%\n",
      "Val Loss: 1.4011, Val Acc: 73.58%\n",
      "------------------------------------------------------------\n"
     ]
    },
    {
     "name": "stderr",
     "output_type": "stream",
     "text": [
      "Epoch [10/80]: 100%|██████████| 19/19 [00:07<00:00,  2.71it/s, accuracy=83.9, loss=1.3] \n"
     ]
    },
    {
     "name": "stdout",
     "output_type": "stream",
     "text": [
      "Epoch 10/80\n",
      "Train Loss: 1.3027, Train Acc: 83.92%\n",
      "Val Loss: 1.3986, Val Acc: 76.42%\n",
      "------------------------------------------------------------\n"
     ]
    },
    {
     "name": "stderr",
     "output_type": "stream",
     "text": [
      "Epoch [11/80]: 100%|██████████| 19/19 [00:07<00:00,  2.71it/s, accuracy=88.1, loss=1.28]\n"
     ]
    },
    {
     "name": "stdout",
     "output_type": "stream",
     "text": [
      "Epoch 11/80\n",
      "Train Loss: 1.2834, Train Acc: 88.11%\n",
      "Val Loss: 1.4037, Val Acc: 76.42%\n",
      "------------------------------------------------------------\n"
     ]
    },
    {
     "name": "stderr",
     "output_type": "stream",
     "text": [
      "Epoch [12/80]: 100%|██████████| 19/19 [00:07<00:00,  2.66it/s, accuracy=88.9, loss=1.27]\n"
     ]
    },
    {
     "name": "stdout",
     "output_type": "stream",
     "text": [
      "Epoch 12/80\n",
      "Train Loss: 1.2701, Train Acc: 88.94%\n",
      "Val Loss: 1.3957, Val Acc: 76.42%\n",
      "------------------------------------------------------------\n"
     ]
    },
    {
     "name": "stderr",
     "output_type": "stream",
     "text": [
      "Epoch [13/80]: 100%|██████████| 19/19 [00:07<00:00,  2.69it/s, accuracy=91.5, loss=1.25]\n"
     ]
    },
    {
     "name": "stdout",
     "output_type": "stream",
     "text": [
      "Epoch 13/80\n",
      "Train Loss: 1.2531, Train Acc: 91.46%\n",
      "Val Loss: 1.4086, Val Acc: 74.53%\n",
      "------------------------------------------------------------\n"
     ]
    },
    {
     "name": "stderr",
     "output_type": "stream",
     "text": [
      "Epoch [14/80]: 100%|██████████| 19/19 [00:07<00:00,  2.67it/s, accuracy=93.1, loss=1.25]\n"
     ]
    },
    {
     "name": "stdout",
     "output_type": "stream",
     "text": [
      "Epoch 14/80\n",
      "Train Loss: 1.2498, Train Acc: 93.13%\n",
      "Val Loss: 1.4019, Val Acc: 78.30%\n",
      "------------------------------------------------------------\n"
     ]
    },
    {
     "name": "stderr",
     "output_type": "stream",
     "text": [
      "Epoch [15/80]: 100%|██████████| 19/19 [00:06<00:00,  2.71it/s, accuracy=93.8, loss=1.24]\n"
     ]
    },
    {
     "name": "stdout",
     "output_type": "stream",
     "text": [
      "Epoch 15/80\n",
      "Train Loss: 1.2407, Train Acc: 93.80%\n",
      "Val Loss: 1.3612, Val Acc: 79.25%\n",
      "------------------------------------------------------------\n"
     ]
    },
    {
     "name": "stderr",
     "output_type": "stream",
     "text": [
      "Epoch [16/80]: 100%|██████████| 19/19 [00:07<00:00,  2.66it/s, accuracy=96.1, loss=1.22]\n"
     ]
    },
    {
     "name": "stdout",
     "output_type": "stream",
     "text": [
      "Epoch 16/80\n",
      "Train Loss: 1.2246, Train Acc: 96.15%\n",
      "Val Loss: 1.3887, Val Acc: 79.25%\n",
      "------------------------------------------------------------\n"
     ]
    },
    {
     "name": "stderr",
     "output_type": "stream",
     "text": [
      "Epoch [17/80]: 100%|██████████| 19/19 [00:07<00:00,  2.71it/s, accuracy=98.5, loss=1.22]\n"
     ]
    },
    {
     "name": "stdout",
     "output_type": "stream",
     "text": [
      "80.18867924528301 1.376201868057251\n",
      "Epoch 17/80\n",
      "Train Loss: 1.2202, Train Acc: 98.49%\n",
      "Val Loss: 1.3762, Val Acc: 80.19%\n",
      "------------------------------------------------------------\n"
     ]
    },
    {
     "name": "stderr",
     "output_type": "stream",
     "text": [
      "Epoch [18/80]: 100%|██████████| 19/19 [00:07<00:00,  2.67it/s, accuracy=97.2, loss=1.22]\n"
     ]
    },
    {
     "name": "stdout",
     "output_type": "stream",
     "text": [
      "Epoch 18/80\n",
      "Train Loss: 1.2220, Train Acc: 97.15%\n",
      "Val Loss: 1.3957, Val Acc: 77.36%\n",
      "------------------------------------------------------------\n"
     ]
    },
    {
     "name": "stderr",
     "output_type": "stream",
     "text": [
      "Epoch [19/80]: 100%|██████████| 19/19 [00:07<00:00,  2.70it/s, accuracy=99.3, loss=1.2] \n"
     ]
    },
    {
     "name": "stdout",
     "output_type": "stream",
     "text": [
      "Epoch 19/80\n",
      "Train Loss: 1.2046, Train Acc: 99.33%\n",
      "Val Loss: 1.3951, Val Acc: 76.42%\n",
      "------------------------------------------------------------\n"
     ]
    },
    {
     "name": "stderr",
     "output_type": "stream",
     "text": [
      "Epoch [20/80]: 100%|██████████| 19/19 [00:07<00:00,  2.66it/s, accuracy=98.8, loss=1.2]\n"
     ]
    },
    {
     "name": "stdout",
     "output_type": "stream",
     "text": [
      "Epoch 20/80\n",
      "Train Loss: 1.2001, Train Acc: 98.83%\n",
      "Val Loss: 1.3868, Val Acc: 80.19%\n",
      "------------------------------------------------------------\n"
     ]
    },
    {
     "name": "stderr",
     "output_type": "stream",
     "text": [
      "Epoch [21/80]: 100%|██████████| 19/19 [00:07<00:00,  2.64it/s, accuracy=98.5, loss=1.21]\n"
     ]
    },
    {
     "name": "stdout",
     "output_type": "stream",
     "text": [
      "Epoch 21/80\n",
      "Train Loss: 1.2055, Train Acc: 98.49%\n",
      "Val Loss: 1.3899, Val Acc: 77.36%\n",
      "------------------------------------------------------------\n"
     ]
    },
    {
     "name": "stderr",
     "output_type": "stream",
     "text": [
      "Epoch [22/80]: 100%|██████████| 19/19 [00:07<00:00,  2.70it/s, accuracy=98.7, loss=1.2] \n"
     ]
    },
    {
     "name": "stdout",
     "output_type": "stream",
     "text": [
      "Epoch 22/80\n",
      "Train Loss: 1.2013, Train Acc: 98.66%\n",
      "Val Loss: 1.3617, Val Acc: 78.30%\n",
      "------------------------------------------------------------\n"
     ]
    },
    {
     "name": "stderr",
     "output_type": "stream",
     "text": [
      "Epoch [23/80]: 100%|██████████| 19/19 [00:07<00:00,  2.71it/s, accuracy=99.2, loss=1.2]\n"
     ]
    },
    {
     "name": "stdout",
     "output_type": "stream",
     "text": [
      "Epoch 23/80\n",
      "Train Loss: 1.1978, Train Acc: 99.16%\n",
      "Val Loss: 1.3745, Val Acc: 79.25%\n",
      "------------------------------------------------------------\n"
     ]
    },
    {
     "name": "stderr",
     "output_type": "stream",
     "text": [
      "Epoch [24/80]: 100%|██████████| 19/19 [00:06<00:00,  2.72it/s, accuracy=99.7, loss=1.19]\n"
     ]
    },
    {
     "name": "stdout",
     "output_type": "stream",
     "text": [
      "Epoch 24/80\n",
      "Train Loss: 1.1921, Train Acc: 99.66%\n",
      "Val Loss: 1.3782, Val Acc: 77.36%\n",
      "------------------------------------------------------------\n"
     ]
    },
    {
     "name": "stderr",
     "output_type": "stream",
     "text": [
      "Epoch [25/80]: 100%|██████████| 19/19 [00:07<00:00,  2.70it/s, accuracy=99.3, loss=1.19]\n"
     ]
    },
    {
     "name": "stdout",
     "output_type": "stream",
     "text": [
      "Epoch 25/80\n",
      "Train Loss: 1.1939, Train Acc: 99.33%\n",
      "Val Loss: 1.3801, Val Acc: 78.30%\n",
      "------------------------------------------------------------\n"
     ]
    },
    {
     "name": "stderr",
     "output_type": "stream",
     "text": [
      "Epoch [26/80]: 100%|██████████| 19/19 [00:07<00:00,  2.71it/s, accuracy=99.3, loss=1.19]\n"
     ]
    },
    {
     "name": "stdout",
     "output_type": "stream",
     "text": [
      "81.13207547169812 1.371800720691681\n",
      "Epoch 26/80\n",
      "Train Loss: 1.1901, Train Acc: 99.33%\n",
      "Val Loss: 1.3718, Val Acc: 81.13%\n",
      "------------------------------------------------------------\n"
     ]
    },
    {
     "name": "stderr",
     "output_type": "stream",
     "text": [
      "Epoch [27/80]: 100%|██████████| 19/19 [00:07<00:00,  2.66it/s, accuracy=99.8, loss=1.18]\n"
     ]
    },
    {
     "name": "stdout",
     "output_type": "stream",
     "text": [
      "Epoch 27/80\n",
      "Train Loss: 1.1847, Train Acc: 99.83%\n",
      "Val Loss: 1.3721, Val Acc: 80.19%\n",
      "------------------------------------------------------------\n"
     ]
    },
    {
     "name": "stderr",
     "output_type": "stream",
     "text": [
      "Epoch [28/80]: 100%|██████████| 19/19 [00:07<00:00,  2.65it/s, accuracy=99.8, loss=1.18]\n"
     ]
    },
    {
     "name": "stdout",
     "output_type": "stream",
     "text": [
      "Epoch 28/80\n",
      "Train Loss: 1.1824, Train Acc: 99.83%\n",
      "Val Loss: 1.3693, Val Acc: 79.25%\n",
      "------------------------------------------------------------\n"
     ]
    },
    {
     "name": "stderr",
     "output_type": "stream",
     "text": [
      "Epoch [29/80]: 100%|██████████| 19/19 [00:07<00:00,  2.71it/s, accuracy=99.7, loss=1.18]\n"
     ]
    },
    {
     "name": "stdout",
     "output_type": "stream",
     "text": [
      "Epoch 29/80\n",
      "Train Loss: 1.1825, Train Acc: 99.66%\n",
      "Val Loss: 1.3679, Val Acc: 80.19%\n",
      "------------------------------------------------------------\n"
     ]
    },
    {
     "name": "stderr",
     "output_type": "stream",
     "text": [
      "Epoch [30/80]: 100%|██████████| 19/19 [00:07<00:00,  2.71it/s, accuracy=99.7, loss=1.18]\n"
     ]
    },
    {
     "name": "stdout",
     "output_type": "stream",
     "text": [
      "Epoch 30/80\n",
      "Train Loss: 1.1791, Train Acc: 99.66%\n",
      "Val Loss: 1.3857, Val Acc: 80.19%\n",
      "------------------------------------------------------------\n"
     ]
    },
    {
     "name": "stderr",
     "output_type": "stream",
     "text": [
      "Epoch [31/80]: 100%|██████████| 19/19 [00:07<00:00,  2.65it/s, accuracy=99.8, loss=1.18]\n"
     ]
    },
    {
     "name": "stdout",
     "output_type": "stream",
     "text": [
      "Epoch 31/80\n",
      "Train Loss: 1.1790, Train Acc: 99.83%\n",
      "Val Loss: 1.3873, Val Acc: 75.47%\n",
      "------------------------------------------------------------\n"
     ]
    },
    {
     "name": "stderr",
     "output_type": "stream",
     "text": [
      "Epoch [32/80]: 100%|██████████| 19/19 [00:07<00:00,  2.65it/s, accuracy=99.8, loss=1.18]\n"
     ]
    },
    {
     "name": "stdout",
     "output_type": "stream",
     "text": [
      "Epoch 32/80\n",
      "Train Loss: 1.1819, Train Acc: 99.83%\n",
      "Val Loss: 1.3678, Val Acc: 78.30%\n",
      "------------------------------------------------------------\n"
     ]
    },
    {
     "name": "stderr",
     "output_type": "stream",
     "text": [
      "Epoch [33/80]: 100%|██████████| 19/19 [00:07<00:00,  2.66it/s, accuracy=99.8, loss=1.18]\n"
     ]
    },
    {
     "name": "stdout",
     "output_type": "stream",
     "text": [
      "Epoch 33/80\n",
      "Train Loss: 1.1779, Train Acc: 99.83%\n",
      "Val Loss: 1.3847, Val Acc: 76.42%\n",
      "------------------------------------------------------------\n"
     ]
    },
    {
     "name": "stderr",
     "output_type": "stream",
     "text": [
      "Epoch [34/80]: 100%|██████████| 19/19 [00:07<00:00,  2.68it/s, accuracy=99.8, loss=1.18]\n"
     ]
    },
    {
     "name": "stdout",
     "output_type": "stream",
     "text": [
      "Epoch 34/80\n",
      "Train Loss: 1.1808, Train Acc: 99.83%\n",
      "Val Loss: 1.4111, Val Acc: 75.47%\n",
      "------------------------------------------------------------\n"
     ]
    },
    {
     "name": "stderr",
     "output_type": "stream",
     "text": [
      "Epoch [35/80]: 100%|██████████| 19/19 [00:07<00:00,  2.67it/s, accuracy=99.7, loss=1.18]\n"
     ]
    },
    {
     "name": "stdout",
     "output_type": "stream",
     "text": [
      "82.0754716981132 1.3419961035251617\n",
      "Epoch 35/80\n",
      "Train Loss: 1.1831, Train Acc: 99.66%\n",
      "Val Loss: 1.3420, Val Acc: 82.08%\n",
      "------------------------------------------------------------\n"
     ]
    },
    {
     "name": "stderr",
     "output_type": "stream",
     "text": [
      "Epoch [36/80]: 100%|██████████| 19/19 [00:07<00:00,  2.71it/s, accuracy=99.8, loss=1.18]\n"
     ]
    },
    {
     "name": "stdout",
     "output_type": "stream",
     "text": [
      "Epoch 36/80\n",
      "Train Loss: 1.1778, Train Acc: 99.83%\n",
      "Val Loss: 1.3597, Val Acc: 81.13%\n",
      "------------------------------------------------------------\n"
     ]
    },
    {
     "name": "stderr",
     "output_type": "stream",
     "text": [
      "Epoch [37/80]: 100%|██████████| 19/19 [00:07<00:00,  2.71it/s, accuracy=99.8, loss=1.18]\n"
     ]
    },
    {
     "name": "stdout",
     "output_type": "stream",
     "text": [
      "Epoch 37/80\n",
      "Train Loss: 1.1768, Train Acc: 99.83%\n",
      "Val Loss: 1.4108, Val Acc: 75.47%\n",
      "------------------------------------------------------------\n"
     ]
    },
    {
     "name": "stderr",
     "output_type": "stream",
     "text": [
      "Epoch [38/80]: 100%|██████████| 19/19 [00:06<00:00,  2.71it/s, accuracy=99.7, loss=1.18]\n"
     ]
    },
    {
     "name": "stdout",
     "output_type": "stream",
     "text": [
      "Epoch 38/80\n",
      "Train Loss: 1.1773, Train Acc: 99.66%\n",
      "Val Loss: 1.3838, Val Acc: 77.36%\n",
      "------------------------------------------------------------\n"
     ]
    },
    {
     "name": "stderr",
     "output_type": "stream",
     "text": [
      "Epoch [39/80]: 100%|██████████| 19/19 [00:07<00:00,  2.71it/s, accuracy=99.7, loss=1.18]\n"
     ]
    },
    {
     "name": "stdout",
     "output_type": "stream",
     "text": [
      "Epoch 39/80\n",
      "Train Loss: 1.1781, Train Acc: 99.66%\n",
      "Val Loss: 1.3655, Val Acc: 79.25%\n",
      "------------------------------------------------------------\n"
     ]
    },
    {
     "name": "stderr",
     "output_type": "stream",
     "text": [
      "Epoch [40/80]: 100%|██████████| 19/19 [00:07<00:00,  2.65it/s, accuracy=100, loss=1.17]\n"
     ]
    },
    {
     "name": "stdout",
     "output_type": "stream",
     "text": [
      "83.9622641509434 1.3643953502178192\n",
      "Epoch 40/80\n",
      "Train Loss: 1.1733, Train Acc: 100.00%\n",
      "Val Loss: 1.3644, Val Acc: 83.96%\n",
      "------------------------------------------------------------\n"
     ]
    },
    {
     "name": "stderr",
     "output_type": "stream",
     "text": [
      "Epoch [41/80]: 100%|██████████| 19/19 [00:07<00:00,  2.68it/s, accuracy=100, loss=1.18]\n"
     ]
    },
    {
     "name": "stdout",
     "output_type": "stream",
     "text": [
      "Epoch 41/80\n",
      "Train Loss: 1.1755, Train Acc: 100.00%\n",
      "Val Loss: 1.3627, Val Acc: 79.25%\n",
      "------------------------------------------------------------\n"
     ]
    },
    {
     "name": "stderr",
     "output_type": "stream",
     "text": [
      "Epoch [42/80]: 100%|██████████| 19/19 [00:07<00:00,  2.71it/s, accuracy=100, loss=1.17]\n"
     ]
    },
    {
     "name": "stdout",
     "output_type": "stream",
     "text": [
      "Epoch 42/80\n",
      "Train Loss: 1.1728, Train Acc: 100.00%\n",
      "Val Loss: 1.3913, Val Acc: 79.25%\n",
      "------------------------------------------------------------\n"
     ]
    },
    {
     "name": "stderr",
     "output_type": "stream",
     "text": [
      "Epoch [43/80]: 100%|██████████| 19/19 [00:07<00:00,  2.66it/s, accuracy=100, loss=1.18]\n"
     ]
    },
    {
     "name": "stdout",
     "output_type": "stream",
     "text": [
      "Epoch 43/80\n",
      "Train Loss: 1.1762, Train Acc: 100.00%\n",
      "Val Loss: 1.3687, Val Acc: 80.19%\n",
      "------------------------------------------------------------\n"
     ]
    },
    {
     "name": "stderr",
     "output_type": "stream",
     "text": [
      "Epoch [44/80]: 100%|██████████| 19/19 [00:07<00:00,  2.66it/s, accuracy=100, loss=1.17]\n"
     ]
    },
    {
     "name": "stdout",
     "output_type": "stream",
     "text": [
      "Epoch 44/80\n",
      "Train Loss: 1.1731, Train Acc: 100.00%\n",
      "Val Loss: 1.3968, Val Acc: 78.30%\n",
      "------------------------------------------------------------\n"
     ]
    },
    {
     "name": "stderr",
     "output_type": "stream",
     "text": [
      "Epoch [45/80]: 100%|██████████| 19/19 [00:07<00:00,  2.66it/s, accuracy=100, loss=1.17]\n"
     ]
    },
    {
     "name": "stdout",
     "output_type": "stream",
     "text": [
      "Epoch 45/80\n",
      "Train Loss: 1.1726, Train Acc: 100.00%\n",
      "Val Loss: 1.3552, Val Acc: 82.08%\n",
      "------------------------------------------------------------\n"
     ]
    },
    {
     "name": "stderr",
     "output_type": "stream",
     "text": [
      "Epoch [46/80]: 100%|██████████| 19/19 [00:07<00:00,  2.71it/s, accuracy=100, loss=1.17]\n"
     ]
    },
    {
     "name": "stdout",
     "output_type": "stream",
     "text": [
      "Epoch 46/80\n",
      "Train Loss: 1.1722, Train Acc: 100.00%\n",
      "Val Loss: 1.3556, Val Acc: 82.08%\n",
      "------------------------------------------------------------\n"
     ]
    },
    {
     "name": "stderr",
     "output_type": "stream",
     "text": [
      "Epoch [47/80]: 100%|██████████| 19/19 [00:06<00:00,  2.72it/s, accuracy=100, loss=1.17]\n"
     ]
    },
    {
     "name": "stdout",
     "output_type": "stream",
     "text": [
      "Epoch 47/80\n",
      "Train Loss: 1.1731, Train Acc: 100.00%\n",
      "Val Loss: 1.3678, Val Acc: 79.25%\n",
      "------------------------------------------------------------\n"
     ]
    },
    {
     "name": "stderr",
     "output_type": "stream",
     "text": [
      "Epoch [48/80]: 100%|██████████| 19/19 [00:07<00:00,  2.67it/s, accuracy=99.7, loss=1.18]\n"
     ]
    },
    {
     "name": "stdout",
     "output_type": "stream",
     "text": [
      "Epoch 48/80\n",
      "Train Loss: 1.1763, Train Acc: 99.66%\n",
      "Val Loss: 1.4221, Val Acc: 76.42%\n",
      "------------------------------------------------------------\n"
     ]
    },
    {
     "name": "stderr",
     "output_type": "stream",
     "text": [
      "Epoch [49/80]: 100%|██████████| 19/19 [00:07<00:00,  2.70it/s, accuracy=99.5, loss=1.18]\n"
     ]
    },
    {
     "name": "stdout",
     "output_type": "stream",
     "text": [
      "Epoch 49/80\n",
      "Train Loss: 1.1771, Train Acc: 99.50%\n",
      "Val Loss: 1.3794, Val Acc: 79.25%\n",
      "------------------------------------------------------------\n"
     ]
    },
    {
     "name": "stderr",
     "output_type": "stream",
     "text": [
      "Epoch [50/80]: 100%|██████████| 19/19 [00:07<00:00,  2.70it/s, accuracy=99.8, loss=1.17]\n"
     ]
    },
    {
     "name": "stdout",
     "output_type": "stream",
     "text": [
      "Epoch 50/80\n",
      "Train Loss: 1.1732, Train Acc: 99.83%\n",
      "Val Loss: 1.3941, Val Acc: 74.53%\n",
      "------------------------------------------------------------\n"
     ]
    },
    {
     "name": "stderr",
     "output_type": "stream",
     "text": [
      "Epoch [51/80]: 100%|██████████| 19/19 [00:07<00:00,  2.71it/s, accuracy=99.7, loss=1.18]\n"
     ]
    },
    {
     "name": "stdout",
     "output_type": "stream",
     "text": [
      "Epoch 51/80\n",
      "Train Loss: 1.1751, Train Acc: 99.66%\n",
      "Val Loss: 1.3772, Val Acc: 80.19%\n",
      "------------------------------------------------------------\n"
     ]
    },
    {
     "name": "stderr",
     "output_type": "stream",
     "text": [
      "Epoch [52/80]: 100%|██████████| 19/19 [00:07<00:00,  2.71it/s, accuracy=99.8, loss=1.18]\n"
     ]
    },
    {
     "name": "stdout",
     "output_type": "stream",
     "text": [
      "Epoch 52/80\n",
      "Train Loss: 1.1756, Train Acc: 99.83%\n",
      "Val Loss: 1.3670, Val Acc: 80.19%\n",
      "------------------------------------------------------------\n"
     ]
    },
    {
     "name": "stderr",
     "output_type": "stream",
     "text": [
      "Epoch [53/80]: 100%|██████████| 19/19 [00:07<00:00,  2.71it/s, accuracy=100, loss=1.17]\n"
     ]
    },
    {
     "name": "stdout",
     "output_type": "stream",
     "text": [
      "Epoch 53/80\n",
      "Train Loss: 1.1731, Train Acc: 100.00%\n",
      "Val Loss: 1.3809, Val Acc: 76.42%\n",
      "------------------------------------------------------------\n"
     ]
    },
    {
     "name": "stderr",
     "output_type": "stream",
     "text": [
      "Epoch [54/80]: 100%|██████████| 19/19 [00:07<00:00,  2.66it/s, accuracy=100, loss=1.17]\n"
     ]
    },
    {
     "name": "stdout",
     "output_type": "stream",
     "text": [
      "Epoch 54/80\n",
      "Train Loss: 1.1714, Train Acc: 100.00%\n",
      "Val Loss: 1.4004, Val Acc: 74.53%\n",
      "------------------------------------------------------------\n"
     ]
    },
    {
     "name": "stderr",
     "output_type": "stream",
     "text": [
      "Epoch [55/80]: 100%|██████████| 19/19 [00:07<00:00,  2.66it/s, accuracy=100, loss=1.17]\n"
     ]
    },
    {
     "name": "stdout",
     "output_type": "stream",
     "text": [
      "Epoch 55/80\n",
      "Train Loss: 1.1709, Train Acc: 100.00%\n",
      "Val Loss: 1.3772, Val Acc: 78.30%\n",
      "------------------------------------------------------------\n"
     ]
    },
    {
     "name": "stderr",
     "output_type": "stream",
     "text": [
      "Epoch [56/80]: 100%|██████████| 19/19 [00:07<00:00,  2.64it/s, accuracy=100, loss=1.17]\n"
     ]
    },
    {
     "name": "stdout",
     "output_type": "stream",
     "text": [
      "Epoch 56/80\n",
      "Train Loss: 1.1700, Train Acc: 100.00%\n",
      "Val Loss: 1.3773, Val Acc: 79.25%\n",
      "------------------------------------------------------------\n"
     ]
    },
    {
     "name": "stderr",
     "output_type": "stream",
     "text": [
      "Epoch [57/80]: 100%|██████████| 19/19 [00:07<00:00,  2.70it/s, accuracy=100, loss=1.17]\n"
     ]
    },
    {
     "name": "stdout",
     "output_type": "stream",
     "text": [
      "Epoch 57/80\n",
      "Train Loss: 1.1694, Train Acc: 100.00%\n",
      "Val Loss: 1.3812, Val Acc: 79.25%\n",
      "------------------------------------------------------------\n"
     ]
    },
    {
     "name": "stderr",
     "output_type": "stream",
     "text": [
      "Epoch [58/80]: 100%|██████████| 19/19 [00:07<00:00,  2.71it/s, accuracy=100, loss=1.17]\n"
     ]
    },
    {
     "name": "stdout",
     "output_type": "stream",
     "text": [
      "Epoch 58/80\n",
      "Train Loss: 1.1697, Train Acc: 100.00%\n",
      "Val Loss: 1.3760, Val Acc: 80.19%\n",
      "------------------------------------------------------------\n"
     ]
    },
    {
     "name": "stderr",
     "output_type": "stream",
     "text": [
      "Epoch [59/80]: 100%|██████████| 19/19 [00:07<00:00,  2.66it/s, accuracy=100, loss=1.17]\n"
     ]
    },
    {
     "name": "stdout",
     "output_type": "stream",
     "text": [
      "Epoch 59/80\n",
      "Train Loss: 1.1692, Train Acc: 100.00%\n",
      "Val Loss: 1.3753, Val Acc: 78.30%\n",
      "------------------------------------------------------------\n"
     ]
    },
    {
     "name": "stderr",
     "output_type": "stream",
     "text": [
      "Epoch [60/80]: 100%|██████████| 19/19 [00:07<00:00,  2.69it/s, accuracy=100, loss=1.17]\n"
     ]
    },
    {
     "name": "stdout",
     "output_type": "stream",
     "text": [
      "Epoch 60/80\n",
      "Train Loss: 1.1697, Train Acc: 100.00%\n",
      "Val Loss: 1.3833, Val Acc: 78.30%\n",
      "------------------------------------------------------------\n"
     ]
    },
    {
     "name": "stderr",
     "output_type": "stream",
     "text": [
      "Epoch [61/80]: 100%|██████████| 19/19 [00:07<00:00,  2.71it/s, accuracy=100, loss=1.17]\n"
     ]
    },
    {
     "name": "stdout",
     "output_type": "stream",
     "text": [
      "Epoch 61/80\n",
      "Train Loss: 1.1708, Train Acc: 100.00%\n",
      "Val Loss: 1.3865, Val Acc: 77.36%\n",
      "------------------------------------------------------------\n"
     ]
    },
    {
     "name": "stderr",
     "output_type": "stream",
     "text": [
      "Epoch [62/80]: 100%|██████████| 19/19 [00:07<00:00,  2.71it/s, accuracy=100, loss=1.17]\n"
     ]
    },
    {
     "name": "stdout",
     "output_type": "stream",
     "text": [
      "Epoch 62/80\n",
      "Train Loss: 1.1700, Train Acc: 100.00%\n",
      "Val Loss: 1.3872, Val Acc: 78.30%\n",
      "------------------------------------------------------------\n"
     ]
    },
    {
     "name": "stderr",
     "output_type": "stream",
     "text": [
      "Epoch [63/80]: 100%|██████████| 19/19 [00:07<00:00,  2.71it/s, accuracy=100, loss=1.17]\n"
     ]
    },
    {
     "name": "stdout",
     "output_type": "stream",
     "text": [
      "Epoch 63/80\n",
      "Train Loss: 1.1686, Train Acc: 100.00%\n",
      "Val Loss: 1.3858, Val Acc: 77.36%\n",
      "------------------------------------------------------------\n"
     ]
    },
    {
     "name": "stderr",
     "output_type": "stream",
     "text": [
      "Epoch [64/80]: 100%|██████████| 19/19 [00:06<00:00,  2.71it/s, accuracy=100, loss=1.17]\n"
     ]
    },
    {
     "name": "stdout",
     "output_type": "stream",
     "text": [
      "Epoch 64/80\n",
      "Train Loss: 1.1694, Train Acc: 100.00%\n",
      "Val Loss: 1.3864, Val Acc: 81.13%\n",
      "------------------------------------------------------------\n"
     ]
    },
    {
     "name": "stderr",
     "output_type": "stream",
     "text": [
      "Epoch [65/80]: 100%|██████████| 19/19 [00:07<00:00,  2.70it/s, accuracy=100, loss=1.17]\n"
     ]
    },
    {
     "name": "stdout",
     "output_type": "stream",
     "text": [
      "Epoch 65/80\n",
      "Train Loss: 1.1686, Train Acc: 100.00%\n",
      "Val Loss: 1.3702, Val Acc: 79.25%\n",
      "------------------------------------------------------------\n"
     ]
    },
    {
     "name": "stderr",
     "output_type": "stream",
     "text": [
      "Epoch [66/80]: 100%|██████████| 19/19 [00:06<00:00,  2.71it/s, accuracy=100, loss=1.17]\n"
     ]
    },
    {
     "name": "stdout",
     "output_type": "stream",
     "text": [
      "Epoch 66/80\n",
      "Train Loss: 1.1686, Train Acc: 100.00%\n",
      "Val Loss: 1.3668, Val Acc: 80.19%\n",
      "------------------------------------------------------------\n"
     ]
    },
    {
     "name": "stderr",
     "output_type": "stream",
     "text": [
      "Epoch [67/80]: 100%|██████████| 19/19 [00:07<00:00,  2.70it/s, accuracy=100, loss=1.17]\n"
     ]
    },
    {
     "name": "stdout",
     "output_type": "stream",
     "text": [
      "Epoch 67/80\n",
      "Train Loss: 1.1687, Train Acc: 100.00%\n",
      "Val Loss: 1.3831, Val Acc: 78.30%\n",
      "------------------------------------------------------------\n"
     ]
    },
    {
     "name": "stderr",
     "output_type": "stream",
     "text": [
      "Epoch [68/80]: 100%|██████████| 19/19 [00:07<00:00,  2.65it/s, accuracy=100, loss=1.17]\n"
     ]
    },
    {
     "name": "stdout",
     "output_type": "stream",
     "text": [
      "Epoch 68/80\n",
      "Train Loss: 1.1687, Train Acc: 100.00%\n",
      "Val Loss: 1.3755, Val Acc: 77.36%\n",
      "------------------------------------------------------------\n"
     ]
    },
    {
     "name": "stderr",
     "output_type": "stream",
     "text": [
      "Epoch [69/80]: 100%|██████████| 19/19 [00:07<00:00,  2.70it/s, accuracy=100, loss=1.17]\n"
     ]
    },
    {
     "name": "stdout",
     "output_type": "stream",
     "text": [
      "Epoch 69/80\n",
      "Train Loss: 1.1683, Train Acc: 100.00%\n",
      "Val Loss: 1.3757, Val Acc: 79.25%\n",
      "------------------------------------------------------------\n"
     ]
    },
    {
     "name": "stderr",
     "output_type": "stream",
     "text": [
      "Epoch [70/80]: 100%|██████████| 19/19 [00:07<00:00,  2.69it/s, accuracy=100, loss=1.17]\n"
     ]
    },
    {
     "name": "stdout",
     "output_type": "stream",
     "text": [
      "Epoch 70/80\n",
      "Train Loss: 1.1689, Train Acc: 100.00%\n",
      "Val Loss: 1.3766, Val Acc: 79.25%\n",
      "------------------------------------------------------------\n"
     ]
    },
    {
     "name": "stderr",
     "output_type": "stream",
     "text": [
      "Epoch [71/80]: 100%|██████████| 19/19 [00:07<00:00,  2.66it/s, accuracy=100, loss=1.17]\n"
     ]
    },
    {
     "name": "stdout",
     "output_type": "stream",
     "text": [
      "Epoch 71/80\n",
      "Train Loss: 1.1685, Train Acc: 100.00%\n",
      "Val Loss: 1.3850, Val Acc: 76.42%\n",
      "------------------------------------------------------------\n"
     ]
    },
    {
     "name": "stderr",
     "output_type": "stream",
     "text": [
      "Epoch [72/80]: 100%|██████████| 19/19 [00:07<00:00,  2.69it/s, accuracy=100, loss=1.17]\n"
     ]
    },
    {
     "name": "stdout",
     "output_type": "stream",
     "text": [
      "Epoch 72/80\n",
      "Train Loss: 1.1684, Train Acc: 100.00%\n",
      "Val Loss: 1.3793, Val Acc: 76.42%\n",
      "------------------------------------------------------------\n"
     ]
    },
    {
     "name": "stderr",
     "output_type": "stream",
     "text": [
      "Epoch [73/80]: 100%|██████████| 19/19 [00:07<00:00,  2.71it/s, accuracy=100, loss=1.17]\n"
     ]
    },
    {
     "name": "stdout",
     "output_type": "stream",
     "text": [
      "Epoch 73/80\n",
      "Train Loss: 1.1687, Train Acc: 100.00%\n",
      "Val Loss: 1.3749, Val Acc: 79.25%\n",
      "------------------------------------------------------------\n"
     ]
    },
    {
     "name": "stderr",
     "output_type": "stream",
     "text": [
      "Epoch [74/80]: 100%|██████████| 19/19 [00:07<00:00,  2.71it/s, accuracy=100, loss=1.17]\n"
     ]
    },
    {
     "name": "stdout",
     "output_type": "stream",
     "text": [
      "Epoch 74/80\n",
      "Train Loss: 1.1682, Train Acc: 100.00%\n",
      "Val Loss: 1.3887, Val Acc: 79.25%\n",
      "------------------------------------------------------------\n"
     ]
    },
    {
     "name": "stderr",
     "output_type": "stream",
     "text": [
      "Epoch [75/80]: 100%|██████████| 19/19 [00:07<00:00,  2.70it/s, accuracy=99.8, loss=1.17]\n"
     ]
    },
    {
     "name": "stdout",
     "output_type": "stream",
     "text": [
      "Epoch 75/80\n",
      "Train Loss: 1.1703, Train Acc: 99.83%\n",
      "Val Loss: 1.3958, Val Acc: 77.36%\n",
      "------------------------------------------------------------\n"
     ]
    },
    {
     "name": "stderr",
     "output_type": "stream",
     "text": [
      "Epoch [76/80]: 100%|██████████| 19/19 [00:06<00:00,  2.72it/s, accuracy=100, loss=1.17]\n"
     ]
    },
    {
     "name": "stdout",
     "output_type": "stream",
     "text": [
      "Epoch 76/80\n",
      "Train Loss: 1.1684, Train Acc: 100.00%\n",
      "Val Loss: 1.3795, Val Acc: 78.30%\n",
      "------------------------------------------------------------\n"
     ]
    },
    {
     "name": "stderr",
     "output_type": "stream",
     "text": [
      "Epoch [77/80]: 100%|██████████| 19/19 [00:07<00:00,  2.70it/s, accuracy=100, loss=1.17]\n"
     ]
    },
    {
     "name": "stdout",
     "output_type": "stream",
     "text": [
      "Epoch 77/80\n",
      "Train Loss: 1.1682, Train Acc: 100.00%\n",
      "Val Loss: 1.3908, Val Acc: 79.25%\n",
      "------------------------------------------------------------\n"
     ]
    },
    {
     "name": "stderr",
     "output_type": "stream",
     "text": [
      "Epoch [78/80]: 100%|██████████| 19/19 [00:07<00:00,  2.66it/s, accuracy=100, loss=1.17]\n"
     ]
    },
    {
     "name": "stdout",
     "output_type": "stream",
     "text": [
      "Epoch 78/80\n",
      "Train Loss: 1.1686, Train Acc: 100.00%\n",
      "Val Loss: 1.3927, Val Acc: 76.42%\n",
      "------------------------------------------------------------\n"
     ]
    },
    {
     "name": "stderr",
     "output_type": "stream",
     "text": [
      "Epoch [79/80]: 100%|██████████| 19/19 [00:07<00:00,  2.70it/s, accuracy=100, loss=1.17]\n"
     ]
    },
    {
     "name": "stdout",
     "output_type": "stream",
     "text": [
      "Epoch 79/80\n",
      "Train Loss: 1.1699, Train Acc: 100.00%\n",
      "Val Loss: 1.3942, Val Acc: 75.47%\n",
      "------------------------------------------------------------\n"
     ]
    },
    {
     "name": "stderr",
     "output_type": "stream",
     "text": [
      "Epoch [80/80]: 100%|██████████| 19/19 [00:07<00:00,  2.71it/s, accuracy=100, loss=1.17]\n"
     ]
    },
    {
     "name": "stdout",
     "output_type": "stream",
     "text": [
      "Epoch 80/80\n",
      "Train Loss: 1.1679, Train Acc: 100.00%\n",
      "Val Loss: 1.3881, Val Acc: 79.25%\n",
      "------------------------------------------------------------\n",
      "Finished Training\n"
     ]
    }
   ],
   "source": [
    "print(\"Starting training...\")\n",
    "# model_.load_state_dict(torch.load('model.pth', map_location=device))\n",
    "# for param in model_.parameters():\n",
    "#     param.requires_grad = True\n",
    "trained_model, train_losses, train_accuracies, val_losses, val_accuracies = train(\n",
    "    model_, train_loader, val_loader, epochs=80\n",
    ")"
   ]
  },
  {
   "cell_type": "markdown",
   "metadata": {},
   "source": [
    "#### Evaluating"
   ]
  },
  {
   "cell_type": "code",
   "execution_count": 12,
   "metadata": {},
   "outputs": [
    {
     "name": "stdout",
     "output_type": "stream",
     "text": [
      "Starting evaluating...\n"
     ]
    },
    {
     "name": "stderr",
     "output_type": "stream",
     "text": [
      "Evaluating: 100%|██████████| 4/4 [00:03<00:00,  1.25it/s]"
     ]
    },
    {
     "name": "stdout",
     "output_type": "stream",
     "text": [
      "Overall Accuracy: 78.30%\n"
     ]
    },
    {
     "name": "stderr",
     "output_type": "stream",
     "text": [
      "\n"
     ]
    }
   ],
   "source": [
    "print(\"Starting evaluating...\")\n",
    "class_correct, class_total, confusion_matrix = evaluate(trained_model, val_loader)"
   ]
  },
  {
   "cell_type": "markdown",
   "metadata": {},
   "source": [
    "#### Plot function"
   ]
  },
  {
   "cell_type": "code",
   "execution_count": 13,
   "metadata": {},
   "outputs": [],
   "source": [
    "def plot_training_metrics(train_losses, train_accuracies, val_losses, val_accuracies):\n",
    "\n",
    "    epochs = range(1, len(train_losses) + 1)\n",
    "    \n",
    "    fig, (ax1, ax2) = plt.subplots(1, 2, figsize=(15, 5))\n",
    "\n",
    "    ax1.plot(epochs, train_losses, 'b-', label='Training Loss')\n",
    "    ax1.plot(epochs, val_losses, 'r-', label='Validation Loss')\n",
    "    ax1.set_title('Training and Validation Loss')\n",
    "    ax1.set_xlabel('Epochs')\n",
    "    ax1.set_ylabel('Loss')\n",
    "    ax1.legend()\n",
    "    ax1.grid(True)\n",
    "    \n",
    "    ax2.plot(epochs, train_accuracies, 'b-', label='Training Accuracy')\n",
    "    ax2.plot(epochs, val_accuracies, 'r-', label='Validation Accuracy')\n",
    "    ax2.set_title('Training and Validation Accuracy')\n",
    "    ax2.set_xlabel('Epochs')\n",
    "    ax2.set_ylabel('Accuracy (%)')\n",
    "    ax2.legend()\n",
    "    ax2.grid(True)\n",
    "    \n",
    "    plt.tight_layout()\n",
    "    plt.show()\n",
    "    \n",
    "    fig.savefig('training_metrics.png')\n",
    "    print(\"Training metrics plot saved as 'training_metrics.png'\")\n",
    "    return"
   ]
  },
  {
   "cell_type": "code",
   "execution_count": 14,
   "metadata": {},
   "outputs": [],
   "source": [
    "def plot_evaluation_metrics(class_correct, class_total, confusion_matrix):\n",
    "\n",
    "    num_classes = len(classes)\n",
    "    \n",
    "    # Calculate accuracies and identify valid classes\n",
    "    accuracies = []\n",
    "    valid_classes = []\n",
    "    \n",
    "    print(\"\\nPer-class Accuracy:\")\n",
    "    print(\"-\" * 50)\n",
    "    for i in range(num_classes):\n",
    "        if class_total[i] > 0:  # Avoid division by zero\n",
    "            accuracy = 100 * class_correct[i] / class_total[i]\n",
    "            print(f'{classes[i]}: {accuracy:.2f}% ({int(class_correct[i])}/{int(class_total[i])})')\n",
    "            accuracies.append(accuracy)\n",
    "            valid_classes.append(classes[i])\n",
    "        else:\n",
    "            print(f'{classes[i]}: No samples')\n",
    "    \n",
    "    # Plot per-class accuracy as a bar chart\n",
    "    plt.figure(figsize=(12, 6))\n",
    "    plt.bar(valid_classes, accuracies, color='skyblue')\n",
    "    plt.xlabel('Classes')\n",
    "    plt.ylabel('Accuracy (%)')\n",
    "    plt.title('Per-class Accuracy')\n",
    "    plt.xticks(rotation=45, ha='right')\n",
    "    plt.tight_layout()\n",
    "    plt.savefig('per_class_accuracy.png')\n",
    "    plt.show()\n",
    "    \n",
    "    # Normalize confusion matrix by row (true labels) and plot\n",
    "    normalized_confusion_matrix = confusion_matrix.clone()  # Create a copy to avoid modifying the original\n",
    "    for i in range(num_classes):\n",
    "        if normalized_confusion_matrix[i].sum() > 0:\n",
    "            normalized_confusion_matrix[i] = normalized_confusion_matrix[i] / normalized_confusion_matrix[i].sum()\n",
    "    \n",
    "    # Plot confusion matrix\n",
    "    plt.figure(figsize=(10, 8))\n",
    "    plt.imshow(normalized_confusion_matrix.cpu().numpy(), interpolation='nearest', cmap=plt.cm.Blues)\n",
    "    plt.title('Normalized Confusion Matrix')\n",
    "    plt.colorbar()\n",
    "    tick_marks = np.arange(num_classes)\n",
    "    plt.xticks(tick_marks, classes, rotation=45, ha='right')\n",
    "    plt.yticks(tick_marks, classes)\n",
    "   \n",
    "    thresh = normalized_confusion_matrix.cpu().numpy().max() / 2.0\n",
    "    for i in range(num_classes):\n",
    "        for j in range(num_classes):\n",
    "            plt.text(j, i, f'{normalized_confusion_matrix[i, j]:.2f}',\n",
    "                     horizontalalignment=\"center\",\n",
    "                     color=\"white\" if normalized_confusion_matrix[i, j] > thresh else \"black\")\n",
    "    \n",
    "    plt.tight_layout()\n",
    "    plt.ylabel('True label')\n",
    "    plt.xlabel('Predicted label')\n",
    "    plt.savefig('confusion_matrix.png')\n",
    "    plt.show()\n",
    "    \n",
    "    return"
   ]
  },
  {
   "cell_type": "code",
   "execution_count": 15,
   "metadata": {},
   "outputs": [
    {
     "data": {
      "image/png": "[encoded data removed]",
      "text/plain": [
       "<Figure size 1500x500 with 2 Axes>"
      ]
     },
     "metadata": {},
     "output_type": "display_data"
    },
    {
     "name": "stdout",
     "output_type": "stream",
     "text": [
      "Training metrics plot saved as 'training_metrics.png'\n"
     ]
    }
   ],
   "source": [
    "plot_training_metrics(train_losses, train_accuracies, val_losses, val_accuracies)"
   ]
  },
  {
   "cell_type": "code",
   "execution_count": 16,
   "metadata": {},
   "outputs": [
    {
     "name": "stdout",
     "output_type": "stream",
     "text": [
      "\n",
      "Per-class Accuracy:\n",
      "--------------------------------------------------\n",
      "Diagonal: 75.61% (31/41)\n",
      "Horizontal: 76.92% (10/13)\n",
      "Horizontal_large: 75.00% (3/4)\n",
      "Vertical: 75.00% (6/8)\n",
      "Vertical_large: 100.00% (23/23)\n",
      "Web: 75.00% (9/12)\n",
      "X-shape: 20.00% (1/5)\n"
     ]
    },
    {
     "data": {
      "image/png": "[encoded data removed]",
      "text/plain": [
       "<Figure size 1200x600 with 1 Axes>"
      ]
     },
     "metadata": {},
     "output_type": "display_data"
    },
    {
     "data": {
      "image/png": "[encoded data removed]",
      "text/plain": [
       "<Figure size 1000x800 with 2 Axes>"
      ]
     },
     "metadata": {},
     "output_type": "display_data"
    }
   ],
   "source": [
    "plot_evaluation_metrics(class_correct, class_total, confusion_matrix)"
   ]
  },
  {
   "cell_type": "markdown",
   "metadata": {},
   "source": [
    "#### Generate prediction"
   ]
  },
  {
   "cell_type": "code",
   "execution_count": 6,
   "metadata": {},
   "outputs": [
    {
     "name": "stdout",
     "output_type": "stream",
     "text": [
      "Loaded CSV with 100 entries\n"
     ]
    },
    {
     "name": "stderr",
     "output_type": "stream",
     "text": [
      "100%|██████████| 100/100 [00:00<00:00, 102.53it/s]"
     ]
    },
    {
     "name": "stdout",
     "output_type": "stream",
     "text": [
      "Updated CSV saved to ./submission_example.csv\n"
     ]
    },
    {
     "name": "stderr",
     "output_type": "stream",
     "text": [
      "\n"
     ]
    }
   ],
   "source": [
    "import os\n",
    "# Change this part to your path\n",
    "test_folder_path=\"./test\"        \n",
    "csv_file_path=\"./submission_example.csv\"\n",
    "model_path=\"best_model.pth\"\n",
    "file_extension=\".jpg\"           \n",
    "\n",
    "\n",
    "# Load CSV file\n",
    "df = pd.read_csv(csv_file_path)\n",
    "print(f\"Loaded CSV with {len(df)} entries\")\n",
    "\n",
    "# Get column names\n",
    "columns = df.columns.tolist()\n",
    "first_col = columns[0]  # Image name column\n",
    "second_col = columns[1]  # Empty column for predictions\n",
    "\n",
    "# Load model\n",
    "model_.load_state_dict(torch.load(model_path, map_location=device))\n",
    "# model_ = trained_model\n",
    "model_.to(device)\n",
    "model_.eval()\n",
    "\n",
    "imagenet_stats = [(0.485, 0.456, 0.406), (0.229, 0.224, 0.225)]\n",
    "\n",
    "# Set up transformation (same as we set up earlier in the dataloading part, put I put here again for clarity)\n",
    "transform = transforms.Compose([\n",
    "    transforms.CenterCrop((450, 270)),\n",
    "    # transforms.RandomHorizontalFlip(),\n",
    "    # transforms.RandomRotation(10),\n",
    "    # transforms.ColorJitter(),\n",
    "    transforms.ToTensor(),\n",
    "    transforms.Normalize(imagenet_stats[0], imagenet_stats[1])\n",
    "])\n",
    "\n",
    "\n",
    "for idx, row in tqdm(df.iterrows(), total=len(df)):\n",
    "    try:\n",
    "        img_name = str(row[first_col]).strip()\n",
    "        \n",
    "        img_path = os.path.join(test_folder_path, img_name + file_extension)\n",
    "               \n",
    "        # Process the image\n",
    "        img = Image.open(img_path).convert('RGB')\n",
    "        img_tensor = transform(img).unsqueeze(0).to(device)\n",
    "        \n",
    "        # Predict\n",
    "        with torch.no_grad():\n",
    "            output = model_(img_tensor)\n",
    "            _, predicted = torch.max(output.data, 1)\n",
    "            predicted_idx = predicted.item()\n",
    "        \n",
    "        # Update CSV\n",
    "        df.at[idx, second_col] = classes[predicted_idx]\n",
    "        \n",
    "    except Exception as e:\n",
    "        print(f\"Error with image {img_name}: {e}\")\n",
    "\n",
    "# Save updated CSV\n",
    "df.to_csv(csv_file_path, index=False)\n",
    "print(f\"Updated CSV saved to {csv_file_path}\")"
   ]
  },
  {
   "cell_type": "code",
   "execution_count": 13,
   "metadata": {},
   "outputs": [
    {
     "name": "stderr",
     "output_type": "stream",
     "text": [
      "c:\\Users\\almon\\AppData\\Local\\Programs\\Python\\Python312\\Lib\\site-packages\\torch\\nn\\modules\\module.py:1830: FutureWarning: Using a non-full backward hook when the forward contains multiple autograd Nodes is deprecated and will be removed in future versions. This hook will be missing some grad_input. Please use register_full_backward_hook to get the documented behavior.\n",
      "  self._maybe_warn_non_full_backward_hook(args, result, grad_fn)\n"
     ]
    },
    {
     "data": {
      "image/png": "[encoded data removed]",
      "text/plain": [
       "<Figure size 640x480 with 1 Axes>"
      ]
     },
     "metadata": {},
     "output_type": "display_data"
    },
    {
     "data": {
      "image/png": "[encoded data removed]",
      "text/plain": [
       "<Figure size 640x480 with 1 Axes>"
      ]
     },
     "metadata": {},
     "output_type": "display_data"
    }
   ],
   "source": [
    "from torchvision.models.feature_extraction import create_feature_extractor\n",
    "import torch.nn.functional as F\n",
    "\n",
    "# Register hook containers\n",
    "activations = None\n",
    "gradients = None\n",
    "\n",
    "# Hook functions\n",
    "def forward_hook(module, input, output):\n",
    "    global activations\n",
    "    activations = output\n",
    "\n",
    "def backward_hook(module, grad_in, grad_out):\n",
    "    global gradients\n",
    "    gradients = grad_out[0]\n",
    "\n",
    "# Hook into the last conv layer of ResNet\n",
    "target_layer = model_.layer4[-1].conv2\n",
    "forward_handle = target_layer.register_forward_hook(forward_hook)\n",
    "backward_handle = target_layer.register_backward_hook(backward_hook)\n",
    "\n",
    "def generate_gradcam(img_tensor, label):\n",
    "    global activations, gradients\n",
    "\n",
    "    input_tensor = img_tensor.unsqueeze(0).to(device).requires_grad_()\n",
    "    \n",
    "    # Forward pass\n",
    "    model_.eval()\n",
    "    output = model_(input_tensor)\n",
    "    class_idx = output.argmax(dim=1).item()\n",
    "\n",
    "    # Backward pass\n",
    "    model_.zero_grad()\n",
    "    output[0, class_idx].backward()\n",
    "\n",
    "    if gradients is None or activations is None:\n",
    "        raise RuntimeError(\"Hooks did not capture gradients or activations.\")\n",
    "\n",
    "    # Compute weights and apply Grad-CAM\n",
    "    pooled_gradients = torch.mean(gradients, dim=[0, 2, 3])\n",
    "    for i in range(activations.shape[1]):\n",
    "        activations[:, i, :, :] *= pooled_gradients[i]\n",
    "\n",
    "    heatmap = torch.mean(activations, dim=1).squeeze().cpu().detach().numpy()\n",
    "    heatmap = np.maximum(heatmap, 0)\n",
    "    heatmap /= np.max(heatmap) + 1e-6\n",
    "    return heatmap\n",
    "\n",
    "# Visualize Grad-CAM on random val image\n",
    "inv_norm = transforms.Normalize(\n",
    "    mean=[-m/s for m, s in zip([0.485, 0.456, 0.406], [0.229, 0.224, 0.225])],\n",
    "    std=[1/s for s in [0.229, 0.224, 0.225]]\n",
    ")\n",
    "\n",
    "def show_gradcam(img_tensor, heatmap):\n",
    "    img_tensor = inv_norm(img_tensor.cpu())\n",
    "    img_np = np.transpose(img_tensor.numpy(), (1, 2, 0))\n",
    "    plt.imshow(img_np)\n",
    "    plt.imshow(heatmap, cmap='jet', alpha=0.5)\n",
    "    plt.title(\"Grad-CAM Overlay\")\n",
    "    plt.axis('off')\n",
    "    plt.show()\n",
    "\n",
    "def show_original(img_tensor):\n",
    "    img_tensor = inv_norm(img_tensor.cpu())\n",
    "    img_np = np.transpose(img_tensor.numpy(), (1, 2, 0))\n",
    "    plt.imshow(img_np)\n",
    "    plt.title(\"Original Image\")\n",
    "    plt.axis('off')\n",
    "    plt.show()\n",
    "\n",
    "# Run on one image\n",
    "val_transform = transforms.Compose([\n",
    "        transforms.RandomResizedCrop((450, 270)),\n",
    "        transforms.RandomHorizontalFlip(),\n",
    "        transforms.RandomRotation(10),\n",
    "        transforms.ToTensor(),\n",
    "        transforms.Normalize(imagenet_stats[0], imagenet_stats[1])\n",
    "    ])\n",
    "full_dataset = torchvision.datasets.ImageFolder(root=path_dataset, transform=val_transform)\n",
    "sample_img, label = random.choice(full_dataset)\n",
    "heatmap = generate_gradcam(sample_img, label)\n",
    "show_original(sample_img)\n",
    "show_gradcam(sample_img, heatmap)"
   ]
  }
 ],
 "metadata": {
  "colab": {
   "collapsed_sections": [],
   "name": "HW2-2_regression.ipynb",
   "provenance": []
  },
  "kernelspec": {
   "display_name": "Python 3",
   "language": "python",
   "name": "python3"
  },
  "language_info": {
   "codemirror_mode": {
    "name": "ipython",
    "version": 3
   },
   "file_extension": ".py",
   "mimetype": "text/x-python",
   "name": "python",
   "nbconvert_exporter": "python",
   "pygments_lexer": "ipython3",
   "version": "3.12.7"
  }
 },
 "nbformat": 4,
 "nbformat_minor": 4
}
